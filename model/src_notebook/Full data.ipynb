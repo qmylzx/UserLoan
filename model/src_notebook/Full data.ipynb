{
 "cells": [
  {
   "cell_type": "code",
   "execution_count": 1,
   "metadata": {
    "collapsed": true
   },
   "outputs": [],
   "source": [
    "import pandas as pd\n",
    "import warnings\n",
    "import matplotlib.pyplot as plt\n",
    "import seaborn as sns\n",
    "import numpy as np\n",
    "import seaborn as sns\n",
    "import matplotlib.pyplot as plt\n",
    "\n",
    "warnings.filterwarnings('ignore')"
   ]
  },
  {
   "cell_type": "markdown",
   "metadata": {},
   "source": [
    "### 用户基本信息表"
   ]
  },
  {
   "cell_type": "code",
   "execution_count": 2,
   "metadata": {
    "collapsed": true
   },
   "outputs": [],
   "source": [
    "# 训练集\n",
    "user_info_cloumns = ['user_id', 'sex', 'occupation', 'education', 'marriage', 'household_type']\n",
    "user_info = pd.read_table(\"../data/train/user_info_train.txt\", names=user_info_cloumns, sep=',')\n",
    "\n",
    "# 测试集\n",
    "user_info_test = pd.read_table(\"../data/test/user_info_test.txt\", names=user_info_cloumns, sep=',')"
   ]
  },
  {
   "cell_type": "code",
   "execution_count": 3,
   "metadata": {
    "collapsed": true
   },
   "outputs": [],
   "source": [
    "user_info.to_csv('test.csv')"
   ]
  },
  {
   "cell_type": "markdown",
   "metadata": {},
   "source": [
    "### 银行流水记录表"
   ]
  },
  {
   "cell_type": "code",
   "execution_count": 4,
   "metadata": {
    "collapsed": true
   },
   "outputs": [],
   "source": [
    "# 训练集\n",
    "bank_detail = pd.read_table(\"../data/train/bank_detail_train.txt\", sep=',')\n",
    "bank_detail.rename(columns={'uid':'user_id', 'timespan':'time', 'type':'deal_type', \n",
    "                            'amount':'deal_amount', 'markup':'wage_type'}, inplace=True)\n",
    "\n",
    "# 测试集\n",
    "bank_detail_columns = ['user_id', 'time', 'deal_type', 'deal_amount', 'wage_type']\n",
    "bank_detail_test = pd.read_table(\"../data/test/bank_detail_test.txt\", names=bank_detail_columns, sep=',')"
   ]
  },
  {
   "cell_type": "markdown",
   "metadata": {},
   "source": [
    "### 用户浏览记录表"
   ]
  },
  {
   "cell_type": "code",
   "execution_count": 5,
   "metadata": {
    "collapsed": true
   },
   "outputs": [],
   "source": [
    "# 训练集\n",
    "browse_history_columns = ['user_id', 'time', 'browse_behavior', 'browse_subbehavior']\n",
    "browse_history = pd.read_table(\"../data/train/browse_history_train.txt\", names=browse_history_columns, sep=',')\n",
    "\n",
    "# 测试集\n",
    "browse_history_test = pd.read_table(\"../data/test/browse_history_test.txt\", names=browse_history_columns, sep=',')"
   ]
  },
  {
   "cell_type": "markdown",
   "metadata": {},
   "source": [
    "### 信用卡账单记录表"
   ]
  },
  {
   "cell_type": "code",
   "execution_count": 6,
   "metadata": {
    "collapsed": true
   },
   "outputs": [],
   "source": [
    "# 训练集\n",
    "bill_detail_columns = ['user_id', 'time', 'bank_id', 'previous_bills', 'previous_repayment', 'creditCardQuota', \n",
    "                       'current_balance', 'current_MinRepay', 'consume_times', 'current_bills', 'adjust_money',\n",
    "                       'revolving_interest', 'available_money', 'cash_Advance_Limit', 'repayment_status']\n",
    "bill_detail = pd.read_table(\"../data/train/bill_detail_train.txt\", names=bill_detail_columns, sep=',')\n",
    "\n",
    "# 测试集\n",
    "bill_detail_test = pd.read_table(\"../data/test/bill_detail_test.txt\", names=bill_detail_columns, sep=',')"
   ]
  },
  {
   "cell_type": "code",
   "execution_count": 7,
   "metadata": {
    "collapsed": true
   },
   "outputs": [],
   "source": [
    "bill_detail.to_csv('bill.csv')"
   ]
  },
  {
   "cell_type": "markdown",
   "metadata": {},
   "source": [
    "### 放款时间信息表"
   ]
  },
  {
   "cell_type": "code",
   "execution_count": 8,
   "metadata": {
    "collapsed": true
   },
   "outputs": [],
   "source": [
    "# 训练集\n",
    "loan_time_columns = ['user_id', 'time']\n",
    "loan_time = pd.read_table(\"../data/train/loan_time_train.txt\", names=loan_time_columns, sep=',')\n",
    "\n",
    "# 测试集\n",
    "loan_time_test = pd.read_table(\"../data/test/loan_time_test.txt\", names=loan_time_columns, sep=',')"
   ]
  },
  {
   "cell_type": "markdown",
   "metadata": {},
   "source": [
    "### 用户逾期记录表 "
   ]
  },
  {
   "cell_type": "code",
   "execution_count": 9,
   "metadata": {
    "collapsed": true
   },
   "outputs": [],
   "source": [
    "# 训练集\n",
    "overdue_columns = ['user_id', 'isOverdue']\n",
    "overdue = pd.read_table(\"../data/train/overdue_train.txt\", names=overdue_columns, sep=',')\n",
    "\n",
    "# 测试集（预测标签）\n",
    "overdue_pred = pd.read_table(\"../data/test/usersID_test.txt\", names=['user_id'], sep=',')"
   ]
  },
  {
   "cell_type": "markdown",
   "metadata": {},
   "source": [
    "# EDA"
   ]
  },
  {
   "cell_type": "markdown",
   "metadata": {},
   "source": [
    "### 时间数据脱敏还原"
   ]
  },
  {
   "cell_type": "code",
   "execution_count": 99,
   "metadata": {
    "collapsed": true
   },
   "outputs": [],
   "source": [
    "# import time\n",
    "\n",
    "# table_names = [bank_detail, browse_history, bill_detail, loan_time]\n",
    "\n",
    "# for value in table_names:\n",
    "#     value['year'] = value['time'].apply(lambda x: int(time.strftime(\"%Y\", time.localtime(x))))\n",
    "#     value['month'] = value['time'].apply(lambda x: int(time.strftime(\"%m\", time.localtime(x))))\n",
    "#     value['day'] = value['time'].apply(lambda x: int(time.strftime(\"%d\", time.localtime(x))))\n",
    "#     value.drop('time', axis=1, inplace=True)"
   ]
  },
  {
   "cell_type": "code",
   "execution_count": 131,
   "metadata": {
    "collapsed": true
   },
   "outputs": [],
   "source": [
    "# 时间戳单位为秒，量级太大，转化为天\n",
    "\n",
    "table_names = [bank_detail, browse_history, bill_detail, loan_time]\n",
    "for value in table_names:\n",
    "    value['time'] = value['time'] // 86400"
   ]
  },
  {
   "cell_type": "markdown",
   "metadata": {},
   "source": [
    "### 合并user_info、bill_detail、loan_time、overdue四张表"
   ]
  },
  {
   "cell_type": "code",
   "execution_count": null,
   "metadata": {
    "collapsed": true
   },
   "outputs": [],
   "source": [
    "#　训练集\n",
    "bill_detail = pd.merge(bill_detail, loan_time, how='inner', on='user_id')\n",
    "overdue = pd.merge(overdue, user_info, how='inner', on='user_id')\n",
    "overdue = pd.merge(overdue, loan_time, how='inner', on='user_id')\n",
    "\n",
    "# 测试集\n",
    "bill_detail_test = pd.merge(bill_detail_test, loan_time_test, how='inner', on='user_id')\n",
    "overdue_pred = pd.merge(overdue_pred, user_info_test, how='inner', on='user_id')\n",
    "overdue_pred = pd.merge(overdue_pred, loan_time_test, how='inner', on='user_id')"
   ]
  },
  {
   "cell_type": "markdown",
   "metadata": {},
   "source": [
    "### user_info表中的离散属性对应的逾期情况"
   ]
  },
  {
   "cell_type": "code",
   "execution_count": null,
   "metadata": {
    "collapsed": true
   },
   "outputs": [],
   "source": [
    "sex_analysis = overdue.groupby('sex', as_index=False)['isOverdue'].agg({'sum': 'sum', 'count': 'count'})\n",
    "sex_analysis['overdue_rate'] = sex_analysis['sum'] / sex_analysis['count']\n",
    "sex_analysis"
   ]
  },
  {
   "cell_type": "code",
   "execution_count": 44,
   "metadata": {},
   "outputs": [
    {
     "data": {
      "image/png": "[encoded data removed]",
      "text/plain": [
       "<Figure size 432x288 with 1 Axes>"
      ]
     },
     "metadata": {},
     "output_type": "display_data"
    }
   ],
   "source": [
    "sns.barplot(sex_analysis['sex'], sex_analysis['overdue_rate'])\n",
    "plt.show()"
   ]
  },
  {
   "cell_type": "code",
   "execution_count": 46,
   "metadata": {
    "scrolled": true
   },
   "outputs": [
    {
     "data": {
      "text/html": [
       "<div>\n",
       "<style scoped>\n",
       "    .dataframe tbody tr th:only-of-type {\n",
       "        vertical-align: middle;\n",
       "    }\n",
       "\n",
       "    .dataframe tbody tr th {\n",
       "        vertical-align: top;\n",
       "    }\n",
       "\n",
       "    .dataframe thead th {\n",
       "        text-align: right;\n",
       "    }\n",
       "</style>\n",
       "<table border=\"1\" class=\"dataframe\">\n",
       "  <thead>\n",
       "    <tr style=\"text-align: right;\">\n",
       "      <th></th>\n",
       "      <th>occupation</th>\n",
       "      <th>sum</th>\n",
       "      <th>count</th>\n",
       "      <th>overdue_rate</th>\n",
       "    </tr>\n",
       "  </thead>\n",
       "  <tbody>\n",
       "    <tr>\n",
       "      <th>0</th>\n",
       "      <td>0</td>\n",
       "      <td>75</td>\n",
       "      <td>368</td>\n",
       "      <td>0.203804</td>\n",
       "    </tr>\n",
       "    <tr>\n",
       "      <th>1</th>\n",
       "      <td>1</td>\n",
       "      <td>17</td>\n",
       "      <td>93</td>\n",
       "      <td>0.182796</td>\n",
       "    </tr>\n",
       "    <tr>\n",
       "      <th>2</th>\n",
       "      <td>2</td>\n",
       "      <td>5204</td>\n",
       "      <td>41150</td>\n",
       "      <td>0.126464</td>\n",
       "    </tr>\n",
       "    <tr>\n",
       "      <th>3</th>\n",
       "      <td>3</td>\n",
       "      <td>746</td>\n",
       "      <td>5898</td>\n",
       "      <td>0.126484</td>\n",
       "    </tr>\n",
       "    <tr>\n",
       "      <th>4</th>\n",
       "      <td>4</td>\n",
       "      <td>1141</td>\n",
       "      <td>8087</td>\n",
       "      <td>0.141091</td>\n",
       "    </tr>\n",
       "  </tbody>\n",
       "</table>\n",
       "</div>"
      ],
      "text/plain": [
       "   occupation   sum  count  overdue_rate\n",
       "0           0    75    368      0.203804\n",
       "1           1    17     93      0.182796\n",
       "2           2  5204  41150      0.126464\n",
       "3           3   746   5898      0.126484\n",
       "4           4  1141   8087      0.141091"
      ]
     },
     "execution_count": 46,
     "metadata": {},
     "output_type": "execute_result"
    }
   ],
   "source": [
    "occupation_analysis = overdue.groupby('occupation', as_index=False)['isOverdue'].agg({'sum': 'sum', 'count': 'count'})\n",
    "occupation_analysis['overdue_rate'] = occupation_analysis['sum'] / occupation_analysis['count']\n",
    "occupation_analysis"
   ]
  },
  {
   "cell_type": "code",
   "execution_count": 51,
   "metadata": {},
   "outputs": [
    {
     "data": {
      "image/png": "[encoded data removed]",
      "text/plain": [
       "<Figure size 432x288 with 1 Axes>"
      ]
     },
     "metadata": {},
     "output_type": "display_data"
    }
   ],
   "source": [
    "sns.barplot(occupation_analysis['occupation'], occupation_analysis['overdue_rate'])\n",
    "plt.show()"
   ]
  },
  {
   "cell_type": "code",
   "execution_count": 48,
   "metadata": {},
   "outputs": [
    {
     "data": {
      "text/html": [
       "<div>\n",
       "<style scoped>\n",
       "    .dataframe tbody tr th:only-of-type {\n",
       "        vertical-align: middle;\n",
       "    }\n",
       "\n",
       "    .dataframe tbody tr th {\n",
       "        vertical-align: top;\n",
       "    }\n",
       "\n",
       "    .dataframe thead th {\n",
       "        text-align: right;\n",
       "    }\n",
       "</style>\n",
       "<table border=\"1\" class=\"dataframe\">\n",
       "  <thead>\n",
       "    <tr style=\"text-align: right;\">\n",
       "      <th></th>\n",
       "      <th>education</th>\n",
       "      <th>sum</th>\n",
       "      <th>count</th>\n",
       "      <th>overdue_rate</th>\n",
       "    </tr>\n",
       "  </thead>\n",
       "  <tbody>\n",
       "    <tr>\n",
       "      <th>0</th>\n",
       "      <td>0</td>\n",
       "      <td>75</td>\n",
       "      <td>369</td>\n",
       "      <td>0.203252</td>\n",
       "    </tr>\n",
       "    <tr>\n",
       "      <th>1</th>\n",
       "      <td>1</td>\n",
       "      <td>18</td>\n",
       "      <td>226</td>\n",
       "      <td>0.079646</td>\n",
       "    </tr>\n",
       "    <tr>\n",
       "      <th>2</th>\n",
       "      <td>2</td>\n",
       "      <td>813</td>\n",
       "      <td>8483</td>\n",
       "      <td>0.095839</td>\n",
       "    </tr>\n",
       "    <tr>\n",
       "      <th>3</th>\n",
       "      <td>3</td>\n",
       "      <td>2977</td>\n",
       "      <td>23530</td>\n",
       "      <td>0.126519</td>\n",
       "    </tr>\n",
       "    <tr>\n",
       "      <th>4</th>\n",
       "      <td>4</td>\n",
       "      <td>3300</td>\n",
       "      <td>22988</td>\n",
       "      <td>0.143553</td>\n",
       "    </tr>\n",
       "  </tbody>\n",
       "</table>\n",
       "</div>"
      ],
      "text/plain": [
       "   education   sum  count  overdue_rate\n",
       "0          0    75    369      0.203252\n",
       "1          1    18    226      0.079646\n",
       "2          2   813   8483      0.095839\n",
       "3          3  2977  23530      0.126519\n",
       "4          4  3300  22988      0.143553"
      ]
     },
     "execution_count": 48,
     "metadata": {},
     "output_type": "execute_result"
    }
   ],
   "source": [
    "education_analysis = overdue.groupby('education', as_index=False)['isOverdue'].agg({'sum': 'sum', 'count': 'count'})\n",
    "education_analysis['overdue_rate'] = education_analysis['sum'] / education_analysis['count']\n",
    "education_analysis"
   ]
  },
  {
   "cell_type": "code",
   "execution_count": 52,
   "metadata": {},
   "outputs": [
    {
     "data": {
      "image/png": "[encoded data removed]",
      "text/plain": [
       "<Figure size 432x288 with 1 Axes>"
      ]
     },
     "metadata": {},
     "output_type": "display_data"
    }
   ],
   "source": [
    "sns.barplot(education_analysis['education'], education_analysis['overdue_rate'])\n",
    "plt.show()"
   ]
  },
  {
   "cell_type": "code",
   "execution_count": 49,
   "metadata": {},
   "outputs": [
    {
     "data": {
      "text/html": [
       "<div>\n",
       "<style scoped>\n",
       "    .dataframe tbody tr th:only-of-type {\n",
       "        vertical-align: middle;\n",
       "    }\n",
       "\n",
       "    .dataframe tbody tr th {\n",
       "        vertical-align: top;\n",
       "    }\n",
       "\n",
       "    .dataframe thead th {\n",
       "        text-align: right;\n",
       "    }\n",
       "</style>\n",
       "<table border=\"1\" class=\"dataframe\">\n",
       "  <thead>\n",
       "    <tr style=\"text-align: right;\">\n",
       "      <th></th>\n",
       "      <th>marriage</th>\n",
       "      <th>sum</th>\n",
       "      <th>count</th>\n",
       "      <th>overdue_rate</th>\n",
       "    </tr>\n",
       "  </thead>\n",
       "  <tbody>\n",
       "    <tr>\n",
       "      <th>0</th>\n",
       "      <td>0</td>\n",
       "      <td>75</td>\n",
       "      <td>370</td>\n",
       "      <td>0.202703</td>\n",
       "    </tr>\n",
       "    <tr>\n",
       "      <th>1</th>\n",
       "      <td>1</td>\n",
       "      <td>3169</td>\n",
       "      <td>25098</td>\n",
       "      <td>0.126265</td>\n",
       "    </tr>\n",
       "    <tr>\n",
       "      <th>2</th>\n",
       "      <td>2</td>\n",
       "      <td>805</td>\n",
       "      <td>6038</td>\n",
       "      <td>0.133322</td>\n",
       "    </tr>\n",
       "    <tr>\n",
       "      <th>3</th>\n",
       "      <td>3</td>\n",
       "      <td>2909</td>\n",
       "      <td>22554</td>\n",
       "      <td>0.128979</td>\n",
       "    </tr>\n",
       "    <tr>\n",
       "      <th>4</th>\n",
       "      <td>4</td>\n",
       "      <td>210</td>\n",
       "      <td>1471</td>\n",
       "      <td>0.142760</td>\n",
       "    </tr>\n",
       "    <tr>\n",
       "      <th>5</th>\n",
       "      <td>5</td>\n",
       "      <td>15</td>\n",
       "      <td>65</td>\n",
       "      <td>0.230769</td>\n",
       "    </tr>\n",
       "  </tbody>\n",
       "</table>\n",
       "</div>"
      ],
      "text/plain": [
       "   marriage   sum  count  overdue_rate\n",
       "0         0    75    370      0.202703\n",
       "1         1  3169  25098      0.126265\n",
       "2         2   805   6038      0.133322\n",
       "3         3  2909  22554      0.128979\n",
       "4         4   210   1471      0.142760\n",
       "5         5    15     65      0.230769"
      ]
     },
     "execution_count": 49,
     "metadata": {},
     "output_type": "execute_result"
    }
   ],
   "source": [
    "marriage_analysis = overdue.groupby('marriage', as_index=False)['isOverdue'].agg({'sum': 'sum', 'count': 'count'})\n",
    "marriage_analysis['overdue_rate'] = marriage_analysis['sum'] / marriage_analysis['count']\n",
    "marriage_analysis"
   ]
  },
  {
   "cell_type": "code",
   "execution_count": 53,
   "metadata": {},
   "outputs": [
    {
     "data": {
      "image/png": "[encoded data removed]",
      "text/plain": [
       "<Figure size 432x288 with 1 Axes>"
      ]
     },
     "metadata": {},
     "output_type": "display_data"
    }
   ],
   "source": [
    "sns.barplot(marriage_analysis['marriage'], marriage_analysis['overdue_rate'])\n",
    "plt.show()"
   ]
  },
  {
   "cell_type": "code",
   "execution_count": 50,
   "metadata": {},
   "outputs": [
    {
     "data": {
      "text/html": [
       "<div>\n",
       "<style scoped>\n",
       "    .dataframe tbody tr th:only-of-type {\n",
       "        vertical-align: middle;\n",
       "    }\n",
       "\n",
       "    .dataframe tbody tr th {\n",
       "        vertical-align: top;\n",
       "    }\n",
       "\n",
       "    .dataframe thead th {\n",
       "        text-align: right;\n",
       "    }\n",
       "</style>\n",
       "<table border=\"1\" class=\"dataframe\">\n",
       "  <thead>\n",
       "    <tr style=\"text-align: right;\">\n",
       "      <th></th>\n",
       "      <th>household_type</th>\n",
       "      <th>sum</th>\n",
       "      <th>count</th>\n",
       "      <th>overdue_rate</th>\n",
       "    </tr>\n",
       "  </thead>\n",
       "  <tbody>\n",
       "    <tr>\n",
       "      <th>0</th>\n",
       "      <td>0</td>\n",
       "      <td>75</td>\n",
       "      <td>369</td>\n",
       "      <td>0.203252</td>\n",
       "    </tr>\n",
       "    <tr>\n",
       "      <th>1</th>\n",
       "      <td>1</td>\n",
       "      <td>2033</td>\n",
       "      <td>17105</td>\n",
       "      <td>0.118854</td>\n",
       "    </tr>\n",
       "    <tr>\n",
       "      <th>2</th>\n",
       "      <td>2</td>\n",
       "      <td>2145</td>\n",
       "      <td>15557</td>\n",
       "      <td>0.137880</td>\n",
       "    </tr>\n",
       "    <tr>\n",
       "      <th>3</th>\n",
       "      <td>3</td>\n",
       "      <td>978</td>\n",
       "      <td>8216</td>\n",
       "      <td>0.119036</td>\n",
       "    </tr>\n",
       "    <tr>\n",
       "      <th>4</th>\n",
       "      <td>4</td>\n",
       "      <td>1952</td>\n",
       "      <td>14349</td>\n",
       "      <td>0.136037</td>\n",
       "    </tr>\n",
       "  </tbody>\n",
       "</table>\n",
       "</div>"
      ],
      "text/plain": [
       "   household_type   sum  count  overdue_rate\n",
       "0               0    75    369      0.203252\n",
       "1               1  2033  17105      0.118854\n",
       "2               2  2145  15557      0.137880\n",
       "3               3   978   8216      0.119036\n",
       "4               4  1952  14349      0.136037"
      ]
     },
     "execution_count": 50,
     "metadata": {},
     "output_type": "execute_result"
    }
   ],
   "source": [
    "household_type_analysis = overdue.groupby('household_type', as_index=False)['isOverdue'].agg({'sum': 'sum', 'count': 'count'})\n",
    "household_type_analysis['overdue_rate'] = household_type_analysis['sum'] / household_type_analysis['count']\n",
    "household_type_analysis"
   ]
  },
  {
   "cell_type": "code",
   "execution_count": 54,
   "metadata": {
    "scrolled": true
   },
   "outputs": [
    {
     "data": {
      "image/png": "[encoded data removed]",
      "text/plain": [
       "<Figure size 432x288 with 1 Axes>"
      ]
     },
     "metadata": {},
     "output_type": "display_data"
    }
   ],
   "source": [
    "sns.barplot(household_type_analysis['household_type'], household_type_analysis['overdue_rate'])\n",
    "plt.show()"
   ]
  },
  {
   "cell_type": "markdown",
   "metadata": {},
   "source": [
    "## 训练数据构建"
   ]
  },
  {
   "cell_type": "code",
   "execution_count": 10,
   "metadata": {
    "collapsed": true
   },
   "outputs": [],
   "source": [
    "train_data = pd.merge(user_info, overdue, how='inner', on='user_id')"
   ]
  },
  {
   "cell_type": "markdown",
   "metadata": {},
   "source": [
    "当前结论：  \n",
    "- 时间戳非线性脱敏，应该只保留了先后关系，无法提取周期性特征  \n",
    "- 对于55596个用户，在部分表中存在大量缺失值  "
   ]
  },
  {
   "cell_type": "markdown",
   "metadata": {},
   "source": [
    "### 时间已知 / 放款前 用户浏览行为"
   ]
  },
  {
   "cell_type": "code",
   "execution_count": 11,
   "metadata": {
    "collapsed": true,
    "scrolled": true
   },
   "outputs": [],
   "source": [
    "browseAndLoan = pd.merge(browse_history, loan_time, how='left', on='user_id')"
   ]
  },
  {
   "cell_type": "code",
   "execution_count": 12,
   "metadata": {
    "collapsed": true,
    "scrolled": true
   },
   "outputs": [],
   "source": [
    "# 浏览记录时间 <= 放款时间，时间非0（0代表未知）\n",
    "temp = browseAndLoan[(browseAndLoan['time_x'] <= browseAndLoan['time_y']) & (browseAndLoan['time_x'] > 0)]"
   ]
  },
  {
   "cell_type": "code",
   "execution_count": 13,
   "metadata": {
    "collapsed": true
   },
   "outputs": [],
   "source": [
    "# 行为是连续数值表示的类别特征\n",
    "# 子行为应该是用户行为更细粒度的划分，所以将两者转化为字符串拼接，作为新特征\n",
    "temp['cross_behavior'] = temp['browse_behavior'].astype(str).values + '_' + temp['browse_subbehavior'].astype(str).values"
   ]
  },
  {
   "cell_type": "code",
   "execution_count": 14,
   "metadata": {
    "collapsed": true
   },
   "outputs": [],
   "source": [
    "# 对cross_behavior进行自然数编码\n",
    "\n",
    "from sklearn.preprocessing import LabelEncoder\n",
    "\n",
    "encoder = LabelEncoder()\n",
    "encoder.fit(temp['cross_behavior'])\n",
    "temp['cross_behavior'] = encoder.transform(temp['cross_behavior'])"
   ]
  },
  {
   "cell_type": "code",
   "execution_count": 15,
   "metadata": {
    "collapsed": true,
    "scrolled": true
   },
   "outputs": [],
   "source": [
    "# 每个用户进行了多少次行为统计\n",
    "to_merge = temp.groupby('user_id', as_index=False)['browse_behavior'].agg({'behavior_count': 'count'})\n",
    "train_data = train_data.merge(to_merge, how='left', on='user_id')"
   ]
  },
  {
   "cell_type": "code",
   "execution_count": 16,
   "metadata": {
    "collapsed": true
   },
   "outputs": [],
   "source": [
    "#　获取numpy数组的众数\n",
    "\n",
    "from scipy import stats\n",
    "\n",
    "def get_mode(arr):\n",
    "    return stats.mode(arr)[0][0]"
   ]
  },
  {
   "cell_type": "code",
   "execution_count": 17,
   "metadata": {
    "collapsed": true
   },
   "outputs": [],
   "source": [
    "# 每个用户的不同行为数和频率最高的行为\n",
    "to_merge = temp.groupby('user_id', as_index=False)['browse_behavior'].agg({'unique_behavior': 'nunique', \n",
    "                                                                           'browse_behavior_mode': get_mode})\n",
    "train_data = train_data.merge(to_merge, how='left', on='user_id')"
   ]
  },
  {
   "cell_type": "code",
   "execution_count": 18,
   "metadata": {
    "collapsed": true,
    "scrolled": true
   },
   "outputs": [],
   "source": [
    "# 每个用户的不同子行为数和频率最高的子行为\n",
    "to_merge = temp.groupby('user_id', as_index=False)['browse_subbehavior'].agg({'unique_subbehavior': 'nunique', \n",
    "                                                                              'browse_subbehavior_mode': get_mode})\n",
    "train_data = train_data.merge(to_merge, how='left', on='user_id')"
   ]
  },
  {
   "cell_type": "code",
   "execution_count": 19,
   "metadata": {
    "collapsed": true
   },
   "outputs": [],
   "source": [
    "# 每个用户的不同交叉行为数和频率最高的交叉行为\n",
    "to_merge = temp.groupby('user_id', as_index=False)['cross_behavior'].agg({'cross_behavior': 'nunique', \n",
    "                                                                          'cross_behavior_mode': get_mode})\n",
    "train_data = train_data.merge(to_merge, how='left', on='user_id')"
   ]
  },
  {
   "cell_type": "markdown",
   "metadata": {},
   "source": [
    "统计用户频率最高 / 最低的行为 / 子行为，由于特征构建速度过慢，后期再考虑"
   ]
  },
  {
   "cell_type": "markdown",
   "metadata": {},
   "source": [
    "### 时间已知 / 放款前 银行流水记录"
   ]
  },
  {
   "cell_type": "code",
   "execution_count": 20,
   "metadata": {
    "collapsed": true
   },
   "outputs": [],
   "source": [
    "bankAndLoan = pd.merge(bank_detail, loan_time, how='left', on='user_id')"
   ]
  },
  {
   "cell_type": "code",
   "execution_count": 21,
   "metadata": {
    "collapsed": true
   },
   "outputs": [],
   "source": [
    "temp = bankAndLoan.loc[(bankAndLoan['time_x'] <= bankAndLoan['time_y']) & (bankAndLoan['time_x'] > 0)]"
   ]
  },
  {
   "cell_type": "markdown",
   "metadata": {},
   "source": [
    "- 收入 = 工资性收入 + 非工资性收入  \n",
    "- 支出统计  \n",
    "- 支出与收入的比较  \n",
    "- 支出和收入的其他统计特征，如均值、方差、极差之类"
   ]
  },
  {
   "cell_type": "markdown",
   "metadata": {},
   "source": [
    "#### 每个用户的收入情况"
   ]
  },
  {
   "cell_type": "code",
   "execution_count": 22,
   "metadata": {
    "collapsed": true,
    "scrolled": true
   },
   "outputs": [],
   "source": [
    "# 变异系数\n",
    "def get_cv(arr):\n",
    "    return arr.mean() / arr.std()\n",
    "\n",
    "deal_type_0 = temp[temp['deal_type'] == 0].groupby(['user_id'], as_index=False)\n",
    "income_analysis = deal_type_0['deal_amount'].agg({'income_count': 'count', 'income_sum': 'sum', \n",
    "                                                  'income_median': 'median', 'income_std': 'std',\n",
    "                                                  'income_cv': get_cv})"
   ]
  },
  {
   "cell_type": "code",
   "execution_count": 23,
   "metadata": {
    "collapsed": true,
    "scrolled": false
   },
   "outputs": [],
   "source": [
    "train_data = train_data.merge(income_analysis, how='left', on='user_id')"
   ]
  },
  {
   "cell_type": "markdown",
   "metadata": {},
   "source": [
    "#### 每个用户的支出情况"
   ]
  },
  {
   "cell_type": "code",
   "execution_count": 24,
   "metadata": {
    "collapsed": true,
    "scrolled": true
   },
   "outputs": [],
   "source": [
    "deal_type_1 = temp[temp['deal_type'] == 1].groupby(['user_id'], as_index=False)\n",
    "expen_analysis = deal_type_1['deal_amount'].agg({'expen_count': 'count', 'expen_sum': 'sum', \n",
    "                                                 'expen_median': 'median', 'expen_std': 'std',\n",
    "                                                 'expen_cv': get_cv})"
   ]
  },
  {
   "cell_type": "code",
   "execution_count": 25,
   "metadata": {
    "collapsed": true
   },
   "outputs": [],
   "source": [
    "train_data = train_data.merge(expen_analysis, how='left', on='user_id')"
   ]
  },
  {
   "cell_type": "markdown",
   "metadata": {},
   "source": [
    "#### 工资性收入"
   ]
  },
  {
   "cell_type": "code",
   "execution_count": 26,
   "metadata": {},
   "outputs": [
    {
     "data": {
      "text/html": [
       "<div>\n",
       "<style scoped>\n",
       "    .dataframe tbody tr th:only-of-type {\n",
       "        vertical-align: middle;\n",
       "    }\n",
       "\n",
       "    .dataframe tbody tr th {\n",
       "        vertical-align: top;\n",
       "    }\n",
       "\n",
       "    .dataframe thead th {\n",
       "        text-align: right;\n",
       "    }\n",
       "</style>\n",
       "<table border=\"1\" class=\"dataframe\">\n",
       "  <thead>\n",
       "    <tr style=\"text-align: right;\">\n",
       "      <th></th>\n",
       "      <th>user_id</th>\n",
       "      <th>time_x</th>\n",
       "      <th>deal_type</th>\n",
       "      <th>deal_amount</th>\n",
       "      <th>wage_type</th>\n",
       "      <th>time_y</th>\n",
       "    </tr>\n",
       "  </thead>\n",
       "  <tbody>\n",
       "  </tbody>\n",
       "</table>\n",
       "</div>"
      ],
      "text/plain": [
       "Empty DataFrame\n",
       "Columns: [user_id, time_x, deal_type, deal_amount, wage_type, time_y]\n",
       "Index: []"
      ]
     },
     "execution_count": 26,
     "metadata": {},
     "output_type": "execute_result"
    }
   ],
   "source": [
    "# 若存在某条记录既是工资收入，又是支出，逻辑矛盾，归为异常数据\n",
    "temp[(temp['wage_type'] == 1) & (temp['deal_type'] == 1)]"
   ]
  },
  {
   "cell_type": "code",
   "execution_count": 27,
   "metadata": {
    "collapsed": true,
    "scrolled": true
   },
   "outputs": [],
   "source": [
    "wage_type_1 = temp[temp['wage_type'] == 1].groupby(['user_id'], as_index=False)\n",
    "wage_income = wage_type_1['deal_amount'].agg({'wages_count': 'count', 'wages_sum': 'sum'})"
   ]
  },
  {
   "cell_type": "markdown",
   "metadata": {},
   "source": [
    "- 绝大部分用户缺失，是没有统计到，还是没有工资性收入？  \n",
    "- 是否有工资性收入应该是个强特"
   ]
  },
  {
   "cell_type": "code",
   "execution_count": 28,
   "metadata": {
    "collapsed": true
   },
   "outputs": [],
   "source": [
    "train_data = train_data.merge(wage_income, how='left', on='user_id')"
   ]
  },
  {
   "cell_type": "markdown",
   "metadata": {},
   "source": [
    "#### 非工资性收入"
   ]
  },
  {
   "cell_type": "code",
   "execution_count": 29,
   "metadata": {
    "collapsed": true,
    "scrolled": true
   },
   "outputs": [],
   "source": [
    "wage_type_0 = temp[(temp['wage_type'] == 0) & (temp['deal_type'] == 0)].groupby(['user_id'], as_index=False)\n",
    "non_wage_income = wage_type_0['deal_amount'].agg({'non_wages_sum': 'sum', 'non_wages_median': 'median', \n",
    "                                                  'non_wages_std': 'std', 'non_wages_cv': get_cv})"
   ]
  },
  {
   "cell_type": "code",
   "execution_count": 30,
   "metadata": {
    "collapsed": true
   },
   "outputs": [],
   "source": [
    "train_data = train_data.merge(non_wage_income, how='left', on='user_id')"
   ]
  },
  {
   "cell_type": "markdown",
   "metadata": {},
   "source": [
    "#### 平均每笔收入"
   ]
  },
  {
   "cell_type": "code",
   "execution_count": 31,
   "metadata": {
    "collapsed": true
   },
   "outputs": [],
   "source": [
    "train_data['per_income'] = train_data['income_sum'] / train_data['income_count']"
   ]
  },
  {
   "cell_type": "markdown",
   "metadata": {},
   "source": [
    "#### 平均每笔支出"
   ]
  },
  {
   "cell_type": "code",
   "execution_count": 32,
   "metadata": {
    "collapsed": true
   },
   "outputs": [],
   "source": [
    "train_data['per_expen'] = train_data['expen_sum'] / train_data['expen_count']"
   ]
  },
  {
   "cell_type": "markdown",
   "metadata": {},
   "source": [
    "### 时间已知 / 放款前 信用卡账单"
   ]
  },
  {
   "cell_type": "code",
   "execution_count": 33,
   "metadata": {
    "collapsed": true
   },
   "outputs": [],
   "source": [
    "billAndLoan = bill_detail.merge(loan_time, how='left', on='user_id')"
   ]
  },
  {
   "cell_type": "code",
   "execution_count": 34,
   "metadata": {
    "collapsed": true,
    "scrolled": false
   },
   "outputs": [],
   "source": [
    "temp = billAndLoan.loc[(billAndLoan['time_x'] <= billAndLoan['time_y']) & (billAndLoan['time_x'] > 0)]"
   ]
  },
  {
   "cell_type": "code",
   "execution_count": 35,
   "metadata": {
    "scrolled": false
   },
   "outputs": [
    {
     "data": {
      "text/plain": [
       "0    1533504\n",
       "1        199\n",
       "Name: repayment_status, dtype: int64"
      ]
     },
     "execution_count": 35,
     "metadata": {},
     "output_type": "execute_result"
    }
   ],
   "source": [
    "temp['repayment_status'].value_counts()"
   ]
  },
  {
   "cell_type": "markdown",
   "metadata": {},
   "source": [
    "极少数人是非欠款状态"
   ]
  },
  {
   "cell_type": "code",
   "execution_count": 36,
   "metadata": {
    "collapsed": true,
    "scrolled": false
   },
   "outputs": [],
   "source": [
    "ccards_num = temp.groupby(['user_id'], as_index=False)['bank_id'].agg({'bank_num': 'nunique'})\n",
    "train_data = train_data.merge(ccards_num, how='left', on='user_id')"
   ]
  },
  {
   "cell_type": "code",
   "execution_count": 37,
   "metadata": {
    "collapsed": true,
    "scrolled": true
   },
   "outputs": [],
   "source": [
    "to_merge = temp.groupby(['user_id'], as_index=False)['previous_bills'].agg({'previous_bills_count': 'count', \n",
    "                                                                            'previous_bills_sum': 'sum', \n",
    "                                                                            'previous_bills_median': 'median', \n",
    "                                                                            'previous_bills_std': 'std', \n",
    "                                                                            'previous_bills_max': 'max', \n",
    "                                                                            'previous_bills_min': 'min'})\n",
    "train_data = train_data.merge(to_merge, how='left', on='user_id')"
   ]
  },
  {
   "cell_type": "code",
   "execution_count": 38,
   "metadata": {
    "collapsed": true,
    "scrolled": true
   },
   "outputs": [],
   "source": [
    "to_merge = temp.groupby(['user_id'], as_index=False)['previous_repayment'].agg({'previous_repayment_sum': 'sum', \n",
    "                                                                                'previous_repayment_median': 'median', \n",
    "                                                                                'previous_repayment_std': 'std', \n",
    "                                                                                'previous_repayment_max': 'max', \n",
    "                                                                                'previous_repayment_min': 'min'})\n",
    "train_data = train_data.merge(to_merge, how='left', on='user_id')"
   ]
  },
  {
   "cell_type": "code",
   "execution_count": 39,
   "metadata": {
    "collapsed": true
   },
   "outputs": [],
   "source": [
    "to_merge = temp.groupby(['user_id'], as_index=False)['creditCardQuota'].agg({'creditCardQuota_mean': 'mean', \n",
    "                                                                             'creditCardQuota_max': 'max', \n",
    "                                                                             'creditCardQuota_min': 'min'})\n",
    "train_data = train_data.merge(to_merge, how='left', on='user_id')"
   ]
  },
  {
   "cell_type": "code",
   "execution_count": 40,
   "metadata": {
    "collapsed": true
   },
   "outputs": [],
   "source": [
    "to_merge = temp.groupby(['user_id'], as_index=False)['current_balance'].agg({'current_balance_mean': 'mean', \n",
    "                                                                             'current_balance_sum': 'sum'})\n",
    "train_data = train_data.merge(to_merge, how='left', on='user_id')"
   ]
  },
  {
   "cell_type": "code",
   "execution_count": 41,
   "metadata": {
    "collapsed": true
   },
   "outputs": [],
   "source": [
    "to_merge = temp.groupby(['user_id'], as_index=False)['current_MinRepay'].agg({'current_MinRepay_mean': 'mean', \n",
    "                                                                              'current_MinRepay_sum': 'sum'})\n",
    "train_data = train_data.merge(to_merge, how='left', on='user_id')"
   ]
  },
  {
   "cell_type": "code",
   "execution_count": 42,
   "metadata": {
    "collapsed": true
   },
   "outputs": [],
   "source": [
    "# 极差\n",
    "def get_ptp(arr):\n",
    "    return arr.max() - arr.min()\n",
    "\n",
    "to_merge = temp.groupby(['user_id'], as_index=False)['consume_times'].agg({'consume_times_median': 'median', \n",
    "                                                                           'consume_times_sum': 'sum', \n",
    "                                                                           'consume_times_ptp': get_ptp})\n",
    "train_data = train_data.merge(to_merge, how='left', on='user_id')"
   ]
  },
  {
   "cell_type": "code",
   "execution_count": 43,
   "metadata": {
    "collapsed": true
   },
   "outputs": [],
   "source": [
    "to_merge = temp.groupby(['user_id'], as_index=False)['current_bills'].agg({'current_bills_sum': 'sum', \n",
    "                                                                           'current_bills_median': 'median', \n",
    "                                                                           'current_bills_std': 'std', \n",
    "                                                                           'current_bills_max': 'max', \n",
    "                                                                           'current_bills_min': 'min'})\n",
    "train_data = train_data.merge(to_merge, how='left', on='user_id')"
   ]
  },
  {
   "cell_type": "code",
   "execution_count": 44,
   "metadata": {
    "collapsed": true
   },
   "outputs": [],
   "source": [
    "to_merge = temp.groupby(['user_id'], as_index=False)['adjust_money'].agg({'adjust_money_mean': 'mean', \n",
    "                                                                          'adjust_money_sum': 'sum', \n",
    "                                                                          'adjust_money_max': 'max',\n",
    "                                                                          'adjust_money_min': 'min'})\n",
    "train_data = train_data.merge(to_merge, how='left', on='user_id')"
   ]
  },
  {
   "cell_type": "code",
   "execution_count": 45,
   "metadata": {
    "collapsed": true
   },
   "outputs": [],
   "source": [
    "to_merge = temp.groupby(['user_id'], as_index=False)['revolving_interest'].agg({'revolving_interest_mean': 'mean', \n",
    "                                                                                'revolving_interest_sum': 'sum', \n",
    "                                                                                'revolving_interest_max': 'max',\n",
    "                                                                                'revolving_interest_min': 'min'})\n",
    "train_data = train_data.merge(to_merge, how='left', on='user_id')"
   ]
  },
  {
   "cell_type": "code",
   "execution_count": 46,
   "metadata": {
    "collapsed": true
   },
   "outputs": [],
   "source": [
    "to_merge = temp.groupby(['user_id'], as_index=False)['available_money'].agg({'available_money_sum': 'sum', \n",
    "                                                                             'available_money_median': 'median', \n",
    "                                                                             'available_money_std': 'std', \n",
    "                                                                             'available_money_max': 'max', \n",
    "                                                                             'available_money_min': 'min'})\n",
    "train_data = train_data.merge(to_merge, how='left', on='user_id')"
   ]
  },
  {
   "cell_type": "code",
   "execution_count": 47,
   "metadata": {
    "collapsed": true
   },
   "outputs": [],
   "source": [
    "to_merge = temp.groupby(['user_id'], as_index=False)['cash_Advance_Limit'].agg({'cash_Advance_Limit_mean': 'mean', \n",
    "                                                                                'cash_Advance_Limit_max': 'max'})\n",
    "train_data = train_data.merge(to_merge, how='left', on='user_id')"
   ]
  },
  {
   "cell_type": "code",
   "execution_count": 48,
   "metadata": {
    "collapsed": true
   },
   "outputs": [],
   "source": [
    "# 还款次数 / 统计次数\n",
    "repay_proba = temp.groupby(['user_id'], as_index=False)['repayment_status'].agg({'isRepay': 'mean'})\n",
    "# 是否有过还款状态为 1 （已还款；可能存在分期还款）\n",
    "repay_proba['isRepay'] = repay_proba['isRepay'].apply(lambda x: 1 if x > 0 else 0)\n",
    "train_data = train_data.merge(repay_proba, how='left', on='user_id')"
   ]
  },
  {
   "cell_type": "code",
   "execution_count": 49,
   "metadata": {
    "collapsed": true,
    "scrolled": false
   },
   "outputs": [],
   "source": [
    "# 上期还款差额 = 上期账单金额 - 上期还款金额\n",
    "temp['pre_payBalance'] = temp['previous_bills'] - temp['previous_repayment']\n",
    "to_merge = temp.groupby(['user_id'], as_index=False)['pre_payBalance'].agg({'pre_payBalance_meam': 'mean', \n",
    "                                                                            'pre_payBalance_max': 'max'})\n",
    "train_data = train_data.merge(to_merge, how='left', on='user_id')"
   ]
  },
  {
   "cell_type": "markdown",
   "metadata": {},
   "source": [
    "### 时间已知 / 放款后 信用卡账单"
   ]
  },
  {
   "cell_type": "code",
   "execution_count": 50,
   "metadata": {},
   "outputs": [
    {
     "data": {
      "text/plain": [
       "34998"
      ]
     },
     "execution_count": 50,
     "metadata": {},
     "output_type": "execute_result"
    }
   ],
   "source": [
    "billAndLoan.loc[(billAndLoan['time_x'] > billAndLoan['time_y']) & (billAndLoan['time_y'] > 0)]['user_id'].nunique()"
   ]
  },
  {
   "cell_type": "markdown",
   "metadata": {},
   "source": [
    "后期再考虑"
   ]
  },
  {
   "cell_type": "markdown",
   "metadata": {},
   "source": [
    "### 缺失值分析"
   ]
  },
  {
   "cell_type": "code",
   "execution_count": 51,
   "metadata": {},
   "outputs": [
    {
     "data": {
      "text/plain": [
       "wages_count                52678\n",
       "wages_sum                  52678\n",
       "non_wages_cv               46352\n",
       "non_wages_std              46352\n",
       "expen_std                  46343\n",
       "expen_cv                   46343\n",
       "income_std                 46340\n",
       "income_cv                  46340\n",
       "expen_median               46338\n",
       "per_expen                  46338\n",
       "expen_count                46338\n",
       "expen_sum                  46338\n",
       "non_wages_sum              46333\n",
       "non_wages_median           46333\n",
       "income_median              46329\n",
       "income_sum                 46329\n",
       "income_count               46329\n",
       "per_income                 46329\n",
       "current_bills_std          15401\n",
       "previous_bills_std         15401\n",
       "previous_repayment_std     15401\n",
       "available_money_std        15401\n",
       "previous_repayment_min     12536\n",
       "bank_num                   12536\n",
       "previous_bills_count       12536\n",
       "previous_bills_sum         12536\n",
       "previous_bills_median      12536\n",
       "previous_bills_max         12536\n",
       "previous_bills_min         12536\n",
       "previous_repayment_sum     12536\n",
       "                           ...  \n",
       "available_money_max        12536\n",
       "available_money_median     12536\n",
       "available_money_sum        12536\n",
       "revolving_interest_min     12536\n",
       "revolving_interest_max     12536\n",
       "revolving_interest_sum     12536\n",
       "creditCardQuota_max        12536\n",
       "adjust_money_min           12536\n",
       "adjust_money_max           12536\n",
       "revolving_interest_mean    12536\n",
       "adjust_money_mean          12536\n",
       "consume_times_median       12536\n",
       "creditCardQuota_min        12536\n",
       "current_balance_mean       12536\n",
       "current_bills_min          12536\n",
       "current_MinRepay_mean      12536\n",
       "current_MinRepay_sum       12536\n",
       "current_balance_sum        12536\n",
       "consume_times_sum          12536\n",
       "consume_times_ptp          12536\n",
       "current_bills_sum          12536\n",
       "current_bills_median       12536\n",
       "current_bills_max          12536\n",
       "cross_behavior_mode        10651\n",
       "cross_behavior             10651\n",
       "browse_subbehavior_mode    10651\n",
       "unique_subbehavior         10651\n",
       "browse_behavior_mode       10651\n",
       "unique_behavior            10651\n",
       "behavior_count             10651\n",
       "Length: 70, dtype: int64"
      ]
     },
     "execution_count": 51,
     "metadata": {},
     "output_type": "execute_result"
    }
   ],
   "source": [
    "# 各属性的缺失值数量\n",
    "miss = train_data.drop('isOverdue', axis=1).isnull().sum()\n",
    "miss[miss > 0].sort_values(ascending=False)"
   ]
  },
  {
   "cell_type": "markdown",
   "metadata": {},
   "source": [
    "**部分缺失值太大的特征考虑drop，不然会作为噪声影响模型**"
   ]
  },
  {
   "cell_type": "code",
   "execution_count": 52,
   "metadata": {
    "collapsed": true
   },
   "outputs": [],
   "source": [
    "drop_features = ['wages_count', 'wages_sum', 'non_wages_cv', 'non_wages_std', 'expen_cv', 'income_cv']\n",
    "train_data.drop(drop_features, axis=1, inplace=True)"
   ]
  },
  {
   "cell_type": "code",
   "execution_count": 53,
   "metadata": {
    "collapsed": true
   },
   "outputs": [],
   "source": [
    "fill_median = ['expen_count', 'income_count', 'previous_bills_count']\n",
    "\n",
    "# 标志缺失\n",
    "for feat in fill_median:\n",
    "    train_data[feat + '_nan'] = train_data[feat].isnull().apply(lambda x: 1 if x == True else 0)\n",
    "\n",
    "# 连续整型用中位数填充\n",
    "for feat in fill_median:\n",
    "    train_data[feat] = train_data[feat].fillna(train_data[feat].median())  "
   ]
  },
  {
   "cell_type": "code",
   "execution_count": 54,
   "metadata": {
    "collapsed": true
   },
   "outputs": [],
   "source": [
    "fill_mode = ['bank_num', 'cross_behavior', 'unique_subbehavior', 'unique_behavior', 'behavior_count', \n",
    "             'browse_behavior_mode', 'browse_subbehavior_mode', 'cross_behavior_mode']\n",
    "\n",
    "# 标志缺失\n",
    "for feat in fill_mode:\n",
    "    train_data[feat + '_nan'] = train_data[feat].isnull().apply(lambda x: 1 if x == True else 0)\n",
    "\n",
    "# 离散整型用众数填充\n",
    "for feat in fill_mode:\n",
    "    train_data[feat] = train_data[feat].fillna(train_data[feat].mode()[0])"
   ]
  },
  {
   "cell_type": "code",
   "execution_count": 55,
   "metadata": {
    "collapsed": true
   },
   "outputs": [],
   "source": [
    "# 还款状态，缺失值用-1填充，作为一个新类别\n",
    "train_data['isRepay'] = train_data['isRepay'].fillna(-1)"
   ]
  },
  {
   "cell_type": "code",
   "execution_count": 56,
   "metadata": {
    "collapsed": true
   },
   "outputs": [],
   "source": [
    "miss = train_data.drop('isOverdue', axis=1).isnull().sum()\n",
    "numeric_feats = miss[miss > 0].keys().values\n",
    "\n",
    "# 标志缺失\n",
    "for feat in numeric_feats:\n",
    "    train_data[feat + '_nan'] = train_data[feat].isnull().apply(lambda x: 1 if x == True else 0)\n",
    "\n",
    "# 连续数值型使用均值填充\n",
    "for feat in numeric_feats:\n",
    "    train_data[feat] = train_data[feat].fillna(train_data[feat].mean())"
   ]
  },
  {
   "cell_type": "markdown",
   "metadata": {},
   "source": [
    "### 截断"
   ]
  },
  {
   "cell_type": "markdown",
   "metadata": {},
   "source": [
    "大部分float型数据小数点后有6位，可能是数据脱敏导致的，也可能是误差"
   ]
  },
  {
   "cell_type": "code",
   "execution_count": 106,
   "metadata": {
    "scrolled": false
   },
   "outputs": [
    {
     "data": {
      "text/plain": [
       "['user_id',\n",
       " 'sex',\n",
       " 'occupation',\n",
       " 'education',\n",
       " 'marriage',\n",
       " 'household_type',\n",
       " 'isOverdue',\n",
       " 'expen_count_nan',\n",
       " 'income_count_nan',\n",
       " 'previous_bills_count_nan',\n",
       " 'bank_num_nan',\n",
       " 'cross_behavior_nan',\n",
       " 'unique_subbehavior_nan',\n",
       " 'unique_behavior_nan',\n",
       " 'behavior_count_nan',\n",
       " 'browse_behavior_mode_nan',\n",
       " 'browse_subbehavior_mode_nan',\n",
       " 'cross_behavior_mode_nan',\n",
       " 'income_sum_nan',\n",
       " 'income_median_nan',\n",
       " 'income_std_nan',\n",
       " 'expen_sum_nan',\n",
       " 'expen_median_nan',\n",
       " 'expen_std_nan',\n",
       " 'non_wages_sum_nan',\n",
       " 'non_wages_median_nan',\n",
       " 'per_income_nan',\n",
       " 'per_expen_nan',\n",
       " 'previous_bills_sum_nan',\n",
       " 'previous_bills_median_nan',\n",
       " 'previous_bills_std_nan',\n",
       " 'previous_bills_max_nan',\n",
       " 'previous_bills_min_nan',\n",
       " 'previous_repayment_sum_nan',\n",
       " 'previous_repayment_median_nan',\n",
       " 'previous_repayment_std_nan',\n",
       " 'previous_repayment_max_nan',\n",
       " 'previous_repayment_min_nan',\n",
       " 'creditCardQuota_mean_nan',\n",
       " 'creditCardQuota_max_nan',\n",
       " 'creditCardQuota_min_nan',\n",
       " 'current_balance_mean_nan',\n",
       " 'current_balance_sum_nan',\n",
       " 'current_MinRepay_mean_nan',\n",
       " 'current_MinRepay_sum_nan',\n",
       " 'consume_times_median_nan',\n",
       " 'consume_times_sum_nan',\n",
       " 'consume_times_ptp_nan',\n",
       " 'current_bills_sum_nan',\n",
       " 'current_bills_median_nan',\n",
       " 'current_bills_std_nan',\n",
       " 'current_bills_max_nan',\n",
       " 'current_bills_min_nan',\n",
       " 'adjust_money_mean_nan',\n",
       " 'adjust_money_sum_nan',\n",
       " 'adjust_money_max_nan',\n",
       " 'adjust_money_min_nan',\n",
       " 'revolving_interest_mean_nan',\n",
       " 'revolving_interest_sum_nan',\n",
       " 'revolving_interest_max_nan',\n",
       " 'revolving_interest_min_nan',\n",
       " 'available_money_sum_nan',\n",
       " 'available_money_median_nan',\n",
       " 'available_money_std_nan',\n",
       " 'available_money_max_nan',\n",
       " 'available_money_min_nan',\n",
       " 'cash_Advance_Limit_mean_nan',\n",
       " 'cash_Advance_Limit_max_nan',\n",
       " 'pre_payBalance_meam_nan',\n",
       " 'pre_payBalance_max_nan']"
      ]
     },
     "execution_count": 106,
     "metadata": {},
     "output_type": "execute_result"
    }
   ],
   "source": [
    "# 当前数据中的 int型特征\n",
    "int_cols = [col for col in train_data.columns if train_data[col].dtypes == 'int64']\n",
    "int_cols"
   ]
  },
  {
   "cell_type": "code",
   "execution_count": 116,
   "metadata": {
    "scrolled": false
   },
   "outputs": [
    {
     "data": {
      "text/plain": [
       "['income_sum',\n",
       " 'income_median',\n",
       " 'income_std',\n",
       " 'expen_sum',\n",
       " 'expen_median',\n",
       " 'expen_std',\n",
       " 'non_wages_sum',\n",
       " 'non_wages_median',\n",
       " 'per_income',\n",
       " 'per_expen',\n",
       " 'previous_bills_sum',\n",
       " 'previous_bills_median',\n",
       " 'previous_bills_std',\n",
       " 'previous_bills_max',\n",
       " 'previous_bills_min',\n",
       " 'previous_repayment_sum',\n",
       " 'previous_repayment_median',\n",
       " 'previous_repayment_std',\n",
       " 'previous_repayment_max',\n",
       " 'previous_repayment_min',\n",
       " 'creditCardQuota_mean',\n",
       " 'creditCardQuota_max',\n",
       " 'creditCardQuota_min',\n",
       " 'current_balance_mean',\n",
       " 'current_balance_sum',\n",
       " 'current_MinRepay_mean',\n",
       " 'current_MinRepay_sum',\n",
       " 'consume_times_median',\n",
       " 'consume_times_sum',\n",
       " 'consume_times_ptp',\n",
       " 'current_bills_sum',\n",
       " 'current_bills_median',\n",
       " 'current_bills_std',\n",
       " 'current_bills_max',\n",
       " 'current_bills_min',\n",
       " 'adjust_money_mean',\n",
       " 'adjust_money_sum',\n",
       " 'adjust_money_max',\n",
       " 'adjust_money_min',\n",
       " 'revolving_interest_mean',\n",
       " 'revolving_interest_sum',\n",
       " 'revolving_interest_max',\n",
       " 'revolving_interest_min',\n",
       " 'available_money_sum',\n",
       " 'available_money_median',\n",
       " 'available_money_std',\n",
       " 'available_money_max',\n",
       " 'available_money_min',\n",
       " 'cash_Advance_Limit_mean',\n",
       " 'cash_Advance_Limit_max',\n",
       " 'pre_payBalance_meam',\n",
       " 'pre_payBalance_max']"
      ]
     },
     "execution_count": 116,
     "metadata": {},
     "output_type": "execute_result"
    }
   ],
   "source": [
    "# 当前数据中的 float型特征\n",
    "float_cols = [col for col in train_data.columns if train_data[col].dtypes == 'float64']\n",
    "float_cols"
   ]
  },
  {
   "cell_type": "code",
   "execution_count": 104,
   "metadata": {
    "collapsed": true
   },
   "outputs": [],
   "source": [
    "# 部分特征转化为整型，降低存储位数\n",
    "to_int_features = ['behavior_count', 'unique_behavior', 'browse_behavior_mode', 'unique_subbehavior', \n",
    "                   'browse_subbehavior_mode', 'cross_behavior', 'cross_behavior_mode', 'income_count', \n",
    "                   'expen_count', 'previous_bills_count', 'isRepay', 'bank_num']\n",
    "\n",
    "for feat in to_int_features:\n",
    "    train_data[feat] = train_data[feat].astype(int)"
   ]
  },
  {
   "cell_type": "code",
   "execution_count": 131,
   "metadata": {
    "collapsed": true
   },
   "outputs": [],
   "source": [
    "# 保留小数点后两位\n",
    "float_cols = [col for col in train_data.columns if train_data[col].dtypes == 'float64']\n",
    "\n",
    "for feat in float_cols:\n",
    "    train_data[feat] = train_data[feat].round(2)"
   ]
  },
  {
   "cell_type": "markdown",
   "metadata": {},
   "source": [
    "### 特征重要性评估"
   ]
  },
  {
   "cell_type": "code",
   "execution_count": 134,
   "metadata": {
    "collapsed": true
   },
   "outputs": [],
   "source": [
    "X_train = train_data.drop(['user_id', 'isOverdue'], axis=1).values\n",
    "y_train = train_data['isOverdue']"
   ]
  },
  {
   "cell_type": "code",
   "execution_count": 135,
   "metadata": {
    "scrolled": false
   },
   "outputs": [
    {
     "data": {
      "text/plain": [
       "RandomForestClassifier(bootstrap=True, class_weight=None, criterion='gini',\n",
       "            max_depth=None, max_features='auto', max_leaf_nodes=None,\n",
       "            min_impurity_decrease=0.0, min_impurity_split=None,\n",
       "            min_samples_leaf=1, min_samples_split=2,\n",
       "            min_weight_fraction_leaf=0.0, n_estimators=2000, n_jobs=-1,\n",
       "            oob_score=False, random_state=1996, verbose=0,\n",
       "            warm_start=False)"
      ]
     },
     "execution_count": 135,
     "metadata": {},
     "output_type": "execute_result"
    }
   ],
   "source": [
    "from sklearn.ensemble import RandomForestClassifier\n",
    "\n",
    "rf_clf = RandomForestClassifier(n_estimators=2000, random_state=1996, n_jobs=-1)\n",
    "rf_clf.fit(X_train, y_train)"
   ]
  },
  {
   "cell_type": "code",
   "execution_count": 138,
   "metadata": {
    "collapsed": true,
    "scrolled": true
   },
   "outputs": [],
   "source": [
    "features = train_data.drop(['user_id', 'isOverdue'], axis=1).columns.values\n",
    "features_importance = pd.DataFrame({'features': features, 'importance': rf_clf.feature_importances_ * 1000}).sort_values('importance', ascending=False)"
   ]
  },
  {
   "cell_type": "code",
   "execution_count": 142,
   "metadata": {
    "scrolled": false
   },
   "outputs": [],
   "source": [
    "# pd.set_option('max_rows', features_importance.shape[0])   # tips显示指定长度的行而不会省略， max_columns为列\n",
    "\n",
    "# 筛选特征\n",
    "# select_features = features_importance[features_importance['importance'] > 0.2]['features'].values\n",
    "# features_importance.to_csv(\"../data/rf.csv\", index=False)"
   ]
  },
  {
   "cell_type": "code",
   "execution_count": 140,
   "metadata": {},
   "outputs": [
    {
     "data": {
      "text/plain": [
       "LGBMClassifier(boosting_type='gbdt', class_weight=None, colsample_bytree=1,\n",
       "        importance_type='split', is_unbalance=True, learning_rate=0.03,\n",
       "        max_bin=425, max_depth=-1, min_child_samples=10,\n",
       "        min_child_weight=5, min_split_gain=0.0, n_estimators=500,\n",
       "        n_jobs=-1, num_leaves=40, objective='binary', random_state=None,\n",
       "        reg_alpha=3, reg_lambda=5, seed=1996, silent=True, subsample=0.8,\n",
       "        subsample_for_bin=200000, subsample_freq=1)"
      ]
     },
     "execution_count": 140,
     "metadata": {},
     "output_type": "execute_result"
    }
   ],
   "source": [
    "import lightgbm as lgb\n",
    "\n",
    "lgb_clf = lgb.LGBMClassifier(boosting_type='gbdt', num_leaves=40, max_depth=-1, learning_rate=0.03, n_estimators=500,\n",
    "                             max_bin=425,  objective='binary', is_unbalance=True, min_child_weight=5, min_child_samples=10, \n",
    "                             subsample=0.8, subsample_freq=1, colsample_bytree=1, reg_alpha=3, reg_lambda=5, seed=1996, \n",
    "                             n_jobs=-1, silent=True)\n",
    "lgb_clf.fit(X_train, y_train)"
   ]
  },
  {
   "cell_type": "code",
   "execution_count": 146,
   "metadata": {
    "scrolled": false
   },
   "outputs": [
    {
     "data": {
      "text/plain": [
       "array(['behavior_count', 'unique_behavior', 'current_MinRepay_mean',\n",
       "       'current_balance_mean', 'pre_payBalance_max',\n",
       "       'pre_payBalance_meam', 'previous_repayment_max',\n",
       "       'previous_repayment_std', 'creditCardQuota_mean',\n",
       "       'cash_Advance_Limit_mean', 'current_bills_std',\n",
       "       'previous_bills_max', 'previous_repayment_median',\n",
       "       'current_bills_max', 'previous_bills_std', 'current_bills_median',\n",
       "       'previous_bills_median', 'previous_repayment_sum',\n",
       "       'browse_behavior_mode', 'current_balance_sum',\n",
       "       'creditCardQuota_max', 'current_bills_sum', 'consume_times_sum',\n",
       "       'previous_bills_sum', 'cash_Advance_Limit_max',\n",
       "       'current_MinRepay_sum', 'previous_bills_min',\n",
       "       'previous_bills_count', 'revolving_interest_max',\n",
       "       'revolving_interest_sum', 'expen_std', 'per_income',\n",
       "       'current_bills_min', 'sex', 'revolving_interest_mean',\n",
       "       'consume_times_ptp', 'education', 'creditCardQuota_min',\n",
       "       'household_type', 'previous_repayment_min', 'income_std',\n",
       "       'per_expen', 'cross_behavior_mode', 'bank_num', 'income_median',\n",
       "       'occupation', 'marriage', 'expen_median', 'available_money_max',\n",
       "       'expen_count', 'adjust_money_sum', 'expen_sum',\n",
       "       'consume_times_median', 'unique_subbehavior',\n",
       "       'available_money_std', 'adjust_money_mean', 'income_count',\n",
       "       'non_wages_median', 'adjust_money_min', 'non_wages_sum',\n",
       "       'available_money_sum', 'income_sum', 'adjust_money_max',\n",
       "       'available_money_min', 'revolving_interest_min',\n",
       "       'available_money_median', 'cross_behavior_nan'], dtype=object)"
      ]
     },
     "execution_count": 146,
     "metadata": {},
     "output_type": "execute_result"
    }
   ],
   "source": [
    "lgb_importance = pd.DataFrame({'features': features, 'importance': lgb_clf.feature_importances_}).sort_values('importance', ascending=False)\n",
    "# lgb_importance.to_csv(\"../data/lgb.csv\", index=False)\n",
    "select_features = lgb_importance[lgb_importance['importance'] > 10]['features'].values\n",
    "select_features"
   ]
  },
  {
   "cell_type": "markdown",
   "metadata": {},
   "source": [
    "### 模型构建"
   ]
  },
  {
   "cell_type": "code",
   "execution_count": 147,
   "metadata": {
    "collapsed": true,
    "scrolled": true
   },
   "outputs": [],
   "source": [
    "data = train_data[select_features].values\n",
    "labels = train_data['isOverdue'].values"
   ]
  },
  {
   "cell_type": "code",
   "execution_count": 148,
   "metadata": {
    "collapsed": true
   },
   "outputs": [],
   "source": [
    "from sklearn import metrics\n",
    "\n",
    "def ks(y_true, y_predict_proba):\n",
    "     # false_postive, true_postive, threshold, 标签1 --> postive\n",
    "    fpr, tpr, thres = metrics.roc_curve(y_true, y_predict_proba, pos_label=1)\n",
    "    return 'ks', abs(fpr - tpr).max(), False"
   ]
  },
  {
   "cell_type": "code",
   "execution_count": null,
   "metadata": {
    "collapsed": true
   },
   "outputs": [],
   "source": [
    "# from sklearn.model_selection import GridSearchCV\n",
    "# import lightgbm as lgb\n",
    "\n",
    "# params = {\n",
    "#     'num_leaves': [10, 20, 30],\n",
    "#     'max_depth': [6, 7, 8],\n",
    "#     'learning_rate': [0.7, 0.5, 0.3],\n",
    "#     'n_estimators': [10, 20, 40]\n",
    "# }\n",
    "\n",
    "# lgb_clf = lgb.LGBMClassifier(boosting_type='gbdt', objective='binary', random_state=1996, n_jobs=-1, silent=True)\n",
    "# grid_search = GridSearchCV(estimator=lgb_clf, param_grid=params, cv=5, verbose=1)\n",
    "# grid_search.fit(data, labels)"
   ]
  },
  {
   "cell_type": "code",
   "execution_count": 149,
   "metadata": {
    "collapsed": true
   },
   "outputs": [],
   "source": [
    "from sklearn.model_selection import train_test_split\n",
    "import lightgbm as lgb\n",
    "\n",
    "X_train, X_test, y_train, y_test = train_test_split(data, labels, test_size=0.3, random_state=1996)"
   ]
  },
  {
   "cell_type": "code",
   "execution_count": 180,
   "metadata": {
    "scrolled": true
   },
   "outputs": [
    {
     "name": "stdout",
     "output_type": "stream",
     "text": [
      "[1]\ttrain's auc: 0.643788\ttrain's ks: 0.211614\tvalid's auc: 0.639341\tvalid's ks: 0.203955\n",
      "[2]\ttrain's auc: 0.647117\ttrain's ks: 0.215305\tvalid's auc: 0.642431\tvalid's ks: 0.207247\n",
      "[3]\ttrain's auc: 0.651219\ttrain's ks: 0.215905\tvalid's auc: 0.643913\tvalid's ks: 0.208396\n",
      "[4]\ttrain's auc: 0.656691\ttrain's ks: 0.220477\tvalid's auc: 0.648382\tvalid's ks: 0.209741\n",
      "[5]\ttrain's auc: 0.661249\ttrain's ks: 0.227042\tvalid's auc: 0.649151\tvalid's ks: 0.212768\n",
      "[6]\ttrain's auc: 0.664595\ttrain's ks: 0.232886\tvalid's auc: 0.652165\tvalid's ks: 0.217534\n",
      "[7]\ttrain's auc: 0.666942\ttrain's ks: 0.237864\tvalid's auc: 0.653074\tvalid's ks: 0.218242\n",
      "[8]\ttrain's auc: 0.66793\ttrain's ks: 0.238336\tvalid's auc: 0.655516\tvalid's ks: 0.22029\n",
      "[9]\ttrain's auc: 0.667797\ttrain's ks: 0.238204\tvalid's auc: 0.655645\tvalid's ks: 0.221132\n",
      "[10]\ttrain's auc: 0.667727\ttrain's ks: 0.237137\tvalid's auc: 0.654902\tvalid's ks: 0.219388\n",
      "[11]\ttrain's auc: 0.670547\ttrain's ks: 0.23831\tvalid's auc: 0.657119\tvalid's ks: 0.223443\n",
      "[12]\ttrain's auc: 0.671113\ttrain's ks: 0.236881\tvalid's auc: 0.656831\tvalid's ks: 0.228272\n",
      "[13]\ttrain's auc: 0.673879\ttrain's ks: 0.245836\tvalid's auc: 0.657993\tvalid's ks: 0.235447\n",
      "[14]\ttrain's auc: 0.675075\ttrain's ks: 0.244453\tvalid's auc: 0.659166\tvalid's ks: 0.236534\n",
      "[15]\ttrain's auc: 0.675348\ttrain's ks: 0.245551\tvalid's auc: 0.659369\tvalid's ks: 0.237935\n",
      "[16]\ttrain's auc: 0.675954\ttrain's ks: 0.245959\tvalid's auc: 0.659719\tvalid's ks: 0.238411\n",
      "[17]\ttrain's auc: 0.676336\ttrain's ks: 0.246644\tvalid's auc: 0.660029\tvalid's ks: 0.238852\n",
      "[18]\ttrain's auc: 0.676834\ttrain's ks: 0.246577\tvalid's auc: 0.66025\tvalid's ks: 0.240073\n",
      "[19]\ttrain's auc: 0.6772\ttrain's ks: 0.247442\tvalid's auc: 0.660139\tvalid's ks: 0.238832\n",
      "[20]\ttrain's auc: 0.6772\ttrain's ks: 0.248814\tvalid's auc: 0.659985\tvalid's ks: 0.239726\n",
      "[21]\ttrain's auc: 0.679584\ttrain's ks: 0.251223\tvalid's auc: 0.661304\tvalid's ks: 0.237643\n",
      "[22]\ttrain's auc: 0.680929\ttrain's ks: 0.251778\tvalid's auc: 0.661944\tvalid's ks: 0.236544\n",
      "[23]\ttrain's auc: 0.681266\ttrain's ks: 0.254266\tvalid's auc: 0.66183\tvalid's ks: 0.23916\n",
      "[24]\ttrain's auc: 0.68301\ttrain's ks: 0.254643\tvalid's auc: 0.662765\tvalid's ks: 0.239391\n",
      "[25]\ttrain's auc: 0.684101\ttrain's ks: 0.256849\tvalid's auc: 0.663162\tvalid's ks: 0.240115\n",
      "[26]\ttrain's auc: 0.685986\ttrain's ks: 0.258642\tvalid's auc: 0.663317\tvalid's ks: 0.241122\n",
      "[27]\ttrain's auc: 0.686875\ttrain's ks: 0.260912\tvalid's auc: 0.663524\tvalid's ks: 0.237741\n",
      "[28]\ttrain's auc: 0.686753\ttrain's ks: 0.261348\tvalid's auc: 0.66377\tvalid's ks: 0.240046\n",
      "[29]\ttrain's auc: 0.687204\ttrain's ks: 0.262732\tvalid's auc: 0.664302\tvalid's ks: 0.240293\n",
      "[30]\ttrain's auc: 0.687187\ttrain's ks: 0.262102\tvalid's auc: 0.664077\tvalid's ks: 0.240681\n",
      "[31]\ttrain's auc: 0.687819\ttrain's ks: 0.264049\tvalid's auc: 0.664109\tvalid's ks: 0.242019\n",
      "[32]\ttrain's auc: 0.688454\ttrain's ks: 0.265172\tvalid's auc: 0.664547\tvalid's ks: 0.242268\n",
      "[33]\ttrain's auc: 0.688926\ttrain's ks: 0.265044\tvalid's auc: 0.664744\tvalid's ks: 0.242204\n",
      "[34]\ttrain's auc: 0.688775\ttrain's ks: 0.264093\tvalid's auc: 0.664742\tvalid's ks: 0.242792\n",
      "[35]\ttrain's auc: 0.688989\ttrain's ks: 0.264563\tvalid's auc: 0.664992\tvalid's ks: 0.242569\n",
      "[36]\ttrain's auc: 0.689431\ttrain's ks: 0.265664\tvalid's auc: 0.665454\tvalid's ks: 0.24297\n",
      "[37]\ttrain's auc: 0.69098\ttrain's ks: 0.268278\tvalid's auc: 0.666046\tvalid's ks: 0.245541\n",
      "[38]\ttrain's auc: 0.691168\ttrain's ks: 0.26988\tvalid's auc: 0.666298\tvalid's ks: 0.245022\n",
      "[39]\ttrain's auc: 0.691561\ttrain's ks: 0.269276\tvalid's auc: 0.666377\tvalid's ks: 0.245777\n",
      "[40]\ttrain's auc: 0.692243\ttrain's ks: 0.270783\tvalid's auc: 0.66648\tvalid's ks: 0.247224\n",
      "[41]\ttrain's auc: 0.692453\ttrain's ks: 0.270361\tvalid's auc: 0.666735\tvalid's ks: 0.247797\n",
      "[42]\ttrain's auc: 0.692802\ttrain's ks: 0.271908\tvalid's auc: 0.666977\tvalid's ks: 0.247508\n",
      "[43]\ttrain's auc: 0.693672\ttrain's ks: 0.273937\tvalid's auc: 0.667333\tvalid's ks: 0.248109\n",
      "[44]\ttrain's auc: 0.693977\ttrain's ks: 0.273023\tvalid's auc: 0.667622\tvalid's ks: 0.248307\n",
      "[45]\ttrain's auc: 0.694281\ttrain's ks: 0.274181\tvalid's auc: 0.667852\tvalid's ks: 0.250341\n",
      "[46]\ttrain's auc: 0.69458\ttrain's ks: 0.275379\tvalid's auc: 0.667776\tvalid's ks: 0.248501\n",
      "[47]\ttrain's auc: 0.694934\ttrain's ks: 0.275774\tvalid's auc: 0.668075\tvalid's ks: 0.250416\n",
      "[48]\ttrain's auc: 0.69575\ttrain's ks: 0.277749\tvalid's auc: 0.668502\tvalid's ks: 0.248185\n",
      "[49]\ttrain's auc: 0.696137\ttrain's ks: 0.278316\tvalid's auc: 0.668779\tvalid's ks: 0.248762\n",
      "[50]\ttrain's auc: 0.696719\ttrain's ks: 0.279241\tvalid's auc: 0.669112\tvalid's ks: 0.249392\n",
      "[51]\ttrain's auc: 0.697383\ttrain's ks: 0.280103\tvalid's auc: 0.669295\tvalid's ks: 0.250202\n",
      "[52]\ttrain's auc: 0.697612\ttrain's ks: 0.280386\tvalid's auc: 0.669421\tvalid's ks: 0.249222\n",
      "[53]\ttrain's auc: 0.69783\ttrain's ks: 0.280338\tvalid's auc: 0.669555\tvalid's ks: 0.25053\n",
      "[54]\ttrain's auc: 0.697908\ttrain's ks: 0.281609\tvalid's auc: 0.669519\tvalid's ks: 0.250397\n",
      "[55]\ttrain's auc: 0.698384\ttrain's ks: 0.282021\tvalid's auc: 0.669849\tvalid's ks: 0.250574\n",
      "[56]\ttrain's auc: 0.698918\ttrain's ks: 0.282578\tvalid's auc: 0.670239\tvalid's ks: 0.249294\n",
      "[57]\ttrain's auc: 0.699877\ttrain's ks: 0.28419\tvalid's auc: 0.670669\tvalid's ks: 0.250652\n",
      "[58]\ttrain's auc: 0.700015\ttrain's ks: 0.284017\tvalid's auc: 0.670713\tvalid's ks: 0.250641\n",
      "[59]\ttrain's auc: 0.700462\ttrain's ks: 0.285485\tvalid's auc: 0.670444\tvalid's ks: 0.251303\n",
      "[60]\ttrain's auc: 0.700771\ttrain's ks: 0.285507\tvalid's auc: 0.670567\tvalid's ks: 0.251644\n",
      "[61]\ttrain's auc: 0.700902\ttrain's ks: 0.286466\tvalid's auc: 0.67064\tvalid's ks: 0.250775\n",
      "[62]\ttrain's auc: 0.701286\ttrain's ks: 0.286959\tvalid's auc: 0.67086\tvalid's ks: 0.251445\n",
      "[63]\ttrain's auc: 0.701464\ttrain's ks: 0.287725\tvalid's auc: 0.670963\tvalid's ks: 0.252426\n",
      "[64]\ttrain's auc: 0.701719\ttrain's ks: 0.288744\tvalid's auc: 0.671099\tvalid's ks: 0.252697\n",
      "[65]\ttrain's auc: 0.702129\ttrain's ks: 0.289839\tvalid's auc: 0.671278\tvalid's ks: 0.253301\n",
      "[66]\ttrain's auc: 0.702602\ttrain's ks: 0.289798\tvalid's auc: 0.671443\tvalid's ks: 0.253599\n",
      "[67]\ttrain's auc: 0.702816\ttrain's ks: 0.290613\tvalid's auc: 0.671498\tvalid's ks: 0.251572\n",
      "[68]\ttrain's auc: 0.703067\ttrain's ks: 0.290447\tvalid's auc: 0.671564\tvalid's ks: 0.252608\n",
      "[69]\ttrain's auc: 0.703635\ttrain's ks: 0.29073\tvalid's auc: 0.671926\tvalid's ks: 0.255223\n",
      "[70]\ttrain's auc: 0.703841\ttrain's ks: 0.290855\tvalid's auc: 0.672013\tvalid's ks: 0.255012\n",
      "[71]\ttrain's auc: 0.704079\ttrain's ks: 0.290295\tvalid's auc: 0.672072\tvalid's ks: 0.254375\n",
      "[72]\ttrain's auc: 0.704102\ttrain's ks: 0.290093\tvalid's auc: 0.671971\tvalid's ks: 0.253178\n",
      "[73]\ttrain's auc: 0.704441\ttrain's ks: 0.290679\tvalid's auc: 0.671995\tvalid's ks: 0.254557\n",
      "[74]\ttrain's auc: 0.705406\ttrain's ks: 0.292153\tvalid's auc: 0.672574\tvalid's ks: 0.256248\n",
      "[75]\ttrain's auc: 0.705787\ttrain's ks: 0.292111\tvalid's auc: 0.672615\tvalid's ks: 0.258023\n",
      "[76]\ttrain's auc: 0.70591\ttrain's ks: 0.291703\tvalid's auc: 0.672677\tvalid's ks: 0.256599\n",
      "[77]\ttrain's auc: 0.706431\ttrain's ks: 0.292929\tvalid's auc: 0.672853\tvalid's ks: 0.25584\n",
      "[78]\ttrain's auc: 0.706689\ttrain's ks: 0.292958\tvalid's auc: 0.673001\tvalid's ks: 0.255606\n",
      "[79]\ttrain's auc: 0.707084\ttrain's ks: 0.293716\tvalid's auc: 0.673297\tvalid's ks: 0.255831\n",
      "[80]\ttrain's auc: 0.707332\ttrain's ks: 0.294103\tvalid's auc: 0.673382\tvalid's ks: 0.25588\n",
      "[81]\ttrain's auc: 0.707473\ttrain's ks: 0.294397\tvalid's auc: 0.673368\tvalid's ks: 0.255446\n",
      "[82]\ttrain's auc: 0.70779\ttrain's ks: 0.294616\tvalid's auc: 0.673439\tvalid's ks: 0.255604\n",
      "[83]\ttrain's auc: 0.708233\ttrain's ks: 0.295999\tvalid's auc: 0.673652\tvalid's ks: 0.255101\n",
      "[84]\ttrain's auc: 0.708443\ttrain's ks: 0.296958\tvalid's auc: 0.673803\tvalid's ks: 0.256359\n",
      "[85]\ttrain's auc: 0.70902\ttrain's ks: 0.297617\tvalid's auc: 0.674116\tvalid's ks: 0.255131\n",
      "[86]\ttrain's auc: 0.70927\ttrain's ks: 0.298171\tvalid's auc: 0.674132\tvalid's ks: 0.25513\n",
      "[87]\ttrain's auc: 0.709268\ttrain's ks: 0.299016\tvalid's auc: 0.674179\tvalid's ks: 0.255038\n",
      "[88]\ttrain's auc: 0.709423\ttrain's ks: 0.299376\tvalid's auc: 0.674286\tvalid's ks: 0.255802\n",
      "[89]\ttrain's auc: 0.709723\ttrain's ks: 0.298796\tvalid's auc: 0.674309\tvalid's ks: 0.255089\n",
      "[90]\ttrain's auc: 0.710042\ttrain's ks: 0.298702\tvalid's auc: 0.674274\tvalid's ks: 0.255633\n",
      "[91]\ttrain's auc: 0.710324\ttrain's ks: 0.298694\tvalid's auc: 0.674214\tvalid's ks: 0.255662\n"
     ]
    },
    {
     "name": "stdout",
     "output_type": "stream",
     "text": [
      "[92]\ttrain's auc: 0.710367\ttrain's ks: 0.299858\tvalid's auc: 0.674118\tvalid's ks: 0.255798\n",
      "[93]\ttrain's auc: 0.710529\ttrain's ks: 0.299465\tvalid's auc: 0.674185\tvalid's ks: 0.255368\n",
      "[94]\ttrain's auc: 0.711112\ttrain's ks: 0.300385\tvalid's auc: 0.674469\tvalid's ks: 0.257031\n",
      "[95]\ttrain's auc: 0.711413\ttrain's ks: 0.300664\tvalid's auc: 0.674786\tvalid's ks: 0.257682\n",
      "[96]\ttrain's auc: 0.711704\ttrain's ks: 0.300969\tvalid's auc: 0.67493\tvalid's ks: 0.256905\n",
      "[97]\ttrain's auc: 0.711869\ttrain's ks: 0.301152\tvalid's auc: 0.674908\tvalid's ks: 0.257256\n",
      "[98]\ttrain's auc: 0.712136\ttrain's ks: 0.30119\tvalid's auc: 0.674992\tvalid's ks: 0.257568\n",
      "[99]\ttrain's auc: 0.712485\ttrain's ks: 0.301237\tvalid's auc: 0.675101\tvalid's ks: 0.257083\n",
      "[100]\ttrain's auc: 0.71264\ttrain's ks: 0.302065\tvalid's auc: 0.675105\tvalid's ks: 0.257214\n",
      "[101]\ttrain's auc: 0.71272\ttrain's ks: 0.301508\tvalid's auc: 0.67503\tvalid's ks: 0.256871\n",
      "[102]\ttrain's auc: 0.712826\ttrain's ks: 0.300797\tvalid's auc: 0.675092\tvalid's ks: 0.258905\n",
      "[103]\ttrain's auc: 0.7134\ttrain's ks: 0.302019\tvalid's auc: 0.675171\tvalid's ks: 0.25931\n",
      "[104]\ttrain's auc: 0.713696\ttrain's ks: 0.302534\tvalid's auc: 0.675247\tvalid's ks: 0.259564\n",
      "[105]\ttrain's auc: 0.713992\ttrain's ks: 0.302685\tvalid's auc: 0.675352\tvalid's ks: 0.25858\n",
      "[106]\ttrain's auc: 0.714258\ttrain's ks: 0.303346\tvalid's auc: 0.675533\tvalid's ks: 0.258671\n",
      "[107]\ttrain's auc: 0.714421\ttrain's ks: 0.303735\tvalid's auc: 0.675512\tvalid's ks: 0.259479\n",
      "[108]\ttrain's auc: 0.714456\ttrain's ks: 0.303519\tvalid's auc: 0.675521\tvalid's ks: 0.259344\n",
      "[109]\ttrain's auc: 0.714667\ttrain's ks: 0.303452\tvalid's auc: 0.675465\tvalid's ks: 0.257853\n",
      "[110]\ttrain's auc: 0.715097\ttrain's ks: 0.304405\tvalid's auc: 0.67574\tvalid's ks: 0.258814\n",
      "[111]\ttrain's auc: 0.715448\ttrain's ks: 0.304174\tvalid's auc: 0.675822\tvalid's ks: 0.259067\n",
      "[112]\ttrain's auc: 0.715718\ttrain's ks: 0.304978\tvalid's auc: 0.675878\tvalid's ks: 0.25817\n",
      "[113]\ttrain's auc: 0.715916\ttrain's ks: 0.304236\tvalid's auc: 0.67608\tvalid's ks: 0.257971\n",
      "[114]\ttrain's auc: 0.716091\ttrain's ks: 0.305305\tvalid's auc: 0.676195\tvalid's ks: 0.258537\n",
      "[115]\ttrain's auc: 0.716564\ttrain's ks: 0.307057\tvalid's auc: 0.676415\tvalid's ks: 0.257809\n",
      "[116]\ttrain's auc: 0.717106\ttrain's ks: 0.307372\tvalid's auc: 0.676584\tvalid's ks: 0.26043\n",
      "[117]\ttrain's auc: 0.717338\ttrain's ks: 0.307881\tvalid's auc: 0.676728\tvalid's ks: 0.260223\n",
      "[118]\ttrain's auc: 0.717501\ttrain's ks: 0.308285\tvalid's auc: 0.676743\tvalid's ks: 0.260063\n",
      "[119]\ttrain's auc: 0.717654\ttrain's ks: 0.307863\tvalid's auc: 0.676626\tvalid's ks: 0.260085\n",
      "[120]\ttrain's auc: 0.717741\ttrain's ks: 0.307832\tvalid's auc: 0.676685\tvalid's ks: 0.260294\n",
      "[121]\ttrain's auc: 0.718048\ttrain's ks: 0.308348\tvalid's auc: 0.676737\tvalid's ks: 0.26021\n",
      "[122]\ttrain's auc: 0.718327\ttrain's ks: 0.308899\tvalid's auc: 0.676814\tvalid's ks: 0.261012\n",
      "[123]\ttrain's auc: 0.718433\ttrain's ks: 0.308368\tvalid's auc: 0.676802\tvalid's ks: 0.259502\n",
      "[124]\ttrain's auc: 0.718587\ttrain's ks: 0.30868\tvalid's auc: 0.676882\tvalid's ks: 0.260682\n",
      "[125]\ttrain's auc: 0.718929\ttrain's ks: 0.30975\tvalid's auc: 0.677094\tvalid's ks: 0.262195\n",
      "[126]\ttrain's auc: 0.719303\ttrain's ks: 0.31054\tvalid's auc: 0.67737\tvalid's ks: 0.262312\n",
      "[127]\ttrain's auc: 0.719429\ttrain's ks: 0.311361\tvalid's auc: 0.677355\tvalid's ks: 0.262404\n",
      "[128]\ttrain's auc: 0.719761\ttrain's ks: 0.311175\tvalid's auc: 0.677528\tvalid's ks: 0.262478\n",
      "[129]\ttrain's auc: 0.719963\ttrain's ks: 0.311536\tvalid's auc: 0.677704\tvalid's ks: 0.262664\n",
      "[130]\ttrain's auc: 0.720493\ttrain's ks: 0.312522\tvalid's auc: 0.677897\tvalid's ks: 0.26329\n",
      "[131]\ttrain's auc: 0.720701\ttrain's ks: 0.312789\tvalid's auc: 0.677924\tvalid's ks: 0.262199\n",
      "[132]\ttrain's auc: 0.721003\ttrain's ks: 0.313406\tvalid's auc: 0.678061\tvalid's ks: 0.262359\n",
      "[133]\ttrain's auc: 0.721111\ttrain's ks: 0.313428\tvalid's auc: 0.67815\tvalid's ks: 0.263852\n",
      "[134]\ttrain's auc: 0.721634\ttrain's ks: 0.314377\tvalid's auc: 0.678453\tvalid's ks: 0.264634\n",
      "[135]\ttrain's auc: 0.721982\ttrain's ks: 0.315054\tvalid's auc: 0.678558\tvalid's ks: 0.263897\n",
      "[136]\ttrain's auc: 0.722002\ttrain's ks: 0.315394\tvalid's auc: 0.678547\tvalid's ks: 0.263438\n",
      "[137]\ttrain's auc: 0.722218\ttrain's ks: 0.315595\tvalid's auc: 0.678629\tvalid's ks: 0.264173\n",
      "[138]\ttrain's auc: 0.722257\ttrain's ks: 0.315522\tvalid's auc: 0.678683\tvalid's ks: 0.264494\n",
      "[139]\ttrain's auc: 0.722773\ttrain's ks: 0.316739\tvalid's auc: 0.678866\tvalid's ks: 0.263462\n",
      "[140]\ttrain's auc: 0.722927\ttrain's ks: 0.316339\tvalid's auc: 0.678947\tvalid's ks: 0.263473\n",
      "[141]\ttrain's auc: 0.723054\ttrain's ks: 0.317121\tvalid's auc: 0.679062\tvalid's ks: 0.264805\n",
      "[142]\ttrain's auc: 0.723392\ttrain's ks: 0.31789\tvalid's auc: 0.679273\tvalid's ks: 0.263284\n",
      "[143]\ttrain's auc: 0.72347\ttrain's ks: 0.317972\tvalid's auc: 0.679267\tvalid's ks: 0.262738\n",
      "[144]\ttrain's auc: 0.723802\ttrain's ks: 0.318133\tvalid's auc: 0.679417\tvalid's ks: 0.263967\n",
      "[145]\ttrain's auc: 0.724019\ttrain's ks: 0.318694\tvalid's auc: 0.679527\tvalid's ks: 0.265876\n",
      "[146]\ttrain's auc: 0.724245\ttrain's ks: 0.318778\tvalid's auc: 0.679516\tvalid's ks: 0.265297\n",
      "[147]\ttrain's auc: 0.724537\ttrain's ks: 0.319825\tvalid's auc: 0.6796\tvalid's ks: 0.265896\n",
      "[148]\ttrain's auc: 0.724926\ttrain's ks: 0.320413\tvalid's auc: 0.67966\tvalid's ks: 0.26797\n",
      "[149]\ttrain's auc: 0.725076\ttrain's ks: 0.321248\tvalid's auc: 0.679642\tvalid's ks: 0.267509\n",
      "[150]\ttrain's auc: 0.725145\ttrain's ks: 0.321124\tvalid's auc: 0.67971\tvalid's ks: 0.266593\n",
      "[151]\ttrain's auc: 0.725435\ttrain's ks: 0.321901\tvalid's auc: 0.679973\tvalid's ks: 0.267288\n",
      "[152]\ttrain's auc: 0.725594\ttrain's ks: 0.321551\tvalid's auc: 0.67996\tvalid's ks: 0.267371\n",
      "[153]\ttrain's auc: 0.725874\ttrain's ks: 0.321881\tvalid's auc: 0.68007\tvalid's ks: 0.268014\n",
      "[154]\ttrain's auc: 0.726079\ttrain's ks: 0.322028\tvalid's auc: 0.680107\tvalid's ks: 0.267714\n",
      "[155]\ttrain's auc: 0.726541\ttrain's ks: 0.322919\tvalid's auc: 0.680237\tvalid's ks: 0.269672\n",
      "[156]\ttrain's auc: 0.727025\ttrain's ks: 0.324239\tvalid's auc: 0.680457\tvalid's ks: 0.270997\n",
      "[157]\ttrain's auc: 0.727274\ttrain's ks: 0.324069\tvalid's auc: 0.680597\tvalid's ks: 0.270859\n",
      "[158]\ttrain's auc: 0.727671\ttrain's ks: 0.324894\tvalid's auc: 0.680745\tvalid's ks: 0.270836\n",
      "[159]\ttrain's auc: 0.728068\ttrain's ks: 0.325672\tvalid's auc: 0.680858\tvalid's ks: 0.269021\n",
      "[160]\ttrain's auc: 0.728235\ttrain's ks: 0.325981\tvalid's auc: 0.680832\tvalid's ks: 0.269155\n",
      "[161]\ttrain's auc: 0.728546\ttrain's ks: 0.326805\tvalid's auc: 0.681068\tvalid's ks: 0.269591\n",
      "[162]\ttrain's auc: 0.728887\ttrain's ks: 0.32792\tvalid's auc: 0.681182\tvalid's ks: 0.270242\n",
      "[163]\ttrain's auc: 0.729099\ttrain's ks: 0.328503\tvalid's auc: 0.681303\tvalid's ks: 0.270431\n",
      "[164]\ttrain's auc: 0.729366\ttrain's ks: 0.328345\tvalid's auc: 0.681365\tvalid's ks: 0.269877\n",
      "[165]\ttrain's auc: 0.729898\ttrain's ks: 0.32942\tvalid's auc: 0.681599\tvalid's ks: 0.270291\n",
      "[166]\ttrain's auc: 0.730061\ttrain's ks: 0.329348\tvalid's auc: 0.681711\tvalid's ks: 0.270816\n",
      "[167]\ttrain's auc: 0.730304\ttrain's ks: 0.329404\tvalid's auc: 0.681766\tvalid's ks: 0.270939\n",
      "[168]\ttrain's auc: 0.730717\ttrain's ks: 0.330195\tvalid's auc: 0.682048\tvalid's ks: 0.271483\n",
      "[169]\ttrain's auc: 0.730932\ttrain's ks: 0.330451\tvalid's auc: 0.682202\tvalid's ks: 0.271786\n",
      "[170]\ttrain's auc: 0.731095\ttrain's ks: 0.33059\tvalid's auc: 0.682353\tvalid's ks: 0.273233\n",
      "[171]\ttrain's auc: 0.731061\ttrain's ks: 0.330567\tvalid's auc: 0.682368\tvalid's ks: 0.272981\n",
      "[172]\ttrain's auc: 0.731323\ttrain's ks: 0.330904\tvalid's auc: 0.682363\tvalid's ks: 0.272505\n",
      "[173]\ttrain's auc: 0.73165\ttrain's ks: 0.331549\tvalid's auc: 0.68242\tvalid's ks: 0.273623\n",
      "[174]\ttrain's auc: 0.731963\ttrain's ks: 0.331395\tvalid's auc: 0.682497\tvalid's ks: 0.273645\n",
      "[175]\ttrain's auc: 0.732127\ttrain's ks: 0.332343\tvalid's auc: 0.682629\tvalid's ks: 0.27348\n",
      "[176]\ttrain's auc: 0.732407\ttrain's ks: 0.333211\tvalid's auc: 0.682831\tvalid's ks: 0.273848\n",
      "[177]\ttrain's auc: 0.732625\ttrain's ks: 0.332851\tvalid's auc: 0.682791\tvalid's ks: 0.274391\n",
      "[178]\ttrain's auc: 0.732603\ttrain's ks: 0.332861\tvalid's auc: 0.682704\tvalid's ks: 0.275214\n",
      "[179]\ttrain's auc: 0.732752\ttrain's ks: 0.332933\tvalid's auc: 0.682802\tvalid's ks: 0.273334\n",
      "[180]\ttrain's auc: 0.732978\ttrain's ks: 0.33365\tvalid's auc: 0.682774\tvalid's ks: 0.273398\n",
      "[181]\ttrain's auc: 0.733094\ttrain's ks: 0.33387\tvalid's auc: 0.682731\tvalid's ks: 0.272808\n",
      "[182]\ttrain's auc: 0.733333\ttrain's ks: 0.334498\tvalid's auc: 0.682824\tvalid's ks: 0.272804\n",
      "[183]\ttrain's auc: 0.733592\ttrain's ks: 0.334497\tvalid's auc: 0.682891\tvalid's ks: 0.2723\n"
     ]
    },
    {
     "name": "stdout",
     "output_type": "stream",
     "text": [
      "[184]\ttrain's auc: 0.733894\ttrain's ks: 0.334758\tvalid's auc: 0.683139\tvalid's ks: 0.274184\n",
      "[185]\ttrain's auc: 0.734201\ttrain's ks: 0.335719\tvalid's auc: 0.683333\tvalid's ks: 0.274545\n",
      "[186]\ttrain's auc: 0.734394\ttrain's ks: 0.33607\tvalid's auc: 0.68335\tvalid's ks: 0.27498\n",
      "[187]\ttrain's auc: 0.734482\ttrain's ks: 0.336168\tvalid's auc: 0.683353\tvalid's ks: 0.274773\n",
      "[188]\ttrain's auc: 0.734739\ttrain's ks: 0.336071\tvalid's auc: 0.683432\tvalid's ks: 0.275026\n",
      "[189]\ttrain's auc: 0.735203\ttrain's ks: 0.337247\tvalid's auc: 0.683637\tvalid's ks: 0.275329\n",
      "[190]\ttrain's auc: 0.735501\ttrain's ks: 0.337427\tvalid's auc: 0.683774\tvalid's ks: 0.275427\n",
      "[191]\ttrain's auc: 0.735739\ttrain's ks: 0.337408\tvalid's auc: 0.683823\tvalid's ks: 0.275744\n",
      "[192]\ttrain's auc: 0.735773\ttrain's ks: 0.338063\tvalid's auc: 0.683787\tvalid's ks: 0.275699\n",
      "[193]\ttrain's auc: 0.736085\ttrain's ks: 0.337671\tvalid's auc: 0.68385\tvalid's ks: 0.275928\n",
      "[194]\ttrain's auc: 0.736269\ttrain's ks: 0.338071\tvalid's auc: 0.683898\tvalid's ks: 0.274561\n",
      "[195]\ttrain's auc: 0.736622\ttrain's ks: 0.339114\tvalid's auc: 0.684066\tvalid's ks: 0.274561\n",
      "[196]\ttrain's auc: 0.736801\ttrain's ks: 0.338616\tvalid's auc: 0.684162\tvalid's ks: 0.274282\n",
      "[197]\ttrain's auc: 0.737094\ttrain's ks: 0.338432\tvalid's auc: 0.684202\tvalid's ks: 0.274311\n",
      "[198]\ttrain's auc: 0.737406\ttrain's ks: 0.339068\tvalid's auc: 0.684307\tvalid's ks: 0.273746\n",
      "[199]\ttrain's auc: 0.737686\ttrain's ks: 0.339468\tvalid's auc: 0.684424\tvalid's ks: 0.274759\n",
      "[200]\ttrain's auc: 0.737921\ttrain's ks: 0.340149\tvalid's auc: 0.684546\tvalid's ks: 0.274841\n",
      "[201]\ttrain's auc: 0.737979\ttrain's ks: 0.340483\tvalid's auc: 0.684543\tvalid's ks: 0.274496\n",
      "[202]\ttrain's auc: 0.738372\ttrain's ks: 0.3407\tvalid's auc: 0.684653\tvalid's ks: 0.273764\n",
      "[203]\ttrain's auc: 0.738536\ttrain's ks: 0.340739\tvalid's auc: 0.684643\tvalid's ks: 0.273501\n",
      "[204]\ttrain's auc: 0.738619\ttrain's ks: 0.340584\tvalid's auc: 0.684708\tvalid's ks: 0.273891\n",
      "[205]\ttrain's auc: 0.73895\ttrain's ks: 0.341511\tvalid's auc: 0.684952\tvalid's ks: 0.27393\n",
      "[206]\ttrain's auc: 0.739137\ttrain's ks: 0.341734\tvalid's auc: 0.685079\tvalid's ks: 0.274366\n",
      "[207]\ttrain's auc: 0.73945\ttrain's ks: 0.342621\tvalid's auc: 0.685235\tvalid's ks: 0.276056\n",
      "[208]\ttrain's auc: 0.739825\ttrain's ks: 0.343325\tvalid's auc: 0.685319\tvalid's ks: 0.276239\n",
      "[209]\ttrain's auc: 0.73996\ttrain's ks: 0.34344\tvalid's auc: 0.68543\tvalid's ks: 0.276883\n",
      "[210]\ttrain's auc: 0.740177\ttrain's ks: 0.343511\tvalid's auc: 0.685404\tvalid's ks: 0.27751\n",
      "[211]\ttrain's auc: 0.740426\ttrain's ks: 0.344415\tvalid's auc: 0.685521\tvalid's ks: 0.27801\n",
      "[212]\ttrain's auc: 0.740661\ttrain's ks: 0.344052\tvalid's auc: 0.685576\tvalid's ks: 0.277301\n",
      "[213]\ttrain's auc: 0.74087\ttrain's ks: 0.344792\tvalid's auc: 0.685677\tvalid's ks: 0.277649\n",
      "[214]\ttrain's auc: 0.741118\ttrain's ks: 0.345314\tvalid's auc: 0.685813\tvalid's ks: 0.278079\n",
      "[215]\ttrain's auc: 0.74137\ttrain's ks: 0.345569\tvalid's auc: 0.685741\tvalid's ks: 0.278658\n",
      "[216]\ttrain's auc: 0.741643\ttrain's ks: 0.345769\tvalid's auc: 0.685795\tvalid's ks: 0.278346\n",
      "[217]\ttrain's auc: 0.741869\ttrain's ks: 0.346853\tvalid's auc: 0.685827\tvalid's ks: 0.278793\n",
      "[218]\ttrain's auc: 0.74212\ttrain's ks: 0.347027\tvalid's auc: 0.685933\tvalid's ks: 0.278871\n",
      "[219]\ttrain's auc: 0.742337\ttrain's ks: 0.347872\tvalid's auc: 0.686077\tvalid's ks: 0.279232\n",
      "[220]\ttrain's auc: 0.742545\ttrain's ks: 0.348466\tvalid's auc: 0.68612\tvalid's ks: 0.278379\n",
      "[221]\ttrain's auc: 0.742777\ttrain's ks: 0.348711\tvalid's auc: 0.686172\tvalid's ks: 0.278709\n",
      "[222]\ttrain's auc: 0.742945\ttrain's ks: 0.348708\tvalid's auc: 0.686243\tvalid's ks: 0.278103\n",
      "[223]\ttrain's auc: 0.743077\ttrain's ks: 0.348324\tvalid's auc: 0.686253\tvalid's ks: 0.277689\n",
      "[224]\ttrain's auc: 0.743265\ttrain's ks: 0.348248\tvalid's auc: 0.686374\tvalid's ks: 0.277918\n",
      "[225]\ttrain's auc: 0.743558\ttrain's ks: 0.348678\tvalid's auc: 0.686523\tvalid's ks: 0.277657\n",
      "[226]\ttrain's auc: 0.743797\ttrain's ks: 0.349965\tvalid's auc: 0.686561\tvalid's ks: 0.278277\n",
      "[227]\ttrain's auc: 0.744005\ttrain's ks: 0.349277\tvalid's auc: 0.686661\tvalid's ks: 0.279197\n",
      "[228]\ttrain's auc: 0.744278\ttrain's ks: 0.349744\tvalid's auc: 0.686686\tvalid's ks: 0.278691\n",
      "[229]\ttrain's auc: 0.744582\ttrain's ks: 0.350365\tvalid's auc: 0.686649\tvalid's ks: 0.278432\n",
      "[230]\ttrain's auc: 0.744855\ttrain's ks: 0.352351\tvalid's auc: 0.686745\tvalid's ks: 0.278958\n",
      "[231]\ttrain's auc: 0.745082\ttrain's ks: 0.351624\tvalid's auc: 0.686845\tvalid's ks: 0.278076\n",
      "[232]\ttrain's auc: 0.745318\ttrain's ks: 0.351939\tvalid's auc: 0.686977\tvalid's ks: 0.278771\n",
      "[233]\ttrain's auc: 0.745634\ttrain's ks: 0.353005\tvalid's auc: 0.687079\tvalid's ks: 0.278757\n",
      "[234]\ttrain's auc: 0.745762\ttrain's ks: 0.353058\tvalid's auc: 0.687\tvalid's ks: 0.278815\n",
      "[235]\ttrain's auc: 0.74606\ttrain's ks: 0.353562\tvalid's auc: 0.687083\tvalid's ks: 0.278949\n",
      "[236]\ttrain's auc: 0.746349\ttrain's ks: 0.353621\tvalid's auc: 0.68716\tvalid's ks: 0.279112\n",
      "[237]\ttrain's auc: 0.74663\ttrain's ks: 0.354595\tvalid's auc: 0.687231\tvalid's ks: 0.279056\n",
      "[238]\ttrain's auc: 0.746775\ttrain's ks: 0.354647\tvalid's auc: 0.687303\tvalid's ks: 0.27929\n",
      "[239]\ttrain's auc: 0.747014\ttrain's ks: 0.355051\tvalid's auc: 0.687379\tvalid's ks: 0.279659\n",
      "[240]\ttrain's auc: 0.747278\ttrain's ks: 0.355065\tvalid's auc: 0.687428\tvalid's ks: 0.279336\n",
      "[241]\ttrain's auc: 0.7475\ttrain's ks: 0.355319\tvalid's auc: 0.687474\tvalid's ks: 0.278142\n",
      "[242]\ttrain's auc: 0.747787\ttrain's ks: 0.356102\tvalid's auc: 0.687509\tvalid's ks: 0.278465\n",
      "[243]\ttrain's auc: 0.747975\ttrain's ks: 0.356163\tvalid's auc: 0.687586\tvalid's ks: 0.277822\n",
      "[244]\ttrain's auc: 0.748226\ttrain's ks: 0.355963\tvalid's auc: 0.6876\tvalid's ks: 0.277824\n",
      "[245]\ttrain's auc: 0.74834\ttrain's ks: 0.356317\tvalid's auc: 0.687628\tvalid's ks: 0.278546\n",
      "[246]\ttrain's auc: 0.748557\ttrain's ks: 0.356453\tvalid's auc: 0.687697\tvalid's ks: 0.277868\n",
      "[247]\ttrain's auc: 0.74883\ttrain's ks: 0.357441\tvalid's auc: 0.687828\tvalid's ks: 0.278675\n",
      "[248]\ttrain's auc: 0.749147\ttrain's ks: 0.357458\tvalid's auc: 0.687929\tvalid's ks: 0.279018\n",
      "[249]\ttrain's auc: 0.749412\ttrain's ks: 0.357821\tvalid's auc: 0.688059\tvalid's ks: 0.279847\n",
      "[250]\ttrain's auc: 0.749558\ttrain's ks: 0.358597\tvalid's auc: 0.6881\tvalid's ks: 0.279982\n",
      "[251]\ttrain's auc: 0.749677\ttrain's ks: 0.358462\tvalid's auc: 0.688097\tvalid's ks: 0.279706\n",
      "[252]\ttrain's auc: 0.749726\ttrain's ks: 0.358305\tvalid's auc: 0.688126\tvalid's ks: 0.279568\n",
      "[253]\ttrain's auc: 0.749954\ttrain's ks: 0.358524\tvalid's auc: 0.68818\tvalid's ks: 0.279152\n",
      "[254]\ttrain's auc: 0.750046\ttrain's ks: 0.358446\tvalid's auc: 0.688163\tvalid's ks: 0.27914\n",
      "[255]\ttrain's auc: 0.75024\ttrain's ks: 0.358465\tvalid's auc: 0.688175\tvalid's ks: 0.279991\n",
      "[256]\ttrain's auc: 0.750508\ttrain's ks: 0.359097\tvalid's auc: 0.688294\tvalid's ks: 0.279728\n",
      "[257]\ttrain's auc: 0.750823\ttrain's ks: 0.359918\tvalid's auc: 0.688397\tvalid's ks: 0.279354\n",
      "[258]\ttrain's auc: 0.751078\ttrain's ks: 0.359623\tvalid's auc: 0.688461\tvalid's ks: 0.280773\n",
      "[259]\ttrain's auc: 0.751389\ttrain's ks: 0.360144\tvalid's auc: 0.688524\tvalid's ks: 0.279765\n",
      "[260]\ttrain's auc: 0.751678\ttrain's ks: 0.360595\tvalid's auc: 0.688744\tvalid's ks: 0.279738\n",
      "[261]\ttrain's auc: 0.751955\ttrain's ks: 0.360755\tvalid's auc: 0.688845\tvalid's ks: 0.280664\n",
      "[262]\ttrain's auc: 0.752105\ttrain's ks: 0.361387\tvalid's auc: 0.688737\tvalid's ks: 0.281323\n",
      "[263]\ttrain's auc: 0.752291\ttrain's ks: 0.361196\tvalid's auc: 0.688738\tvalid's ks: 0.279931\n",
      "[264]\ttrain's auc: 0.752485\ttrain's ks: 0.36133\tvalid's auc: 0.6888\tvalid's ks: 0.280619\n",
      "[265]\ttrain's auc: 0.752717\ttrain's ks: 0.362038\tvalid's auc: 0.688795\tvalid's ks: 0.280727\n",
      "[266]\ttrain's auc: 0.753025\ttrain's ks: 0.361831\tvalid's auc: 0.688908\tvalid's ks: 0.280651\n",
      "[267]\ttrain's auc: 0.753196\ttrain's ks: 0.362111\tvalid's auc: 0.688917\tvalid's ks: 0.280895\n",
      "[268]\ttrain's auc: 0.753382\ttrain's ks: 0.362779\tvalid's auc: 0.688988\tvalid's ks: 0.280012\n",
      "[269]\ttrain's auc: 0.753562\ttrain's ks: 0.363146\tvalid's auc: 0.689041\tvalid's ks: 0.280355\n",
      "[270]\ttrain's auc: 0.75371\ttrain's ks: 0.363332\tvalid's auc: 0.689002\tvalid's ks: 0.280912\n",
      "[271]\ttrain's auc: 0.753887\ttrain's ks: 0.36383\tvalid's auc: 0.689018\tvalid's ks: 0.280985\n",
      "[272]\ttrain's auc: 0.754039\ttrain's ks: 0.364164\tvalid's auc: 0.689052\tvalid's ks: 0.280924\n",
      "[273]\ttrain's auc: 0.754192\ttrain's ks: 0.363892\tvalid's auc: 0.689047\tvalid's ks: 0.280225\n"
     ]
    },
    {
     "name": "stdout",
     "output_type": "stream",
     "text": [
      "[274]\ttrain's auc: 0.754252\ttrain's ks: 0.363703\tvalid's auc: 0.68908\tvalid's ks: 0.2807\n",
      "[275]\ttrain's auc: 0.754345\ttrain's ks: 0.364125\tvalid's auc: 0.689108\tvalid's ks: 0.280771\n",
      "[276]\ttrain's auc: 0.754548\ttrain's ks: 0.364364\tvalid's auc: 0.689188\tvalid's ks: 0.281164\n",
      "[277]\ttrain's auc: 0.75473\ttrain's ks: 0.36499\tvalid's auc: 0.689206\tvalid's ks: 0.280934\n",
      "[278]\ttrain's auc: 0.75489\ttrain's ks: 0.364904\tvalid's auc: 0.689233\tvalid's ks: 0.281391\n",
      "[279]\ttrain's auc: 0.755303\ttrain's ks: 0.36588\tvalid's auc: 0.689454\tvalid's ks: 0.282025\n",
      "[280]\ttrain's auc: 0.755539\ttrain's ks: 0.366649\tvalid's auc: 0.689453\tvalid's ks: 0.281793\n",
      "[281]\ttrain's auc: 0.755708\ttrain's ks: 0.36759\tvalid's auc: 0.689507\tvalid's ks: 0.28276\n",
      "[282]\ttrain's auc: 0.755981\ttrain's ks: 0.368056\tvalid's auc: 0.68955\tvalid's ks: 0.282686\n",
      "[283]\ttrain's auc: 0.756296\ttrain's ks: 0.368072\tvalid's auc: 0.689611\tvalid's ks: 0.282673\n",
      "[284]\ttrain's auc: 0.756498\ttrain's ks: 0.368351\tvalid's auc: 0.689634\tvalid's ks: 0.283595\n",
      "[285]\ttrain's auc: 0.756676\ttrain's ks: 0.368557\tvalid's auc: 0.689606\tvalid's ks: 0.283415\n",
      "[286]\ttrain's auc: 0.756929\ttrain's ks: 0.368554\tvalid's auc: 0.689601\tvalid's ks: 0.283373\n",
      "[287]\ttrain's auc: 0.757204\ttrain's ks: 0.368826\tvalid's auc: 0.689649\tvalid's ks: 0.283647\n",
      "[288]\ttrain's auc: 0.757512\ttrain's ks: 0.369456\tvalid's auc: 0.689685\tvalid's ks: 0.282988\n",
      "[289]\ttrain's auc: 0.757778\ttrain's ks: 0.369424\tvalid's auc: 0.689784\tvalid's ks: 0.28285\n",
      "[290]\ttrain's auc: 0.758079\ttrain's ks: 0.370702\tvalid's auc: 0.689868\tvalid's ks: 0.283217\n",
      "[291]\ttrain's auc: 0.758311\ttrain's ks: 0.371155\tvalid's auc: 0.689949\tvalid's ks: 0.283348\n",
      "[292]\ttrain's auc: 0.758511\ttrain's ks: 0.371513\tvalid's auc: 0.68996\tvalid's ks: 0.284865\n",
      "[293]\ttrain's auc: 0.75862\ttrain's ks: 0.371596\tvalid's auc: 0.689976\tvalid's ks: 0.284406\n",
      "[294]\ttrain's auc: 0.758829\ttrain's ks: 0.371919\tvalid's auc: 0.690049\tvalid's ks: 0.284912\n",
      "[295]\ttrain's auc: 0.75904\ttrain's ks: 0.372138\tvalid's auc: 0.690194\tvalid's ks: 0.284683\n",
      "[296]\ttrain's auc: 0.759296\ttrain's ks: 0.372528\tvalid's auc: 0.690224\tvalid's ks: 0.283928\n",
      "[297]\ttrain's auc: 0.759408\ttrain's ks: 0.372521\tvalid's auc: 0.690272\tvalid's ks: 0.284086\n",
      "[298]\ttrain's auc: 0.759711\ttrain's ks: 0.373375\tvalid's auc: 0.690286\tvalid's ks: 0.284246\n",
      "[299]\ttrain's auc: 0.759924\ttrain's ks: 0.373638\tvalid's auc: 0.69032\tvalid's ks: 0.284705\n",
      "[300]\ttrain's auc: 0.760017\ttrain's ks: 0.373963\tvalid's auc: 0.690371\tvalid's ks: 0.284936\n",
      "[301]\ttrain's auc: 0.760203\ttrain's ks: 0.374471\tvalid's auc: 0.690448\tvalid's ks: 0.284293\n",
      "[302]\ttrain's auc: 0.760326\ttrain's ks: 0.374761\tvalid's auc: 0.690479\tvalid's ks: 0.283279\n",
      "[303]\ttrain's auc: 0.760437\ttrain's ks: 0.37512\tvalid's auc: 0.690471\tvalid's ks: 0.283654\n",
      "[304]\ttrain's auc: 0.760717\ttrain's ks: 0.375631\tvalid's auc: 0.690618\tvalid's ks: 0.284251\n",
      "[305]\ttrain's auc: 0.760925\ttrain's ks: 0.375817\tvalid's auc: 0.690603\tvalid's ks: 0.283424\n",
      "[306]\ttrain's auc: 0.761131\ttrain's ks: 0.375861\tvalid's auc: 0.690646\tvalid's ks: 0.28389\n",
      "[307]\ttrain's auc: 0.76137\ttrain's ks: 0.376703\tvalid's auc: 0.690783\tvalid's ks: 0.283928\n",
      "[308]\ttrain's auc: 0.761592\ttrain's ks: 0.376496\tvalid's auc: 0.690866\tvalid's ks: 0.284872\n",
      "[309]\ttrain's auc: 0.761771\ttrain's ks: 0.37712\tvalid's auc: 0.690923\tvalid's ks: 0.285217\n",
      "[310]\ttrain's auc: 0.762001\ttrain's ks: 0.377398\tvalid's auc: 0.690907\tvalid's ks: 0.283992\n",
      "[311]\ttrain's auc: 0.762087\ttrain's ks: 0.377899\tvalid's auc: 0.690936\tvalid's ks: 0.284113\n",
      "[312]\ttrain's auc: 0.762299\ttrain's ks: 0.377922\tvalid's auc: 0.69098\tvalid's ks: 0.28425\n",
      "[313]\ttrain's auc: 0.762508\ttrain's ks: 0.378636\tvalid's auc: 0.691052\tvalid's ks: 0.283683\n",
      "[314]\ttrain's auc: 0.762619\ttrain's ks: 0.378453\tvalid's auc: 0.691023\tvalid's ks: 0.283685\n",
      "[315]\ttrain's auc: 0.762793\ttrain's ks: 0.3791\tvalid's auc: 0.690995\tvalid's ks: 0.283306\n",
      "[316]\ttrain's auc: 0.762919\ttrain's ks: 0.379579\tvalid's auc: 0.690955\tvalid's ks: 0.283903\n",
      "[317]\ttrain's auc: 0.763151\ttrain's ks: 0.379769\tvalid's auc: 0.691\tvalid's ks: 0.2845\n",
      "[318]\ttrain's auc: 0.763212\ttrain's ks: 0.37971\tvalid's auc: 0.690991\tvalid's ks: 0.284293\n",
      "[319]\ttrain's auc: 0.763387\ttrain's ks: 0.379277\tvalid's auc: 0.691051\tvalid's ks: 0.2845\n",
      "[320]\ttrain's auc: 0.763637\ttrain's ks: 0.379444\tvalid's auc: 0.691125\tvalid's ks: 0.283831\n",
      "[321]\ttrain's auc: 0.763742\ttrain's ks: 0.380223\tvalid's auc: 0.691121\tvalid's ks: 0.284382\n",
      "[322]\ttrain's auc: 0.763901\ttrain's ks: 0.380481\tvalid's auc: 0.691034\tvalid's ks: 0.28452\n",
      "[323]\ttrain's auc: 0.764043\ttrain's ks: 0.380338\tvalid's auc: 0.691039\tvalid's ks: 0.284703\n",
      "[324]\ttrain's auc: 0.764144\ttrain's ks: 0.380377\tvalid's auc: 0.691038\tvalid's ks: 0.284106\n",
      "[325]\ttrain's auc: 0.764345\ttrain's ks: 0.381215\tvalid's auc: 0.691092\tvalid's ks: 0.284128\n",
      "[326]\ttrain's auc: 0.764637\ttrain's ks: 0.381808\tvalid's auc: 0.691174\tvalid's ks: 0.284266\n",
      "[327]\ttrain's auc: 0.764808\ttrain's ks: 0.382604\tvalid's auc: 0.691162\tvalid's ks: 0.283943\n",
      "[328]\ttrain's auc: 0.765007\ttrain's ks: 0.382993\tvalid's auc: 0.691197\tvalid's ks: 0.283783\n",
      "[329]\ttrain's auc: 0.76515\ttrain's ks: 0.38295\tvalid's auc: 0.691258\tvalid's ks: 0.284164\n",
      "[330]\ttrain's auc: 0.765307\ttrain's ks: 0.383211\tvalid's auc: 0.691247\tvalid's ks: 0.2846\n",
      "[331]\ttrain's auc: 0.765517\ttrain's ks: 0.383968\tvalid's auc: 0.69126\tvalid's ks: 0.283845\n",
      "[332]\ttrain's auc: 0.765741\ttrain's ks: 0.385046\tvalid's auc: 0.691292\tvalid's ks: 0.284309\n",
      "[333]\ttrain's auc: 0.766073\ttrain's ks: 0.385308\tvalid's auc: 0.691319\tvalid's ks: 0.285001\n",
      "[334]\ttrain's auc: 0.766377\ttrain's ks: 0.385459\tvalid's auc: 0.691448\tvalid's ks: 0.283801\n",
      "[335]\ttrain's auc: 0.766622\ttrain's ks: 0.386029\tvalid's auc: 0.691481\tvalid's ks: 0.282942\n",
      "[336]\ttrain's auc: 0.766846\ttrain's ks: 0.385807\tvalid's auc: 0.69149\tvalid's ks: 0.283816\n",
      "[337]\ttrain's auc: 0.767025\ttrain's ks: 0.386187\tvalid's auc: 0.691511\tvalid's ks: 0.28299\n",
      "[338]\ttrain's auc: 0.767224\ttrain's ks: 0.386309\tvalid's auc: 0.691535\tvalid's ks: 0.283724\n",
      "[339]\ttrain's auc: 0.767425\ttrain's ks: 0.386863\tvalid's auc: 0.691606\tvalid's ks: 0.283099\n",
      "[340]\ttrain's auc: 0.767687\ttrain's ks: 0.387273\tvalid's auc: 0.691611\tvalid's ks: 0.283731\n",
      "[341]\ttrain's auc: 0.767857\ttrain's ks: 0.387617\tvalid's auc: 0.691635\tvalid's ks: 0.283413\n",
      "[342]\ttrain's auc: 0.767986\ttrain's ks: 0.387929\tvalid's auc: 0.691709\tvalid's ks: 0.283736\n",
      "[343]\ttrain's auc: 0.768074\ttrain's ks: 0.388053\tvalid's auc: 0.691795\tvalid's ks: 0.283981\n",
      "[344]\ttrain's auc: 0.76832\ttrain's ks: 0.388782\tvalid's auc: 0.691838\tvalid's ks: 0.283776\n",
      "[345]\ttrain's auc: 0.768615\ttrain's ks: 0.389276\tvalid's auc: 0.691954\tvalid's ks: 0.284297\n",
      "[346]\ttrain's auc: 0.768782\ttrain's ks: 0.389324\tvalid's auc: 0.691909\tvalid's ks: 0.28415\n",
      "[347]\ttrain's auc: 0.768982\ttrain's ks: 0.389516\tvalid's auc: 0.691916\tvalid's ks: 0.284159\n",
      "[348]\ttrain's auc: 0.769253\ttrain's ks: 0.39043\tvalid's auc: 0.691964\tvalid's ks: 0.283816\n",
      "[349]\ttrain's auc: 0.769483\ttrain's ks: 0.39073\tvalid's auc: 0.692003\tvalid's ks: 0.284404\n",
      "[350]\ttrain's auc: 0.769683\ttrain's ks: 0.391034\tvalid's auc: 0.692014\tvalid's ks: 0.283331\n",
      "[351]\ttrain's auc: 0.769822\ttrain's ks: 0.390892\tvalid's auc: 0.692068\tvalid's ks: 0.283811\n",
      "[352]\ttrain's auc: 0.769915\ttrain's ks: 0.391358\tvalid's auc: 0.69203\tvalid's ks: 0.283742\n",
      "[353]\ttrain's auc: 0.770046\ttrain's ks: 0.391811\tvalid's auc: 0.692066\tvalid's ks: 0.284179\n",
      "[354]\ttrain's auc: 0.77013\ttrain's ks: 0.391811\tvalid's auc: 0.692084\tvalid's ks: 0.28388\n",
      "[355]\ttrain's auc: 0.770267\ttrain's ks: 0.392224\tvalid's auc: 0.692111\tvalid's ks: 0.283722\n",
      "[356]\ttrain's auc: 0.770471\ttrain's ks: 0.392287\tvalid's auc: 0.69212\tvalid's ks: 0.285324\n",
      "[357]\ttrain's auc: 0.77073\ttrain's ks: 0.393155\tvalid's auc: 0.692133\tvalid's ks: 0.28498\n",
      "[358]\ttrain's auc: 0.770851\ttrain's ks: 0.393673\tvalid's auc: 0.692122\tvalid's ks: 0.284519\n",
      "[359]\ttrain's auc: 0.77112\ttrain's ks: 0.393804\tvalid's auc: 0.692132\tvalid's ks: 0.284544\n",
      "[360]\ttrain's auc: 0.771291\ttrain's ks: 0.394414\tvalid's auc: 0.692172\tvalid's ks: 0.284798\n",
      "[361]\ttrain's auc: 0.771499\ttrain's ks: 0.394784\tvalid's auc: 0.692296\tvalid's ks: 0.284544\n",
      "[362]\ttrain's auc: 0.7717\ttrain's ks: 0.395108\tvalid's auc: 0.692317\tvalid's ks: 0.285343\n",
      "[363]\ttrain's auc: 0.771843\ttrain's ks: 0.395293\tvalid's auc: 0.692361\tvalid's ks: 0.284638\n",
      "[364]\ttrain's auc: 0.772012\ttrain's ks: 0.39613\tvalid's auc: 0.692372\tvalid's ks: 0.285219\n"
     ]
    },
    {
     "name": "stdout",
     "output_type": "stream",
     "text": [
      "[365]\ttrain's auc: 0.772072\ttrain's ks: 0.396291\tvalid's auc: 0.692404\tvalid's ks: 0.285197\n",
      "[366]\ttrain's auc: 0.772283\ttrain's ks: 0.396619\tvalid's auc: 0.692489\tvalid's ks: 0.2848\n",
      "[367]\ttrain's auc: 0.772493\ttrain's ks: 0.39703\tvalid's auc: 0.692532\tvalid's ks: 0.285328\n",
      "[368]\ttrain's auc: 0.772647\ttrain's ks: 0.397249\tvalid's auc: 0.692526\tvalid's ks: 0.285001\n",
      "[369]\ttrain's auc: 0.772797\ttrain's ks: 0.397272\tvalid's auc: 0.692511\tvalid's ks: 0.285368\n",
      "[370]\ttrain's auc: 0.772998\ttrain's ks: 0.397994\tvalid's auc: 0.692539\tvalid's ks: 0.285919\n",
      "[371]\ttrain's auc: 0.773218\ttrain's ks: 0.398448\tvalid's auc: 0.692533\tvalid's ks: 0.285253\n",
      "[372]\ttrain's auc: 0.773384\ttrain's ks: 0.398971\tvalid's auc: 0.692615\tvalid's ks: 0.284593\n",
      "[373]\ttrain's auc: 0.773631\ttrain's ks: 0.399398\tvalid's auc: 0.692581\tvalid's ks: 0.286453\n",
      "[374]\ttrain's auc: 0.773896\ttrain's ks: 0.39978\tvalid's auc: 0.692633\tvalid's ks: 0.286132\n",
      "[375]\ttrain's auc: 0.774024\ttrain's ks: 0.400435\tvalid's auc: 0.692672\tvalid's ks: 0.285373\n",
      "[376]\ttrain's auc: 0.774278\ttrain's ks: 0.400369\tvalid's auc: 0.692705\tvalid's ks: 0.286662\n",
      "[377]\ttrain's auc: 0.774472\ttrain's ks: 0.400894\tvalid's auc: 0.69274\tvalid's ks: 0.286729\n",
      "[378]\ttrain's auc: 0.774597\ttrain's ks: 0.400795\tvalid's auc: 0.692771\tvalid's ks: 0.285834\n",
      "[379]\ttrain's auc: 0.774816\ttrain's ks: 0.401266\tvalid's auc: 0.692755\tvalid's ks: 0.285613\n",
      "[380]\ttrain's auc: 0.775089\ttrain's ks: 0.401539\tvalid's auc: 0.692834\tvalid's ks: 0.285936\n",
      "[381]\ttrain's auc: 0.775244\ttrain's ks: 0.401598\tvalid's auc: 0.692847\tvalid's ks: 0.285593\n",
      "[382]\ttrain's auc: 0.775465\ttrain's ks: 0.401309\tvalid's auc: 0.69288\tvalid's ks: 0.285455\n",
      "[383]\ttrain's auc: 0.7756\ttrain's ks: 0.401821\tvalid's auc: 0.692909\tvalid's ks: 0.285731\n",
      "[384]\ttrain's auc: 0.77586\ttrain's ks: 0.402768\tvalid's auc: 0.692937\tvalid's ks: 0.285845\n",
      "[385]\ttrain's auc: 0.77601\ttrain's ks: 0.402778\tvalid's auc: 0.692902\tvalid's ks: 0.285593\n",
      "[386]\ttrain's auc: 0.776122\ttrain's ks: 0.402736\tvalid's auc: 0.692864\tvalid's ks: 0.285571\n",
      "[387]\ttrain's auc: 0.776328\ttrain's ks: 0.402955\tvalid's auc: 0.692879\tvalid's ks: 0.285393\n",
      "[388]\ttrain's auc: 0.776619\ttrain's ks: 0.40287\tvalid's auc: 0.692864\tvalid's ks: 0.284192\n",
      "[389]\ttrain's auc: 0.77668\ttrain's ks: 0.40303\tvalid's auc: 0.692873\tvalid's ks: 0.284204\n",
      "[390]\ttrain's auc: 0.776775\ttrain's ks: 0.403136\tvalid's auc: 0.692835\tvalid's ks: 0.284373\n",
      "[391]\ttrain's auc: 0.776895\ttrain's ks: 0.403372\tvalid's auc: 0.692913\tvalid's ks: 0.28474\n",
      "[392]\ttrain's auc: 0.777041\ttrain's ks: 0.403652\tvalid's auc: 0.692969\tvalid's ks: 0.285867\n",
      "[393]\ttrain's auc: 0.777215\ttrain's ks: 0.403979\tvalid's auc: 0.693004\tvalid's ks: 0.285567\n",
      "[394]\ttrain's auc: 0.777399\ttrain's ks: 0.404844\tvalid's auc: 0.693018\tvalid's ks: 0.285384\n",
      "[395]\ttrain's auc: 0.777452\ttrain's ks: 0.404726\tvalid's auc: 0.693069\tvalid's ks: 0.28472\n",
      "[396]\ttrain's auc: 0.777717\ttrain's ks: 0.404886\tvalid's auc: 0.693092\tvalid's ks: 0.284292\n",
      "[397]\ttrain's auc: 0.777851\ttrain's ks: 0.405686\tvalid's auc: 0.693141\tvalid's ks: 0.285036\n",
      "[398]\ttrain's auc: 0.778011\ttrain's ks: 0.405298\tvalid's auc: 0.693301\tvalid's ks: 0.285008\n",
      "[399]\ttrain's auc: 0.778187\ttrain's ks: 0.405558\tvalid's auc: 0.693228\tvalid's ks: 0.284979\n",
      "[400]\ttrain's auc: 0.778349\ttrain's ks: 0.40582\tvalid's auc: 0.693321\tvalid's ks: 0.285816\n",
      "[401]\ttrain's auc: 0.778499\ttrain's ks: 0.406106\tvalid's auc: 0.69337\tvalid's ks: 0.285909\n",
      "[402]\ttrain's auc: 0.77854\ttrain's ks: 0.406134\tvalid's auc: 0.693406\tvalid's ks: 0.28584\n",
      "[403]\ttrain's auc: 0.77872\ttrain's ks: 0.406187\tvalid's auc: 0.693411\tvalid's ks: 0.286143\n",
      "[404]\ttrain's auc: 0.778883\ttrain's ks: 0.406662\tvalid's auc: 0.6934\tvalid's ks: 0.286395\n",
      "[405]\ttrain's auc: 0.779075\ttrain's ks: 0.407409\tvalid's auc: 0.693451\tvalid's ks: 0.286437\n",
      "[406]\ttrain's auc: 0.779285\ttrain's ks: 0.407582\tvalid's auc: 0.693461\tvalid's ks: 0.285967\n",
      "[407]\ttrain's auc: 0.77947\ttrain's ks: 0.407611\tvalid's auc: 0.693431\tvalid's ks: 0.285301\n",
      "[408]\ttrain's auc: 0.779607\ttrain's ks: 0.407941\tvalid's auc: 0.693475\tvalid's ks: 0.285439\n",
      "[409]\ttrain's auc: 0.779783\ttrain's ks: 0.409019\tvalid's auc: 0.693495\tvalid's ks: 0.285671\n",
      "[410]\ttrain's auc: 0.780011\ttrain's ks: 0.409223\tvalid's auc: 0.693532\tvalid's ks: 0.285832\n",
      "[411]\ttrain's auc: 0.780134\ttrain's ks: 0.409549\tvalid's auc: 0.69355\tvalid's ks: 0.28574\n",
      "[412]\ttrain's auc: 0.780314\ttrain's ks: 0.409989\tvalid's auc: 0.693516\tvalid's ks: 0.285732\n",
      "[413]\ttrain's auc: 0.780368\ttrain's ks: 0.410136\tvalid's auc: 0.693553\tvalid's ks: 0.286077\n",
      "[414]\ttrain's auc: 0.780484\ttrain's ks: 0.409554\tvalid's auc: 0.693591\tvalid's ks: 0.285673\n",
      "[415]\ttrain's auc: 0.780574\ttrain's ks: 0.409937\tvalid's auc: 0.693574\tvalid's ks: 0.286201\n",
      "[416]\ttrain's auc: 0.780729\ttrain's ks: 0.410361\tvalid's auc: 0.693637\tvalid's ks: 0.28752\n",
      "[417]\ttrain's auc: 0.78084\ttrain's ks: 0.410401\tvalid's auc: 0.693611\tvalid's ks: 0.287268\n",
      "[418]\ttrain's auc: 0.781034\ttrain's ks: 0.410928\tvalid's auc: 0.693635\tvalid's ks: 0.287199\n",
      "[419]\ttrain's auc: 0.781211\ttrain's ks: 0.411541\tvalid's auc: 0.693689\tvalid's ks: 0.286945\n",
      "[420]\ttrain's auc: 0.781297\ttrain's ks: 0.41171\tvalid's auc: 0.693681\tvalid's ks: 0.287014\n",
      "[421]\ttrain's auc: 0.781543\ttrain's ks: 0.411386\tvalid's auc: 0.69373\tvalid's ks: 0.286647\n",
      "[422]\ttrain's auc: 0.781657\ttrain's ks: 0.411719\tvalid's auc: 0.693716\tvalid's ks: 0.287106\n",
      "[423]\ttrain's auc: 0.78181\ttrain's ks: 0.412277\tvalid's auc: 0.693738\tvalid's ks: 0.287106\n",
      "[424]\ttrain's auc: 0.781897\ttrain's ks: 0.412824\tvalid's auc: 0.69374\tvalid's ks: 0.28683\n",
      "[425]\ttrain's auc: 0.782119\ttrain's ks: 0.413207\tvalid's auc: 0.693754\tvalid's ks: 0.287404\n",
      "[426]\ttrain's auc: 0.782277\ttrain's ks: 0.413263\tvalid's auc: 0.69377\tvalid's ks: 0.286761\n",
      "[427]\ttrain's auc: 0.782467\ttrain's ks: 0.413448\tvalid's auc: 0.69386\tvalid's ks: 0.287106\n",
      "[428]\ttrain's auc: 0.782682\ttrain's ks: 0.413744\tvalid's auc: 0.693891\tvalid's ks: 0.286901\n",
      "[429]\ttrain's auc: 0.782844\ttrain's ks: 0.413446\tvalid's auc: 0.693946\tvalid's ks: 0.286161\n",
      "[430]\ttrain's auc: 0.78296\ttrain's ks: 0.413502\tvalid's auc: 0.693952\tvalid's ks: 0.287126\n",
      "[431]\ttrain's auc: 0.78315\ttrain's ks: 0.414147\tvalid's auc: 0.693948\tvalid's ks: 0.287333\n",
      "[432]\ttrain's auc: 0.78325\ttrain's ks: 0.41434\tvalid's auc: 0.693957\tvalid's ks: 0.287264\n",
      "[433]\ttrain's auc: 0.783411\ttrain's ks: 0.414708\tvalid's auc: 0.693991\tvalid's ks: 0.286277\n",
      "[434]\ttrain's auc: 0.7836\ttrain's ks: 0.41496\tvalid's auc: 0.694006\tvalid's ks: 0.285863\n",
      "[435]\ttrain's auc: 0.783832\ttrain's ks: 0.414979\tvalid's auc: 0.694063\tvalid's ks: 0.285929\n",
      "[436]\ttrain's auc: 0.783898\ttrain's ks: 0.415131\tvalid's auc: 0.694095\tvalid's ks: 0.286135\n",
      "[437]\ttrain's auc: 0.784108\ttrain's ks: 0.415392\tvalid's auc: 0.694103\tvalid's ks: 0.286141\n",
      "[438]\ttrain's auc: 0.784221\ttrain's ks: 0.415775\tvalid's auc: 0.694127\tvalid's ks: 0.286014\n",
      "[439]\ttrain's auc: 0.784413\ttrain's ks: 0.415814\tvalid's auc: 0.694158\tvalid's ks: 0.286255\n",
      "[440]\ttrain's auc: 0.784635\ttrain's ks: 0.415982\tvalid's auc: 0.694147\tvalid's ks: 0.286956\n",
      "[441]\ttrain's auc: 0.784837\ttrain's ks: 0.416712\tvalid's auc: 0.694185\tvalid's ks: 0.286825\n",
      "[442]\ttrain's auc: 0.784977\ttrain's ks: 0.41645\tvalid's auc: 0.694177\tvalid's ks: 0.286756\n",
      "[443]\ttrain's auc: 0.785201\ttrain's ks: 0.41724\tvalid's auc: 0.6942\tvalid's ks: 0.285337\n",
      "[444]\ttrain's auc: 0.785314\ttrain's ks: 0.417505\tvalid's auc: 0.694236\tvalid's ks: 0.286687\n",
      "[445]\ttrain's auc: 0.785488\ttrain's ks: 0.417737\tvalid's auc: 0.694327\tvalid's ks: 0.286183\n",
      "[446]\ttrain's auc: 0.785649\ttrain's ks: 0.417643\tvalid's auc: 0.694368\tvalid's ks: 0.286368\n",
      "[447]\ttrain's auc: 0.785818\ttrain's ks: 0.418208\tvalid's auc: 0.694403\tvalid's ks: 0.286344\n",
      "[448]\ttrain's auc: 0.785931\ttrain's ks: 0.418364\tvalid's auc: 0.694404\tvalid's ks: 0.286368\n",
      "[449]\ttrain's auc: 0.786074\ttrain's ks: 0.418431\tvalid's auc: 0.694406\tvalid's ks: 0.285059\n",
      "[450]\ttrain's auc: 0.786233\ttrain's ks: 0.418202\tvalid's auc: 0.69438\tvalid's ks: 0.285101\n",
      "[451]\ttrain's auc: 0.786409\ttrain's ks: 0.418622\tvalid's auc: 0.694453\tvalid's ks: 0.286342\n",
      "[452]\ttrain's auc: 0.786599\ttrain's ks: 0.419594\tvalid's auc: 0.694424\tvalid's ks: 0.285837\n",
      "[453]\ttrain's auc: 0.786727\ttrain's ks: 0.4202\tvalid's auc: 0.694428\tvalid's ks: 0.285906\n",
      "[454]\ttrain's auc: 0.786902\ttrain's ks: 0.419391\tvalid's auc: 0.694442\tvalid's ks: 0.285055\n",
      "[455]\ttrain's auc: 0.787051\ttrain's ks: 0.419538\tvalid's auc: 0.694487\tvalid's ks: 0.284894\n",
      "[456]\ttrain's auc: 0.787127\ttrain's ks: 0.419958\tvalid's auc: 0.694513\tvalid's ks: 0.285122\n",
      "[457]\ttrain's auc: 0.787265\ttrain's ks: 0.420266\tvalid's auc: 0.694588\tvalid's ks: 0.284963\n"
     ]
    },
    {
     "name": "stdout",
     "output_type": "stream",
     "text": [
      "[458]\ttrain's auc: 0.787339\ttrain's ks: 0.420424\tvalid's auc: 0.694651\tvalid's ks: 0.285192\n",
      "[459]\ttrain's auc: 0.787565\ttrain's ks: 0.42056\tvalid's auc: 0.694715\tvalid's ks: 0.285974\n",
      "[460]\ttrain's auc: 0.787767\ttrain's ks: 0.420836\tvalid's auc: 0.694658\tvalid's ks: 0.285929\n",
      "[461]\ttrain's auc: 0.787909\ttrain's ks: 0.421337\tvalid's auc: 0.694689\tvalid's ks: 0.285949\n",
      "[462]\ttrain's auc: 0.787985\ttrain's ks: 0.4213\tvalid's auc: 0.694642\tvalid's ks: 0.285727\n",
      "[463]\ttrain's auc: 0.788198\ttrain's ks: 0.421279\tvalid's auc: 0.694654\tvalid's ks: 0.285702\n",
      "[464]\ttrain's auc: 0.788327\ttrain's ks: 0.421372\tvalid's auc: 0.694652\tvalid's ks: 0.285909\n",
      "[465]\ttrain's auc: 0.788411\ttrain's ks: 0.421832\tvalid's auc: 0.694672\tvalid's ks: 0.284758\n",
      "[466]\ttrain's auc: 0.788448\ttrain's ks: 0.421685\tvalid's auc: 0.694702\tvalid's ks: 0.285742\n",
      "[467]\ttrain's auc: 0.78857\ttrain's ks: 0.421696\tvalid's auc: 0.694717\tvalid's ks: 0.285444\n",
      "[468]\ttrain's auc: 0.788708\ttrain's ks: 0.422152\tvalid's auc: 0.694785\tvalid's ks: 0.285192\n",
      "[469]\ttrain's auc: 0.788842\ttrain's ks: 0.421962\tvalid's auc: 0.694789\tvalid's ks: 0.285772\n",
      "[470]\ttrain's auc: 0.788926\ttrain's ks: 0.422239\tvalid's auc: 0.694784\tvalid's ks: 0.285955\n",
      "[471]\ttrain's auc: 0.789163\ttrain's ks: 0.422706\tvalid's auc: 0.694824\tvalid's ks: 0.285736\n",
      "[472]\ttrain's auc: 0.789381\ttrain's ks: 0.423085\tvalid's auc: 0.694898\tvalid's ks: 0.285774\n",
      "[473]\ttrain's auc: 0.789487\ttrain's ks: 0.423584\tvalid's auc: 0.694925\tvalid's ks: 0.285843\n",
      "[474]\ttrain's auc: 0.789655\ttrain's ks: 0.423907\tvalid's auc: 0.694945\tvalid's ks: 0.285553\n",
      "[475]\ttrain's auc: 0.789863\ttrain's ks: 0.424347\tvalid's auc: 0.694934\tvalid's ks: 0.285358\n",
      "[476]\ttrain's auc: 0.789992\ttrain's ks: 0.424509\tvalid's auc: 0.69493\tvalid's ks: 0.285473\n",
      "[477]\ttrain's auc: 0.79012\ttrain's ks: 0.424756\tvalid's auc: 0.694963\tvalid's ks: 0.28577\n",
      "[478]\ttrain's auc: 0.790233\ttrain's ks: 0.42508\tvalid's auc: 0.694964\tvalid's ks: 0.28607\n",
      "[479]\ttrain's auc: 0.790435\ttrain's ks: 0.42548\tvalid's auc: 0.694949\tvalid's ks: 0.286135\n",
      "[480]\ttrain's auc: 0.790546\ttrain's ks: 0.425829\tvalid's auc: 0.694977\tvalid's ks: 0.286159\n",
      "[481]\ttrain's auc: 0.790684\ttrain's ks: 0.425603\tvalid's auc: 0.695017\tvalid's ks: 0.285883\n",
      "[482]\ttrain's auc: 0.790776\ttrain's ks: 0.425731\tvalid's auc: 0.695069\tvalid's ks: 0.286846\n",
      "[483]\ttrain's auc: 0.79084\ttrain's ks: 0.425784\tvalid's auc: 0.695016\tvalid's ks: 0.286915\n",
      "[484]\ttrain's auc: 0.791038\ttrain's ks: 0.426728\tvalid's auc: 0.695028\tvalid's ks: 0.286242\n",
      "[485]\ttrain's auc: 0.791175\ttrain's ks: 0.426505\tvalid's auc: 0.695093\tvalid's ks: 0.286012\n",
      "[486]\ttrain's auc: 0.791267\ttrain's ks: 0.426653\tvalid's auc: 0.695123\tvalid's ks: 0.286632\n",
      "[487]\ttrain's auc: 0.791358\ttrain's ks: 0.426593\tvalid's auc: 0.695179\tvalid's ks: 0.286456\n",
      "[488]\ttrain's auc: 0.791547\ttrain's ks: 0.427019\tvalid's auc: 0.695235\tvalid's ks: 0.28673\n",
      "[489]\ttrain's auc: 0.791613\ttrain's ks: 0.426734\tvalid's auc: 0.695237\tvalid's ks: 0.286934\n",
      "[490]\ttrain's auc: 0.791708\ttrain's ks: 0.426931\tvalid's auc: 0.695257\tvalid's ks: 0.287255\n",
      "[491]\ttrain's auc: 0.791789\ttrain's ks: 0.42739\tvalid's auc: 0.695242\tvalid's ks: 0.287462\n",
      "[492]\ttrain's auc: 0.791959\ttrain's ks: 0.427297\tvalid's auc: 0.695256\tvalid's ks: 0.287549\n",
      "[493]\ttrain's auc: 0.792105\ttrain's ks: 0.427565\tvalid's auc: 0.695231\tvalid's ks: 0.287964\n",
      "[494]\ttrain's auc: 0.792186\ttrain's ks: 0.427603\tvalid's auc: 0.695231\tvalid's ks: 0.287895\n",
      "[495]\ttrain's auc: 0.792382\ttrain's ks: 0.428705\tvalid's auc: 0.695295\tvalid's ks: 0.288489\n",
      "[496]\ttrain's auc: 0.79255\ttrain's ks: 0.428966\tvalid's auc: 0.695348\tvalid's ks: 0.288835\n",
      "[497]\ttrain's auc: 0.792676\ttrain's ks: 0.429159\tvalid's auc: 0.695348\tvalid's ks: 0.288997\n",
      "[498]\ttrain's auc: 0.79276\ttrain's ks: 0.428966\tvalid's auc: 0.695314\tvalid's ks: 0.28955\n",
      "[499]\ttrain's auc: 0.792934\ttrain's ks: 0.42916\tvalid's auc: 0.695373\tvalid's ks: 0.289803\n",
      "[500]\ttrain's auc: 0.793132\ttrain's ks: 0.429554\tvalid's auc: 0.6954\tvalid's ks: 0.289226\n",
      "[501]\ttrain's auc: 0.793276\ttrain's ks: 0.429967\tvalid's auc: 0.69541\tvalid's ks: 0.290028\n",
      "[502]\ttrain's auc: 0.793465\ttrain's ks: 0.430312\tvalid's auc: 0.695415\tvalid's ks: 0.288857\n",
      "[503]\ttrain's auc: 0.793561\ttrain's ks: 0.430753\tvalid's auc: 0.695395\tvalid's ks: 0.288875\n",
      "[504]\ttrain's auc: 0.793739\ttrain's ks: 0.431204\tvalid's auc: 0.695413\tvalid's ks: 0.289013\n",
      "[505]\ttrain's auc: 0.793914\ttrain's ks: 0.430956\tvalid's auc: 0.695435\tvalid's ks: 0.289202\n",
      "[506]\ttrain's auc: 0.794008\ttrain's ks: 0.431208\tvalid's auc: 0.695418\tvalid's ks: 0.289592\n",
      "[507]\ttrain's auc: 0.794187\ttrain's ks: 0.431502\tvalid's auc: 0.695435\tvalid's ks: 0.28934\n",
      "[508]\ttrain's auc: 0.794297\ttrain's ks: 0.431637\tvalid's auc: 0.695446\tvalid's ks: 0.28959\n",
      "[509]\ttrain's auc: 0.794499\ttrain's ks: 0.432135\tvalid's auc: 0.695475\tvalid's ks: 0.289429\n",
      "[510]\ttrain's auc: 0.794658\ttrain's ks: 0.432734\tvalid's auc: 0.695451\tvalid's ks: 0.289019\n",
      "[511]\ttrain's auc: 0.794877\ttrain's ks: 0.433193\tvalid's auc: 0.695494\tvalid's ks: 0.289338\n",
      "[512]\ttrain's auc: 0.794963\ttrain's ks: 0.433249\tvalid's auc: 0.6955\tvalid's ks: 0.288855\n",
      "[513]\ttrain's auc: 0.79509\ttrain's ks: 0.432856\tvalid's auc: 0.695524\tvalid's ks: 0.287939\n",
      "[514]\ttrain's auc: 0.795308\ttrain's ks: 0.433198\tvalid's auc: 0.695527\tvalid's ks: 0.288215\n",
      "[515]\ttrain's auc: 0.795534\ttrain's ks: 0.43392\tvalid's auc: 0.695521\tvalid's ks: 0.287779\n",
      "[516]\ttrain's auc: 0.795655\ttrain's ks: 0.434178\tvalid's auc: 0.695496\tvalid's ks: 0.287159\n",
      "[517]\ttrain's auc: 0.795739\ttrain's ks: 0.434668\tvalid's auc: 0.695474\tvalid's ks: 0.28712\n",
      "[518]\ttrain's auc: 0.795878\ttrain's ks: 0.434346\tvalid's auc: 0.695477\tvalid's ks: 0.287672\n",
      "[519]\ttrain's auc: 0.795983\ttrain's ks: 0.434347\tvalid's auc: 0.69549\tvalid's ks: 0.287282\n",
      "[520]\ttrain's auc: 0.796098\ttrain's ks: 0.434913\tvalid's auc: 0.695484\tvalid's ks: 0.287442\n",
      "[521]\ttrain's auc: 0.796345\ttrain's ks: 0.434806\tvalid's auc: 0.695519\tvalid's ks: 0.287696\n",
      "[522]\ttrain's auc: 0.796433\ttrain's ks: 0.434865\tvalid's auc: 0.695554\tvalid's ks: 0.287903\n",
      "[523]\ttrain's auc: 0.796557\ttrain's ks: 0.4354\tvalid's auc: 0.695537\tvalid's ks: 0.287925\n",
      "[524]\ttrain's auc: 0.796714\ttrain's ks: 0.435833\tvalid's auc: 0.695547\tvalid's ks: 0.288545\n",
      "[525]\ttrain's auc: 0.796928\ttrain's ks: 0.436097\tvalid's auc: 0.695529\tvalid's ks: 0.287669\n",
      "[526]\ttrain's auc: 0.797073\ttrain's ks: 0.436501\tvalid's auc: 0.695538\tvalid's ks: 0.287649\n",
      "[527]\ttrain's auc: 0.797194\ttrain's ks: 0.436526\tvalid's auc: 0.695525\tvalid's ks: 0.287649\n",
      "[528]\ttrain's auc: 0.797369\ttrain's ks: 0.436867\tvalid's auc: 0.695511\tvalid's ks: 0.28822\n",
      "[529]\ttrain's auc: 0.797488\ttrain's ks: 0.437136\tvalid's auc: 0.695499\tvalid's ks: 0.28797\n",
      "[530]\ttrain's auc: 0.797633\ttrain's ks: 0.43711\tvalid's auc: 0.695504\tvalid's ks: 0.287832\n",
      "[531]\ttrain's auc: 0.797737\ttrain's ks: 0.437241\tvalid's auc: 0.695538\tvalid's ks: 0.287924\n",
      "[532]\ttrain's auc: 0.797918\ttrain's ks: 0.437359\tvalid's auc: 0.695549\tvalid's ks: 0.287514\n",
      "[533]\ttrain's auc: 0.798022\ttrain's ks: 0.437326\tvalid's auc: 0.695567\tvalid's ks: 0.287511\n",
      "[534]\ttrain's auc: 0.798067\ttrain's ks: 0.437904\tvalid's auc: 0.695589\tvalid's ks: 0.287763\n",
      "[535]\ttrain's auc: 0.798244\ttrain's ks: 0.437949\tvalid's auc: 0.695627\tvalid's ks: 0.28795\n",
      "[536]\ttrain's auc: 0.798365\ttrain's ks: 0.437727\tvalid's auc: 0.6956\tvalid's ks: 0.288155\n",
      "[537]\ttrain's auc: 0.798509\ttrain's ks: 0.438107\tvalid's auc: 0.695655\tvalid's ks: 0.288609\n",
      "[538]\ttrain's auc: 0.79861\ttrain's ks: 0.438172\tvalid's auc: 0.695689\tvalid's ks: 0.288841\n",
      "[539]\ttrain's auc: 0.798773\ttrain's ks: 0.43843\tvalid's auc: 0.695714\tvalid's ks: 0.288977\n",
      "[540]\ttrain's auc: 0.79895\ttrain's ks: 0.438627\tvalid's auc: 0.695723\tvalid's ks: 0.289371\n",
      "[541]\ttrain's auc: 0.79903\ttrain's ks: 0.438683\tvalid's auc: 0.695711\tvalid's ks: 0.289226\n",
      "[542]\ttrain's auc: 0.799153\ttrain's ks: 0.4392\tvalid's auc: 0.695747\tvalid's ks: 0.289344\n",
      "[543]\ttrain's auc: 0.799362\ttrain's ks: 0.439197\tvalid's auc: 0.695738\tvalid's ks: 0.288814\n",
      "[544]\ttrain's auc: 0.799456\ttrain's ks: 0.438887\tvalid's auc: 0.695758\tvalid's ks: 0.289166\n",
      "[545]\ttrain's auc: 0.799509\ttrain's ks: 0.438855\tvalid's auc: 0.695763\tvalid's ks: 0.289487\n",
      "[546]\ttrain's auc: 0.799661\ttrain's ks: 0.439336\tvalid's auc: 0.695733\tvalid's ks: 0.289028\n",
      "[547]\ttrain's auc: 0.799887\ttrain's ks: 0.439669\tvalid's auc: 0.695735\tvalid's ks: 0.288402\n",
      "[548]\ttrain's auc: 0.800013\ttrain's ks: 0.440206\tvalid's auc: 0.6958\tvalid's ks: 0.288609\n",
      "[549]\ttrain's auc: 0.800242\ttrain's ks: 0.440586\tvalid's auc: 0.695796\tvalid's ks: 0.2885\n"
     ]
    },
    {
     "name": "stdout",
     "output_type": "stream",
     "text": [
      "[550]\ttrain's auc: 0.800449\ttrain's ks: 0.441045\tvalid's auc: 0.695797\tvalid's ks: 0.288997\n",
      "[551]\ttrain's auc: 0.800621\ttrain's ks: 0.441844\tvalid's auc: 0.695762\tvalid's ks: 0.288489\n",
      "[552]\ttrain's auc: 0.800704\ttrain's ks: 0.441838\tvalid's auc: 0.695794\tvalid's ks: 0.288489\n",
      "[553]\ttrain's auc: 0.800851\ttrain's ks: 0.442634\tvalid's auc: 0.695769\tvalid's ks: 0.288235\n",
      "[554]\ttrain's auc: 0.80103\ttrain's ks: 0.442588\tvalid's auc: 0.695776\tvalid's ks: 0.287899\n",
      "[555]\ttrain's auc: 0.801164\ttrain's ks: 0.442755\tvalid's auc: 0.69576\tvalid's ks: 0.287983\n",
      "[556]\ttrain's auc: 0.801361\ttrain's ks: 0.442925\tvalid's auc: 0.695852\tvalid's ks: 0.288672\n",
      "[557]\ttrain's auc: 0.801513\ttrain's ks: 0.44325\tvalid's auc: 0.695928\tvalid's ks: 0.28865\n",
      "[558]\ttrain's auc: 0.801614\ttrain's ks: 0.443424\tvalid's auc: 0.695884\tvalid's ks: 0.288469\n",
      "[559]\ttrain's auc: 0.801737\ttrain's ks: 0.443931\tvalid's auc: 0.695886\tvalid's ks: 0.28877\n",
      "[560]\ttrain's auc: 0.80187\ttrain's ks: 0.444502\tvalid's auc: 0.695871\tvalid's ks: 0.288814\n",
      "[561]\ttrain's auc: 0.801992\ttrain's ks: 0.444768\tvalid's auc: 0.695879\tvalid's ks: 0.289131\n",
      "[562]\ttrain's auc: 0.802107\ttrain's ks: 0.444951\tvalid's auc: 0.695873\tvalid's ks: 0.289342\n",
      "[563]\ttrain's auc: 0.802318\ttrain's ks: 0.445639\tvalid's auc: 0.695871\tvalid's ks: 0.289153\n",
      "[564]\ttrain's auc: 0.802467\ttrain's ks: 0.446258\tvalid's auc: 0.695821\tvalid's ks: 0.289636\n",
      "[565]\ttrain's auc: 0.802671\ttrain's ks: 0.445629\tvalid's auc: 0.695895\tvalid's ks: 0.289387\n",
      "[566]\ttrain's auc: 0.802737\ttrain's ks: 0.445603\tvalid's auc: 0.695845\tvalid's ks: 0.289384\n",
      "[567]\ttrain's auc: 0.8029\ttrain's ks: 0.446373\tvalid's auc: 0.695848\tvalid's ks: 0.289342\n",
      "[568]\ttrain's auc: 0.803023\ttrain's ks: 0.446215\tvalid's auc: 0.695883\tvalid's ks: 0.288894\n",
      "[569]\ttrain's auc: 0.803209\ttrain's ks: 0.446697\tvalid's auc: 0.695885\tvalid's ks: 0.288527\n",
      "[570]\ttrain's auc: 0.803302\ttrain's ks: 0.447417\tvalid's auc: 0.695953\tvalid's ks: 0.288625\n",
      "[571]\ttrain's auc: 0.803378\ttrain's ks: 0.447358\tvalid's auc: 0.695947\tvalid's ks: 0.288763\n",
      "[572]\ttrain's auc: 0.803528\ttrain's ks: 0.446952\tvalid's auc: 0.695972\tvalid's ks: 0.288649\n",
      "[573]\ttrain's auc: 0.803712\ttrain's ks: 0.447254\tvalid's auc: 0.696035\tvalid's ks: 0.28913\n",
      "[574]\ttrain's auc: 0.803818\ttrain's ks: 0.447641\tvalid's auc: 0.696084\tvalid's ks: 0.289681\n",
      "[575]\ttrain's auc: 0.803995\ttrain's ks: 0.448365\tvalid's auc: 0.696048\tvalid's ks: 0.288993\n",
      "[576]\ttrain's auc: 0.804044\ttrain's ks: 0.448581\tvalid's auc: 0.696074\tvalid's ks: 0.28887\n",
      "[577]\ttrain's auc: 0.804118\ttrain's ks: 0.448879\tvalid's auc: 0.696084\tvalid's ks: 0.289008\n",
      "[578]\ttrain's auc: 0.804187\ttrain's ks: 0.448951\tvalid's auc: 0.696117\tvalid's ks: 0.288732\n",
      "[579]\ttrain's auc: 0.804259\ttrain's ks: 0.448803\tvalid's auc: 0.696129\tvalid's ks: 0.289008\n",
      "[580]\ttrain's auc: 0.804339\ttrain's ks: 0.44902\tvalid's auc: 0.696135\tvalid's ks: 0.2892\n",
      "[581]\ttrain's auc: 0.804498\ttrain's ks: 0.449167\tvalid's auc: 0.696135\tvalid's ks: 0.289284\n",
      "[582]\ttrain's auc: 0.80462\ttrain's ks: 0.449085\tvalid's auc: 0.696143\tvalid's ks: 0.289338\n",
      "[583]\ttrain's auc: 0.804767\ttrain's ks: 0.449449\tvalid's auc: 0.696128\tvalid's ks: 0.288533\n",
      "[584]\ttrain's auc: 0.804852\ttrain's ks: 0.449642\tvalid's auc: 0.696107\tvalid's ks: 0.288533\n",
      "[585]\ttrain's auc: 0.804917\ttrain's ks: 0.449671\tvalid's auc: 0.696116\tvalid's ks: 0.288464\n",
      "[586]\ttrain's auc: 0.805055\ttrain's ks: 0.450059\tvalid's auc: 0.696177\tvalid's ks: 0.288814\n",
      "[587]\ttrain's auc: 0.805156\ttrain's ks: 0.450124\tvalid's auc: 0.696166\tvalid's ks: 0.288993\n",
      "[588]\ttrain's auc: 0.805291\ttrain's ks: 0.450133\tvalid's auc: 0.696192\tvalid's ks: 0.288941\n",
      "[589]\ttrain's auc: 0.805367\ttrain's ks: 0.450407\tvalid's auc: 0.696244\tvalid's ks: 0.289195\n",
      "[590]\ttrain's auc: 0.805409\ttrain's ks: 0.450555\tvalid's auc: 0.696209\tvalid's ks: 0.289333\n",
      "[591]\ttrain's auc: 0.805562\ttrain's ks: 0.450871\tvalid's auc: 0.696206\tvalid's ks: 0.289411\n",
      "[592]\ttrain's auc: 0.805769\ttrain's ks: 0.45149\tvalid's auc: 0.696244\tvalid's ks: 0.289939\n",
      "[593]\ttrain's auc: 0.805885\ttrain's ks: 0.451905\tvalid's auc: 0.696248\tvalid's ks: 0.289817\n",
      "[594]\ttrain's auc: 0.806034\ttrain's ks: 0.452236\tvalid's auc: 0.69623\tvalid's ks: 0.290008\n",
      "[595]\ttrain's auc: 0.806075\ttrain's ks: 0.452125\tvalid's auc: 0.696163\tvalid's ks: 0.289728\n",
      "[596]\ttrain's auc: 0.8062\ttrain's ks: 0.452115\tvalid's auc: 0.696225\tvalid's ks: 0.289591\n",
      "[597]\ttrain's auc: 0.8063\ttrain's ks: 0.452087\tvalid's auc: 0.696216\tvalid's ks: 0.289843\n",
      "[598]\ttrain's auc: 0.80639\ttrain's ks: 0.452702\tvalid's auc: 0.696237\tvalid's ks: 0.289981\n",
      "[599]\ttrain's auc: 0.806544\ttrain's ks: 0.453175\tvalid's auc: 0.696244\tvalid's ks: 0.289567\n",
      "[600]\ttrain's auc: 0.806744\ttrain's ks: 0.453744\tvalid's auc: 0.696249\tvalid's ks: 0.290848\n",
      "[601]\ttrain's auc: 0.80684\ttrain's ks: 0.453596\tvalid's auc: 0.69625\tvalid's ks: 0.290458\n",
      "[602]\ttrain's auc: 0.806987\ttrain's ks: 0.454147\tvalid's auc: 0.696281\tvalid's ks: 0.289743\n",
      "[603]\ttrain's auc: 0.807066\ttrain's ks: 0.454049\tvalid's auc: 0.696295\tvalid's ks: 0.289605\n",
      "[604]\ttrain's auc: 0.807165\ttrain's ks: 0.45405\tvalid's auc: 0.696294\tvalid's ks: 0.289536\n",
      "[605]\ttrain's auc: 0.807276\ttrain's ks: 0.454281\tvalid's auc: 0.696354\tvalid's ks: 0.289652\n",
      "[606]\ttrain's auc: 0.807425\ttrain's ks: 0.454705\tvalid's auc: 0.696406\tvalid's ks: 0.290398\n",
      "[607]\ttrain's auc: 0.807495\ttrain's ks: 0.454862\tvalid's auc: 0.696381\tvalid's ks: 0.290166\n",
      "[608]\ttrain's auc: 0.807522\ttrain's ks: 0.454803\tvalid's auc: 0.696423\tvalid's ks: 0.290097\n",
      "[609]\ttrain's auc: 0.80769\ttrain's ks: 0.455419\tvalid's auc: 0.696427\tvalid's ks: 0.289591\n",
      "[610]\ttrain's auc: 0.807803\ttrain's ks: 0.455707\tvalid's auc: 0.696436\tvalid's ks: 0.289952\n",
      "[611]\ttrain's auc: 0.807959\ttrain's ks: 0.455337\tvalid's auc: 0.696411\tvalid's ks: 0.291008\n",
      "[612]\ttrain's auc: 0.808155\ttrain's ks: 0.455663\tvalid's auc: 0.696416\tvalid's ks: 0.290434\n",
      "[613]\ttrain's auc: 0.808233\ttrain's ks: 0.456002\tvalid's auc: 0.69646\tvalid's ks: 0.290296\n",
      "[614]\ttrain's auc: 0.808337\ttrain's ks: 0.456208\tvalid's auc: 0.696474\tvalid's ks: 0.290482\n",
      "[615]\ttrain's auc: 0.808515\ttrain's ks: 0.456794\tvalid's auc: 0.696455\tvalid's ks: 0.290365\n",
      "[616]\ttrain's auc: 0.808708\ttrain's ks: 0.456582\tvalid's auc: 0.696432\tvalid's ks: 0.289975\n",
      "[617]\ttrain's auc: 0.808889\ttrain's ks: 0.457193\tvalid's auc: 0.696396\tvalid's ks: 0.29032\n",
      "[618]\ttrain's auc: 0.808941\ttrain's ks: 0.457371\tvalid's auc: 0.6964\tvalid's ks: 0.290917\n",
      "[619]\ttrain's auc: 0.80907\ttrain's ks: 0.457886\tvalid's auc: 0.696387\tvalid's ks: 0.290434\n",
      "[620]\ttrain's auc: 0.809254\ttrain's ks: 0.458225\tvalid's auc: 0.696375\tvalid's ks: 0.289906\n",
      "[621]\ttrain's auc: 0.809436\ttrain's ks: 0.458243\tvalid's auc: 0.696426\tvalid's ks: 0.289975\n",
      "[622]\ttrain's auc: 0.80954\ttrain's ks: 0.458396\tvalid's auc: 0.696401\tvalid's ks: 0.290228\n",
      "[623]\ttrain's auc: 0.809661\ttrain's ks: 0.458622\tvalid's auc: 0.696405\tvalid's ks: 0.290963\n",
      "[624]\ttrain's auc: 0.809783\ttrain's ks: 0.459045\tvalid's auc: 0.696444\tvalid's ks: 0.290503\n",
      "[625]\ttrain's auc: 0.809938\ttrain's ks: 0.459045\tvalid's auc: 0.696449\tvalid's ks: 0.290206\n",
      "[626]\ttrain's auc: 0.810079\ttrain's ks: 0.459664\tvalid's auc: 0.696437\tvalid's ks: 0.28913\n",
      "[627]\ttrain's auc: 0.810179\ttrain's ks: 0.459713\tvalid's auc: 0.696499\tvalid's ks: 0.289133\n",
      "[628]\ttrain's auc: 0.810255\ttrain's ks: 0.460345\tvalid's auc: 0.696482\tvalid's ks: 0.289033\n",
      "[629]\ttrain's auc: 0.810394\ttrain's ks: 0.460138\tvalid's auc: 0.696512\tvalid's ks: 0.288912\n",
      "[630]\ttrain's auc: 0.810585\ttrain's ks: 0.460019\tvalid's auc: 0.69652\tvalid's ks: 0.289592\n",
      "[631]\ttrain's auc: 0.810696\ttrain's ks: 0.460528\tvalid's auc: 0.696495\tvalid's ks: 0.289373\n",
      "[632]\ttrain's auc: 0.810772\ttrain's ks: 0.460656\tvalid's auc: 0.696508\tvalid's ks: 0.288959\n",
      "[633]\ttrain's auc: 0.810923\ttrain's ks: 0.460606\tvalid's auc: 0.696471\tvalid's ks: 0.288935\n",
      "[634]\ttrain's auc: 0.811058\ttrain's ks: 0.461005\tvalid's auc: 0.696484\tvalid's ks: 0.288467\n",
      "[635]\ttrain's auc: 0.811142\ttrain's ks: 0.461726\tvalid's auc: 0.696468\tvalid's ks: 0.289502\n",
      "[636]\ttrain's auc: 0.811226\ttrain's ks: 0.461231\tvalid's auc: 0.696447\tvalid's ks: 0.289042\n",
      "[637]\ttrain's auc: 0.811374\ttrain's ks: 0.461305\tvalid's auc: 0.69643\tvalid's ks: 0.288262\n",
      "[638]\ttrain's auc: 0.811495\ttrain's ks: 0.46196\tvalid's auc: 0.696438\tvalid's ks: 0.288021\n"
     ]
    },
    {
     "name": "stdout",
     "output_type": "stream",
     "text": [
      "[639]\ttrain's auc: 0.81162\ttrain's ks: 0.462566\tvalid's auc: 0.696508\tvalid's ks: 0.288101\n",
      "[640]\ttrain's auc: 0.811729\ttrain's ks: 0.463149\tvalid's auc: 0.696492\tvalid's ks: 0.288422\n",
      "[641]\ttrain's auc: 0.811811\ttrain's ks: 0.463176\tvalid's auc: 0.696517\tvalid's ks: 0.289271\n",
      "[642]\ttrain's auc: 0.81184\ttrain's ks: 0.463254\tvalid's auc: 0.696516\tvalid's ks: 0.289295\n",
      "[643]\ttrain's auc: 0.811992\ttrain's ks: 0.463693\tvalid's auc: 0.696479\tvalid's ks: 0.289409\n",
      "[644]\ttrain's auc: 0.812227\ttrain's ks: 0.46371\tvalid's auc: 0.696507\tvalid's ks: 0.288999\n",
      "[645]\ttrain's auc: 0.812281\ttrain's ks: 0.463687\tvalid's auc: 0.696485\tvalid's ks: 0.289589\n",
      "[646]\ttrain's auc: 0.812419\ttrain's ks: 0.463926\tvalid's auc: 0.696501\tvalid's ks: 0.289474\n",
      "[647]\ttrain's auc: 0.812568\ttrain's ks: 0.464614\tvalid's auc: 0.696472\tvalid's ks: 0.290739\n",
      "[648]\ttrain's auc: 0.81267\ttrain's ks: 0.464326\tvalid's auc: 0.696428\tvalid's ks: 0.29005\n",
      "[649]\ttrain's auc: 0.812697\ttrain's ks: 0.46417\tvalid's auc: 0.696439\tvalid's ks: 0.289895\n",
      "[650]\ttrain's auc: 0.812786\ttrain's ks: 0.464601\tvalid's auc: 0.696447\tvalid's ks: 0.289895\n",
      "[651]\ttrain's auc: 0.81292\ttrain's ks: 0.464446\tvalid's auc: 0.696423\tvalid's ks: 0.290349\n",
      "[652]\ttrain's auc: 0.813041\ttrain's ks: 0.464683\tvalid's auc: 0.696459\tvalid's ks: 0.289983\n",
      "[653]\ttrain's auc: 0.813158\ttrain's ks: 0.464793\tvalid's auc: 0.696428\tvalid's ks: 0.289569\n",
      "[654]\ttrain's auc: 0.813207\ttrain's ks: 0.464689\tvalid's auc: 0.696432\tvalid's ks: 0.289592\n",
      "[655]\ttrain's auc: 0.81336\ttrain's ks: 0.465362\tvalid's auc: 0.6964\tvalid's ks: 0.290028\n",
      "[656]\ttrain's auc: 0.813564\ttrain's ks: 0.465889\tvalid's auc: 0.696374\tvalid's ks: 0.289846\n",
      "[657]\ttrain's auc: 0.813607\ttrain's ks: 0.465971\tvalid's auc: 0.696424\tvalid's ks: 0.289846\n",
      "[658]\ttrain's auc: 0.813752\ttrain's ks: 0.466406\tvalid's auc: 0.696384\tvalid's ks: 0.290193\n",
      "[659]\ttrain's auc: 0.81385\ttrain's ks: 0.466324\tvalid's auc: 0.696342\tvalid's ks: 0.289937\n",
      "[660]\ttrain's auc: 0.813944\ttrain's ks: 0.46672\tvalid's auc: 0.696367\tvalid's ks: 0.289571\n",
      "[661]\ttrain's auc: 0.814045\ttrain's ks: 0.466579\tvalid's auc: 0.696363\tvalid's ks: 0.289708\n",
      "[662]\ttrain's auc: 0.814162\ttrain's ks: 0.466412\tvalid's auc: 0.69645\tvalid's ks: 0.289182\n",
      "[663]\ttrain's auc: 0.814265\ttrain's ks: 0.46692\tvalid's auc: 0.696474\tvalid's ks: 0.289821\n",
      "[664]\ttrain's auc: 0.814334\ttrain's ks: 0.466867\tvalid's auc: 0.696507\tvalid's ks: 0.29003\n",
      "[665]\ttrain's auc: 0.814517\ttrain's ks: 0.467414\tvalid's auc: 0.69653\tvalid's ks: 0.289685\n",
      "[666]\ttrain's auc: 0.814621\ttrain's ks: 0.468025\tvalid's auc: 0.696529\tvalid's ks: 0.289825\n",
      "[667]\ttrain's auc: 0.814793\ttrain's ks: 0.467608\tvalid's auc: 0.696562\tvalid's ks: 0.290356\n",
      "[668]\ttrain's auc: 0.814904\ttrain's ks: 0.467352\tvalid's auc: 0.696566\tvalid's ks: 0.289228\n",
      "[669]\ttrain's auc: 0.814956\ttrain's ks: 0.46746\tvalid's auc: 0.696548\tvalid's ks: 0.289318\n",
      "[670]\ttrain's auc: 0.815108\ttrain's ks: 0.468574\tvalid's auc: 0.696473\tvalid's ks: 0.289113\n",
      "[671]\ttrain's auc: 0.815243\ttrain's ks: 0.4683\tvalid's auc: 0.696504\tvalid's ks: 0.288792\n",
      "[672]\ttrain's auc: 0.815296\ttrain's ks: 0.468388\tvalid's auc: 0.696495\tvalid's ks: 0.28854\n",
      "[673]\ttrain's auc: 0.81542\ttrain's ks: 0.46872\tvalid's auc: 0.696483\tvalid's ks: 0.289068\n",
      "[674]\ttrain's auc: 0.815563\ttrain's ks: 0.469148\tvalid's auc: 0.696518\tvalid's ks: 0.289068\n",
      "[675]\ttrain's auc: 0.815612\ttrain's ks: 0.469289\tvalid's auc: 0.696552\tvalid's ks: 0.288999\n",
      "[676]\ttrain's auc: 0.815672\ttrain's ks: 0.469299\tvalid's auc: 0.696594\tvalid's ks: 0.288571\n",
      "[677]\ttrain's auc: 0.8158\ttrain's ks: 0.469521\tvalid's auc: 0.696622\tvalid's ks: 0.288721\n",
      "[678]\ttrain's auc: 0.815925\ttrain's ks: 0.469764\tvalid's auc: 0.696741\tvalid's ks: 0.288157\n",
      "[679]\ttrain's auc: 0.816119\ttrain's ks: 0.469735\tvalid's auc: 0.696687\tvalid's ks: 0.288111\n",
      "[680]\ttrain's auc: 0.816211\ttrain's ks: 0.469915\tvalid's auc: 0.696663\tvalid's ks: 0.288249\n",
      "[681]\ttrain's auc: 0.816334\ttrain's ks: 0.47019\tvalid's auc: 0.696653\tvalid's ks: 0.288525\n",
      "[682]\ttrain's auc: 0.816433\ttrain's ks: 0.470609\tvalid's auc: 0.696674\tvalid's ks: 0.28809\n",
      "[683]\ttrain's auc: 0.816565\ttrain's ks: 0.47136\tvalid's auc: 0.696672\tvalid's ks: 0.289376\n",
      "[684]\ttrain's auc: 0.816656\ttrain's ks: 0.471396\tvalid's auc: 0.696671\tvalid's ks: 0.289514\n",
      "[685]\ttrain's auc: 0.816835\ttrain's ks: 0.471098\tvalid's auc: 0.696675\tvalid's ks: 0.289445\n",
      "[686]\ttrain's auc: 0.816965\ttrain's ks: 0.471543\tvalid's auc: 0.696682\tvalid's ks: 0.288596\n",
      "[687]\ttrain's auc: 0.817005\ttrain's ks: 0.471831\tvalid's auc: 0.696686\tvalid's ks: 0.288641\n",
      "[688]\ttrain's auc: 0.817144\ttrain's ks: 0.471795\tvalid's auc: 0.696712\tvalid's ks: 0.288872\n",
      "[689]\ttrain's auc: 0.817248\ttrain's ks: 0.472425\tvalid's auc: 0.696744\tvalid's ks: 0.288897\n",
      "[690]\ttrain's auc: 0.817359\ttrain's ks: 0.472595\tvalid's auc: 0.696742\tvalid's ks: 0.290022\n",
      "[691]\ttrain's auc: 0.817534\ttrain's ks: 0.473181\tvalid's auc: 0.696812\tvalid's ks: 0.289656\n",
      "[692]\ttrain's auc: 0.817709\ttrain's ks: 0.473435\tvalid's auc: 0.696849\tvalid's ks: 0.29046\n",
      "[693]\ttrain's auc: 0.817819\ttrain's ks: 0.473986\tvalid's auc: 0.696839\tvalid's ks: 0.290231\n",
      "[694]\ttrain's auc: 0.817946\ttrain's ks: 0.474001\tvalid's auc: 0.696855\tvalid's ks: 0.290804\n",
      "[695]\ttrain's auc: 0.818096\ttrain's ks: 0.47452\tvalid's auc: 0.696908\tvalid's ks: 0.289403\n",
      "[696]\ttrain's auc: 0.818173\ttrain's ks: 0.475185\tvalid's auc: 0.696922\tvalid's ks: 0.288834\n",
      "[697]\ttrain's auc: 0.818349\ttrain's ks: 0.474897\tvalid's auc: 0.696943\tvalid's ks: 0.28959\n",
      "[698]\ttrain's auc: 0.818426\ttrain's ks: 0.475154\tvalid's auc: 0.696891\tvalid's ks: 0.288786\n",
      "[699]\ttrain's auc: 0.818587\ttrain's ks: 0.475695\tvalid's auc: 0.696873\tvalid's ks: 0.290113\n",
      "[700]\ttrain's auc: 0.818684\ttrain's ks: 0.475896\tvalid's auc: 0.696857\tvalid's ks: 0.289563\n",
      "[701]\ttrain's auc: 0.818808\ttrain's ks: 0.475926\tvalid's auc: 0.69687\tvalid's ks: 0.289817\n",
      "[702]\ttrain's auc: 0.81891\ttrain's ks: 0.47644\tvalid's auc: 0.696872\tvalid's ks: 0.289748\n",
      "[703]\ttrain's auc: 0.819035\ttrain's ks: 0.476319\tvalid's auc: 0.696867\tvalid's ks: 0.288901\n",
      "[704]\ttrain's auc: 0.819148\ttrain's ks: 0.476832\tvalid's auc: 0.696887\tvalid's ks: 0.289108\n",
      "[705]\ttrain's auc: 0.819317\ttrain's ks: 0.476916\tvalid's auc: 0.696879\tvalid's ks: 0.288649\n",
      "[706]\ttrain's auc: 0.819408\ttrain's ks: 0.477324\tvalid's auc: 0.696877\tvalid's ks: 0.289039\n",
      "[707]\ttrain's auc: 0.819508\ttrain's ks: 0.477535\tvalid's auc: 0.696909\tvalid's ks: 0.289039\n",
      "[708]\ttrain's auc: 0.819663\ttrain's ks: 0.478285\tvalid's auc: 0.696875\tvalid's ks: 0.288175\n",
      "[709]\ttrain's auc: 0.81981\ttrain's ks: 0.477715\tvalid's auc: 0.696882\tvalid's ks: 0.288451\n",
      "[710]\ttrain's auc: 0.819877\ttrain's ks: 0.478052\tvalid's auc: 0.696895\tvalid's ks: 0.288406\n",
      "[711]\ttrain's auc: 0.820003\ttrain's ks: 0.477979\tvalid's auc: 0.696925\tvalid's ks: 0.288295\n",
      "[712]\ttrain's auc: 0.820046\ttrain's ks: 0.478034\tvalid's auc: 0.696928\tvalid's ks: 0.288295\n",
      "[713]\ttrain's auc: 0.820169\ttrain's ks: 0.47867\tvalid's auc: 0.696919\tvalid's ks: 0.28864\n",
      "[714]\ttrain's auc: 0.820316\ttrain's ks: 0.478887\tvalid's auc: 0.696936\tvalid's ks: 0.288961\n",
      "[715]\ttrain's auc: 0.820495\ttrain's ks: 0.478632\tvalid's auc: 0.696942\tvalid's ks: 0.288892\n",
      "[716]\ttrain's auc: 0.820599\ttrain's ks: 0.479561\tvalid's auc: 0.696937\tvalid's ks: 0.288892\n",
      "[717]\ttrain's auc: 0.82078\ttrain's ks: 0.479157\tvalid's auc: 0.69697\tvalid's ks: 0.288567\n",
      "[718]\ttrain's auc: 0.820868\ttrain's ks: 0.479289\tvalid's auc: 0.696951\tvalid's ks: 0.288498\n",
      "[719]\ttrain's auc: 0.820966\ttrain's ks: 0.47961\tvalid's auc: 0.696911\tvalid's ks: 0.28844\n",
      "[720]\ttrain's auc: 0.821061\ttrain's ks: 0.479797\tvalid's auc: 0.696884\tvalid's ks: 0.288329\n",
      "[721]\ttrain's auc: 0.821253\ttrain's ks: 0.480255\tvalid's auc: 0.696876\tvalid's ks: 0.289227\n",
      "[722]\ttrain's auc: 0.821389\ttrain's ks: 0.480364\tvalid's auc: 0.696907\tvalid's ks: 0.289549\n",
      "[723]\ttrain's auc: 0.821454\ttrain's ks: 0.480589\tvalid's auc: 0.696887\tvalid's ks: 0.289432\n",
      "[724]\ttrain's auc: 0.82151\ttrain's ks: 0.480593\tvalid's auc: 0.696869\tvalid's ks: 0.289227\n",
      "[725]\ttrain's auc: 0.821567\ttrain's ks: 0.481094\tvalid's auc: 0.696861\tvalid's ks: 0.289227\n",
      "[726]\ttrain's auc: 0.821709\ttrain's ks: 0.481461\tvalid's auc: 0.696832\tvalid's ks: 0.289727\n",
      "[727]\ttrain's auc: 0.821816\ttrain's ks: 0.481326\tvalid's auc: 0.696828\tvalid's ks: 0.288487\n",
      "[728]\ttrain's auc: 0.821929\ttrain's ks: 0.481623\tvalid's auc: 0.696844\tvalid's ks: 0.289175\n",
      "[729]\ttrain's auc: 0.822048\ttrain's ks: 0.481934\tvalid's auc: 0.696849\tvalid's ks: 0.288899\n"
     ]
    },
    {
     "name": "stdout",
     "output_type": "stream",
     "text": [
      "[730]\ttrain's auc: 0.822113\ttrain's ks: 0.481816\tvalid's auc: 0.696818\tvalid's ks: 0.288761\n",
      "[731]\ttrain's auc: 0.822185\ttrain's ks: 0.482016\tvalid's auc: 0.696809\tvalid's ks: 0.288692\n",
      "[732]\ttrain's auc: 0.822315\ttrain's ks: 0.482292\tvalid's auc: 0.696832\tvalid's ks: 0.289456\n",
      "[733]\ttrain's auc: 0.822469\ttrain's ks: 0.482537\tvalid's auc: 0.696873\tvalid's ks: 0.289249\n",
      "[734]\ttrain's auc: 0.822623\ttrain's ks: 0.482983\tvalid's auc: 0.696882\tvalid's ks: 0.289501\n",
      "[735]\ttrain's auc: 0.822733\ttrain's ks: 0.483343\tvalid's auc: 0.696949\tvalid's ks: 0.290215\n",
      "[736]\ttrain's auc: 0.822824\ttrain's ks: 0.48349\tvalid's auc: 0.696926\tvalid's ks: 0.289549\n",
      "[737]\ttrain's auc: 0.822941\ttrain's ks: 0.483759\tvalid's auc: 0.696922\tvalid's ks: 0.289687\n",
      "[738]\ttrain's auc: 0.823042\ttrain's ks: 0.484179\tvalid's auc: 0.696928\tvalid's ks: 0.289142\n",
      "[739]\ttrain's auc: 0.823091\ttrain's ks: 0.48409\tvalid's auc: 0.696923\tvalid's ks: 0.28946\n",
      "[740]\ttrain's auc: 0.823182\ttrain's ks: 0.484349\tvalid's auc: 0.696905\tvalid's ks: 0.288886\n",
      "[741]\ttrain's auc: 0.823307\ttrain's ks: 0.484867\tvalid's auc: 0.696927\tvalid's ks: 0.288679\n",
      "[742]\ttrain's auc: 0.823422\ttrain's ks: 0.485165\tvalid's auc: 0.696943\tvalid's ks: 0.288881\n",
      "[743]\ttrain's auc: 0.823562\ttrain's ks: 0.485016\tvalid's auc: 0.696943\tvalid's ks: 0.28897\n",
      "[744]\ttrain's auc: 0.823663\ttrain's ks: 0.48502\tvalid's auc: 0.696987\tvalid's ks: 0.288832\n",
      "[745]\ttrain's auc: 0.823757\ttrain's ks: 0.485878\tvalid's auc: 0.696993\tvalid's ks: 0.288367\n",
      "[746]\ttrain's auc: 0.823893\ttrain's ks: 0.486025\tvalid's auc: 0.696996\tvalid's ks: 0.288754\n",
      "[747]\ttrain's auc: 0.824054\ttrain's ks: 0.485901\tvalid's auc: 0.696992\tvalid's ks: 0.288961\n",
      "[748]\ttrain's auc: 0.824161\ttrain's ks: 0.486162\tvalid's auc: 0.696966\tvalid's ks: 0.288783\n",
      "[749]\ttrain's auc: 0.824311\ttrain's ks: 0.486875\tvalid's auc: 0.696919\tvalid's ks: 0.289128\n",
      "[750]\ttrain's auc: 0.824453\ttrain's ks: 0.486792\tvalid's auc: 0.696951\tvalid's ks: 0.289908\n",
      "[751]\ttrain's auc: 0.82456\ttrain's ks: 0.487208\tvalid's auc: 0.696933\tvalid's ks: 0.28954\n",
      "[752]\ttrain's auc: 0.824686\ttrain's ks: 0.487379\tvalid's auc: 0.696957\tvalid's ks: 0.289153\n",
      "[753]\ttrain's auc: 0.824815\ttrain's ks: 0.487841\tvalid's auc: 0.696937\tvalid's ks: 0.288505\n",
      "[754]\ttrain's auc: 0.824893\ttrain's ks: 0.487616\tvalid's auc: 0.696947\tvalid's ks: 0.288854\n",
      "[755]\ttrain's auc: 0.82502\ttrain's ks: 0.488015\tvalid's auc: 0.696985\tvalid's ks: 0.289128\n",
      "[756]\ttrain's auc: 0.825228\ttrain's ks: 0.488486\tvalid's auc: 0.697005\tvalid's ks: 0.289402\n",
      "[757]\ttrain's auc: 0.825291\ttrain's ks: 0.488408\tvalid's auc: 0.697029\tvalid's ks: 0.289861\n",
      "[758]\ttrain's auc: 0.825432\ttrain's ks: 0.488676\tvalid's auc: 0.69704\tvalid's ks: 0.289081\n",
      "[759]\ttrain's auc: 0.825583\ttrain's ks: 0.489105\tvalid's auc: 0.697016\tvalid's ks: 0.289589\n",
      "[760]\ttrain's auc: 0.825619\ttrain's ks: 0.489393\tvalid's auc: 0.697005\tvalid's ks: 0.290852\n",
      "[761]\ttrain's auc: 0.825706\ttrain's ks: 0.489135\tvalid's auc: 0.696999\tvalid's ks: 0.290531\n",
      "[762]\ttrain's auc: 0.825858\ttrain's ks: 0.489537\tvalid's auc: 0.697057\tvalid's ks: 0.290162\n",
      "[763]\ttrain's auc: 0.825991\ttrain's ks: 0.490298\tvalid's auc: 0.697068\tvalid's ks: 0.290162\n",
      "[764]\ttrain's auc: 0.826088\ttrain's ks: 0.490354\tvalid's auc: 0.697059\tvalid's ks: 0.290002\n",
      "[765]\ttrain's auc: 0.826223\ttrain's ks: 0.490469\tvalid's auc: 0.6971\tvalid's ks: 0.290416\n",
      "[766]\ttrain's auc: 0.82637\ttrain's ks: 0.490556\tvalid's auc: 0.697057\tvalid's ks: 0.290278\n",
      "[767]\ttrain's auc: 0.826503\ttrain's ks: 0.49021\tvalid's auc: 0.697084\tvalid's ks: 0.289888\n",
      "[768]\ttrain's auc: 0.826585\ttrain's ks: 0.490758\tvalid's auc: 0.697047\tvalid's ks: 0.289819\n",
      "[769]\ttrain's auc: 0.82672\ttrain's ks: 0.491152\tvalid's auc: 0.697095\tvalid's ks: 0.290278\n",
      "[770]\ttrain's auc: 0.82677\ttrain's ks: 0.491183\tvalid's auc: 0.697114\tvalid's ks: 0.29014\n",
      "[771]\ttrain's auc: 0.826964\ttrain's ks: 0.491778\tvalid's auc: 0.697067\tvalid's ks: 0.289634\n",
      "[772]\ttrain's auc: 0.827038\ttrain's ks: 0.492075\tvalid's auc: 0.697073\tvalid's ks: 0.289955\n",
      "[773]\ttrain's auc: 0.82709\ttrain's ks: 0.492164\tvalid's auc: 0.697069\tvalid's ks: 0.289886\n",
      "[774]\ttrain's auc: 0.827245\ttrain's ks: 0.491869\tvalid's auc: 0.697102\tvalid's ks: 0.290004\n",
      "[775]\ttrain's auc: 0.827275\ttrain's ks: 0.491708\tvalid's auc: 0.697099\tvalid's ks: 0.290142\n",
      "[776]\ttrain's auc: 0.827316\ttrain's ks: 0.491981\tvalid's auc: 0.697115\tvalid's ks: 0.29067\n",
      "[777]\ttrain's auc: 0.827405\ttrain's ks: 0.492082\tvalid's auc: 0.697076\tvalid's ks: 0.29028\n",
      "[778]\ttrain's auc: 0.827513\ttrain's ks: 0.492188\tvalid's auc: 0.697082\tvalid's ks: 0.290142\n",
      "[779]\ttrain's auc: 0.827588\ttrain's ks: 0.492469\tvalid's auc: 0.697089\tvalid's ks: 0.290008\n",
      "[780]\ttrain's auc: 0.827677\ttrain's ks: 0.492767\tvalid's auc: 0.697125\tvalid's ks: 0.289708\n",
      "[781]\ttrain's auc: 0.827821\ttrain's ks: 0.492887\tvalid's auc: 0.697146\tvalid's ks: 0.289529\n",
      "[782]\ttrain's auc: 0.82791\ttrain's ks: 0.493105\tvalid's auc: 0.697142\tvalid's ks: 0.289736\n",
      "[783]\ttrain's auc: 0.828022\ttrain's ks: 0.493549\tvalid's auc: 0.697164\tvalid's ks: 0.289594\n",
      "[784]\ttrain's auc: 0.828162\ttrain's ks: 0.494191\tvalid's auc: 0.697198\tvalid's ks: 0.290026\n",
      "[785]\ttrain's auc: 0.828258\ttrain's ks: 0.494161\tvalid's auc: 0.697205\tvalid's ks: 0.290004\n",
      "[786]\ttrain's auc: 0.828376\ttrain's ks: 0.494266\tvalid's auc: 0.697156\tvalid's ks: 0.289843\n",
      "[787]\ttrain's auc: 0.828484\ttrain's ks: 0.494466\tvalid's auc: 0.697167\tvalid's ks: 0.289681\n",
      "[788]\ttrain's auc: 0.828593\ttrain's ks: 0.494835\tvalid's auc: 0.697181\tvalid's ks: 0.289721\n",
      "[789]\ttrain's auc: 0.828752\ttrain's ks: 0.495242\tvalid's auc: 0.697171\tvalid's ks: 0.290142\n",
      "[790]\ttrain's auc: 0.828916\ttrain's ks: 0.496104\tvalid's auc: 0.697134\tvalid's ks: 0.289661\n",
      "[791]\ttrain's auc: 0.829066\ttrain's ks: 0.496463\tvalid's auc: 0.697142\tvalid's ks: 0.289997\n",
      "[792]\ttrain's auc: 0.82916\ttrain's ks: 0.496463\tvalid's auc: 0.697136\tvalid's ks: 0.290273\n",
      "[793]\ttrain's auc: 0.829302\ttrain's ks: 0.496657\tvalid's auc: 0.697094\tvalid's ks: 0.289924\n",
      "[794]\ttrain's auc: 0.829417\ttrain's ks: 0.496716\tvalid's auc: 0.697068\tvalid's ks: 0.289538\n",
      "[795]\ttrain's auc: 0.829546\ttrain's ks: 0.496881\tvalid's auc: 0.697082\tvalid's ks: 0.290066\n",
      "[796]\ttrain's auc: 0.829682\ttrain's ks: 0.497344\tvalid's auc: 0.697076\tvalid's ks: 0.289469\n",
      "[797]\ttrain's auc: 0.829857\ttrain's ks: 0.497728\tvalid's auc: 0.697048\tvalid's ks: 0.288872\n",
      "[798]\ttrain's auc: 0.829969\ttrain's ks: 0.497912\tvalid's auc: 0.697065\tvalid's ks: 0.288808\n",
      "[799]\ttrain's auc: 0.830045\ttrain's ks: 0.497794\tvalid's auc: 0.697059\tvalid's ks: 0.289179\n",
      "[800]\ttrain's auc: 0.830133\ttrain's ks: 0.498432\tvalid's auc: 0.697006\tvalid's ks: 0.288941\n",
      "[801]\ttrain's auc: 0.830164\ttrain's ks: 0.498668\tvalid's auc: 0.696993\tvalid's ks: 0.288494\n",
      "[802]\ttrain's auc: 0.830329\ttrain's ks: 0.498979\tvalid's auc: 0.696959\tvalid's ks: 0.288794\n",
      "[803]\ttrain's auc: 0.830389\ttrain's ks: 0.498731\tvalid's auc: 0.696972\tvalid's ks: 0.288652\n",
      "[804]\ttrain's auc: 0.830426\ttrain's ks: 0.498433\tvalid's auc: 0.696986\tvalid's ks: 0.289086\n",
      "[805]\ttrain's auc: 0.830506\ttrain's ks: 0.498588\tvalid's auc: 0.696966\tvalid's ks: 0.289404\n",
      "[806]\ttrain's auc: 0.830591\ttrain's ks: 0.498593\tvalid's auc: 0.696945\tvalid's ks: 0.289618\n",
      "[807]\ttrain's auc: 0.830698\ttrain's ks: 0.499469\tvalid's auc: 0.696931\tvalid's ks: 0.290329\n",
      "[808]\ttrain's auc: 0.830879\ttrain's ks: 0.499623\tvalid's auc: 0.696987\tvalid's ks: 0.29056\n",
      "[809]\ttrain's auc: 0.830955\ttrain's ks: 0.49973\tvalid's auc: 0.696962\tvalid's ks: 0.291178\n",
      "[810]\ttrain's auc: 0.83107\ttrain's ks: 0.499665\tvalid's auc: 0.696935\tvalid's ks: 0.290765\n",
      "[811]\ttrain's auc: 0.831188\ttrain's ks: 0.500109\tvalid's auc: 0.696953\tvalid's ks: 0.292075\n",
      "[812]\ttrain's auc: 0.831233\ttrain's ks: 0.500378\tvalid's auc: 0.696946\tvalid's ks: 0.291868\n",
      "[813]\ttrain's auc: 0.831376\ttrain's ks: 0.500385\tvalid's auc: 0.697005\tvalid's ks: 0.292142\n",
      "[814]\ttrain's auc: 0.8315\ttrain's ks: 0.500612\tvalid's auc: 0.697012\tvalid's ks: 0.291981\n",
      "[815]\ttrain's auc: 0.831535\ttrain's ks: 0.500648\tvalid's auc: 0.697017\tvalid's ks: 0.291961\n",
      "[816]\ttrain's auc: 0.831615\ttrain's ks: 0.500596\tvalid's auc: 0.697036\tvalid's ks: 0.29228\n",
      "[817]\ttrain's auc: 0.831689\ttrain's ks: 0.500596\tvalid's auc: 0.697024\tvalid's ks: 0.292509\n",
      "[818]\ttrain's auc: 0.831731\ttrain's ks: 0.50087\tvalid's auc: 0.696993\tvalid's ks: 0.292556\n",
      "[819]\ttrain's auc: 0.831863\ttrain's ks: 0.501304\tvalid's auc: 0.696972\tvalid's ks: 0.292442\n",
      "[820]\ttrain's auc: 0.831927\ttrain's ks: 0.501637\tvalid's auc: 0.696973\tvalid's ks: 0.291982\n",
      "[821]\ttrain's auc: 0.832027\ttrain's ks: 0.50183\tvalid's auc: 0.696981\tvalid's ks: 0.292304\n",
      "[822]\ttrain's auc: 0.83209\ttrain's ks: 0.501458\tvalid's auc: 0.696942\tvalid's ks: 0.292304\n",
      "[823]\ttrain's auc: 0.832228\ttrain's ks: 0.501428\tvalid's auc: 0.696978\tvalid's ks: 0.292006\n"
     ]
    },
    {
     "name": "stdout",
     "output_type": "stream",
     "text": [
      "[824]\ttrain's auc: 0.832292\ttrain's ks: 0.501575\tvalid's auc: 0.696989\tvalid's ks: 0.292144\n",
      "[825]\ttrain's auc: 0.832414\ttrain's ks: 0.501794\tvalid's auc: 0.697021\tvalid's ks: 0.292051\n",
      "[826]\ttrain's auc: 0.832455\ttrain's ks: 0.502209\tvalid's auc: 0.697017\tvalid's ks: 0.291819\n",
      "[827]\ttrain's auc: 0.83252\ttrain's ks: 0.502268\tvalid's auc: 0.697008\tvalid's ks: 0.291981\n",
      "[828]\ttrain's auc: 0.8326\ttrain's ks: 0.50219\tvalid's auc: 0.696999\tvalid's ks: 0.291567\n",
      "[829]\ttrain's auc: 0.832763\ttrain's ks: 0.503066\tvalid's auc: 0.697011\tvalid's ks: 0.291959\n",
      "[830]\ttrain's auc: 0.832903\ttrain's ks: 0.503098\tvalid's auc: 0.696982\tvalid's ks: 0.292256\n",
      "[831]\ttrain's auc: 0.833032\ttrain's ks: 0.503954\tvalid's auc: 0.696963\tvalid's ks: 0.291843\n",
      "[832]\ttrain's auc: 0.833173\ttrain's ks: 0.503944\tvalid's auc: 0.696971\tvalid's ks: 0.291917\n",
      "[833]\ttrain's auc: 0.833282\ttrain's ks: 0.503812\tvalid's auc: 0.697014\tvalid's ks: 0.291384\n",
      "[834]\ttrain's auc: 0.833407\ttrain's ks: 0.504373\tvalid's auc: 0.697028\tvalid's ks: 0.291797\n",
      "[835]\ttrain's auc: 0.833573\ttrain's ks: 0.504396\tvalid's auc: 0.697052\tvalid's ks: 0.290785\n",
      "[836]\ttrain's auc: 0.833691\ttrain's ks: 0.505048\tvalid's auc: 0.697098\tvalid's ks: 0.291171\n",
      "[837]\ttrain's auc: 0.833703\ttrain's ks: 0.504989\tvalid's auc: 0.697109\tvalid's ks: 0.291133\n",
      "[838]\ttrain's auc: 0.833817\ttrain's ks: 0.504813\tvalid's auc: 0.697116\tvalid's ks: 0.291157\n",
      "[839]\ttrain's auc: 0.83393\ttrain's ks: 0.504777\tvalid's auc: 0.69707\tvalid's ks: 0.290906\n",
      "[840]\ttrain's auc: 0.834106\ttrain's ks: 0.50526\tvalid's auc: 0.697054\tvalid's ks: 0.29063\n",
      "[841]\ttrain's auc: 0.834198\ttrain's ks: 0.505215\tvalid's auc: 0.697004\tvalid's ks: 0.290146\n",
      "[842]\ttrain's auc: 0.83427\ttrain's ks: 0.505451\tvalid's auc: 0.69703\tvalid's ks: 0.290467\n",
      "[843]\ttrain's auc: 0.83432\ttrain's ks: 0.505303\tvalid's auc: 0.697035\tvalid's ks: 0.290374\n",
      "[844]\ttrain's auc: 0.834456\ttrain's ks: 0.505339\tvalid's auc: 0.697063\tvalid's ks: 0.291226\n",
      "[845]\ttrain's auc: 0.834527\ttrain's ks: 0.505246\tvalid's auc: 0.697047\tvalid's ks: 0.29157\n",
      "[846]\ttrain's auc: 0.834644\ttrain's ks: 0.505507\tvalid's auc: 0.697046\tvalid's ks: 0.291409\n",
      "[847]\ttrain's auc: 0.834732\ttrain's ks: 0.505543\tvalid's auc: 0.697044\tvalid's ks: 0.291271\n",
      "[848]\ttrain's auc: 0.834773\ttrain's ks: 0.505831\tvalid's auc: 0.697052\tvalid's ks: 0.29171\n",
      "[849]\ttrain's auc: 0.834828\ttrain's ks: 0.506001\tvalid's auc: 0.69706\tvalid's ks: 0.291756\n",
      "[850]\ttrain's auc: 0.834846\ttrain's ks: 0.505972\tvalid's auc: 0.69705\tvalid's ks: 0.291962\n",
      "[851]\ttrain's auc: 0.834927\ttrain's ks: 0.505955\tvalid's auc: 0.697081\tvalid's ks: 0.291779\n",
      "[852]\ttrain's auc: 0.835039\ttrain's ks: 0.506408\tvalid's auc: 0.697082\tvalid's ks: 0.292169\n",
      "[853]\ttrain's auc: 0.835144\ttrain's ks: 0.506708\tvalid's auc: 0.697114\tvalid's ks: 0.292973\n",
      "[854]\ttrain's auc: 0.835294\ttrain's ks: 0.507009\tvalid's auc: 0.697112\tvalid's ks: 0.292559\n",
      "[855]\ttrain's auc: 0.835408\ttrain's ks: 0.507507\tvalid's auc: 0.69709\tvalid's ks: 0.292331\n",
      "[856]\ttrain's auc: 0.835484\ttrain's ks: 0.507357\tvalid's auc: 0.697102\tvalid's ks: 0.291919\n",
      "[857]\ttrain's auc: 0.835566\ttrain's ks: 0.507298\tvalid's auc: 0.697119\tvalid's ks: 0.292057\n",
      "[858]\ttrain's auc: 0.835702\ttrain's ks: 0.507429\tvalid's auc: 0.697077\tvalid's ks: 0.291944\n",
      "[859]\ttrain's auc: 0.835814\ttrain's ks: 0.507747\tvalid's auc: 0.697024\tvalid's ks: 0.291897\n",
      "[860]\ttrain's auc: 0.835851\ttrain's ks: 0.507635\tvalid's auc: 0.696992\tvalid's ks: 0.291692\n",
      "[861]\ttrain's auc: 0.835972\ttrain's ks: 0.50756\tvalid's auc: 0.697003\tvalid's ks: 0.293157\n",
      "[862]\ttrain's auc: 0.836034\ttrain's ks: 0.507675\tvalid's auc: 0.697031\tvalid's ks: 0.292812\n",
      "[863]\ttrain's auc: 0.836074\ttrain's ks: 0.5078\tvalid's auc: 0.697044\tvalid's ks: 0.292881\n",
      "[864]\ttrain's auc: 0.83624\ttrain's ks: 0.508556\tvalid's auc: 0.697024\tvalid's ks: 0.291373\n",
      "[865]\ttrain's auc: 0.836289\ttrain's ks: 0.508674\tvalid's auc: 0.697013\tvalid's ks: 0.29201\n",
      "[866]\ttrain's auc: 0.836381\ttrain's ks: 0.509205\tvalid's auc: 0.697027\tvalid's ks: 0.291783\n",
      "[867]\ttrain's auc: 0.836456\ttrain's ks: 0.509228\tvalid's auc: 0.697018\tvalid's ks: 0.291783\n",
      "[868]\ttrain's auc: 0.836554\ttrain's ks: 0.508628\tvalid's auc: 0.697055\tvalid's ks: 0.29265\n",
      "[869]\ttrain's auc: 0.836601\ttrain's ks: 0.508798\tvalid's auc: 0.697071\tvalid's ks: 0.29265\n",
      "[870]\ttrain's auc: 0.836705\ttrain's ks: 0.509179\tvalid's auc: 0.697063\tvalid's ks: 0.293135\n",
      "[871]\ttrain's auc: 0.836734\ttrain's ks: 0.50912\tvalid's auc: 0.697089\tvalid's ks: 0.293135\n",
      "[872]\ttrain's auc: 0.836842\ttrain's ks: 0.509212\tvalid's auc: 0.69714\tvalid's ks: 0.293182\n",
      "[873]\ttrain's auc: 0.836953\ttrain's ks: 0.509497\tvalid's auc: 0.697144\tvalid's ks: 0.292971\n",
      "[874]\ttrain's auc: 0.837043\ttrain's ks: 0.509315\tvalid's auc: 0.697185\tvalid's ks: 0.293086\n",
      "[875]\ttrain's auc: 0.837053\ttrain's ks: 0.509383\tvalid's auc: 0.697194\tvalid's ks: 0.293017\n",
      "[876]\ttrain's auc: 0.837175\ttrain's ks: 0.509796\tvalid's auc: 0.697229\tvalid's ks: 0.293155\n",
      "[877]\ttrain's auc: 0.837263\ttrain's ks: 0.509878\tvalid's auc: 0.697246\tvalid's ks: 0.293293\n",
      "[878]\ttrain's auc: 0.837407\ttrain's ks: 0.509848\tvalid's auc: 0.697262\tvalid's ks: 0.293227\n",
      "[879]\ttrain's auc: 0.837486\ttrain's ks: 0.509921\tvalid's auc: 0.697254\tvalid's ks: 0.293893\n",
      "[880]\ttrain's auc: 0.837572\ttrain's ks: 0.510275\tvalid's auc: 0.697253\tvalid's ks: 0.293939\n",
      "[881]\ttrain's auc: 0.837689\ttrain's ks: 0.510432\tvalid's auc: 0.69726\tvalid's ks: 0.294376\n",
      "[882]\ttrain's auc: 0.837824\ttrain's ks: 0.510763\tvalid's auc: 0.697271\tvalid's ks: 0.293278\n",
      "[883]\ttrain's auc: 0.837942\ttrain's ks: 0.510785\tvalid's auc: 0.697317\tvalid's ks: 0.292514\n",
      "[884]\ttrain's auc: 0.837998\ttrain's ks: 0.510874\tvalid's auc: 0.697314\tvalid's ks: 0.292928\n",
      "[885]\ttrain's auc: 0.838128\ttrain's ks: 0.510995\tvalid's auc: 0.697264\tvalid's ks: 0.293204\n",
      "[886]\ttrain's auc: 0.838283\ttrain's ks: 0.511342\tvalid's auc: 0.69719\tvalid's ks: 0.292835\n",
      "[887]\ttrain's auc: 0.838355\ttrain's ks: 0.511395\tvalid's auc: 0.697172\tvalid's ks: 0.292835\n",
      "[888]\ttrain's auc: 0.838444\ttrain's ks: 0.511519\tvalid's auc: 0.697177\tvalid's ks: 0.293227\n",
      "[889]\ttrain's auc: 0.838581\ttrain's ks: 0.511771\tvalid's auc: 0.69719\tvalid's ks: 0.292745\n",
      "[890]\ttrain's auc: 0.838652\ttrain's ks: 0.511748\tvalid's auc: 0.69716\tvalid's ks: 0.293734\n",
      "[891]\ttrain's auc: 0.838771\ttrain's ks: 0.51236\tvalid's auc: 0.697147\tvalid's ks: 0.293249\n",
      "[892]\ttrain's auc: 0.838875\ttrain's ks: 0.512537\tvalid's auc: 0.697167\tvalid's ks: 0.293137\n",
      "[893]\ttrain's auc: 0.838981\ttrain's ks: 0.513006\tvalid's auc: 0.697193\tvalid's ks: 0.293227\n",
      "[894]\ttrain's auc: 0.839124\ttrain's ks: 0.512911\tvalid's auc: 0.697182\tvalid's ks: 0.2935\n",
      "[895]\ttrain's auc: 0.839225\ttrain's ks: 0.513078\tvalid's auc: 0.697186\tvalid's ks: 0.293568\n",
      "[896]\ttrain's auc: 0.839307\ttrain's ks: 0.512915\tvalid's auc: 0.697197\tvalid's ks: 0.293592\n",
      "[897]\ttrain's auc: 0.839418\ttrain's ks: 0.512994\tvalid's auc: 0.697171\tvalid's ks: 0.293547\n",
      "[898]\ttrain's auc: 0.839541\ttrain's ks: 0.51321\tvalid's auc: 0.697189\tvalid's ks: 0.294236\n",
      "[899]\ttrain's auc: 0.839663\ttrain's ks: 0.513796\tvalid's auc: 0.697186\tvalid's ks: 0.294031\n",
      "[900]\ttrain's auc: 0.839765\ttrain's ks: 0.514016\tvalid's auc: 0.697187\tvalid's ks: 0.293273\n"
     ]
    },
    {
     "data": {
      "text/plain": [
       "LGBMClassifier(boosting_type='gbdt', class_weight=None, colsample_bytree=1,\n",
       "        importance_type='split', is_unbalance=True, learning_rate=0.01,\n",
       "        max_bin=425, max_depth=6, metrics='auc', min_child_samples=10,\n",
       "        min_child_weight=5, min_split_gain=0.0, n_estimators=900,\n",
       "        n_jobs=-1, num_leaves=40, objective='binary', random_state=None,\n",
       "        reg_alpha=3, reg_lambda=5, seed=1996, silent=True, subsample=0.8,\n",
       "        subsample_for_bin=200000, subsample_freq=1)"
      ]
     },
     "execution_count": 180,
     "metadata": {},
     "output_type": "execute_result"
    }
   ],
   "source": [
    "lgb_clf = lgb.LGBMClassifier(boosting_type='gbdt', num_leaves=40, max_depth=6, learning_rate=0.01, n_estimators=900,\n",
    "                             max_bin=425,  objective='binary', is_unbalance=True, min_child_weight=5, min_child_samples=10, \n",
    "                             subsample=0.8, subsample_freq=1, colsample_bytree=1, reg_alpha=3, reg_lambda=5, seed=1996, \n",
    "                             metrics='auc', n_jobs=-1, silent=True)\n",
    " \n",
    "lgb_clf.fit(X_train, y_train, eval_names=['train', 'valid'], eval_metric=ks, \n",
    "            eval_set=[(X_train, y_train), (X_test, y_test)])"
   ]
  },
  {
   "cell_type": "code",
   "execution_count": 183,
   "metadata": {},
   "outputs": [
    {
     "data": {
      "text/plain": [
       "0.7681989875889714"
      ]
     },
     "execution_count": 183,
     "metadata": {},
     "output_type": "execute_result"
    }
   ],
   "source": [
    "lgb_clf.score(X_train, y_train)"
   ]
  },
  {
   "cell_type": "code",
   "execution_count": 184,
   "metadata": {},
   "outputs": [
    {
     "data": {
      "text/plain": [
       "0.7168295461358595"
      ]
     },
     "execution_count": 184,
     "metadata": {},
     "output_type": "execute_result"
    }
   ],
   "source": [
    "lgb_clf.score(X_test, y_test)"
   ]
  },
  {
   "cell_type": "code",
   "execution_count": 194,
   "metadata": {},
   "outputs": [
    {
     "name": "stdout",
     "output_type": "stream",
     "text": [
      "AUC:  0.6432316595878984\n",
      "F1_Score:  0.333944436609787\n"
     ]
    }
   ],
   "source": [
    "from sklearn.metrics import f1_score, roc_auc_score\n",
    "\n",
    "print(\"AUC: \", roc_auc_score(y_test, lgb_clf.predict(X_test)))\n",
    "print(\"F1_Score: \", f1_score(y_test, lgb_clf.predict(X_test)))"
   ]
  },
  {
   "cell_type": "markdown",
   "metadata": {},
   "source": [
    "#### 偏斜类比例"
   ]
  },
  {
   "cell_type": "code",
   "execution_count": 193,
   "metadata": {
    "scrolled": true
   },
   "outputs": [
    {
     "data": {
      "text/plain": [
       "0.1291999424419023"
      ]
     },
     "execution_count": 193,
     "metadata": {},
     "output_type": "execute_result"
    }
   ],
   "source": [
    "train_data['isOverdue'].mean()"
   ]
  },
  {
   "cell_type": "markdown",
   "metadata": {},
   "source": [
    "#### 预测比例"
   ]
  },
  {
   "cell_type": "code",
   "execution_count": 189,
   "metadata": {},
   "outputs": [
    {
     "data": {
      "text/plain": [
       "0.2945620241021644"
      ]
     },
     "execution_count": 189,
     "metadata": {},
     "output_type": "execute_result"
    }
   ],
   "source": [
    "lgb_clf.predict(X_test).sum() / X_test.shape[0]"
   ]
  },
  {
   "cell_type": "code",
   "execution_count": 190,
   "metadata": {},
   "outputs": [
    {
     "data": {
      "text/plain": [
       "0.2929825012205463"
      ]
     },
     "execution_count": 190,
     "metadata": {},
     "output_type": "execute_result"
    }
   ],
   "source": [
    "lgb_clf.predict(X_train).sum() / X_train.shape[0]"
   ]
  },
  {
   "cell_type": "markdown",
   "metadata": {},
   "source": [
    "需要针对偏斜类再做一些处理，如过采样等等"
   ]
  }
 ],
 "metadata": {
  "kernelspec": {
   "display_name": "Python 3",
   "language": "python",
   "name": "python3"
  },
  "language_info": {
   "codemirror_mode": {
    "name": "ipython",
    "version": 3
   },
   "file_extension": ".py",
   "mimetype": "text/x-python",
   "name": "python",
   "nbconvert_exporter": "python",
   "pygments_lexer": "ipython3",
   "version": "3.6.2"
  }
 },
 "nbformat": 4,
 "nbformat_minor": 2
}
