{
 "cells": [
  {
   "cell_type": "code",
   "execution_count": 192,
   "metadata": {},
   "outputs": [],
   "source": [
    "import pandas as pd\n",
    "import warnings\n",
    "import matplotlib.pyplot as plt\n",
    "import seaborn as sns\n",
    "\n",
    "warnings.filterwarnings('ignore')"
   ]
  },
  {
   "cell_type": "markdown",
   "metadata": {},
   "source": [
    "### 用户基本信息表"
   ]
  },
  {
   "cell_type": "code",
   "execution_count": 193,
   "metadata": {},
   "outputs": [],
   "source": [
    "user_info_cloumns = ['user_id', 'sex', 'occupation', 'education', 'marriage', 'household_type']\n",
    "user_info = pd.read_table(\"../data/train/user_info_train.txt\", names=user_info_cloumns, sep=',')"
   ]
  },
  {
   "cell_type": "code",
   "execution_count": 194,
   "metadata": {
    "scrolled": false
   },
   "outputs": [
    {
     "name": "stdout",
     "output_type": "stream",
     "text": [
      "<class 'pandas.core.frame.DataFrame'>\n",
      "RangeIndex: 55596 entries, 0 to 55595\n",
      "Data columns (total 6 columns):\n",
      "user_id           55596 non-null int64\n",
      "sex               55596 non-null int64\n",
      "occupation        55596 non-null int64\n",
      "education         55596 non-null int64\n",
      "marriage          55596 non-null int64\n",
      "household_type    55596 non-null int64\n",
      "dtypes: int64(6)\n",
      "memory usage: 2.5 MB\n"
     ]
    }
   ],
   "source": [
    "user_info.info()"
   ]
  },
  {
   "cell_type": "markdown",
   "metadata": {},
   "source": [
    "### 银行流水记录  "
   ]
  },
  {
   "cell_type": "code",
   "execution_count": 195,
   "metadata": {},
   "outputs": [],
   "source": [
    "bank_detail = pd.read_table(\"../data/train/bank_detail_train.txt\", sep=',')"
   ]
  },
  {
   "cell_type": "code",
   "execution_count": 196,
   "metadata": {
    "scrolled": false
   },
   "outputs": [
    {
     "name": "stdout",
     "output_type": "stream",
     "text": [
      "<class 'pandas.core.frame.DataFrame'>\n",
      "RangeIndex: 6070197 entries, 0 to 6070196\n",
      "Data columns (total 5 columns):\n",
      "uid         int64\n",
      "timespan    int64\n",
      "type        int64\n",
      "amount      float64\n",
      "markup      int64\n",
      "dtypes: float64(1), int64(4)\n",
      "memory usage: 231.6 MB\n"
     ]
    }
   ],
   "source": [
    "bank_detail.info()"
   ]
  },
  {
   "cell_type": "code",
   "execution_count": 197,
   "metadata": {
    "scrolled": true
   },
   "outputs": [],
   "source": [
    "bank_detail.rename(columns={'uid':'user_id', 'timespan':'time', 'type':'deal_type', \n",
    "                            'amount':'deal_amount', 'markup':'wage_type'}, \n",
    "                   inplace=True)"
   ]
  },
  {
   "cell_type": "markdown",
   "metadata": {},
   "source": [
    "### 用户浏览记录表"
   ]
  },
  {
   "cell_type": "code",
   "execution_count": 198,
   "metadata": {},
   "outputs": [],
   "source": [
    "browse_history_columns = ['user_id', 'time', 'browse_behavior', 'browse_subbehavior']\n",
    "browse_history = pd.read_table(\"../data/train/browse_history_train.txt\", names=browse_history_columns, sep=',')"
   ]
  },
  {
   "cell_type": "code",
   "execution_count": 199,
   "metadata": {
    "scrolled": true
   },
   "outputs": [
    {
     "name": "stdout",
     "output_type": "stream",
     "text": [
      "<class 'pandas.core.frame.DataFrame'>\n",
      "RangeIndex: 22919547 entries, 0 to 22919546\n",
      "Data columns (total 4 columns):\n",
      "user_id               int64\n",
      "time                  int64\n",
      "browse_behavior       int64\n",
      "browse_subbehavior    int64\n",
      "dtypes: int64(4)\n",
      "memory usage: 699.4 MB\n"
     ]
    }
   ],
   "source": [
    "browse_history.info()"
   ]
  },
  {
   "cell_type": "markdown",
   "metadata": {},
   "source": [
    "### 信用卡账单记录  "
   ]
  },
  {
   "cell_type": "code",
   "execution_count": 200,
   "metadata": {},
   "outputs": [],
   "source": [
    "bill_detail_columns = ['user_id', 'time', 'bank_id', 'previous_bills', 'previous_repayment', 'creditCardQuota', \n",
    "                       'current_balance', 'current_MinRepay', 'consume_times', 'current_bills', 'adjust_money',\n",
    "                       'revolving_interest', 'available_money', 'cash_Advance_Limit', 'repayment_status']\n",
    "bill_detail = pd.read_table(\"../data/train/bill_detail_train.txt\", names=bill_detail_columns, sep=',')"
   ]
  },
  {
   "cell_type": "code",
   "execution_count": 201,
   "metadata": {
    "scrolled": false
   },
   "outputs": [
    {
     "name": "stdout",
     "output_type": "stream",
     "text": [
      "<class 'pandas.core.frame.DataFrame'>\n",
      "RangeIndex: 2338118 entries, 0 to 2338117\n",
      "Data columns (total 15 columns):\n",
      "user_id               int64\n",
      "time                  int64\n",
      "bank_id               int64\n",
      "previous_bills        float64\n",
      "previous_repayment    float64\n",
      "creditCardQuota       float64\n",
      "current_balance       float64\n",
      "current_MinRepay      float64\n",
      "consume_times         int64\n",
      "current_bills         float64\n",
      "adjust_money          float64\n",
      "revolving_interest    float64\n",
      "available_money       float64\n",
      "cash_Advance_Limit    float64\n",
      "repayment_status      int64\n",
      "dtypes: float64(10), int64(5)\n",
      "memory usage: 267.6 MB\n"
     ]
    }
   ],
   "source": [
    "bill_detail.info()"
   ]
  },
  {
   "cell_type": "markdown",
   "metadata": {},
   "source": [
    "### 放款时间信息"
   ]
  },
  {
   "cell_type": "code",
   "execution_count": 202,
   "metadata": {},
   "outputs": [],
   "source": [
    "loan_time_columns = ['user_id', 'time']\n",
    "loan_time = pd.read_table(\"../data/train/loan_time_train.txt\", names=loan_time_columns, sep=',')"
   ]
  },
  {
   "cell_type": "markdown",
   "metadata": {},
   "source": [
    "### 用户逾期记录   "
   ]
  },
  {
   "cell_type": "code",
   "execution_count": 203,
   "metadata": {},
   "outputs": [],
   "source": [
    "overdue_columns = ['user_id', 'isOverdue']\n",
    "overdue = pd.read_table(\"../data/train/overdue_train.txt\", names=overdue_columns, sep=',')"
   ]
  },
  {
   "cell_type": "markdown",
   "metadata": {},
   "source": [
    "# EDA"
   ]
  },
  {
   "cell_type": "markdown",
   "metadata": {},
   "source": [
    "## 周期性时间提取"
   ]
  },
  {
   "cell_type": "code",
   "execution_count": 204,
   "metadata": {},
   "outputs": [],
   "source": [
    "# import time\n",
    "\n",
    "# table_names = [bank_detail, browse_history, bill_detail, loan_time]\n",
    "\n",
    "# for value in table_names:\n",
    "#     value['month'] = value['time'].apply(lambda x: int(time.strftime(\"%m\", time.localtime(x))))\n",
    "#     value['day'] = value['time'].apply(lambda x: int(time.strftime(\"%d\", time.localtime(x))))\n",
    "#     value.drop('time', axis=1, inplace=True)"
   ]
  },
  {
   "cell_type": "markdown",
   "metadata": {},
   "source": [
    "## 数据筛选"
   ]
  },
  {
   "cell_type": "markdown",
   "metadata": {},
   "source": [
    "- 合并放款时间信息表与银行流水信息表，筛选出流水时间 <= 放款时间的记录，去重，筛选用户"
   ]
  },
  {
   "cell_type": "code",
   "execution_count": 205,
   "metadata": {},
   "outputs": [],
   "source": [
    "bankAndLoan = pd.merge(left=bank_detail, right=loan_time, how='left', on='user_id')"
   ]
  },
  {
   "cell_type": "code",
   "execution_count": 206,
   "metadata": {},
   "outputs": [],
   "source": [
    "temp = bankAndLoan.loc[bankAndLoan['time_x'] <= bankAndLoan['time_y']]\n",
    "bank_user = temp.drop_duplicates(subset=['user_id'], keep='first')[['user_id']]"
   ]
  },
  {
   "cell_type": "markdown",
   "metadata": {},
   "source": [
    "- 合并用户浏览行为表与放款时间信息表，筛选出浏览时间 <= 放款时间的记录，去重，筛选用户"
   ]
  },
  {
   "cell_type": "code",
   "execution_count": 207,
   "metadata": {},
   "outputs": [],
   "source": [
    "browseAndLoan = pd.merge(left=browse_history, right=loan_time, how='left', on='user_id')"
   ]
  },
  {
   "cell_type": "code",
   "execution_count": 208,
   "metadata": {},
   "outputs": [],
   "source": [
    "temp = browseAndLoan.loc[browseAndLoan['time_x'] <= browseAndLoan['time_y']]\n",
    "browse_user = temp.drop_duplicates(subset=['user_id'], keep='first')[['user_id']]"
   ]
  },
  {
   "cell_type": "markdown",
   "metadata": {},
   "source": [
    "- 合并放款时间信息表与信用卡账单记录表，筛选出账单时间 <= 放款时间的记录，去重，筛选用户"
   ]
  },
  {
   "cell_type": "code",
   "execution_count": 209,
   "metadata": {},
   "outputs": [],
   "source": [
    "billAndLoan = pd.merge(left=bill_detail, right=loan_time, how='left', on='user_id')"
   ]
  },
  {
   "cell_type": "code",
   "execution_count": 210,
   "metadata": {},
   "outputs": [],
   "source": [
    "temp = billAndLoan.loc[billAndLoan['time_x'] <= billAndLoan['time_y']]\n",
    "bill_user = temp.drop_duplicates(subset=['user_id'], keep='first')[['user_id']]"
   ]
  },
  {
   "cell_type": "markdown",
   "metadata": {},
   "source": [
    "- 合并以上共有id"
   ]
  },
  {
   "cell_type": "code",
   "execution_count": 211,
   "metadata": {},
   "outputs": [],
   "source": [
    "bankAndBrowse = pd.merge(left=bank_user, right=browse_user, how='inner', on='user_id')\n",
    "nunique_id = pd.merge(left=bankAndBrowse, right=bill_user, how='inner', on='user_id')"
   ]
  },
  {
   "cell_type": "markdown",
   "metadata": {},
   "source": [
    "### 银行流水记录表"
   ]
  },
  {
   "cell_type": "markdown",
   "metadata": {},
   "source": [
    "#### 筛选银行流水记录表中的数据"
   ]
  },
  {
   "cell_type": "code",
   "execution_count": 212,
   "metadata": {
    "scrolled": false
   },
   "outputs": [],
   "source": [
    "bank_select = pd.merge(left=nunique_id, right=bank_detail, how='inner', on='user_id')"
   ]
  },
  {
   "cell_type": "code",
   "execution_count": 213,
   "metadata": {
    "scrolled": true
   },
   "outputs": [
    {
     "data": {
      "text/html": [
       "<div>\n",
       "<style scoped>\n",
       "    .dataframe tbody tr th:only-of-type {\n",
       "        vertical-align: middle;\n",
       "    }\n",
       "\n",
       "    .dataframe tbody tr th {\n",
       "        vertical-align: top;\n",
       "    }\n",
       "\n",
       "    .dataframe thead th {\n",
       "        text-align: right;\n",
       "    }\n",
       "</style>\n",
       "<table border=\"1\" class=\"dataframe\">\n",
       "  <thead>\n",
       "    <tr style=\"text-align: right;\">\n",
       "      <th></th>\n",
       "      <th>user_id</th>\n",
       "      <th>time</th>\n",
       "      <th>deal_type</th>\n",
       "      <th>deal_amount</th>\n",
       "      <th>wage_type</th>\n",
       "    </tr>\n",
       "  </thead>\n",
       "  <tbody>\n",
       "    <tr>\n",
       "      <th>0</th>\n",
       "      <td>6965</td>\n",
       "      <td>5894316387</td>\n",
       "      <td>0</td>\n",
       "      <td>13.756664</td>\n",
       "      <td>0</td>\n",
       "    </tr>\n",
       "    <tr>\n",
       "      <th>1</th>\n",
       "      <td>6965</td>\n",
       "      <td>5894321388</td>\n",
       "      <td>1</td>\n",
       "      <td>13.756664</td>\n",
       "      <td>0</td>\n",
       "    </tr>\n",
       "    <tr>\n",
       "      <th>2</th>\n",
       "      <td>6965</td>\n",
       "      <td>5897553564</td>\n",
       "      <td>0</td>\n",
       "      <td>14.449810</td>\n",
       "      <td>0</td>\n",
       "    </tr>\n",
       "    <tr>\n",
       "      <th>3</th>\n",
       "      <td>6965</td>\n",
       "      <td>5897563463</td>\n",
       "      <td>1</td>\n",
       "      <td>10.527763</td>\n",
       "      <td>0</td>\n",
       "    </tr>\n",
       "    <tr>\n",
       "      <th>4</th>\n",
       "      <td>6965</td>\n",
       "      <td>5897564598</td>\n",
       "      <td>1</td>\n",
       "      <td>13.651303</td>\n",
       "      <td>0</td>\n",
       "    </tr>\n",
       "  </tbody>\n",
       "</table>\n",
       "</div>"
      ],
      "text/plain": [
       "   user_id        time  deal_type  deal_amount  wage_type\n",
       "0     6965  5894316387          0    13.756664          0\n",
       "1     6965  5894321388          1    13.756664          0\n",
       "2     6965  5897553564          0    14.449810          0\n",
       "3     6965  5897563463          1    10.527763          0\n",
       "4     6965  5897564598          1    13.651303          0"
      ]
     },
     "execution_count": 213,
     "metadata": {},
     "output_type": "execute_result"
    }
   ],
   "source": [
    "bank_select.head()"
   ]
  },
  {
   "cell_type": "markdown",
   "metadata": {},
   "source": [
    "#### 构建统计特征"
   ]
  },
  {
   "cell_type": "markdown",
   "metadata": {},
   "source": [
    "- 流水记录应该是对应每一笔交易的信息  \n",
    "- 注意合并后会产生缺失值，例如某用户没有类型 0 的交易，也就没有相应的统计特征值"
   ]
  },
  {
   "cell_type": "markdown",
   "metadata": {},
   "source": [
    "- 总收入"
   ]
  },
  {
   "cell_type": "code",
   "execution_count": 214,
   "metadata": {
    "scrolled": true
   },
   "outputs": [],
   "source": [
    "deal_type_0 = bank_select[bank_select['deal_type'] == 0].groupby(['user_id'], sort=False, as_index=False)\n",
    "total_income = deal_type_0['deal_amount'].agg({'income_num': 'count', 'income_amount': 'sum'})"
   ]
  },
  {
   "cell_type": "markdown",
   "metadata": {},
   "source": [
    "- 总支出"
   ]
  },
  {
   "cell_type": "code",
   "execution_count": 215,
   "metadata": {
    "scrolled": true
   },
   "outputs": [],
   "source": [
    "deal_type_1 = bank_select[bank_select['deal_type'] == 1].groupby(['user_id'], sort=False, as_index=False)\n",
    "total_expen = deal_type_1['deal_amount'].agg({'expen_num': 'count', 'expen_amount': 'sum'})"
   ]
  },
  {
   "cell_type": "markdown",
   "metadata": {},
   "source": [
    "- 工资收入统计"
   ]
  },
  {
   "cell_type": "code",
   "execution_count": 216,
   "metadata": {},
   "outputs": [],
   "source": [
    "wage_type_1 = bank_select[bank_select['wage_type'] == 1].groupby(['user_id'], sort=False, as_index=False)\n",
    "wage_income = wage_type_1['deal_amount'].agg({'wages_num': 'count', 'wages_amount': 'sum'})"
   ]
  },
  {
   "cell_type": "markdown",
   "metadata": {},
   "source": [
    "- 非工资性收入统计（非工资性收入，是指劳动者所取得的不属于工资范围的收入）"
   ]
  },
  {
   "cell_type": "code",
   "execution_count": 217,
   "metadata": {},
   "outputs": [],
   "source": [
    "wage_type_0 = bank_select[(bank_select['wage_type'] == 0) & (bank_select['deal_type'] == 0)].groupby(['user_id'], \n",
    "                                                                                                     sort=False, as_index=False)\n",
    "non_wage_income = wage_type_0['deal_amount'].agg({'non_wages_num': 'count', 'non_wages_amount': 'sum'})"
   ]
  },
  {
   "cell_type": "markdown",
   "metadata": {},
   "source": [
    "#### 合并数据"
   ]
  },
  {
   "cell_type": "code",
   "execution_count": 218,
   "metadata": {
    "scrolled": true
   },
   "outputs": [],
   "source": [
    "total_income = pd.merge(left=nunique_id, right=total_income, how='left', on='user_id')\n",
    "total_income = total_income.fillna(0)"
   ]
  },
  {
   "cell_type": "code",
   "execution_count": 219,
   "metadata": {},
   "outputs": [],
   "source": [
    "total_expen = pd.merge(left=nunique_id, right=total_expen, how='left', on='user_id')\n",
    "total_expen = total_expen.fillna(0)"
   ]
  },
  {
   "cell_type": "code",
   "execution_count": 220,
   "metadata": {},
   "outputs": [],
   "source": [
    "wage_income = pd.merge(left=nunique_id, right=wage_income, how='left', on='user_id')\n",
    "wage_income = wage_income.fillna(0)"
   ]
  },
  {
   "cell_type": "code",
   "execution_count": 221,
   "metadata": {},
   "outputs": [],
   "source": [
    "non_wage_income = pd.merge(left=nunique_id, right=non_wage_income, how='left', on='user_id')\n",
    "non_wage_income = non_wage_income.fillna(0)"
   ]
  },
  {
   "cell_type": "code",
   "execution_count": 222,
   "metadata": {},
   "outputs": [],
   "source": [
    "bank_train = total_income.merge(total_expen)\n",
    "bank_train = bank_train.merge(wage_income)\n",
    "bank_train = bank_train.merge(non_wage_income)"
   ]
  },
  {
   "cell_type": "markdown",
   "metadata": {},
   "source": [
    "- 数据高度相关（总收入 = 工资性收入 + 非工资性收入），可以考虑drop部分或者换表示方式，例如是否有非工资性收入特征  \n",
    "- 平均每笔交易金额做特征是否有意义？  \n",
    "- 部分用户既有工资性收入也有非工资性收入，是否可做为特征？"
   ]
  },
  {
   "cell_type": "code",
   "execution_count": 223,
   "metadata": {
    "scrolled": true
   },
   "outputs": [
    {
     "data": {
      "text/html": [
       "<div>\n",
       "<style scoped>\n",
       "    .dataframe tbody tr th:only-of-type {\n",
       "        vertical-align: middle;\n",
       "    }\n",
       "\n",
       "    .dataframe tbody tr th {\n",
       "        vertical-align: top;\n",
       "    }\n",
       "\n",
       "    .dataframe thead th {\n",
       "        text-align: right;\n",
       "    }\n",
       "</style>\n",
       "<table border=\"1\" class=\"dataframe\">\n",
       "  <thead>\n",
       "    <tr style=\"text-align: right;\">\n",
       "      <th></th>\n",
       "      <th>user_id</th>\n",
       "      <th>income_num</th>\n",
       "      <th>income_amount</th>\n",
       "      <th>expen_num</th>\n",
       "      <th>expen_amount</th>\n",
       "      <th>wages_num</th>\n",
       "      <th>wages_amount</th>\n",
       "      <th>non_wages_num</th>\n",
       "      <th>non_wages_amount</th>\n",
       "    </tr>\n",
       "  </thead>\n",
       "  <tbody>\n",
       "    <tr>\n",
       "      <th>0</th>\n",
       "      <td>6965</td>\n",
       "      <td>75.0</td>\n",
       "      <td>972.850228</td>\n",
       "      <td>289.0</td>\n",
       "      <td>3234.531975</td>\n",
       "      <td>0.0</td>\n",
       "      <td>0.000000</td>\n",
       "      <td>75.0</td>\n",
       "      <td>972.850228</td>\n",
       "    </tr>\n",
       "    <tr>\n",
       "      <th>1</th>\n",
       "      <td>1265</td>\n",
       "      <td>125.0</td>\n",
       "      <td>1708.206195</td>\n",
       "      <td>294.0</td>\n",
       "      <td>3662.457063</td>\n",
       "      <td>0.0</td>\n",
       "      <td>0.000000</td>\n",
       "      <td>125.0</td>\n",
       "      <td>1708.206195</td>\n",
       "    </tr>\n",
       "    <tr>\n",
       "      <th>2</th>\n",
       "      <td>2583</td>\n",
       "      <td>213.0</td>\n",
       "      <td>2736.475318</td>\n",
       "      <td>618.0</td>\n",
       "      <td>7064.310678</td>\n",
       "      <td>0.0</td>\n",
       "      <td>0.000000</td>\n",
       "      <td>213.0</td>\n",
       "      <td>2736.475318</td>\n",
       "    </tr>\n",
       "    <tr>\n",
       "      <th>3</th>\n",
       "      <td>29165</td>\n",
       "      <td>189.0</td>\n",
       "      <td>2277.607807</td>\n",
       "      <td>473.0</td>\n",
       "      <td>5099.861165</td>\n",
       "      <td>14.0</td>\n",
       "      <td>202.630532</td>\n",
       "      <td>175.0</td>\n",
       "      <td>2074.977275</td>\n",
       "    </tr>\n",
       "    <tr>\n",
       "      <th>4</th>\n",
       "      <td>2443</td>\n",
       "      <td>252.0</td>\n",
       "      <td>3020.288782</td>\n",
       "      <td>341.0</td>\n",
       "      <td>3762.790364</td>\n",
       "      <td>0.0</td>\n",
       "      <td>0.000000</td>\n",
       "      <td>252.0</td>\n",
       "      <td>3020.288782</td>\n",
       "    </tr>\n",
       "  </tbody>\n",
       "</table>\n",
       "</div>"
      ],
      "text/plain": [
       "   user_id  income_num  income_amount  expen_num  expen_amount  wages_num  \\\n",
       "0     6965        75.0     972.850228      289.0   3234.531975        0.0   \n",
       "1     1265       125.0    1708.206195      294.0   3662.457063        0.0   \n",
       "2     2583       213.0    2736.475318      618.0   7064.310678        0.0   \n",
       "3    29165       189.0    2277.607807      473.0   5099.861165       14.0   \n",
       "4     2443       252.0    3020.288782      341.0   3762.790364        0.0   \n",
       "\n",
       "   wages_amount  non_wages_num  non_wages_amount  \n",
       "0      0.000000           75.0        972.850228  \n",
       "1      0.000000          125.0       1708.206195  \n",
       "2      0.000000          213.0       2736.475318  \n",
       "3    202.630532          175.0       2074.977275  \n",
       "4      0.000000          252.0       3020.288782  "
      ]
     },
     "execution_count": 223,
     "metadata": {},
     "output_type": "execute_result"
    }
   ],
   "source": [
    "bank_train.head()"
   ]
  },
  {
   "cell_type": "markdown",
   "metadata": {},
   "source": [
    "- income_num : 放款前用户收入笔数  \n",
    "- income_amount: 放款前用户收入总计  \n",
    "- expen_num: 放款前用户支出笔数  \n",
    "- expen_amount: 放款前用户支出总计  \n",
    "- wages_num: 放款前用户工资收入笔数  \n",
    "- wages_amount: 放款前用户工资收入总计  \n",
    "- non_wages_num: 放款前用户非工资性收入笔数  \n",
    "- non_wages_amount: 放款前用户非工资性收入总计  "
   ]
  },
  {
   "cell_type": "markdown",
   "metadata": {},
   "source": [
    "### 信用卡账单记录表"
   ]
  },
  {
   "cell_type": "code",
   "execution_count": 224,
   "metadata": {},
   "outputs": [],
   "source": [
    "bill_select = pd.merge(left=nunique_id, right=bill_detail, how='inner', on='user_id')"
   ]
  },
  {
   "cell_type": "markdown",
   "metadata": {},
   "source": [
    "- 还款状态特征取值严重偏斜  \n",
    "- bank_id是分类型变量  \n",
    "- 时间戳是唯一标识"
   ]
  },
  {
   "cell_type": "code",
   "execution_count": 225,
   "metadata": {},
   "outputs": [
    {
     "data": {
      "text/plain": [
       "0    353084\n",
       "1        67\n",
       "Name: repayment_status, dtype: int64"
      ]
     },
     "execution_count": 225,
     "metadata": {},
     "output_type": "execute_result"
    }
   ],
   "source": [
    "bill_select['repayment_status'].value_counts()"
   ]
  },
  {
   "cell_type": "code",
   "execution_count": 226,
   "metadata": {},
   "outputs": [],
   "source": [
    "# from sklearn.preprocessing import LabelEncoder\n",
    "\n",
    "# cata_encoder = LabelEncoder()\n",
    "# cata_encoder.fit(bill_select['bank_id'])\n",
    "# bill_select['bank_id'] = cata_encoder.transform(bill_select['bank_id'])"
   ]
  },
  {
   "cell_type": "code",
   "execution_count": 227,
   "metadata": {
    "scrolled": true
   },
   "outputs": [],
   "source": [
    "temp = bill_select.groupby(['user_id'], sort=False, as_index=False)\n",
    "toGet_mean = ['previous_bills', 'previous_repayment', 'creditCardQuota', 'current_balance', \n",
    "              'current_MinRepay', 'consume_times', 'current_bills', 'adjust_money', 'revolving_interest', \n",
    "              'available_money', 'cash_Advance_Limit']\n",
    "mean_process = temp[toGet_mean].mean()\n",
    "bill_train = pd.merge(nunique_id, mean_process, how='left', on='user_id')"
   ]
  },
  {
   "cell_type": "markdown",
   "metadata": {},
   "source": [
    "### 用户浏览记录表"
   ]
  },
  {
   "cell_type": "code",
   "execution_count": 228,
   "metadata": {},
   "outputs": [],
   "source": [
    "browse_select = pd.merge(nunique_id, browse_history, how='inner', on='user_id')"
   ]
  },
  {
   "cell_type": "code",
   "execution_count": 229,
   "metadata": {},
   "outputs": [],
   "source": [
    "temp = browse_select.groupby(['user_id'], sort=False, as_index=False)\n",
    "behavior_count = temp['browse_behavior'].agg({'behavior_counts': 'count'})\n",
    "# subbehavior_count = temp['browse_subbehavior'].agg({'subbehavior_counts': 'count'})\n",
    "# 用户子行为的计数总数和用户行为的计数一样，是用户行为更细粒度的划分吗？"
   ]
  },
  {
   "cell_type": "code",
   "execution_count": 230,
   "metadata": {},
   "outputs": [],
   "source": [
    "browse_train = pd.merge(nunique_id, behavior_count, how='inner', on='user_id')"
   ]
  },
  {
   "cell_type": "markdown",
   "metadata": {},
   "source": [
    "### 用户信息表和逾期记录表"
   ]
  },
  {
   "cell_type": "code",
   "execution_count": 231,
   "metadata": {
    "scrolled": true
   },
   "outputs": [],
   "source": [
    "overdue_train = pd.merge(nunique_id, overdue, how='inner', on='user_id')\n",
    "user_train = pd.merge(nunique_id, user_info, how='inner', on='user_id')"
   ]
  },
  {
   "cell_type": "markdown",
   "metadata": {},
   "source": [
    "### 合并五张表"
   ]
  },
  {
   "cell_type": "code",
   "execution_count": 232,
   "metadata": {},
   "outputs": [],
   "source": [
    "part_train = user_train.merge(bank_train)\n",
    "part_train = part_train.merge(bill_train)\n",
    "part_train = part_train.merge(browse_train)\n",
    "part_train = part_train.merge(overdue_train)"
   ]
  },
  {
   "cell_type": "markdown",
   "metadata": {},
   "source": [
    "# 特征工程"
   ]
  },
  {
   "cell_type": "markdown",
   "metadata": {},
   "source": [
    "### 银行流水记录特征"
   ]
  },
  {
   "cell_type": "code",
   "execution_count": 233,
   "metadata": {
    "scrolled": true
   },
   "outputs": [
    {
     "data": {
      "image/png": "[encoded data removed]",
      "text/plain": [
       "<Figure size 576x576 with 2 Axes>"
      ]
     },
     "metadata": {
      "needs_background": "light"
     },
     "output_type": "display_data"
    }
   ],
   "source": [
    "bank_train_corr = bank_train.drop('user_id', axis=1).corr()\n",
    "plt.subplots(figsize=(8, 8))\n",
    "sns.heatmap(bank_train_corr, square=True, annot=True, linewidths=0.5)\n",
    "plt.show()"
   ]
  },
  {
   "cell_type": "markdown",
   "metadata": {},
   "source": [
    "- 特征高度相关，drop部分特征  "
   ]
  },
  {
   "cell_type": "code",
   "execution_count": 234,
   "metadata": {},
   "outputs": [],
   "source": [
    "bank_train['per_expen'] = bank_train['expen_amount'] // bank_train['expen_num']"
   ]
  },
  {
   "cell_type": "code",
   "execution_count": 235,
   "metadata": {
    "scrolled": true
   },
   "outputs": [],
   "source": [
    "bank_train['per_income'] = bank_train['income_amount'] // bank_train['income_num']"
   ]
  },
  {
   "cell_type": "code",
   "execution_count": 238,
   "metadata": {},
   "outputs": [],
   "source": [
    "bank_train.drop(['income_num', 'expen_num', 'wages_num', 'non_wages_num', 'non_wages_amount'], \n",
    "               axis=1, inplace=True)"
   ]
  },
  {
   "cell_type": "code",
   "execution_count": 240,
   "metadata": {},
   "outputs": [
    {
     "data": {
      "image/png": "[encoded data removed]",
      "text/plain": [
       "<Figure size 576x576 with 2 Axes>"
      ]
     },
     "metadata": {
      "needs_background": "light"
     },
     "output_type": "display_data"
    }
   ],
   "source": [
    "bank_train_corr = bank_train.drop('user_id', axis=1).corr()\n",
    "plt.subplots(figsize=(8, 8))\n",
    "sns.heatmap(bank_train_corr, square=True, annot=True, linewidths=0.5)\n",
    "plt.show()"
   ]
  },
  {
   "cell_type": "code",
   "execution_count": null,
   "metadata": {},
   "outputs": [],
   "source": []
  }
 ],
 "metadata": {
  "kernelspec": {
   "display_name": "Python 3",
   "language": "python",
   "name": "python3"
  },
  "language_info": {
   "codemirror_mode": {
    "name": "ipython",
    "version": 3
   },
   "file_extension": ".py",
   "mimetype": "text/x-python",
   "name": "python",
   "nbconvert_exporter": "python",
   "pygments_lexer": "ipython3",
   "version": "3.7.1"
  }
 },
 "nbformat": 4,
 "nbformat_minor": 2
}
