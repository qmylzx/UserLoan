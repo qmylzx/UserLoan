{
 "cells": [
  {
   "cell_type": "code",
   "execution_count": 23,
   "metadata": {},
   "outputs": [],
   "source": [
    "import pandas as pd\n",
    "import warnings\n",
    "\n",
    "warnings.filterwarnings('ignore')"
   ]
  },
  {
   "cell_type": "markdown",
   "metadata": {},
   "source": [
    "### 用户基本信息表"
   ]
  },
  {
   "cell_type": "code",
   "execution_count": 8,
   "metadata": {},
   "outputs": [],
   "source": [
    "user_info_cloumns = ['user_id', 'sex', 'occupation', 'education', 'marriage', 'household_type']\n",
    "user_info = pd.read_table(\"../data/train/user_info_train.txt\", names=user_info_cloumns, sep=',')"
   ]
  },
  {
   "cell_type": "code",
   "execution_count": 11,
   "metadata": {
    "scrolled": false
   },
   "outputs": [
    {
     "name": "stdout",
     "output_type": "stream",
     "text": [
      "<class 'pandas.core.frame.DataFrame'>\n",
      "RangeIndex: 55596 entries, 0 to 55595\n",
      "Data columns (total 6 columns):\n",
      "user_id           55596 non-null int64\n",
      "sex               55596 non-null int64\n",
      "occupation        55596 non-null int64\n",
      "education         55596 non-null int64\n",
      "marriage          55596 non-null int64\n",
      "household_type    55596 non-null int64\n",
      "dtypes: int64(6)\n",
      "memory usage: 2.5 MB\n"
     ]
    }
   ],
   "source": [
    "user_info.info()"
   ]
  },
  {
   "cell_type": "markdown",
   "metadata": {},
   "source": [
    "### 银行流水记录  "
   ]
  },
  {
   "cell_type": "code",
   "execution_count": 15,
   "metadata": {},
   "outputs": [],
   "source": [
    "bank_detail = pd.read_table(\"../data/train/bank_detail_train.txt\", sep=',')"
   ]
  },
  {
   "cell_type": "code",
   "execution_count": 18,
   "metadata": {
    "scrolled": false
   },
   "outputs": [
    {
     "name": "stdout",
     "output_type": "stream",
     "text": [
      "<class 'pandas.core.frame.DataFrame'>\n",
      "RangeIndex: 6070197 entries, 0 to 6070196\n",
      "Data columns (total 5 columns):\n",
      "uid         int64\n",
      "timespan    int64\n",
      "type        int64\n",
      "amount      float64\n",
      "markup      int64\n",
      "dtypes: float64(1), int64(4)\n",
      "memory usage: 231.6 MB\n"
     ]
    }
   ],
   "source": [
    "bank_detail.info()"
   ]
  },
  {
   "cell_type": "code",
   "execution_count": 128,
   "metadata": {
    "scrolled": true
   },
   "outputs": [],
   "source": [
    "bank_detail.rename(columns={'uid':'user_id', 'timespan':'time', 'type':'deal_type', \n",
    "                            'amount':'deal_amount', 'markup':'income'}, \n",
    "                   inplace=True)"
   ]
  },
  {
   "cell_type": "markdown",
   "metadata": {},
   "source": [
    "### 用户浏览行为  "
   ]
  },
  {
   "cell_type": "code",
   "execution_count": 19,
   "metadata": {},
   "outputs": [],
   "source": [
    "browse_history_columns = ['user_id', 'time', 'browse_behavior', 'browse_subbehavior']\n",
    "browse_history = pd.read_table(\"../data/train/browse_history_train.txt\", names=browse_history_columns, sep=',')"
   ]
  },
  {
   "cell_type": "code",
   "execution_count": 21,
   "metadata": {
    "scrolled": true
   },
   "outputs": [
    {
     "name": "stdout",
     "output_type": "stream",
     "text": [
      "<class 'pandas.core.frame.DataFrame'>\n",
      "RangeIndex: 22919547 entries, 0 to 22919546\n",
      "Data columns (total 4 columns):\n",
      "user_id               int64\n",
      "time                  int64\n",
      "browse_behavior       int64\n",
      "browse_subbehavior    int64\n",
      "dtypes: int64(4)\n",
      "memory usage: 699.4 MB\n"
     ]
    }
   ],
   "source": [
    "browse_history.info()"
   ]
  },
  {
   "cell_type": "markdown",
   "metadata": {},
   "source": [
    "### 信用卡账单记录  "
   ]
  },
  {
   "cell_type": "code",
   "execution_count": 27,
   "metadata": {},
   "outputs": [],
   "source": [
    "bill_detail_columns = ['user_id', 'time', 'bank_id', 'previous_bills', 'previous_repayment', 'creditCardQuota', \n",
    "                       'current_balance', 'current_MinRepay', 'consume_times', 'current_bills', 'adjust_money',\n",
    "                       'revolving_interest', 'available_money', 'cash_Advance_Limit', 'repayment_status']\n",
    "bill_detail = pd.read_table(\"../data/train/bill_detail_train.txt\", names=bill_detail_columns, sep=',')"
   ]
  },
  {
   "cell_type": "code",
   "execution_count": 40,
   "metadata": {
    "scrolled": false
   },
   "outputs": [
    {
     "name": "stdout",
     "output_type": "stream",
     "text": [
      "<class 'pandas.core.frame.DataFrame'>\n",
      "RangeIndex: 2338118 entries, 0 to 2338117\n",
      "Data columns (total 15 columns):\n",
      "user_id               int64\n",
      "time                  int64\n",
      "bank_id               int64\n",
      "previous_bills        float64\n",
      "previous_repayment    float64\n",
      "creditCardQuota       float64\n",
      "current_balance       float64\n",
      "current_MinRepay      float64\n",
      "consume_times         int64\n",
      "current_bills         float64\n",
      "adjust_money          float64\n",
      "revolving_interest    float64\n",
      "available_money       float64\n",
      "cash_Advance_Limit    float64\n",
      "repayment_status      int64\n",
      "dtypes: float64(10), int64(5)\n",
      "memory usage: 267.6 MB\n"
     ]
    }
   ],
   "source": [
    "bill_detail.info()"
   ]
  },
  {
   "cell_type": "markdown",
   "metadata": {},
   "source": [
    "### 放款时间信息"
   ]
  },
  {
   "cell_type": "code",
   "execution_count": 140,
   "metadata": {},
   "outputs": [],
   "source": [
    "loan_time_columns = ['user_id', 'time']\n",
    "loan_time = pd.read_table(\"../data/train/loan_time_train.txt\", names=loan_time_columns, sep=',')"
   ]
  },
  {
   "cell_type": "markdown",
   "metadata": {},
   "source": [
    "### 用户逾期记录   "
   ]
  },
  {
   "cell_type": "code",
   "execution_count": 67,
   "metadata": {},
   "outputs": [],
   "source": [
    "overdue_columns = ['user_id', 'isOverdue']\n",
    "overdue = pd.read_table(\"../data/train/overdue_train.txt\", names=overdue_columns, sep=',')"
   ]
  },
  {
   "cell_type": "markdown",
   "metadata": {},
   "source": [
    "# EDA"
   ]
  },
  {
   "cell_type": "markdown",
   "metadata": {},
   "source": [
    "### 周期性时间提取"
   ]
  },
  {
   "cell_type": "code",
   "execution_count": null,
   "metadata": {},
   "outputs": [],
   "source": [
    "# import time\n",
    "\n",
    "# table_names = [bank_detail, browse_history, bill_detail, loan_time]\n",
    "\n",
    "# for value in table_names:\n",
    "#     value['month'] = value['time'].apply(lambda x: int(time.strftime(\"%m\", time.localtime(x))))\n",
    "#     value['day'] = value['time'].apply(lambda x: int(time.strftime(\"%d\", time.localtime(x))))\n",
    "#     value.drop('time', axis=1, inplace=True)"
   ]
  },
  {
   "cell_type": "markdown",
   "metadata": {},
   "source": [
    "### 数据筛选"
   ]
  },
  {
   "cell_type": "code",
   "execution_count": 141,
   "metadata": {},
   "outputs": [],
   "source": [
    "# 合并放款时间信息表与银行流水信息表\n",
    "\n",
    "bankAndLoan = pd.merge(left=bank_detail, right=loan_time, how='left', on='user_id')"
   ]
  },
  {
   "cell_type": "code",
   "execution_count": 142,
   "metadata": {
    "scrolled": true
   },
   "outputs": [
    {
     "name": "stdout",
     "output_type": "stream",
     "text": [
      "<class 'pandas.core.frame.DataFrame'>\n",
      "Int64Index: 6070197 entries, 0 to 6070196\n",
      "Data columns (total 6 columns):\n",
      "user_id        int64\n",
      "time_x         int64\n",
      "deal_type      int64\n",
      "deal_amount    float64\n",
      "income         int64\n",
      "time_y         int64\n",
      "dtypes: float64(1), int64(5)\n",
      "memory usage: 324.2 MB\n"
     ]
    }
   ],
   "source": [
    "bankAndLoan.info()"
   ]
  },
  {
   "cell_type": "code",
   "execution_count": 144,
   "metadata": {},
   "outputs": [],
   "source": [
    "# 筛选出流水时间 <= 放款时间的记录\n",
    "\n",
    "temp = bankAndLoan.loc[bankAndLoan['time_x'] <= bankAndLoan['time_y']]"
   ]
  },
  {
   "cell_type": "code",
   "execution_count": 149,
   "metadata": {
    "scrolled": true
   },
   "outputs": [],
   "source": [
    "# 去重，筛选用户\n",
    "\n",
    "unique_id = temp.drop_duplicates(subset=['user_id'], keep='first')[['user_id']]"
   ]
  },
  {
   "cell_type": "code",
   "execution_count": null,
   "metadata": {},
   "outputs": [],
   "source": []
  }
 ],
 "metadata": {
  "kernelspec": {
   "display_name": "Python 3",
   "language": "python",
   "name": "python3"
  },
  "language_info": {
   "codemirror_mode": {
    "name": "ipython",
    "version": 3
   },
   "file_extension": ".py",
   "mimetype": "text/x-python",
   "name": "python",
   "nbconvert_exporter": "python",
   "pygments_lexer": "ipython3",
   "version": "3.7.1"
  }
 },
 "nbformat": 4,
 "nbformat_minor": 2
}
