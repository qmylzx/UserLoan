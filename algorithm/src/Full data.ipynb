{
 "cells": [
  {
   "cell_type": "code",
   "execution_count": 1,
   "metadata": {
    "collapsed": true
   },
   "outputs": [],
   "source": [
    "import pandas as pd\n",
    "import warnings\n",
    "import matplotlib.pyplot as plt\n",
    "import seaborn as sns\n",
    "import numpy as np\n",
    "import seaborn as sns\n",
    "import matplotlib.pyplot as plt\n",
    "\n",
    "warnings.filterwarnings('ignore')"
   ]
  },
  {
   "cell_type": "markdown",
   "metadata": {},
   "source": [
    "### 用户基本信息表"
   ]
  },
  {
   "cell_type": "code",
   "execution_count": 2,
   "metadata": {
    "collapsed": true
   },
   "outputs": [],
   "source": [
    "# 训练集\n",
    "user_info_cloumns = ['user_id', 'sex', 'occupation', 'education', 'marriage', 'household_type']\n",
    "user_info = pd.read_table(\"../data/train/user_info_train.txt\", names=user_info_cloumns, sep=',')\n",
    "\n",
    "# 测试集\n",
    "user_info_test = pd.read_table(\"../data/test/user_info_test.txt\", names=user_info_cloumns, sep=',')"
   ]
  },
  {
   "cell_type": "markdown",
   "metadata": {},
   "source": [
    "### 银行流水记录表"
   ]
  },
  {
   "cell_type": "code",
   "execution_count": 3,
   "metadata": {
    "collapsed": true
   },
   "outputs": [],
   "source": [
    "# 训练集\n",
    "bank_detail = pd.read_table(\"../data/train/bank_detail_train.txt\", sep=',')\n",
    "bank_detail.rename(columns={'uid':'user_id', 'timespan':'time', 'type':'deal_type', \n",
    "                            'amount':'deal_amount', 'markup':'wage_type'}, inplace=True)\n",
    "\n",
    "# 测试集\n",
    "bank_detail_columns = ['user_id', 'time', 'deal_type', 'deal_amount', 'wage_type']\n",
    "bank_detail_test = pd.read_table(\"../data/test/bank_detail_test.txt\", names=bank_detail_columns, sep=',')"
   ]
  },
  {
   "cell_type": "markdown",
   "metadata": {},
   "source": [
    "### 用户浏览记录表"
   ]
  },
  {
   "cell_type": "code",
   "execution_count": 4,
   "metadata": {
    "collapsed": true
   },
   "outputs": [],
   "source": [
    "# 训练集\n",
    "browse_history_columns = ['user_id', 'time', 'browse_behavior', 'browse_subbehavior']\n",
    "browse_history = pd.read_table(\"../data/train/browse_history_train.txt\", names=browse_history_columns, sep=',')\n",
    "\n",
    "# 测试集\n",
    "browse_history_test = pd.read_table(\"../data/test/browse_history_test.txt\", names=browse_history_columns, sep=',')"
   ]
  },
  {
   "cell_type": "markdown",
   "metadata": {},
   "source": [
    "### 信用卡账单记录表"
   ]
  },
  {
   "cell_type": "code",
   "execution_count": 5,
   "metadata": {
    "collapsed": true
   },
   "outputs": [],
   "source": [
    "# 训练集\n",
    "bill_detail_columns = ['user_id', 'time', 'bank_id', 'previous_bills', 'previous_repayment', 'creditCardQuota', \n",
    "                       'current_balance', 'current_MinRepay', 'consume_times', 'current_bills', 'adjust_money',\n",
    "                       'revolving_interest', 'available_money', 'cash_Advance_Limit', 'repayment_status']\n",
    "bill_detail = pd.read_table(\"../data/train/bill_detail_train.txt\", names=bill_detail_columns, sep=',')\n",
    "\n",
    "# 测试集\n",
    "bill_detail_test = pd.read_table(\"../data/test/bill_detail_test.txt\", names=bill_detail_columns, sep=',')"
   ]
  },
  {
   "cell_type": "markdown",
   "metadata": {},
   "source": [
    "### 放款时间信息表"
   ]
  },
  {
   "cell_type": "code",
   "execution_count": 6,
   "metadata": {
    "collapsed": true
   },
   "outputs": [],
   "source": [
    "# 训练集\n",
    "loan_time_columns = ['user_id', 'time']\n",
    "loan_time = pd.read_table(\"../data/train/loan_time_train.txt\", names=loan_time_columns, sep=',')\n",
    "\n",
    "# 测试集\n",
    "loan_time_test = pd.read_table(\"../data/test/loan_time_test.txt\", names=loan_time_columns, sep=',')"
   ]
  },
  {
   "cell_type": "markdown",
   "metadata": {},
   "source": [
    "### 用户逾期记录表 "
   ]
  },
  {
   "cell_type": "code",
   "execution_count": 7,
   "metadata": {
    "collapsed": true
   },
   "outputs": [],
   "source": [
    "# 训练集\n",
    "overdue_columns = ['user_id', 'isOverdue']\n",
    "overdue = pd.read_table(\"../data/train/overdue_train.txt\", names=overdue_columns, sep=',')\n",
    "\n",
    "# 测试集（预测标签）\n",
    "overdue_pred = pd.read_table(\"../data/test/usersID_test.txt\", names=['user_id'], sep=',')"
   ]
  },
  {
   "cell_type": "markdown",
   "metadata": {},
   "source": [
    "# EDA"
   ]
  },
  {
   "cell_type": "markdown",
   "metadata": {},
   "source": [
    "### 时间数据脱敏还原"
   ]
  },
  {
   "cell_type": "code",
   "execution_count": 99,
   "metadata": {
    "collapsed": true
   },
   "outputs": [],
   "source": [
    "# import time\n",
    "\n",
    "# table_names = [bank_detail, browse_history, bill_detail, loan_time]\n",
    "\n",
    "# for value in table_names:\n",
    "#     value['year'] = value['time'].apply(lambda x: int(time.strftime(\"%Y\", time.localtime(x))))\n",
    "#     value['month'] = value['time'].apply(lambda x: int(time.strftime(\"%m\", time.localtime(x))))\n",
    "#     value['day'] = value['time'].apply(lambda x: int(time.strftime(\"%d\", time.localtime(x))))\n",
    "#     value.drop('time', axis=1, inplace=True)"
   ]
  },
  {
   "cell_type": "code",
   "execution_count": 131,
   "metadata": {
    "collapsed": true
   },
   "outputs": [],
   "source": [
    "# 时间戳单位为秒，量级太大，转化为天\n",
    "\n",
    "table_names = [bank_detail, browse_history, bill_detail, loan_time]\n",
    "for value in table_names:\n",
    "    value['time'] = value['time'] // 86400"
   ]
  },
  {
   "cell_type": "markdown",
   "metadata": {},
   "source": [
    "### 合并user_info、bill_detail、loan_time、overdue四张表"
   ]
  },
  {
   "cell_type": "code",
   "execution_count": null,
   "metadata": {
    "collapsed": true
   },
   "outputs": [],
   "source": [
    "#　训练集\n",
    "bill_detail = pd.merge(bill_detail, loan_time, how='inner', on='user_id')\n",
    "overdue = pd.merge(overdue, user_info, how='inner', on='user_id')\n",
    "overdue = pd.merge(overdue, loan_time, how='inner', on='user_id')\n",
    "\n",
    "# 测试集\n",
    "bill_detail_test = pd.merge(bill_detail_test, loan_time_test, how='inner', on='user_id')\n",
    "overdue_pred = pd.merge(overdue_pred, user_info_test, how='inner', on='user_id')\n",
    "overdue_pred = pd.merge(overdue_pred, loan_time_test, how='inner', on='user_id')"
   ]
  },
  {
   "cell_type": "markdown",
   "metadata": {},
   "source": [
    "### user_info表中的离散属性对应的逾期情况"
   ]
  },
  {
   "cell_type": "code",
   "execution_count": null,
   "metadata": {
    "collapsed": true
   },
   "outputs": [],
   "source": [
    "sex_analysis = overdue.groupby('sex', as_index=False)['isOverdue'].agg({'sum': 'sum', 'count': 'count'})\n",
    "sex_analysis['overdue_rate'] = sex_analysis['sum'] / sex_analysis['count']\n",
    "sex_analysis"
   ]
  },
  {
   "cell_type": "code",
   "execution_count": 44,
   "metadata": {},
   "outputs": [
    {
     "data": {
      "image/png": "[encoded data removed]",
      "text/plain": [
       "<Figure size 432x288 with 1 Axes>"
      ]
     },
     "metadata": {},
     "output_type": "display_data"
    }
   ],
   "source": [
    "sns.barplot(sex_analysis['sex'], sex_analysis['overdue_rate'])\n",
    "plt.show()"
   ]
  },
  {
   "cell_type": "code",
   "execution_count": 46,
   "metadata": {
    "scrolled": true
   },
   "outputs": [
    {
     "data": {
      "text/html": [
       "<div>\n",
       "<style scoped>\n",
       "    .dataframe tbody tr th:only-of-type {\n",
       "        vertical-align: middle;\n",
       "    }\n",
       "\n",
       "    .dataframe tbody tr th {\n",
       "        vertical-align: top;\n",
       "    }\n",
       "\n",
       "    .dataframe thead th {\n",
       "        text-align: right;\n",
       "    }\n",
       "</style>\n",
       "<table border=\"1\" class=\"dataframe\">\n",
       "  <thead>\n",
       "    <tr style=\"text-align: right;\">\n",
       "      <th></th>\n",
       "      <th>occupation</th>\n",
       "      <th>sum</th>\n",
       "      <th>count</th>\n",
       "      <th>overdue_rate</th>\n",
       "    </tr>\n",
       "  </thead>\n",
       "  <tbody>\n",
       "    <tr>\n",
       "      <th>0</th>\n",
       "      <td>0</td>\n",
       "      <td>75</td>\n",
       "      <td>368</td>\n",
       "      <td>0.203804</td>\n",
       "    </tr>\n",
       "    <tr>\n",
       "      <th>1</th>\n",
       "      <td>1</td>\n",
       "      <td>17</td>\n",
       "      <td>93</td>\n",
       "      <td>0.182796</td>\n",
       "    </tr>\n",
       "    <tr>\n",
       "      <th>2</th>\n",
       "      <td>2</td>\n",
       "      <td>5204</td>\n",
       "      <td>41150</td>\n",
       "      <td>0.126464</td>\n",
       "    </tr>\n",
       "    <tr>\n",
       "      <th>3</th>\n",
       "      <td>3</td>\n",
       "      <td>746</td>\n",
       "      <td>5898</td>\n",
       "      <td>0.126484</td>\n",
       "    </tr>\n",
       "    <tr>\n",
       "      <th>4</th>\n",
       "      <td>4</td>\n",
       "      <td>1141</td>\n",
       "      <td>8087</td>\n",
       "      <td>0.141091</td>\n",
       "    </tr>\n",
       "  </tbody>\n",
       "</table>\n",
       "</div>"
      ],
      "text/plain": [
       "   occupation   sum  count  overdue_rate\n",
       "0           0    75    368      0.203804\n",
       "1           1    17     93      0.182796\n",
       "2           2  5204  41150      0.126464\n",
       "3           3   746   5898      0.126484\n",
       "4           4  1141   8087      0.141091"
      ]
     },
     "execution_count": 46,
     "metadata": {},
     "output_type": "execute_result"
    }
   ],
   "source": [
    "occupation_analysis = overdue.groupby('occupation', as_index=False)['isOverdue'].agg({'sum': 'sum', 'count': 'count'})\n",
    "occupation_analysis['overdue_rate'] = occupation_analysis['sum'] / occupation_analysis['count']\n",
    "occupation_analysis"
   ]
  },
  {
   "cell_type": "code",
   "execution_count": 51,
   "metadata": {},
   "outputs": [
    {
     "data": {
      "image/png": "[encoded data removed]",
      "text/plain": [
       "<Figure size 432x288 with 1 Axes>"
      ]
     },
     "metadata": {},
     "output_type": "display_data"
    }
   ],
   "source": [
    "sns.barplot(occupation_analysis['occupation'], occupation_analysis['overdue_rate'])\n",
    "plt.show()"
   ]
  },
  {
   "cell_type": "code",
   "execution_count": 48,
   "metadata": {},
   "outputs": [
    {
     "data": {
      "text/html": [
       "<div>\n",
       "<style scoped>\n",
       "    .dataframe tbody tr th:only-of-type {\n",
       "        vertical-align: middle;\n",
       "    }\n",
       "\n",
       "    .dataframe tbody tr th {\n",
       "        vertical-align: top;\n",
       "    }\n",
       "\n",
       "    .dataframe thead th {\n",
       "        text-align: right;\n",
       "    }\n",
       "</style>\n",
       "<table border=\"1\" class=\"dataframe\">\n",
       "  <thead>\n",
       "    <tr style=\"text-align: right;\">\n",
       "      <th></th>\n",
       "      <th>education</th>\n",
       "      <th>sum</th>\n",
       "      <th>count</th>\n",
       "      <th>overdue_rate</th>\n",
       "    </tr>\n",
       "  </thead>\n",
       "  <tbody>\n",
       "    <tr>\n",
       "      <th>0</th>\n",
       "      <td>0</td>\n",
       "      <td>75</td>\n",
       "      <td>369</td>\n",
       "      <td>0.203252</td>\n",
       "    </tr>\n",
       "    <tr>\n",
       "      <th>1</th>\n",
       "      <td>1</td>\n",
       "      <td>18</td>\n",
       "      <td>226</td>\n",
       "      <td>0.079646</td>\n",
       "    </tr>\n",
       "    <tr>\n",
       "      <th>2</th>\n",
       "      <td>2</td>\n",
       "      <td>813</td>\n",
       "      <td>8483</td>\n",
       "      <td>0.095839</td>\n",
       "    </tr>\n",
       "    <tr>\n",
       "      <th>3</th>\n",
       "      <td>3</td>\n",
       "      <td>2977</td>\n",
       "      <td>23530</td>\n",
       "      <td>0.126519</td>\n",
       "    </tr>\n",
       "    <tr>\n",
       "      <th>4</th>\n",
       "      <td>4</td>\n",
       "      <td>3300</td>\n",
       "      <td>22988</td>\n",
       "      <td>0.143553</td>\n",
       "    </tr>\n",
       "  </tbody>\n",
       "</table>\n",
       "</div>"
      ],
      "text/plain": [
       "   education   sum  count  overdue_rate\n",
       "0          0    75    369      0.203252\n",
       "1          1    18    226      0.079646\n",
       "2          2   813   8483      0.095839\n",
       "3          3  2977  23530      0.126519\n",
       "4          4  3300  22988      0.143553"
      ]
     },
     "execution_count": 48,
     "metadata": {},
     "output_type": "execute_result"
    }
   ],
   "source": [
    "education_analysis = overdue.groupby('education', as_index=False)['isOverdue'].agg({'sum': 'sum', 'count': 'count'})\n",
    "education_analysis['overdue_rate'] = education_analysis['sum'] / education_analysis['count']\n",
    "education_analysis"
   ]
  },
  {
   "cell_type": "code",
   "execution_count": 52,
   "metadata": {},
   "outputs": [
    {
     "data": {
      "image/png": "[encoded data removed]",
      "text/plain": [
       "<Figure size 432x288 with 1 Axes>"
      ]
     },
     "metadata": {},
     "output_type": "display_data"
    }
   ],
   "source": [
    "sns.barplot(education_analysis['education'], education_analysis['overdue_rate'])\n",
    "plt.show()"
   ]
  },
  {
   "cell_type": "code",
   "execution_count": 49,
   "metadata": {},
   "outputs": [
    {
     "data": {
      "text/html": [
       "<div>\n",
       "<style scoped>\n",
       "    .dataframe tbody tr th:only-of-type {\n",
       "        vertical-align: middle;\n",
       "    }\n",
       "\n",
       "    .dataframe tbody tr th {\n",
       "        vertical-align: top;\n",
       "    }\n",
       "\n",
       "    .dataframe thead th {\n",
       "        text-align: right;\n",
       "    }\n",
       "</style>\n",
       "<table border=\"1\" class=\"dataframe\">\n",
       "  <thead>\n",
       "    <tr style=\"text-align: right;\">\n",
       "      <th></th>\n",
       "      <th>marriage</th>\n",
       "      <th>sum</th>\n",
       "      <th>count</th>\n",
       "      <th>overdue_rate</th>\n",
       "    </tr>\n",
       "  </thead>\n",
       "  <tbody>\n",
       "    <tr>\n",
       "      <th>0</th>\n",
       "      <td>0</td>\n",
       "      <td>75</td>\n",
       "      <td>370</td>\n",
       "      <td>0.202703</td>\n",
       "    </tr>\n",
       "    <tr>\n",
       "      <th>1</th>\n",
       "      <td>1</td>\n",
       "      <td>3169</td>\n",
       "      <td>25098</td>\n",
       "      <td>0.126265</td>\n",
       "    </tr>\n",
       "    <tr>\n",
       "      <th>2</th>\n",
       "      <td>2</td>\n",
       "      <td>805</td>\n",
       "      <td>6038</td>\n",
       "      <td>0.133322</td>\n",
       "    </tr>\n",
       "    <tr>\n",
       "      <th>3</th>\n",
       "      <td>3</td>\n",
       "      <td>2909</td>\n",
       "      <td>22554</td>\n",
       "      <td>0.128979</td>\n",
       "    </tr>\n",
       "    <tr>\n",
       "      <th>4</th>\n",
       "      <td>4</td>\n",
       "      <td>210</td>\n",
       "      <td>1471</td>\n",
       "      <td>0.142760</td>\n",
       "    </tr>\n",
       "    <tr>\n",
       "      <th>5</th>\n",
       "      <td>5</td>\n",
       "      <td>15</td>\n",
       "      <td>65</td>\n",
       "      <td>0.230769</td>\n",
       "    </tr>\n",
       "  </tbody>\n",
       "</table>\n",
       "</div>"
      ],
      "text/plain": [
       "   marriage   sum  count  overdue_rate\n",
       "0         0    75    370      0.202703\n",
       "1         1  3169  25098      0.126265\n",
       "2         2   805   6038      0.133322\n",
       "3         3  2909  22554      0.128979\n",
       "4         4   210   1471      0.142760\n",
       "5         5    15     65      0.230769"
      ]
     },
     "execution_count": 49,
     "metadata": {},
     "output_type": "execute_result"
    }
   ],
   "source": [
    "marriage_analysis = overdue.groupby('marriage', as_index=False)['isOverdue'].agg({'sum': 'sum', 'count': 'count'})\n",
    "marriage_analysis['overdue_rate'] = marriage_analysis['sum'] / marriage_analysis['count']\n",
    "marriage_analysis"
   ]
  },
  {
   "cell_type": "code",
   "execution_count": 53,
   "metadata": {},
   "outputs": [
    {
     "data": {
      "image/png": "[encoded data removed]",
      "text/plain": [
       "<Figure size 432x288 with 1 Axes>"
      ]
     },
     "metadata": {},
     "output_type": "display_data"
    }
   ],
   "source": [
    "sns.barplot(marriage_analysis['marriage'], marriage_analysis['overdue_rate'])\n",
    "plt.show()"
   ]
  },
  {
   "cell_type": "code",
   "execution_count": 50,
   "metadata": {},
   "outputs": [
    {
     "data": {
      "text/html": [
       "<div>\n",
       "<style scoped>\n",
       "    .dataframe tbody tr th:only-of-type {\n",
       "        vertical-align: middle;\n",
       "    }\n",
       "\n",
       "    .dataframe tbody tr th {\n",
       "        vertical-align: top;\n",
       "    }\n",
       "\n",
       "    .dataframe thead th {\n",
       "        text-align: right;\n",
       "    }\n",
       "</style>\n",
       "<table border=\"1\" class=\"dataframe\">\n",
       "  <thead>\n",
       "    <tr style=\"text-align: right;\">\n",
       "      <th></th>\n",
       "      <th>household_type</th>\n",
       "      <th>sum</th>\n",
       "      <th>count</th>\n",
       "      <th>overdue_rate</th>\n",
       "    </tr>\n",
       "  </thead>\n",
       "  <tbody>\n",
       "    <tr>\n",
       "      <th>0</th>\n",
       "      <td>0</td>\n",
       "      <td>75</td>\n",
       "      <td>369</td>\n",
       "      <td>0.203252</td>\n",
       "    </tr>\n",
       "    <tr>\n",
       "      <th>1</th>\n",
       "      <td>1</td>\n",
       "      <td>2033</td>\n",
       "      <td>17105</td>\n",
       "      <td>0.118854</td>\n",
       "    </tr>\n",
       "    <tr>\n",
       "      <th>2</th>\n",
       "      <td>2</td>\n",
       "      <td>2145</td>\n",
       "      <td>15557</td>\n",
       "      <td>0.137880</td>\n",
       "    </tr>\n",
       "    <tr>\n",
       "      <th>3</th>\n",
       "      <td>3</td>\n",
       "      <td>978</td>\n",
       "      <td>8216</td>\n",
       "      <td>0.119036</td>\n",
       "    </tr>\n",
       "    <tr>\n",
       "      <th>4</th>\n",
       "      <td>4</td>\n",
       "      <td>1952</td>\n",
       "      <td>14349</td>\n",
       "      <td>0.136037</td>\n",
       "    </tr>\n",
       "  </tbody>\n",
       "</table>\n",
       "</div>"
      ],
      "text/plain": [
       "   household_type   sum  count  overdue_rate\n",
       "0               0    75    369      0.203252\n",
       "1               1  2033  17105      0.118854\n",
       "2               2  2145  15557      0.137880\n",
       "3               3   978   8216      0.119036\n",
       "4               4  1952  14349      0.136037"
      ]
     },
     "execution_count": 50,
     "metadata": {},
     "output_type": "execute_result"
    }
   ],
   "source": [
    "household_type_analysis = overdue.groupby('household_type', as_index=False)['isOverdue'].agg({'sum': 'sum', 'count': 'count'})\n",
    "household_type_analysis['overdue_rate'] = household_type_analysis['sum'] / household_type_analysis['count']\n",
    "household_type_analysis"
   ]
  },
  {
   "cell_type": "code",
   "execution_count": 54,
   "metadata": {
    "scrolled": true
   },
   "outputs": [
    {
     "data": {
      "image/png": "[encoded data removed]",
      "text/plain": [
       "<Figure size 432x288 with 1 Axes>"
      ]
     },
     "metadata": {},
     "output_type": "display_data"
    }
   ],
   "source": [
    "sns.barplot(household_type_analysis['household_type'], household_type_analysis['overdue_rate'])\n",
    "plt.show()"
   ]
  },
  {
   "cell_type": "markdown",
   "metadata": {},
   "source": [
    "## 训练数据构建"
   ]
  },
  {
   "cell_type": "code",
   "execution_count": 260,
   "metadata": {
    "collapsed": true
   },
   "outputs": [],
   "source": [
    "train_data = pd.merge(user_info, overdue, how='inner', on='user_id')"
   ]
  },
  {
   "cell_type": "markdown",
   "metadata": {},
   "source": [
    "当前结论：  \n",
    "- 时间戳非线性脱敏，应该只保留了先后关系，无法提取周期性特征  \n",
    "- 对于55596个用户，在部分表中存在大量缺失值  "
   ]
  },
  {
   "cell_type": "markdown",
   "metadata": {},
   "source": [
    "### 时间已知 / 放款前 用户浏览行为"
   ]
  },
  {
   "cell_type": "code",
   "execution_count": 261,
   "metadata": {
    "collapsed": true,
    "scrolled": true
   },
   "outputs": [],
   "source": [
    "browseAndLoan = pd.merge(browse_history, loan_time, how='left', on='user_id')"
   ]
  },
  {
   "cell_type": "code",
   "execution_count": 262,
   "metadata": {
    "collapsed": true,
    "scrolled": true
   },
   "outputs": [],
   "source": [
    "# 浏览记录时间 <= 放款时间，时间非0（0代表未知）\n",
    "temp = browseAndLoan[(browseAndLoan['time_x'] <= browseAndLoan['time_y']) & (browseAndLoan['time_x'] > 0)]"
   ]
  },
  {
   "cell_type": "code",
   "execution_count": 263,
   "metadata": {
    "collapsed": true
   },
   "outputs": [],
   "source": [
    "# 行为是连续数值表示的类别特征\n",
    "# 子行为应该是用户行为更细粒度的划分，所以将两者转化为字符串拼接，作为新特征\n",
    "temp['cross_behavior'] = temp['browse_behavior'].astype(str).values + '_' + temp['browse_subbehavior'].astype(str).values"
   ]
  },
  {
   "cell_type": "code",
   "execution_count": 264,
   "metadata": {
    "collapsed": true
   },
   "outputs": [],
   "source": [
    "# 对cross_behavior进行自然数编码\n",
    "\n",
    "from sklearn.preprocessing import LabelEncoder\n",
    "\n",
    "encoder = LabelEncoder()\n",
    "encoder.fit(temp['cross_behavior'])\n",
    "temp['cross_behavior'] = encoder.transform(temp['cross_behavior'])"
   ]
  },
  {
   "cell_type": "code",
   "execution_count": 265,
   "metadata": {
    "collapsed": true,
    "scrolled": true
   },
   "outputs": [],
   "source": [
    "# 每个用户进行了多少次行为统计\n",
    "to_merge = temp.groupby('user_id', as_index=False)['browse_behavior'].agg({'behavior_count': 'count'})\n",
    "train_data = train_data.merge(to_merge, how='left', on='user_id')"
   ]
  },
  {
   "cell_type": "code",
   "execution_count": 266,
   "metadata": {
    "collapsed": true
   },
   "outputs": [],
   "source": [
    "#　获取numpy数组的众数\n",
    "\n",
    "from scipy import stats\n",
    "\n",
    "def get_mode(arr):\n",
    "    return stats.mode(arr)[0][0]"
   ]
  },
  {
   "cell_type": "code",
   "execution_count": 267,
   "metadata": {
    "collapsed": true
   },
   "outputs": [],
   "source": [
    "# 每个用户的不同行为数和频率最高的行为\n",
    "to_merge = temp.groupby('user_id', as_index=False)['browse_behavior'].agg({'unique_behavior': 'nunique', \n",
    "                                                                           'browse_behavior_mode': get_mode})\n",
    "train_data = train_data.merge(to_merge, how='left', on='user_id')"
   ]
  },
  {
   "cell_type": "code",
   "execution_count": 268,
   "metadata": {
    "collapsed": true,
    "scrolled": true
   },
   "outputs": [],
   "source": [
    "# 每个用户的不同子行为数和频率最高的子行为\n",
    "to_merge = temp.groupby('user_id', as_index=False)['browse_subbehavior'].agg({'unique_subbehavior': 'nunique', \n",
    "                                                                              'browse_subbehavior_mode': get_mode})\n",
    "train_data = train_data.merge(to_merge, how='left', on='user_id')"
   ]
  },
  {
   "cell_type": "code",
   "execution_count": 269,
   "metadata": {
    "collapsed": true
   },
   "outputs": [],
   "source": [
    "# 每个用户的不同交叉行为数和频率最高的交叉行为\n",
    "to_merge = temp.groupby('user_id', as_index=False)['cross_behavior'].agg({'cross_behavior': 'nunique', \n",
    "                                                                          'cross_behavior_mode': get_mode})\n",
    "train_data = train_data.merge(to_merge, how='left', on='user_id')"
   ]
  },
  {
   "cell_type": "markdown",
   "metadata": {},
   "source": [
    "统计用户频率最高 / 最低的行为 / 子行为，由于特征构建速度过慢，后期再考虑"
   ]
  },
  {
   "cell_type": "markdown",
   "metadata": {},
   "source": [
    "### 时间已知 / 放款前 银行流水记录"
   ]
  },
  {
   "cell_type": "code",
   "execution_count": 272,
   "metadata": {
    "collapsed": true
   },
   "outputs": [],
   "source": [
    "bankAndLoan = pd.merge(bank_detail, loan_time, how='left', on='user_id')"
   ]
  },
  {
   "cell_type": "code",
   "execution_count": 273,
   "metadata": {
    "collapsed": true
   },
   "outputs": [],
   "source": [
    "temp = bankAndLoan.loc[(bankAndLoan['time_x'] <= bankAndLoan['time_y']) & (bankAndLoan['time_x'] > 0)]"
   ]
  },
  {
   "cell_type": "markdown",
   "metadata": {},
   "source": [
    "- 收入 = 工资性收入 + 非工资性收入  \n",
    "- 支出统计  \n",
    "- 支出与收入的比较  \n",
    "- 支出和收入的其他统计特征，如均值、方差、极差之类"
   ]
  },
  {
   "cell_type": "markdown",
   "metadata": {},
   "source": [
    "#### 每个用户的收入情况"
   ]
  },
  {
   "cell_type": "code",
   "execution_count": 274,
   "metadata": {
    "collapsed": true,
    "scrolled": true
   },
   "outputs": [],
   "source": [
    "# 变异系数\n",
    "def get_cv(arr):\n",
    "    return arr.mean() / arr.std()\n",
    "\n",
    "deal_type_0 = temp[temp['deal_type'] == 0].groupby(['user_id'], as_index=False)\n",
    "income_analysis = deal_type_0['deal_amount'].agg({'income_count': 'count', 'income_sum': 'sum', \n",
    "                                                  'income_median': 'median', 'income_std': 'std',\n",
    "                                                  'income_cv': get_cv})"
   ]
  },
  {
   "cell_type": "code",
   "execution_count": 275,
   "metadata": {
    "collapsed": true,
    "scrolled": false
   },
   "outputs": [],
   "source": [
    "train_data = train_data.merge(income_analysis, how='left', on='user_id')"
   ]
  },
  {
   "cell_type": "markdown",
   "metadata": {},
   "source": [
    "#### 每个用户的支出情况"
   ]
  },
  {
   "cell_type": "code",
   "execution_count": 276,
   "metadata": {
    "collapsed": true,
    "scrolled": true
   },
   "outputs": [],
   "source": [
    "deal_type_1 = temp[temp['deal_type'] == 1].groupby(['user_id'], as_index=False)\n",
    "expen_analysis = deal_type_1['deal_amount'].agg({'expen_count': 'count', 'expen_sum': 'sum', \n",
    "                                                 'expen_median': 'median', 'expen_std': 'std',\n",
    "                                                 'expen_cv': get_cv})"
   ]
  },
  {
   "cell_type": "code",
   "execution_count": 277,
   "metadata": {
    "collapsed": true
   },
   "outputs": [],
   "source": [
    "train_data = train_data.merge(expen_analysis, how='left', on='user_id')"
   ]
  },
  {
   "cell_type": "markdown",
   "metadata": {},
   "source": [
    "#### 工资性收入"
   ]
  },
  {
   "cell_type": "code",
   "execution_count": 278,
   "metadata": {},
   "outputs": [
    {
     "data": {
      "text/html": [
       "<div>\n",
       "<style scoped>\n",
       "    .dataframe tbody tr th:only-of-type {\n",
       "        vertical-align: middle;\n",
       "    }\n",
       "\n",
       "    .dataframe tbody tr th {\n",
       "        vertical-align: top;\n",
       "    }\n",
       "\n",
       "    .dataframe thead th {\n",
       "        text-align: right;\n",
       "    }\n",
       "</style>\n",
       "<table border=\"1\" class=\"dataframe\">\n",
       "  <thead>\n",
       "    <tr style=\"text-align: right;\">\n",
       "      <th></th>\n",
       "      <th>user_id</th>\n",
       "      <th>time_x</th>\n",
       "      <th>deal_type</th>\n",
       "      <th>deal_amount</th>\n",
       "      <th>wage_type</th>\n",
       "      <th>time_y</th>\n",
       "    </tr>\n",
       "  </thead>\n",
       "  <tbody>\n",
       "  </tbody>\n",
       "</table>\n",
       "</div>"
      ],
      "text/plain": [
       "Empty DataFrame\n",
       "Columns: [user_id, time_x, deal_type, deal_amount, wage_type, time_y]\n",
       "Index: []"
      ]
     },
     "execution_count": 278,
     "metadata": {},
     "output_type": "execute_result"
    }
   ],
   "source": [
    "# 若存在某条记录既是工资收入，又是支出，逻辑矛盾，归为异常数据\n",
    "temp[(temp['wage_type'] == 1) & (temp['deal_type'] == 1)]"
   ]
  },
  {
   "cell_type": "code",
   "execution_count": 279,
   "metadata": {
    "collapsed": true,
    "scrolled": true
   },
   "outputs": [],
   "source": [
    "wage_type_1 = temp[temp['wage_type'] == 1].groupby(['user_id'], as_index=False)\n",
    "wage_income = wage_type_1['deal_amount'].agg({'wages_count': 'count', 'wages_sum': 'sum'})"
   ]
  },
  {
   "cell_type": "markdown",
   "metadata": {},
   "source": [
    "- 绝大部分用户缺失，是没有统计到，还是没有工资性收入？  \n",
    "- 是否有工资性收入应该是个强特"
   ]
  },
  {
   "cell_type": "code",
   "execution_count": 280,
   "metadata": {
    "collapsed": true
   },
   "outputs": [],
   "source": [
    "train_data = train_data.merge(wage_income, how='left', on='user_id')"
   ]
  },
  {
   "cell_type": "markdown",
   "metadata": {},
   "source": [
    "#### 非工资性收入"
   ]
  },
  {
   "cell_type": "code",
   "execution_count": 281,
   "metadata": {
    "collapsed": true,
    "scrolled": true
   },
   "outputs": [],
   "source": [
    "wage_type_0 = temp[(temp['wage_type'] == 0) & (temp['deal_type'] == 0)].groupby(['user_id'], as_index=False)\n",
    "non_wage_income = wage_type_0['deal_amount'].agg({'non_wages_sum': 'sum', 'non_wages_median': 'median', \n",
    "                                                  'non_wages_std': 'std', 'non_wages_cv': get_cv})"
   ]
  },
  {
   "cell_type": "code",
   "execution_count": 282,
   "metadata": {
    "collapsed": true
   },
   "outputs": [],
   "source": [
    "train_data = train_data.merge(non_wage_income, how='left', on='user_id')"
   ]
  },
  {
   "cell_type": "markdown",
   "metadata": {},
   "source": [
    "#### 平均每笔收入"
   ]
  },
  {
   "cell_type": "code",
   "execution_count": 283,
   "metadata": {
    "collapsed": true
   },
   "outputs": [],
   "source": [
    "train_data['per_income'] = train_data['income_sum'] / train_data['income_count']"
   ]
  },
  {
   "cell_type": "markdown",
   "metadata": {},
   "source": [
    "#### 平均每笔支出"
   ]
  },
  {
   "cell_type": "code",
   "execution_count": 284,
   "metadata": {
    "collapsed": true
   },
   "outputs": [],
   "source": [
    "train_data['per_expen'] = train_data['expen_sum'] / train_data['expen_count']"
   ]
  },
  {
   "cell_type": "markdown",
   "metadata": {},
   "source": [
    "### 时间已知 / 放款前 信用卡账单"
   ]
  },
  {
   "cell_type": "code",
   "execution_count": 286,
   "metadata": {
    "collapsed": true
   },
   "outputs": [],
   "source": [
    "billAndLoan = bill_detail.merge(loan_time, how='left', on='user_id')"
   ]
  },
  {
   "cell_type": "code",
   "execution_count": 287,
   "metadata": {
    "collapsed": true,
    "scrolled": false
   },
   "outputs": [],
   "source": [
    "temp = billAndLoan.loc[(billAndLoan['time_x'] <= billAndLoan['time_y']) & (billAndLoan['time_x'] > 0)]"
   ]
  },
  {
   "cell_type": "code",
   "execution_count": 288,
   "metadata": {
    "scrolled": false
   },
   "outputs": [
    {
     "data": {
      "text/plain": [
       "0    1533504\n",
       "1        199\n",
       "Name: repayment_status, dtype: int64"
      ]
     },
     "execution_count": 288,
     "metadata": {},
     "output_type": "execute_result"
    }
   ],
   "source": [
    "temp['repayment_status'].value_counts()"
   ]
  },
  {
   "cell_type": "markdown",
   "metadata": {},
   "source": [
    "极少数人是非欠款状态"
   ]
  },
  {
   "cell_type": "code",
   "execution_count": 289,
   "metadata": {
    "collapsed": true,
    "scrolled": false
   },
   "outputs": [],
   "source": [
    "ccards_num = temp.groupby(['user_id'], as_index=False)['bank_id'].agg({'bank_num': 'nunique'})\n",
    "train_data = train_data.merge(ccards_num, how='left', on='user_id')"
   ]
  },
  {
   "cell_type": "code",
   "execution_count": 290,
   "metadata": {
    "collapsed": true,
    "scrolled": true
   },
   "outputs": [],
   "source": [
    "to_merge = temp.groupby(['user_id'], as_index=False)['previous_bills'].agg({'previous_bills_count': 'count', \n",
    "                                                                            'previous_bills_sum': 'sum', \n",
    "                                                                            'previous_bills_median': 'median', \n",
    "                                                                            'previous_bills_std': 'std', \n",
    "                                                                            'previous_bills_max': 'max', \n",
    "                                                                            'previous_bills_min': 'min'})\n",
    "train_data = train_data.merge(to_merge, how='left', on='user_id')"
   ]
  },
  {
   "cell_type": "code",
   "execution_count": 291,
   "metadata": {
    "collapsed": true,
    "scrolled": true
   },
   "outputs": [],
   "source": [
    "to_merge = temp.groupby(['user_id'], as_index=False)['previous_repayment'].agg({'previous_repayment_sum': 'sum', \n",
    "                                                                                'previous_repayment_median': 'median', \n",
    "                                                                                'previous_repayment_std': 'std', \n",
    "                                                                                'previous_repayment_max': 'max', \n",
    "                                                                                'previous_repayment_min': 'min'})\n",
    "train_data = train_data.merge(to_merge, how='left', on='user_id')"
   ]
  },
  {
   "cell_type": "code",
   "execution_count": 292,
   "metadata": {
    "collapsed": true
   },
   "outputs": [],
   "source": [
    "to_merge = temp.groupby(['user_id'], as_index=False)['creditCardQuota'].agg({'creditCardQuota_mean': 'mean', \n",
    "                                                                             'creditCardQuota_max': 'max', \n",
    "                                                                             'creditCardQuota_min': 'min'})\n",
    "train_data = train_data.merge(to_merge, how='left', on='user_id')"
   ]
  },
  {
   "cell_type": "code",
   "execution_count": 293,
   "metadata": {
    "collapsed": true
   },
   "outputs": [],
   "source": [
    "to_merge = temp.groupby(['user_id'], as_index=False)['current_balance'].agg({'current_balance_mean': 'mean', \n",
    "                                                                             'current_balance_sum': 'sum'})\n",
    "train_data = train_data.merge(to_merge, how='left', on='user_id')"
   ]
  },
  {
   "cell_type": "code",
   "execution_count": 294,
   "metadata": {
    "collapsed": true
   },
   "outputs": [],
   "source": [
    "to_merge = temp.groupby(['user_id'], as_index=False)['current_MinRepay'].agg({'current_MinRepay_mean': 'mean', \n",
    "                                                                              'current_MinRepay_sum': 'sum'})\n",
    "train_data = train_data.merge(to_merge, how='left', on='user_id')"
   ]
  },
  {
   "cell_type": "code",
   "execution_count": 295,
   "metadata": {
    "collapsed": true
   },
   "outputs": [],
   "source": [
    "# 极差\n",
    "def get_ptp(arr):\n",
    "    return arr.max() - arr.min()\n",
    "\n",
    "to_merge = temp.groupby(['user_id'], as_index=False)['consume_times'].agg({'consume_times_median': 'median', \n",
    "                                                                           'consume_times_sum': 'sum', \n",
    "                                                                           'consume_times_ptp': get_ptp})\n",
    "train_data = train_data.merge(to_merge, how='left', on='user_id')"
   ]
  },
  {
   "cell_type": "code",
   "execution_count": 296,
   "metadata": {
    "collapsed": true
   },
   "outputs": [],
   "source": [
    "to_merge = temp.groupby(['user_id'], as_index=False)['current_bills'].agg({'current_bills_sum': 'sum', \n",
    "                                                                           'current_bills_median': 'median', \n",
    "                                                                           'current_bills_std': 'std', \n",
    "                                                                           'current_bills_max': 'max', \n",
    "                                                                           'current_bills_min': 'min'})\n",
    "train_data = train_data.merge(to_merge, how='left', on='user_id')"
   ]
  },
  {
   "cell_type": "code",
   "execution_count": 297,
   "metadata": {
    "collapsed": true
   },
   "outputs": [],
   "source": [
    "to_merge = temp.groupby(['user_id'], as_index=False)['adjust_money'].agg({'adjust_money_mean': 'mean', \n",
    "                                                                          'adjust_money_sum': 'sum', \n",
    "                                                                          'adjust_money_max': 'max',\n",
    "                                                                          'adjust_money_min': 'min'})\n",
    "train_data = train_data.merge(to_merge, how='left', on='user_id')"
   ]
  },
  {
   "cell_type": "code",
   "execution_count": 298,
   "metadata": {
    "collapsed": true
   },
   "outputs": [],
   "source": [
    "to_merge = temp.groupby(['user_id'], as_index=False)['revolving_interest'].agg({'revolving_interest_mean': 'mean', \n",
    "                                                                                'revolving_interest_sum': 'sum', \n",
    "                                                                                'revolving_interest_max': 'max',\n",
    "                                                                                'revolving_interest_min': 'min'})\n",
    "train_data = train_data.merge(to_merge, how='left', on='user_id')"
   ]
  },
  {
   "cell_type": "code",
   "execution_count": 299,
   "metadata": {
    "collapsed": true
   },
   "outputs": [],
   "source": [
    "to_merge = temp.groupby(['user_id'], as_index=False)['available_money'].agg({'available_money_sum': 'sum', \n",
    "                                                                             'available_money_median': 'median', \n",
    "                                                                             'available_money_std': 'std', \n",
    "                                                                             'available_money_max': 'max', \n",
    "                                                                             'available_money_min': 'min'})\n",
    "train_data = train_data.merge(to_merge, how='left', on='user_id')"
   ]
  },
  {
   "cell_type": "code",
   "execution_count": 300,
   "metadata": {
    "collapsed": true
   },
   "outputs": [],
   "source": [
    "to_merge = temp.groupby(['user_id'], as_index=False)['cash_Advance_Limit'].agg({'cash_Advance_Limit_mean': 'mean', \n",
    "                                                                                'cash_Advance_Limit_max': 'max'})\n",
    "train_data = train_data.merge(to_merge, how='left', on='user_id')"
   ]
  },
  {
   "cell_type": "code",
   "execution_count": 301,
   "metadata": {
    "collapsed": true
   },
   "outputs": [],
   "source": [
    "# 还款次数 / 统计次数\n",
    "repay_proba = temp.groupby(['user_id'], as_index=False)['repayment_status'].agg({'isRepay': 'mean'})\n",
    "# 是否有过还款状态为 1 （已还款；可能存在分期还款）\n",
    "repay_proba['isRepay'] = repay_proba['isRepay'].apply(lambda x: 1 if x > 0 else 0)\n",
    "train_data = train_data.merge(repay_proba, how='left', on='user_id')"
   ]
  },
  {
   "cell_type": "code",
   "execution_count": 302,
   "metadata": {
    "collapsed": true,
    "scrolled": false
   },
   "outputs": [],
   "source": [
    "# 上期还款差额 = 上期账单金额 - 上期还款金额\n",
    "temp['pre_payBalance'] = temp['previous_bills'] - temp['previous_repayment']\n",
    "to_merge = temp.groupby(['user_id'], as_index=False)['pre_payBalance'].agg({'pre_payBalance_meam': 'mean', \n",
    "                                                                            'pre_payBalance_max': 'max'})\n",
    "train_data = train_data.merge(to_merge, how='left', on='user_id')"
   ]
  },
  {
   "cell_type": "markdown",
   "metadata": {},
   "source": [
    "### 时间已知 / 放款后 信用卡账单"
   ]
  },
  {
   "cell_type": "code",
   "execution_count": 303,
   "metadata": {},
   "outputs": [
    {
     "data": {
      "text/plain": [
       "34998"
      ]
     },
     "execution_count": 303,
     "metadata": {},
     "output_type": "execute_result"
    }
   ],
   "source": [
    "billAndLoan.loc[(billAndLoan['time_x'] > billAndLoan['time_y']) & (billAndLoan['time_y'] > 0)]['user_id'].nunique()"
   ]
  },
  {
   "cell_type": "markdown",
   "metadata": {},
   "source": [
    "后期再考虑"
   ]
  },
  {
   "cell_type": "markdown",
   "metadata": {},
   "source": [
    "### 缺失值分析"
   ]
  },
  {
   "cell_type": "code",
   "execution_count": 304,
   "metadata": {},
   "outputs": [
    {
     "data": {
      "text/plain": [
       "wages_count                52678\n",
       "wages_sum                  52678\n",
       "non_wages_cv               46352\n",
       "non_wages_std              46352\n",
       "expen_std                  46343\n",
       "expen_cv                   46343\n",
       "income_std                 46340\n",
       "income_cv                  46340\n",
       "expen_median               46338\n",
       "per_expen                  46338\n",
       "expen_count                46338\n",
       "expen_sum                  46338\n",
       "non_wages_sum              46333\n",
       "non_wages_median           46333\n",
       "income_median              46329\n",
       "income_sum                 46329\n",
       "income_count               46329\n",
       "per_income                 46329\n",
       "current_bills_std          15401\n",
       "previous_bills_std         15401\n",
       "previous_repayment_std     15401\n",
       "available_money_std        15401\n",
       "previous_repayment_min     12536\n",
       "bank_num                   12536\n",
       "previous_bills_count       12536\n",
       "previous_bills_sum         12536\n",
       "previous_bills_median      12536\n",
       "previous_bills_max         12536\n",
       "previous_bills_min         12536\n",
       "previous_repayment_sum     12536\n",
       "                           ...  \n",
       "available_money_max        12536\n",
       "available_money_median     12536\n",
       "available_money_sum        12536\n",
       "revolving_interest_min     12536\n",
       "revolving_interest_max     12536\n",
       "revolving_interest_sum     12536\n",
       "creditCardQuota_max        12536\n",
       "adjust_money_min           12536\n",
       "adjust_money_max           12536\n",
       "revolving_interest_mean    12536\n",
       "adjust_money_mean          12536\n",
       "consume_times_median       12536\n",
       "creditCardQuota_min        12536\n",
       "current_balance_mean       12536\n",
       "current_bills_min          12536\n",
       "current_MinRepay_mean      12536\n",
       "current_MinRepay_sum       12536\n",
       "current_balance_sum        12536\n",
       "consume_times_sum          12536\n",
       "consume_times_ptp          12536\n",
       "current_bills_sum          12536\n",
       "current_bills_median       12536\n",
       "current_bills_max          12536\n",
       "cross_behavior_mode        10651\n",
       "cross_behavior             10651\n",
       "browse_subbehavior_mode    10651\n",
       "unique_subbehavior         10651\n",
       "browse_behavior_mode       10651\n",
       "unique_behavior            10651\n",
       "behavior_count             10651\n",
       "Length: 70, dtype: int64"
      ]
     },
     "execution_count": 304,
     "metadata": {},
     "output_type": "execute_result"
    }
   ],
   "source": [
    "# 各属性的缺失值数量\n",
    "miss = train_data.drop('isOverdue', axis=1).isnull().sum()\n",
    "miss[miss > 0].sort_values(ascending=False)"
   ]
  },
  {
   "cell_type": "markdown",
   "metadata": {},
   "source": [
    "**部分缺失值太大的特征考虑drop，不然会作为噪声影响模型**"
   ]
  },
  {
   "cell_type": "code",
   "execution_count": 305,
   "metadata": {
    "collapsed": true
   },
   "outputs": [],
   "source": [
    "drop_features = ['wages_count', 'wages_sum', 'non_wages_cv', 'non_wages_std', 'expen_cv', 'income_cv']\n",
    "train_data.drop(drop_features, axis=1, inplace=True)"
   ]
  },
  {
   "cell_type": "code",
   "execution_count": 306,
   "metadata": {
    "collapsed": true
   },
   "outputs": [],
   "source": [
    "fill_median = ['expen_count', 'income_count', 'previous_bills_count']\n",
    "\n",
    "# 标志缺失\n",
    "for feat in fill_median:\n",
    "    train_data[feat + '_nan'] = train_data[feat].isnull().apply(lambda x: 1 if x == True else 0)\n",
    "\n",
    "# 连续整型用中位数填充\n",
    "for feat in fill_median:\n",
    "    train_data[feat] = train_data[feat].fillna(train_data[feat].median())  "
   ]
  },
  {
   "cell_type": "code",
   "execution_count": 307,
   "metadata": {
    "collapsed": true
   },
   "outputs": [],
   "source": [
    "fill_mode = ['bank_num', 'cross_behavior', 'unique_subbehavior', 'unique_behavior', 'behavior_count', \n",
    "             'browse_behavior_mode', 'browse_subbehavior_mode', 'cross_behavior_mode']\n",
    "\n",
    "# 标志缺失\n",
    "for feat in fill_mode:\n",
    "    train_data[feat + '_nan'] = train_data[feat].isnull().apply(lambda x: 1 if x == True else 0)\n",
    "\n",
    "# 离散整型用众数填充\n",
    "for feat in fill_mode:\n",
    "    train_data[feat] = train_data[feat].fillna(train_data[feat].mode()[0])"
   ]
  },
  {
   "cell_type": "code",
   "execution_count": 308,
   "metadata": {
    "collapsed": true
   },
   "outputs": [],
   "source": [
    "# 还款状态，缺失值用-1填充，作为一个新类别\n",
    "train_data['isRepay'] = train_data['isRepay'].fillna(-1)"
   ]
  },
  {
   "cell_type": "code",
   "execution_count": 309,
   "metadata": {
    "collapsed": true
   },
   "outputs": [],
   "source": [
    "miss = train_data.drop('isOverdue', axis=1).isnull().sum()\n",
    "numeric_feats = miss[miss > 0].keys().values\n",
    "\n",
    "# 标志缺失\n",
    "for feat in numeric_feats:\n",
    "    train_data[feat + '_nan'] = train_data[feat].isnull().apply(lambda x: 1 if x == True else 0)\n",
    "\n",
    "# 连续数值型使用均值填充\n",
    "for feat in numeric_feats:\n",
    "    train_data[feat] = train_data[feat].fillna(train_data[feat].mean())"
   ]
  },
  {
   "cell_type": "markdown",
   "metadata": {},
   "source": [
    "### 特征重要性评估"
   ]
  },
  {
   "cell_type": "code",
   "execution_count": 318,
   "metadata": {
    "collapsed": true
   },
   "outputs": [],
   "source": [
    "X_train = train_data.drop(['user_id', 'isOverdue'], axis=1).values\n",
    "y_train = train_data['isOverdue']"
   ]
  },
  {
   "cell_type": "code",
   "execution_count": 319,
   "metadata": {
    "scrolled": false
   },
   "outputs": [
    {
     "data": {
      "text/plain": [
       "RandomForestClassifier(bootstrap=True, class_weight=None, criterion='gini',\n",
       "            max_depth=None, max_features='auto', max_leaf_nodes=None,\n",
       "            min_impurity_decrease=0.0, min_impurity_split=None,\n",
       "            min_samples_leaf=1, min_samples_split=2,\n",
       "            min_weight_fraction_leaf=0.0, n_estimators=2000, n_jobs=-1,\n",
       "            oob_score=False, random_state=1996, verbose=0,\n",
       "            warm_start=False)"
      ]
     },
     "execution_count": 319,
     "metadata": {},
     "output_type": "execute_result"
    }
   ],
   "source": [
    "from sklearn.ensemble import RandomForestClassifier\n",
    "\n",
    "rf_clf = RandomForestClassifier(n_estimators=2000, random_state=1996, n_jobs=-1)\n",
    "rf_clf.fit(X_train, y_train)"
   ]
  },
  {
   "cell_type": "code",
   "execution_count": 334,
   "metadata": {
    "collapsed": true,
    "scrolled": true
   },
   "outputs": [],
   "source": [
    "features = train_data.drop(['user_id', 'isOverdue'], axis=1).columns.values\n",
    "features_importance = pd.DataFrame({'features': features, 'importance': rf_clf.feature_importances_ * 100}).sort_values('importance', ascending=False)"
   ]
  },
  {
   "cell_type": "code",
   "execution_count": 360,
   "metadata": {
    "collapsed": true,
    "scrolled": false
   },
   "outputs": [],
   "source": [
    "# pd.set_option('max_rows', features_importance.shape[0])   # tips显示指定长度的行而不会省略\n",
    "\n",
    "# 筛选特征\n",
    "select_features = features_importance[features_importance['importance'] > 0.2]['features'].values"
   ]
  },
  {
   "cell_type": "markdown",
   "metadata": {},
   "source": [
    "### 模型构建"
   ]
  },
  {
   "cell_type": "code",
   "execution_count": 373,
   "metadata": {
    "collapsed": true,
    "scrolled": true
   },
   "outputs": [],
   "source": [
    "data = train_data[select_features].values\n",
    "labels = train_data['isOverdue'].values"
   ]
  },
  {
   "cell_type": "code",
   "execution_count": 314,
   "metadata": {
    "collapsed": true
   },
   "outputs": [],
   "source": [
    "from sklearn import metrics\n",
    "\n",
    "def ks(y_true, y_predict_proba):\n",
    "     # false_postive, true_postive, threshold, 标签1 --> postive\n",
    "    fpr, tpr, thres = metrics.roc_curve(y_true, y_predict_proba, pos_label=1)\n",
    "    return 'ks', abs(fpr - tpr).max(), False"
   ]
  },
  {
   "cell_type": "code",
   "execution_count": null,
   "metadata": {
    "collapsed": true
   },
   "outputs": [],
   "source": [
    "# from sklearn.model_selection import GridSearchCV\n",
    "# import lightgbm as lgb\n",
    "\n",
    "# params = {\n",
    "#     'num_leaves': [10, 20, 30],\n",
    "#     'max_depth': [6, 7, 8],\n",
    "#     'learning_rate': [0.7, 0.5, 0.3],\n",
    "#     'n_estimators': [10, 20, 40]\n",
    "# }\n",
    "\n",
    "# lgb_clf = lgb.LGBMClassifier(boosting_type='gbdt', objective='binary', random_state=1996, n_jobs=-1, silent=True)\n",
    "# grid_search = GridSearchCV(estimator=lgb_clf, param_grid=params, cv=5, verbose=1)\n",
    "# grid_search.fit(data, labels)"
   ]
  },
  {
   "cell_type": "code",
   "execution_count": 377,
   "metadata": {
    "collapsed": true
   },
   "outputs": [],
   "source": [
    "from sklearn.model_selection import train_test_split\n",
    "import lightgbm as lgb\n",
    "\n",
    "X_train, X_test, y_train, y_test = train_test_split(data, labels, test_size=0.3, random_state=1996)"
   ]
  },
  {
   "cell_type": "code",
   "execution_count": 418,
   "metadata": {
    "scrolled": false
   },
   "outputs": [
    {
     "name": "stdout",
     "output_type": "stream",
     "text": [
      "[1]\ttrain's binary_logloss: 0.381981\ttrain's ks: 0.215059\tvalid's binary_logloss: 0.385624\tvalid's ks: 0.199872\n",
      "[2]\ttrain's binary_logloss: 0.381449\ttrain's ks: 0.223291\tvalid's binary_logloss: 0.385064\tvalid's ks: 0.20934\n",
      "[3]\ttrain's binary_logloss: 0.381944\ttrain's ks: 0.226727\tvalid's binary_logloss: 0.385533\tvalid's ks: 0.210083\n",
      "[4]\ttrain's binary_logloss: 0.383145\ttrain's ks: 0.231795\tvalid's binary_logloss: 0.386716\tvalid's ks: 0.218088\n",
      "[5]\ttrain's binary_logloss: 0.384894\ttrain's ks: 0.232126\tvalid's binary_logloss: 0.388574\tvalid's ks: 0.220171\n",
      "[6]\ttrain's binary_logloss: 0.387094\ttrain's ks: 0.238066\tvalid's binary_logloss: 0.39091\tvalid's ks: 0.213852\n",
      "[7]\ttrain's binary_logloss: 0.389624\ttrain's ks: 0.240018\tvalid's binary_logloss: 0.39358\tvalid's ks: 0.214743\n",
      "[8]\ttrain's binary_logloss: 0.392331\ttrain's ks: 0.243257\tvalid's binary_logloss: 0.396328\tvalid's ks: 0.216343\n",
      "[9]\ttrain's binary_logloss: 0.395285\ttrain's ks: 0.249836\tvalid's binary_logloss: 0.399363\tvalid's ks: 0.224834\n",
      "[10]\ttrain's binary_logloss: 0.398537\ttrain's ks: 0.255558\tvalid's binary_logloss: 0.402669\tvalid's ks: 0.225644\n",
      "[11]\ttrain's binary_logloss: 0.401956\ttrain's ks: 0.256985\tvalid's binary_logloss: 0.406095\tvalid's ks: 0.225444\n",
      "[12]\ttrain's binary_logloss: 0.405482\ttrain's ks: 0.258898\tvalid's binary_logloss: 0.409699\tvalid's ks: 0.226426\n",
      "[13]\ttrain's binary_logloss: 0.409085\ttrain's ks: 0.26186\tvalid's binary_logloss: 0.413424\tvalid's ks: 0.228174\n",
      "[14]\ttrain's binary_logloss: 0.412759\ttrain's ks: 0.264801\tvalid's binary_logloss: 0.417192\tvalid's ks: 0.229473\n",
      "[15]\ttrain's binary_logloss: 0.416317\ttrain's ks: 0.266716\tvalid's binary_logloss: 0.420817\tvalid's ks: 0.233464\n",
      "[16]\ttrain's binary_logloss: 0.420113\ttrain's ks: 0.266668\tvalid's binary_logloss: 0.42467\tvalid's ks: 0.230604\n",
      "[17]\ttrain's binary_logloss: 0.423909\ttrain's ks: 0.266845\tvalid's binary_logloss: 0.428564\tvalid's ks: 0.233935\n",
      "[18]\ttrain's binary_logloss: 0.427627\ttrain's ks: 0.270116\tvalid's binary_logloss: 0.432355\tvalid's ks: 0.240679\n",
      "[19]\ttrain's binary_logloss: 0.43149\ttrain's ks: 0.271506\tvalid's binary_logloss: 0.436282\tvalid's ks: 0.240356\n",
      "[20]\ttrain's binary_logloss: 0.435137\ttrain's ks: 0.276564\tvalid's binary_logloss: 0.440029\tvalid's ks: 0.245519\n",
      "[21]\ttrain's binary_logloss: 0.438894\ttrain's ks: 0.275456\tvalid's binary_logloss: 0.443851\tvalid's ks: 0.246165\n",
      "[22]\ttrain's binary_logloss: 0.442693\ttrain's ks: 0.277368\tvalid's binary_logloss: 0.447728\tvalid's ks: 0.244553\n",
      "[23]\ttrain's binary_logloss: 0.446628\ttrain's ks: 0.278235\tvalid's binary_logloss: 0.451737\tvalid's ks: 0.244024\n",
      "[24]\ttrain's binary_logloss: 0.450377\ttrain's ks: 0.281398\tvalid's binary_logloss: 0.455604\tvalid's ks: 0.246374\n",
      "[25]\ttrain's binary_logloss: 0.453899\ttrain's ks: 0.283423\tvalid's binary_logloss: 0.459288\tvalid's ks: 0.24762\n",
      "[26]\ttrain's binary_logloss: 0.457489\ttrain's ks: 0.286067\tvalid's binary_logloss: 0.463035\tvalid's ks: 0.246303\n",
      "[27]\ttrain's binary_logloss: 0.460993\ttrain's ks: 0.287311\tvalid's binary_logloss: 0.466639\tvalid's ks: 0.249436\n",
      "[28]\ttrain's binary_logloss: 0.464606\ttrain's ks: 0.287108\tvalid's binary_logloss: 0.470315\tvalid's ks: 0.250334\n",
      "[29]\ttrain's binary_logloss: 0.468217\ttrain's ks: 0.288324\tvalid's binary_logloss: 0.474014\tvalid's ks: 0.248337\n",
      "[30]\ttrain's binary_logloss: 0.47182\ttrain's ks: 0.288432\tvalid's binary_logloss: 0.477777\tvalid's ks: 0.248924\n",
      "[31]\ttrain's binary_logloss: 0.47528\ttrain's ks: 0.290438\tvalid's binary_logloss: 0.481402\tvalid's ks: 0.247703\n",
      "[32]\ttrain's binary_logloss: 0.478756\ttrain's ks: 0.29096\tvalid's binary_logloss: 0.484944\tvalid's ks: 0.247726\n",
      "[33]\ttrain's binary_logloss: 0.481977\ttrain's ks: 0.293112\tvalid's binary_logloss: 0.48828\tvalid's ks: 0.250252\n",
      "[34]\ttrain's binary_logloss: 0.485146\ttrain's ks: 0.294775\tvalid's binary_logloss: 0.491589\tvalid's ks: 0.25121\n",
      "[35]\ttrain's binary_logloss: 0.488366\ttrain's ks: 0.295371\tvalid's binary_logloss: 0.494891\tvalid's ks: 0.250635\n",
      "[36]\ttrain's binary_logloss: 0.491573\ttrain's ks: 0.29644\tvalid's binary_logloss: 0.498182\tvalid's ks: 0.252815\n",
      "[37]\ttrain's binary_logloss: 0.494425\ttrain's ks: 0.299428\tvalid's binary_logloss: 0.501187\tvalid's ks: 0.25564\n",
      "[38]\ttrain's binary_logloss: 0.497541\ttrain's ks: 0.300637\tvalid's binary_logloss: 0.504438\tvalid's ks: 0.255805\n",
      "[39]\ttrain's binary_logloss: 0.500368\ttrain's ks: 0.302452\tvalid's binary_logloss: 0.507422\tvalid's ks: 0.256108\n",
      "[40]\ttrain's binary_logloss: 0.503122\ttrain's ks: 0.304587\tvalid's binary_logloss: 0.510272\tvalid's ks: 0.25831\n",
      "[41]\ttrain's binary_logloss: 0.506042\ttrain's ks: 0.304387\tvalid's binary_logloss: 0.513296\tvalid's ks: 0.25893\n",
      "[42]\ttrain's binary_logloss: 0.508731\ttrain's ks: 0.304347\tvalid's binary_logloss: 0.516048\tvalid's ks: 0.25891\n",
      "[43]\ttrain's binary_logloss: 0.511237\ttrain's ks: 0.307639\tvalid's binary_logloss: 0.51872\tvalid's ks: 0.262887\n",
      "[44]\ttrain's binary_logloss: 0.513787\ttrain's ks: 0.309041\tvalid's binary_logloss: 0.521433\tvalid's ks: 0.262729\n",
      "[45]\ttrain's binary_logloss: 0.51624\ttrain's ks: 0.31014\tvalid's binary_logloss: 0.523992\tvalid's ks: 0.26319\n",
      "[46]\ttrain's binary_logloss: 0.518608\ttrain's ks: 0.310897\tvalid's binary_logloss: 0.526501\tvalid's ks: 0.262861\n",
      "[47]\ttrain's binary_logloss: 0.520955\ttrain's ks: 0.314657\tvalid's binary_logloss: 0.528953\tvalid's ks: 0.262344\n",
      "[48]\ttrain's binary_logloss: 0.523033\ttrain's ks: 0.31704\tvalid's binary_logloss: 0.53121\tvalid's ks: 0.264315\n",
      "[49]\ttrain's binary_logloss: 0.525177\ttrain's ks: 0.321258\tvalid's binary_logloss: 0.533458\tvalid's ks: 0.267458\n",
      "[50]\ttrain's binary_logloss: 0.527306\ttrain's ks: 0.32208\tvalid's binary_logloss: 0.535815\tvalid's ks: 0.266164\n",
      "[51]\ttrain's binary_logloss: 0.529574\ttrain's ks: 0.323202\tvalid's binary_logloss: 0.538194\tvalid's ks: 0.268256\n",
      "[52]\ttrain's binary_logloss: 0.531634\ttrain's ks: 0.322824\tvalid's binary_logloss: 0.540342\tvalid's ks: 0.26785\n",
      "[53]\ttrain's binary_logloss: 0.533596\ttrain's ks: 0.32485\tvalid's binary_logloss: 0.542471\tvalid's ks: 0.26863\n",
      "[54]\ttrain's binary_logloss: 0.535554\ttrain's ks: 0.326254\tvalid's binary_logloss: 0.544567\tvalid's ks: 0.269124\n",
      "[55]\ttrain's binary_logloss: 0.537586\ttrain's ks: 0.326824\tvalid's binary_logloss: 0.546688\tvalid's ks: 0.269413\n",
      "[56]\ttrain's binary_logloss: 0.539377\ttrain's ks: 0.327289\tvalid's binary_logloss: 0.548613\tvalid's ks: 0.270151\n",
      "[57]\ttrain's binary_logloss: 0.541124\ttrain's ks: 0.327869\tvalid's binary_logloss: 0.550528\tvalid's ks: 0.27269\n",
      "[58]\ttrain's binary_logloss: 0.542833\ttrain's ks: 0.329251\tvalid's binary_logloss: 0.552429\tvalid's ks: 0.273224\n",
      "[59]\ttrain's binary_logloss: 0.54442\ttrain's ks: 0.329894\tvalid's binary_logloss: 0.554188\tvalid's ks: 0.274252\n",
      "[60]\ttrain's binary_logloss: 0.545992\ttrain's ks: 0.331728\tvalid's binary_logloss: 0.555893\tvalid's ks: 0.275561\n",
      "[61]\ttrain's binary_logloss: 0.547601\ttrain's ks: 0.332389\tvalid's binary_logloss: 0.557557\tvalid's ks: 0.274418\n",
      "[62]\ttrain's binary_logloss: 0.549192\ttrain's ks: 0.333586\tvalid's binary_logloss: 0.559301\tvalid's ks: 0.274055\n",
      "[63]\ttrain's binary_logloss: 0.550724\ttrain's ks: 0.334215\tvalid's binary_logloss: 0.560932\tvalid's ks: 0.274361\n",
      "[64]\ttrain's binary_logloss: 0.552362\ttrain's ks: 0.335699\tvalid's binary_logloss: 0.562676\tvalid's ks: 0.275113\n",
      "[65]\ttrain's binary_logloss: 0.553852\ttrain's ks: 0.336067\tvalid's binary_logloss: 0.564292\tvalid's ks: 0.274951\n",
      "[66]\ttrain's binary_logloss: 0.555222\ttrain's ks: 0.337508\tvalid's binary_logloss: 0.565813\tvalid's ks: 0.273922\n",
      "[67]\ttrain's binary_logloss: 0.556592\ttrain's ks: 0.338844\tvalid's binary_logloss: 0.567218\tvalid's ks: 0.275641\n",
      "[68]\ttrain's binary_logloss: 0.557816\ttrain's ks: 0.33992\tvalid's binary_logloss: 0.568582\tvalid's ks: 0.276844\n",
      "[69]\ttrain's binary_logloss: 0.559023\ttrain's ks: 0.342518\tvalid's binary_logloss: 0.569984\tvalid's ks: 0.275465\n",
      "[70]\ttrain's binary_logloss: 0.560217\ttrain's ks: 0.341951\tvalid's binary_logloss: 0.571317\tvalid's ks: 0.277058\n",
      "[71]\ttrain's binary_logloss: 0.561343\ttrain's ks: 0.342785\tvalid's binary_logloss: 0.572618\tvalid's ks: 0.277492\n",
      "[72]\ttrain's binary_logloss: 0.562449\ttrain's ks: 0.344161\tvalid's binary_logloss: 0.57395\tvalid's ks: 0.278944\n",
      "[73]\ttrain's binary_logloss: 0.563664\ttrain's ks: 0.344567\tvalid's binary_logloss: 0.575278\tvalid's ks: 0.277005\n",
      "[74]\ttrain's binary_logloss: 0.564645\ttrain's ks: 0.344477\tvalid's binary_logloss: 0.576467\tvalid's ks: 0.276223\n",
      "[75]\ttrain's binary_logloss: 0.565479\ttrain's ks: 0.345758\tvalid's binary_logloss: 0.577449\tvalid's ks: 0.278569\n",
      "[76]\ttrain's binary_logloss: 0.566459\ttrain's ks: 0.346371\tvalid's binary_logloss: 0.578537\tvalid's ks: 0.279393\n",
      "[77]\ttrain's binary_logloss: 0.567321\ttrain's ks: 0.347395\tvalid's binary_logloss: 0.579608\tvalid's ks: 0.279063\n"
     ]
    },
    {
     "name": "stdout",
     "output_type": "stream",
     "text": [
      "[78]\ttrain's binary_logloss: 0.568122\ttrain's ks: 0.348407\tvalid's binary_logloss: 0.580551\tvalid's ks: 0.276746\n",
      "[79]\ttrain's binary_logloss: 0.568937\ttrain's ks: 0.348642\tvalid's binary_logloss: 0.581478\tvalid's ks: 0.277553\n",
      "[80]\ttrain's binary_logloss: 0.569491\ttrain's ks: 0.349872\tvalid's binary_logloss: 0.582245\tvalid's ks: 0.279773\n",
      "[81]\ttrain's binary_logloss: 0.570248\ttrain's ks: 0.350271\tvalid's binary_logloss: 0.583188\tvalid's ks: 0.281103\n",
      "[82]\ttrain's binary_logloss: 0.571077\ttrain's ks: 0.352135\tvalid's binary_logloss: 0.584171\tvalid's ks: 0.281324\n",
      "[83]\ttrain's binary_logloss: 0.571616\ttrain's ks: 0.353604\tvalid's binary_logloss: 0.584798\tvalid's ks: 0.281415\n",
      "[84]\ttrain's binary_logloss: 0.572052\ttrain's ks: 0.354484\tvalid's binary_logloss: 0.585375\tvalid's ks: 0.283241\n",
      "[85]\ttrain's binary_logloss: 0.572575\ttrain's ks: 0.35527\tvalid's binary_logloss: 0.586099\tvalid's ks: 0.281669\n",
      "[86]\ttrain's binary_logloss: 0.573166\ttrain's ks: 0.356576\tvalid's binary_logloss: 0.586815\tvalid's ks: 0.282373\n",
      "[87]\ttrain's binary_logloss: 0.573583\ttrain's ks: 0.358882\tvalid's binary_logloss: 0.587386\tvalid's ks: 0.28184\n",
      "[88]\ttrain's binary_logloss: 0.574133\ttrain's ks: 0.358828\tvalid's binary_logloss: 0.588092\tvalid's ks: 0.283253\n",
      "[89]\ttrain's binary_logloss: 0.57474\ttrain's ks: 0.360963\tvalid's binary_logloss: 0.588779\tvalid's ks: 0.283673\n",
      "[90]\ttrain's binary_logloss: 0.575216\ttrain's ks: 0.360697\tvalid's binary_logloss: 0.589386\tvalid's ks: 0.284388\n",
      "[91]\ttrain's binary_logloss: 0.575709\ttrain's ks: 0.361224\tvalid's binary_logloss: 0.590025\tvalid's ks: 0.283422\n",
      "[92]\ttrain's binary_logloss: 0.576138\ttrain's ks: 0.361647\tvalid's binary_logloss: 0.590639\tvalid's ks: 0.284505\n",
      "[93]\ttrain's binary_logloss: 0.576795\ttrain's ks: 0.363132\tvalid's binary_logloss: 0.591409\tvalid's ks: 0.28383\n",
      "[94]\ttrain's binary_logloss: 0.57717\ttrain's ks: 0.365648\tvalid's binary_logloss: 0.592007\tvalid's ks: 0.283674\n",
      "[95]\ttrain's binary_logloss: 0.577423\ttrain's ks: 0.365312\tvalid's binary_logloss: 0.592442\tvalid's ks: 0.284803\n",
      "[96]\ttrain's binary_logloss: 0.577762\ttrain's ks: 0.367268\tvalid's binary_logloss: 0.592965\tvalid's ks: 0.283408\n",
      "[97]\ttrain's binary_logloss: 0.578154\ttrain's ks: 0.369125\tvalid's binary_logloss: 0.593515\tvalid's ks: 0.283796\n",
      "[98]\ttrain's binary_logloss: 0.578415\ttrain's ks: 0.369204\tvalid's binary_logloss: 0.593926\tvalid's ks: 0.284947\n",
      "[99]\ttrain's binary_logloss: 0.578735\ttrain's ks: 0.370836\tvalid's binary_logloss: 0.594437\tvalid's ks: 0.286371\n",
      "[100]\ttrain's binary_logloss: 0.57899\ttrain's ks: 0.372484\tvalid's binary_logloss: 0.594873\tvalid's ks: 0.283743\n",
      "[101]\ttrain's binary_logloss: 0.579332\ttrain's ks: 0.373036\tvalid's binary_logloss: 0.595335\tvalid's ks: 0.284809\n",
      "[102]\ttrain's binary_logloss: 0.579532\ttrain's ks: 0.372848\tvalid's binary_logloss: 0.595695\tvalid's ks: 0.285081\n",
      "[103]\ttrain's binary_logloss: 0.579575\ttrain's ks: 0.37511\tvalid's binary_logloss: 0.595847\tvalid's ks: 0.286829\n",
      "[104]\ttrain's binary_logloss: 0.579953\ttrain's ks: 0.376728\tvalid's binary_logloss: 0.596365\tvalid's ks: 0.287852\n",
      "[105]\ttrain's binary_logloss: 0.580224\ttrain's ks: 0.377125\tvalid's binary_logloss: 0.596759\tvalid's ks: 0.287417\n",
      "[106]\ttrain's binary_logloss: 0.58041\ttrain's ks: 0.379667\tvalid's binary_logloss: 0.597124\tvalid's ks: 0.286524\n",
      "[107]\ttrain's binary_logloss: 0.580458\ttrain's ks: 0.379814\tvalid's binary_logloss: 0.597333\tvalid's ks: 0.284816\n",
      "[108]\ttrain's binary_logloss: 0.58059\ttrain's ks: 0.381337\tvalid's binary_logloss: 0.597693\tvalid's ks: 0.284814\n",
      "[109]\ttrain's binary_logloss: 0.580763\ttrain's ks: 0.383127\tvalid's binary_logloss: 0.598037\tvalid's ks: 0.286077\n",
      "[110]\ttrain's binary_logloss: 0.581048\ttrain's ks: 0.382816\tvalid's binary_logloss: 0.598437\tvalid's ks: 0.286652\n",
      "[111]\ttrain's binary_logloss: 0.58113\ttrain's ks: 0.385579\tvalid's binary_logloss: 0.598716\tvalid's ks: 0.28583\n",
      "[112]\ttrain's binary_logloss: 0.58116\ttrain's ks: 0.386434\tvalid's binary_logloss: 0.598971\tvalid's ks: 0.285282\n",
      "[113]\ttrain's binary_logloss: 0.581278\ttrain's ks: 0.38708\tvalid's binary_logloss: 0.599225\tvalid's ks: 0.286275\n",
      "[114]\ttrain's binary_logloss: 0.581404\ttrain's ks: 0.388842\tvalid's binary_logloss: 0.599502\tvalid's ks: 0.286693\n",
      "[115]\ttrain's binary_logloss: 0.581484\ttrain's ks: 0.389098\tvalid's binary_logloss: 0.599736\tvalid's ks: 0.286497\n",
      "[116]\ttrain's binary_logloss: 0.581514\ttrain's ks: 0.389213\tvalid's binary_logloss: 0.599882\tvalid's ks: 0.28572\n",
      "[117]\ttrain's binary_logloss: 0.58158\ttrain's ks: 0.390196\tvalid's binary_logloss: 0.600003\tvalid's ks: 0.286408\n",
      "[118]\ttrain's binary_logloss: 0.581545\ttrain's ks: 0.392349\tvalid's binary_logloss: 0.60016\tvalid's ks: 0.288288\n",
      "[119]\ttrain's binary_logloss: 0.58174\ttrain's ks: 0.393117\tvalid's binary_logloss: 0.600525\tvalid's ks: 0.287143\n",
      "[120]\ttrain's binary_logloss: 0.581814\ttrain's ks: 0.393238\tvalid's binary_logloss: 0.6007\tvalid's ks: 0.285513\n",
      "[121]\ttrain's binary_logloss: 0.581774\ttrain's ks: 0.392911\tvalid's binary_logloss: 0.600724\tvalid's ks: 0.286849\n",
      "[122]\ttrain's binary_logloss: 0.581726\ttrain's ks: 0.393929\tvalid's binary_logloss: 0.600842\tvalid's ks: 0.285604\n",
      "[123]\ttrain's binary_logloss: 0.581802\ttrain's ks: 0.39537\tvalid's binary_logloss: 0.601015\tvalid's ks: 0.285361\n",
      "[124]\ttrain's binary_logloss: 0.581812\ttrain's ks: 0.395778\tvalid's binary_logloss: 0.601118\tvalid's ks: 0.286727\n",
      "[125]\ttrain's binary_logloss: 0.581766\ttrain's ks: 0.396712\tvalid's binary_logloss: 0.601173\tvalid's ks: 0.287887\n",
      "[126]\ttrain's binary_logloss: 0.581703\ttrain's ks: 0.397263\tvalid's binary_logloss: 0.601248\tvalid's ks: 0.288281\n",
      "[127]\ttrain's binary_logloss: 0.581545\ttrain's ks: 0.397973\tvalid's binary_logloss: 0.601248\tvalid's ks: 0.287939\n",
      "[128]\ttrain's binary_logloss: 0.581426\ttrain's ks: 0.397671\tvalid's binary_logloss: 0.601266\tvalid's ks: 0.287299\n",
      "[129]\ttrain's binary_logloss: 0.581406\ttrain's ks: 0.398354\tvalid's binary_logloss: 0.601431\tvalid's ks: 0.285673\n",
      "[130]\ttrain's binary_logloss: 0.581459\ttrain's ks: 0.399046\tvalid's binary_logloss: 0.601599\tvalid's ks: 0.286767\n",
      "[131]\ttrain's binary_logloss: 0.581526\ttrain's ks: 0.400615\tvalid's binary_logloss: 0.601784\tvalid's ks: 0.286744\n",
      "[132]\ttrain's binary_logloss: 0.581507\ttrain's ks: 0.401786\tvalid's binary_logloss: 0.601943\tvalid's ks: 0.285551\n",
      "[133]\ttrain's binary_logloss: 0.581368\ttrain's ks: 0.403145\tvalid's binary_logloss: 0.601956\tvalid's ks: 0.286094\n",
      "[134]\ttrain's binary_logloss: 0.581123\ttrain's ks: 0.403205\tvalid's binary_logloss: 0.601828\tvalid's ks: 0.288531\n",
      "[135]\ttrain's binary_logloss: 0.580866\ttrain's ks: 0.404995\tvalid's binary_logloss: 0.601758\tvalid's ks: 0.289469\n",
      "[136]\ttrain's binary_logloss: 0.580939\ttrain's ks: 0.405276\tvalid's binary_logloss: 0.601896\tvalid's ks: 0.289838\n",
      "[137]\ttrain's binary_logloss: 0.580997\ttrain's ks: 0.406597\tvalid's binary_logloss: 0.602022\tvalid's ks: 0.287585\n",
      "[138]\ttrain's binary_logloss: 0.580893\ttrain's ks: 0.406398\tvalid's binary_logloss: 0.602075\tvalid's ks: 0.287596\n",
      "[139]\ttrain's binary_logloss: 0.58072\ttrain's ks: 0.408086\tvalid's binary_logloss: 0.602083\tvalid's ks: 0.287698\n",
      "[140]\ttrain's binary_logloss: 0.580486\ttrain's ks: 0.40803\tvalid's binary_logloss: 0.602044\tvalid's ks: 0.287646\n",
      "[141]\ttrain's binary_logloss: 0.580325\ttrain's ks: 0.408871\tvalid's binary_logloss: 0.601952\tvalid's ks: 0.287856\n",
      "[142]\ttrain's binary_logloss: 0.580192\ttrain's ks: 0.409723\tvalid's binary_logloss: 0.602029\tvalid's ks: 0.289045\n",
      "[143]\ttrain's binary_logloss: 0.579815\ttrain's ks: 0.410796\tvalid's binary_logloss: 0.60185\tvalid's ks: 0.287958\n",
      "[144]\ttrain's binary_logloss: 0.5798\ttrain's ks: 0.4117\tvalid's binary_logloss: 0.601973\tvalid's ks: 0.288506\n",
      "[145]\ttrain's binary_logloss: 0.579716\ttrain's ks: 0.411801\tvalid's binary_logloss: 0.602034\tvalid's ks: 0.287275\n",
      "[146]\ttrain's binary_logloss: 0.57963\ttrain's ks: 0.413756\tvalid's binary_logloss: 0.602065\tvalid's ks: 0.287121\n",
      "[147]\ttrain's binary_logloss: 0.579597\ttrain's ks: 0.413379\tvalid's binary_logloss: 0.602147\tvalid's ks: 0.286243\n",
      "[148]\ttrain's binary_logloss: 0.579418\ttrain's ks: 0.415262\tvalid's binary_logloss: 0.602193\tvalid's ks: 0.287885\n",
      "[149]\ttrain's binary_logloss: 0.579231\ttrain's ks: 0.415646\tvalid's binary_logloss: 0.602162\tvalid's ks: 0.286936\n",
      "[150]\ttrain's binary_logloss: 0.579115\ttrain's ks: 0.417118\tvalid's binary_logloss: 0.602149\tvalid's ks: 0.286613\n",
      "[151]\ttrain's binary_logloss: 0.57903\ttrain's ks: 0.417688\tvalid's binary_logloss: 0.602177\tvalid's ks: 0.287647\n",
      "[152]\ttrain's binary_logloss: 0.578863\ttrain's ks: 0.417803\tvalid's binary_logloss: 0.602101\tvalid's ks: 0.287578\n",
      "[153]\ttrain's binary_logloss: 0.578591\ttrain's ks: 0.418563\tvalid's binary_logloss: 0.602054\tvalid's ks: 0.287912\n"
     ]
    },
    {
     "name": "stdout",
     "output_type": "stream",
     "text": [
      "[154]\ttrain's binary_logloss: 0.578212\ttrain's ks: 0.420125\tvalid's binary_logloss: 0.601863\tvalid's ks: 0.288273\n",
      "[155]\ttrain's binary_logloss: 0.578046\ttrain's ks: 0.420427\tvalid's binary_logloss: 0.601844\tvalid's ks: 0.28715\n",
      "[156]\ttrain's binary_logloss: 0.577672\ttrain's ks: 0.420945\tvalid's binary_logloss: 0.601651\tvalid's ks: 0.288117\n",
      "[157]\ttrain's binary_logloss: 0.577621\ttrain's ks: 0.421401\tvalid's binary_logloss: 0.601702\tvalid's ks: 0.288393\n",
      "[158]\ttrain's binary_logloss: 0.577455\ttrain's ks: 0.422262\tvalid's binary_logloss: 0.601717\tvalid's ks: 0.2876\n",
      "[159]\ttrain's binary_logloss: 0.577163\ttrain's ks: 0.423369\tvalid's binary_logloss: 0.601562\tvalid's ks: 0.286755\n",
      "[160]\ttrain's binary_logloss: 0.576879\ttrain's ks: 0.423424\tvalid's binary_logloss: 0.601471\tvalid's ks: 0.285952\n",
      "[161]\ttrain's binary_logloss: 0.576754\ttrain's ks: 0.423621\tvalid's binary_logloss: 0.60146\tvalid's ks: 0.28464\n",
      "[162]\ttrain's binary_logloss: 0.576611\ttrain's ks: 0.425095\tvalid's binary_logloss: 0.601456\tvalid's ks: 0.285306\n",
      "[163]\ttrain's binary_logloss: 0.576273\ttrain's ks: 0.425727\tvalid's binary_logloss: 0.601279\tvalid's ks: 0.284266\n",
      "[164]\ttrain's binary_logloss: 0.575922\ttrain's ks: 0.425679\tvalid's binary_logloss: 0.601065\tvalid's ks: 0.283784\n",
      "[165]\ttrain's binary_logloss: 0.57583\ttrain's ks: 0.426404\tvalid's binary_logloss: 0.601089\tvalid's ks: 0.284724\n",
      "[166]\ttrain's binary_logloss: 0.575812\ttrain's ks: 0.426782\tvalid's binary_logloss: 0.601128\tvalid's ks: 0.284631\n",
      "[167]\ttrain's binary_logloss: 0.575791\ttrain's ks: 0.42792\tvalid's binary_logloss: 0.60118\tvalid's ks: 0.28509\n",
      "[168]\ttrain's binary_logloss: 0.575608\ttrain's ks: 0.428697\tvalid's binary_logloss: 0.601093\tvalid's ks: 0.284858\n",
      "[169]\ttrain's binary_logloss: 0.575373\ttrain's ks: 0.428677\tvalid's binary_logloss: 0.600988\tvalid's ks: 0.286098\n",
      "[170]\ttrain's binary_logloss: 0.575035\ttrain's ks: 0.428632\tvalid's binary_logloss: 0.600766\tvalid's ks: 0.28658\n",
      "[171]\ttrain's binary_logloss: 0.574935\ttrain's ks: 0.429563\tvalid's binary_logloss: 0.600793\tvalid's ks: 0.286412\n",
      "[172]\ttrain's binary_logloss: 0.574769\ttrain's ks: 0.430605\tvalid's binary_logloss: 0.600743\tvalid's ks: 0.285424\n",
      "[173]\ttrain's binary_logloss: 0.574577\ttrain's ks: 0.430746\tvalid's binary_logloss: 0.600692\tvalid's ks: 0.28439\n",
      "[174]\ttrain's binary_logloss: 0.574456\ttrain's ks: 0.431838\tvalid's binary_logloss: 0.600735\tvalid's ks: 0.285619\n",
      "[175]\ttrain's binary_logloss: 0.574279\ttrain's ks: 0.432711\tvalid's binary_logloss: 0.60065\tvalid's ks: 0.284849\n",
      "[176]\ttrain's binary_logloss: 0.574062\ttrain's ks: 0.433016\tvalid's binary_logloss: 0.600585\tvalid's ks: 0.285277\n",
      "[177]\ttrain's binary_logloss: 0.573742\ttrain's ks: 0.433436\tvalid's binary_logloss: 0.600389\tvalid's ks: 0.284379\n",
      "[178]\ttrain's binary_logloss: 0.573687\ttrain's ks: 0.433675\tvalid's binary_logloss: 0.600362\tvalid's ks: 0.284381\n",
      "[179]\ttrain's binary_logloss: 0.573356\ttrain's ks: 0.434766\tvalid's binary_logloss: 0.600172\tvalid's ks: 0.286958\n",
      "[180]\ttrain's binary_logloss: 0.573106\ttrain's ks: 0.435961\tvalid's binary_logloss: 0.600053\tvalid's ks: 0.285424\n",
      "[181]\ttrain's binary_logloss: 0.572912\ttrain's ks: 0.435604\tvalid's binary_logloss: 0.599967\tvalid's ks: 0.285784\n",
      "[182]\ttrain's binary_logloss: 0.572885\ttrain's ks: 0.436156\tvalid's binary_logloss: 0.599995\tvalid's ks: 0.285646\n",
      "[183]\ttrain's binary_logloss: 0.572609\ttrain's ks: 0.436254\tvalid's binary_logloss: 0.599876\tvalid's ks: 0.284632\n",
      "[184]\ttrain's binary_logloss: 0.57241\ttrain's ks: 0.437568\tvalid's binary_logloss: 0.599816\tvalid's ks: 0.285326\n",
      "[185]\ttrain's binary_logloss: 0.572272\ttrain's ks: 0.437963\tvalid's binary_logloss: 0.599852\tvalid's ks: 0.28517\n",
      "[186]\ttrain's binary_logloss: 0.572023\ttrain's ks: 0.438449\tvalid's binary_logloss: 0.599718\tvalid's ks: 0.285513\n",
      "[187]\ttrain's binary_logloss: 0.571884\ttrain's ks: 0.439437\tvalid's binary_logloss: 0.599697\tvalid's ks: 0.285675\n",
      "[188]\ttrain's binary_logloss: 0.571749\ttrain's ks: 0.439807\tvalid's binary_logloss: 0.59968\tvalid's ks: 0.285422\n",
      "[189]\ttrain's binary_logloss: 0.571306\ttrain's ks: 0.441608\tvalid's binary_logloss: 0.59938\tvalid's ks: 0.286527\n",
      "[190]\ttrain's binary_logloss: 0.571089\ttrain's ks: 0.442368\tvalid's binary_logloss: 0.599325\tvalid's ks: 0.285763\n",
      "[191]\ttrain's binary_logloss: 0.570613\ttrain's ks: 0.443475\tvalid's binary_logloss: 0.598996\tvalid's ks: 0.2865\n",
      "[192]\ttrain's binary_logloss: 0.570323\ttrain's ks: 0.444291\tvalid's binary_logloss: 0.598804\tvalid's ks: 0.286295\n",
      "[193]\ttrain's binary_logloss: 0.570051\ttrain's ks: 0.444398\tvalid's binary_logloss: 0.598714\tvalid's ks: 0.285545\n",
      "[194]\ttrain's binary_logloss: 0.569766\ttrain's ks: 0.446365\tvalid's binary_logloss: 0.59853\tvalid's ks: 0.285738\n",
      "[195]\ttrain's binary_logloss: 0.569632\ttrain's ks: 0.445733\tvalid's binary_logloss: 0.598469\tvalid's ks: 0.28396\n",
      "[196]\ttrain's binary_logloss: 0.569336\ttrain's ks: 0.446999\tvalid's binary_logloss: 0.598338\tvalid's ks: 0.284674\n",
      "[197]\ttrain's binary_logloss: 0.569128\ttrain's ks: 0.447654\tvalid's binary_logloss: 0.598215\tvalid's ks: 0.285404\n",
      "[198]\ttrain's binary_logloss: 0.569063\ttrain's ks: 0.447595\tvalid's binary_logloss: 0.598196\tvalid's ks: 0.285335\n",
      "[199]\ttrain's binary_logloss: 0.568618\ttrain's ks: 0.448096\tvalid's binary_logloss: 0.597952\tvalid's ks: 0.28495\n",
      "[200]\ttrain's binary_logloss: 0.568368\ttrain's ks: 0.449187\tvalid's binary_logloss: 0.597844\tvalid's ks: 0.284627\n",
      "[201]\ttrain's binary_logloss: 0.568151\ttrain's ks: 0.45018\tvalid's binary_logloss: 0.597751\tvalid's ks: 0.28488\n",
      "[202]\ttrain's binary_logloss: 0.567766\ttrain's ks: 0.45001\tvalid's binary_logloss: 0.597474\tvalid's ks: 0.284943\n",
      "[203]\ttrain's binary_logloss: 0.567355\ttrain's ks: 0.450744\tvalid's binary_logloss: 0.597233\tvalid's ks: 0.28497\n",
      "[204]\ttrain's binary_logloss: 0.566981\ttrain's ks: 0.45229\tvalid's binary_logloss: 0.597055\tvalid's ks: 0.284072\n",
      "[205]\ttrain's binary_logloss: 0.567026\ttrain's ks: 0.452365\tvalid's binary_logloss: 0.597156\tvalid's ks: 0.283361\n",
      "[206]\ttrain's binary_logloss: 0.566614\ttrain's ks: 0.452945\tvalid's binary_logloss: 0.596906\tvalid's ks: 0.28417\n",
      "[207]\ttrain's binary_logloss: 0.566185\ttrain's ks: 0.453846\tvalid's binary_logloss: 0.596575\tvalid's ks: 0.283139\n",
      "[208]\ttrain's binary_logloss: 0.565947\ttrain's ks: 0.454517\tvalid's binary_logloss: 0.596471\tvalid's ks: 0.282972\n",
      "[209]\ttrain's binary_logloss: 0.565632\ttrain's ks: 0.454606\tvalid's binary_logloss: 0.596291\tvalid's ks: 0.283301\n",
      "[210]\ttrain's binary_logloss: 0.565565\ttrain's ks: 0.455151\tvalid's binary_logloss: 0.596302\tvalid's ks: 0.282428\n",
      "[211]\ttrain's binary_logloss: 0.565072\ttrain's ks: 0.45652\tvalid's binary_logloss: 0.595953\tvalid's ks: 0.283166\n",
      "[212]\ttrain's binary_logloss: 0.564922\ttrain's ks: 0.457113\tvalid's binary_logloss: 0.595906\tvalid's ks: 0.284175\n",
      "[213]\ttrain's binary_logloss: 0.564761\ttrain's ks: 0.458383\tvalid's binary_logloss: 0.595861\tvalid's ks: 0.283419\n",
      "[214]\ttrain's binary_logloss: 0.564462\ttrain's ks: 0.458512\tvalid's binary_logloss: 0.595693\tvalid's ks: 0.28405\n",
      "[215]\ttrain's binary_logloss: 0.564072\ttrain's ks: 0.45941\tvalid's binary_logloss: 0.59545\tvalid's ks: 0.284881\n",
      "[216]\ttrain's binary_logloss: 0.563933\ttrain's ks: 0.460048\tvalid's binary_logloss: 0.595386\tvalid's ks: 0.284883\n",
      "[217]\ttrain's binary_logloss: 0.563603\ttrain's ks: 0.46145\tvalid's binary_logloss: 0.595185\tvalid's ks: 0.284447\n",
      "[218]\ttrain's binary_logloss: 0.563232\ttrain's ks: 0.460818\tvalid's binary_logloss: 0.59496\tvalid's ks: 0.284794\n",
      "[219]\ttrain's binary_logloss: 0.562817\ttrain's ks: 0.460624\tvalid's binary_logloss: 0.594656\tvalid's ks: 0.286669\n",
      "[220]\ttrain's binary_logloss: 0.562585\ttrain's ks: 0.461203\tvalid's binary_logloss: 0.594534\tvalid's ks: 0.285558\n",
      "[221]\ttrain's binary_logloss: 0.562102\ttrain's ks: 0.462751\tvalid's binary_logloss: 0.594237\tvalid's ks: 0.284711\n",
      "[222]\ttrain's binary_logloss: 0.561742\ttrain's ks: 0.463288\tvalid's binary_logloss: 0.59405\tvalid's ks: 0.285139\n",
      "[223]\ttrain's binary_logloss: 0.561642\ttrain's ks: 0.463311\tvalid's binary_logloss: 0.594006\tvalid's ks: 0.285346\n",
      "[224]\ttrain's binary_logloss: 0.561257\ttrain's ks: 0.463514\tvalid's binary_logloss: 0.593734\tvalid's ks: 0.284909\n",
      "[225]\ttrain's binary_logloss: 0.560932\ttrain's ks: 0.464841\tvalid's binary_logloss: 0.5935\tvalid's ks: 0.285845\n",
      "[226]\ttrain's binary_logloss: 0.560716\ttrain's ks: 0.46493\tvalid's binary_logloss: 0.593362\tvalid's ks: 0.285504\n"
     ]
    },
    {
     "name": "stdout",
     "output_type": "stream",
     "text": [
      "[227]\ttrain's binary_logloss: 0.560462\ttrain's ks: 0.465251\tvalid's binary_logloss: 0.593197\tvalid's ks: 0.284813\n",
      "[228]\ttrain's binary_logloss: 0.560206\ttrain's ks: 0.465762\tvalid's binary_logloss: 0.593054\tvalid's ks: 0.285693\n",
      "[229]\ttrain's binary_logloss: 0.559884\ttrain's ks: 0.467091\tvalid's binary_logloss: 0.592898\tvalid's ks: 0.285693\n",
      "[230]\ttrain's binary_logloss: 0.559629\ttrain's ks: 0.467222\tvalid's binary_logloss: 0.592701\tvalid's ks: 0.286841\n",
      "[231]\ttrain's binary_logloss: 0.559485\ttrain's ks: 0.468208\tvalid's binary_logloss: 0.592635\tvalid's ks: 0.287576\n",
      "[232]\ttrain's binary_logloss: 0.559244\ttrain's ks: 0.46846\tvalid's binary_logloss: 0.592469\tvalid's ks: 0.285901\n",
      "[233]\ttrain's binary_logloss: 0.558991\ttrain's ks: 0.469017\tvalid's binary_logloss: 0.592347\tvalid's ks: 0.287119\n",
      "[234]\ttrain's binary_logloss: 0.558778\ttrain's ks: 0.468971\tvalid's binary_logloss: 0.592209\tvalid's ks: 0.28733\n",
      "[235]\ttrain's binary_logloss: 0.558554\ttrain's ks: 0.469685\tvalid's binary_logloss: 0.592174\tvalid's ks: 0.286669\n",
      "[236]\ttrain's binary_logloss: 0.558244\ttrain's ks: 0.470475\tvalid's binary_logloss: 0.591944\tvalid's ks: 0.285502\n",
      "[237]\ttrain's binary_logloss: 0.557876\ttrain's ks: 0.471815\tvalid's binary_logloss: 0.591733\tvalid's ks: 0.2846\n",
      "[238]\ttrain's binary_logloss: 0.557604\ttrain's ks: 0.472696\tvalid's binary_logloss: 0.59164\tvalid's ks: 0.284905\n",
      "[239]\ttrain's binary_logloss: 0.557241\ttrain's ks: 0.473131\tvalid's binary_logloss: 0.591461\tvalid's ks: 0.285569\n",
      "[240]\ttrain's binary_logloss: 0.557085\ttrain's ks: 0.472906\tvalid's binary_logloss: 0.591379\tvalid's ks: 0.284901\n",
      "[241]\ttrain's binary_logloss: 0.556991\ttrain's ks: 0.473366\tvalid's binary_logloss: 0.59134\tvalid's ks: 0.285006\n",
      "[242]\ttrain's binary_logloss: 0.55661\ttrain's ks: 0.473503\tvalid's binary_logloss: 0.591117\tvalid's ks: 0.284527\n",
      "[243]\ttrain's binary_logloss: 0.556358\ttrain's ks: 0.474432\tvalid's binary_logloss: 0.590966\tvalid's ks: 0.283838\n",
      "[244]\ttrain's binary_logloss: 0.556209\ttrain's ks: 0.476028\tvalid's binary_logloss: 0.590953\tvalid's ks: 0.28448\n",
      "[245]\ttrain's binary_logloss: 0.555939\ttrain's ks: 0.476189\tvalid's binary_logloss: 0.590754\tvalid's ks: 0.284297\n",
      "[246]\ttrain's binary_logloss: 0.555708\ttrain's ks: 0.477542\tvalid's binary_logloss: 0.590672\tvalid's ks: 0.285444\n",
      "[247]\ttrain's binary_logloss: 0.555469\ttrain's ks: 0.477175\tvalid's binary_logloss: 0.590514\tvalid's ks: 0.285561\n",
      "[248]\ttrain's binary_logloss: 0.555269\ttrain's ks: 0.478016\tvalid's binary_logloss: 0.590379\tvalid's ks: 0.28595\n",
      "[249]\ttrain's binary_logloss: 0.555105\ttrain's ks: 0.47822\tvalid's binary_logloss: 0.590365\tvalid's ks: 0.285125\n",
      "[250]\ttrain's binary_logloss: 0.554841\ttrain's ks: 0.478618\tvalid's binary_logloss: 0.590204\tvalid's ks: 0.284943\n",
      "[251]\ttrain's binary_logloss: 0.554605\ttrain's ks: 0.47877\tvalid's binary_logloss: 0.590146\tvalid's ks: 0.28437\n",
      "[252]\ttrain's binary_logloss: 0.554316\ttrain's ks: 0.479709\tvalid's binary_logloss: 0.590018\tvalid's ks: 0.284261\n",
      "[253]\ttrain's binary_logloss: 0.554153\ttrain's ks: 0.480226\tvalid's binary_logloss: 0.589962\tvalid's ks: 0.284863\n",
      "[254]\ttrain's binary_logloss: 0.553837\ttrain's ks: 0.481371\tvalid's binary_logloss: 0.589827\tvalid's ks: 0.285221\n",
      "[255]\ttrain's binary_logloss: 0.55349\ttrain's ks: 0.482201\tvalid's binary_logloss: 0.589661\tvalid's ks: 0.286714\n",
      "[256]\ttrain's binary_logloss: 0.55332\ttrain's ks: 0.48356\tvalid's binary_logloss: 0.589591\tvalid's ks: 0.287496\n",
      "[257]\ttrain's binary_logloss: 0.55305\ttrain's ks: 0.483528\tvalid's binary_logloss: 0.589473\tvalid's ks: 0.286533\n",
      "[258]\ttrain's binary_logloss: 0.552775\ttrain's ks: 0.484056\tvalid's binary_logloss: 0.589364\tvalid's ks: 0.286074\n",
      "[259]\ttrain's binary_logloss: 0.552446\ttrain's ks: 0.484914\tvalid's binary_logloss: 0.589178\tvalid's ks: 0.286602\n",
      "[260]\ttrain's binary_logloss: 0.552232\ttrain's ks: 0.484821\tvalid's binary_logloss: 0.58904\tvalid's ks: 0.286918\n",
      "[261]\ttrain's binary_logloss: 0.551937\ttrain's ks: 0.486358\tvalid's binary_logloss: 0.588839\tvalid's ks: 0.287333\n",
      "[262]\ttrain's binary_logloss: 0.551583\ttrain's ks: 0.486844\tvalid's binary_logloss: 0.588683\tvalid's ks: 0.286876\n",
      "[263]\ttrain's binary_logloss: 0.551171\ttrain's ks: 0.487276\tvalid's binary_logloss: 0.588373\tvalid's ks: 0.289197\n",
      "[264]\ttrain's binary_logloss: 0.550811\ttrain's ks: 0.488519\tvalid's binary_logloss: 0.588174\tvalid's ks: 0.289818\n",
      "[265]\ttrain's binary_logloss: 0.550708\ttrain's ks: 0.489885\tvalid's binary_logloss: 0.588187\tvalid's ks: 0.289315\n",
      "[266]\ttrain's binary_logloss: 0.550357\ttrain's ks: 0.490388\tvalid's binary_logloss: 0.588028\tvalid's ks: 0.289843\n",
      "[267]\ttrain's binary_logloss: 0.550012\ttrain's ks: 0.490645\tvalid's binary_logloss: 0.587826\tvalid's ks: 0.288442\n",
      "[268]\ttrain's binary_logloss: 0.549915\ttrain's ks: 0.490844\tvalid's binary_logloss: 0.587814\tvalid's ks: 0.289435\n",
      "[269]\ttrain's binary_logloss: 0.549779\ttrain's ks: 0.491375\tvalid's binary_logloss: 0.587773\tvalid's ks: 0.29079\n",
      "[270]\ttrain's binary_logloss: 0.549525\ttrain's ks: 0.491977\tvalid's binary_logloss: 0.587585\tvalid's ks: 0.289872\n",
      "[271]\ttrain's binary_logloss: 0.549262\ttrain's ks: 0.492687\tvalid's binary_logloss: 0.587452\tvalid's ks: 0.289063\n",
      "[272]\ttrain's binary_logloss: 0.548968\ttrain's ks: 0.494211\tvalid's binary_logloss: 0.587296\tvalid's ks: 0.288996\n",
      "[273]\ttrain's binary_logloss: 0.548683\ttrain's ks: 0.493769\tvalid's binary_logloss: 0.587114\tvalid's ks: 0.289226\n",
      "[274]\ttrain's binary_logloss: 0.548369\ttrain's ks: 0.495026\tvalid's binary_logloss: 0.586946\tvalid's ks: 0.288836\n",
      "[275]\ttrain's binary_logloss: 0.54803\ttrain's ks: 0.495244\tvalid's binary_logloss: 0.586761\tvalid's ks: 0.289491\n",
      "[276]\ttrain's binary_logloss: 0.547646\ttrain's ks: 0.495883\tvalid's binary_logloss: 0.586556\tvalid's ks: 0.289765\n",
      "[277]\ttrain's binary_logloss: 0.547451\ttrain's ks: 0.496106\tvalid's binary_logloss: 0.586425\tvalid's ks: 0.290774\n",
      "[278]\ttrain's binary_logloss: 0.547207\ttrain's ks: 0.496801\tvalid's binary_logloss: 0.586293\tvalid's ks: 0.291511\n",
      "[279]\ttrain's binary_logloss: 0.546905\ttrain's ks: 0.497722\tvalid's binary_logloss: 0.586149\tvalid's ks: 0.291259\n",
      "[280]\ttrain's binary_logloss: 0.546641\ttrain's ks: 0.498941\tvalid's binary_logloss: 0.586006\tvalid's ks: 0.291903\n"
     ]
    },
    {
     "data": {
      "text/plain": [
       "LGBMClassifier(boosting_type='gbdt', class_weight=None, colsample_bytree=1,\n",
       "        importance_type='split', is_unbalance=True, learning_rate=0.03,\n",
       "        max_bin=425, max_depth=6, min_child_samples=10, min_child_weight=5,\n",
       "        min_split_gain=0.0, n_estimators=280, n_jobs=-1, num_leaves=40,\n",
       "        objective='binary', random_state=None, reg_alpha=3, reg_lambda=5,\n",
       "        seed=1996, silent=True, subsample=0.8, subsample_for_bin=200000,\n",
       "        subsample_freq=1)"
      ]
     },
     "execution_count": 418,
     "metadata": {},
     "output_type": "execute_result"
    }
   ],
   "source": [
    "lgb_clf = lgb.LGBMClassifier(boosting_type='gbdt', num_leaves=40, max_depth=6, learning_rate=0.03, n_estimators=280,\n",
    "                             max_bin=425,  objective='binary', is_unbalance=True, min_child_weight=5, min_child_samples=10, \n",
    "                             subsample=0.8, subsample_freq=1, colsample_bytree=1, reg_alpha=3, reg_lambda=5, seed=1996, \n",
    "                             n_jobs=-1, silent=True)\n",
    " \n",
    "lgb_clf.fit(X_train, y_train, eval_names=['train', 'valid'], eval_metric=ks, \n",
    "            eval_set=[(X_train, y_train), (X_test, y_test)])"
   ]
  },
  {
   "cell_type": "code",
   "execution_count": null,
   "metadata": {
    "collapsed": true
   },
   "outputs": [],
   "source": []
  }
 ],
 "metadata": {
  "kernelspec": {
   "display_name": "Python 3",
   "language": "python",
   "name": "python3"
  },
  "language_info": {
   "codemirror_mode": {
    "name": "ipython",
    "version": 3
   },
   "file_extension": ".py",
   "mimetype": "text/x-python",
   "name": "python",
   "nbconvert_exporter": "python",
   "pygments_lexer": "ipython3",
   "version": "3.6.2"
  }
 },
 "nbformat": 4,
 "nbformat_minor": 2
}
