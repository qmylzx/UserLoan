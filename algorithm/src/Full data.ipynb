{
 "cells": [
  {
   "cell_type": "code",
   "execution_count": 1,
   "metadata": {
    "collapsed": true
   },
   "outputs": [],
   "source": [
    "import pandas as pd\n",
    "import warnings\n",
    "import matplotlib.pyplot as plt\n",
    "import seaborn as sns\n",
    "import numpy as np\n",
    "import seaborn as sns\n",
    "import matplotlib.pyplot as plt\n",
    "\n",
    "warnings.filterwarnings('ignore')"
   ]
  },
  {
   "cell_type": "markdown",
   "metadata": {},
   "source": [
    "### 用户基本信息表"
   ]
  },
  {
   "cell_type": "code",
   "execution_count": 2,
   "metadata": {
    "collapsed": true
   },
   "outputs": [],
   "source": [
    "# 训练集\n",
    "user_info_cloumns = ['user_id', 'sex', 'occupation', 'education', 'marriage', 'household_type']\n",
    "user_info = pd.read_table(\"../data/train/user_info_train.txt\", names=user_info_cloumns, sep=',')\n",
    "\n",
    "# 测试集\n",
    "user_info_test = pd.read_table(\"../data/test/user_info_test.txt\", names=user_info_cloumns, sep=',')"
   ]
  },
  {
   "cell_type": "markdown",
   "metadata": {},
   "source": [
    "### 银行流水记录表"
   ]
  },
  {
   "cell_type": "code",
   "execution_count": 3,
   "metadata": {
    "collapsed": true
   },
   "outputs": [],
   "source": [
    "# 训练集\n",
    "bank_detail = pd.read_table(\"../data/train/bank_detail_train.txt\", sep=',')\n",
    "bank_detail.rename(columns={'uid':'user_id', 'timespan':'time', 'type':'deal_type', \n",
    "                            'amount':'deal_amount', 'markup':'wage_type'}, inplace=True)\n",
    "\n",
    "# 测试集\n",
    "bank_detail_columns = ['user_id', 'time', 'deal_type', 'deal_amount', 'wage_type']\n",
    "bank_detail_test = pd.read_table(\"../data/test/bank_detail_test.txt\", names=bank_detail_columns, sep=',')"
   ]
  },
  {
   "cell_type": "markdown",
   "metadata": {},
   "source": [
    "### 用户浏览记录表"
   ]
  },
  {
   "cell_type": "code",
   "execution_count": 4,
   "metadata": {
    "collapsed": true
   },
   "outputs": [],
   "source": [
    "# 训练集\n",
    "browse_history_columns = ['user_id', 'time', 'browse_behavior', 'browse_subbehavior']\n",
    "browse_history = pd.read_table(\"../data/train/browse_history_train.txt\", names=browse_history_columns, sep=',')\n",
    "\n",
    "# 测试集\n",
    "browse_history_test = pd.read_table(\"../data/test/browse_history_test.txt\", names=browse_history_columns, sep=',')"
   ]
  },
  {
   "cell_type": "markdown",
   "metadata": {},
   "source": [
    "### 信用卡账单记录表"
   ]
  },
  {
   "cell_type": "code",
   "execution_count": 5,
   "metadata": {
    "collapsed": true
   },
   "outputs": [],
   "source": [
    "# 训练集\n",
    "bill_detail_columns = ['user_id', 'time', 'bank_id', 'previous_bills', 'previous_repayment', 'creditCardQuota', \n",
    "                       'current_balance', 'current_MinRepay', 'consume_times', 'current_bills', 'adjust_money',\n",
    "                       'revolving_interest', 'available_money', 'cash_Advance_Limit', 'repayment_status']\n",
    "bill_detail = pd.read_table(\"../data/train/bill_detail_train.txt\", names=bill_detail_columns, sep=',')\n",
    "\n",
    "# 测试集\n",
    "bill_detail_test = pd.read_table(\"../data/test/bill_detail_test.txt\", names=bill_detail_columns, sep=',')"
   ]
  },
  {
   "cell_type": "markdown",
   "metadata": {},
   "source": [
    "### 放款时间信息表"
   ]
  },
  {
   "cell_type": "code",
   "execution_count": 6,
   "metadata": {
    "collapsed": true
   },
   "outputs": [],
   "source": [
    "# 训练集\n",
    "loan_time_columns = ['user_id', 'time']\n",
    "loan_time = pd.read_table(\"../data/train/loan_time_train.txt\", names=loan_time_columns, sep=',')\n",
    "\n",
    "# 测试集\n",
    "loan_time_test = pd.read_table(\"../data/test/loan_time_test.txt\", names=loan_time_columns, sep=',')"
   ]
  },
  {
   "cell_type": "markdown",
   "metadata": {},
   "source": [
    "### 用户逾期记录表 "
   ]
  },
  {
   "cell_type": "code",
   "execution_count": 7,
   "metadata": {
    "collapsed": true
   },
   "outputs": [],
   "source": [
    "# 训练集\n",
    "overdue_columns = ['user_id', 'isOverdue']\n",
    "overdue = pd.read_table(\"../data/train/overdue_train.txt\", names=overdue_columns, sep=',')\n",
    "\n",
    "# 测试集（预测标签）\n",
    "overdue_pred = pd.read_table(\"../data/test/usersID_test.txt\", names=['user_id'], sep=',')"
   ]
  },
  {
   "cell_type": "markdown",
   "metadata": {},
   "source": [
    "# EDA"
   ]
  },
  {
   "cell_type": "markdown",
   "metadata": {},
   "source": [
    "### 时间数据脱敏还原"
   ]
  },
  {
   "cell_type": "code",
   "execution_count": 99,
   "metadata": {
    "collapsed": true
   },
   "outputs": [],
   "source": [
    "# import time\n",
    "\n",
    "# table_names = [bank_detail, browse_history, bill_detail, loan_time]\n",
    "\n",
    "# for value in table_names:\n",
    "#     value['year'] = value['time'].apply(lambda x: int(time.strftime(\"%Y\", time.localtime(x))))\n",
    "#     value['month'] = value['time'].apply(lambda x: int(time.strftime(\"%m\", time.localtime(x))))\n",
    "#     value['day'] = value['time'].apply(lambda x: int(time.strftime(\"%d\", time.localtime(x))))\n",
    "#     value.drop('time', axis=1, inplace=True)"
   ]
  },
  {
   "cell_type": "code",
   "execution_count": 131,
   "metadata": {
    "collapsed": true
   },
   "outputs": [],
   "source": [
    "# 时间戳单位为秒，量级太大，转化为天\n",
    "\n",
    "table_names = [bank_detail, browse_history, bill_detail, loan_time]\n",
    "for value in table_names:\n",
    "    value['time'] = value['time'] // 86400"
   ]
  },
  {
   "cell_type": "markdown",
   "metadata": {},
   "source": [
    "### 合并user_info、bill_detail、loan_time、overdue四张表"
   ]
  },
  {
   "cell_type": "code",
   "execution_count": null,
   "metadata": {
    "collapsed": true
   },
   "outputs": [],
   "source": [
    "#　训练集\n",
    "bill_detail = pd.merge(bill_detail, loan_time, how='inner', on='user_id')\n",
    "overdue = pd.merge(overdue, user_info, how='inner', on='user_id')\n",
    "overdue = pd.merge(overdue, loan_time, how='inner', on='user_id')\n",
    "\n",
    "# 测试集\n",
    "bill_detail_test = pd.merge(bill_detail_test, loan_time_test, how='inner', on='user_id')\n",
    "overdue_pred = pd.merge(overdue_pred, user_info_test, how='inner', on='user_id')\n",
    "overdue_pred = pd.merge(overdue_pred, loan_time_test, how='inner', on='user_id')"
   ]
  },
  {
   "cell_type": "markdown",
   "metadata": {},
   "source": [
    "### user_info表中的离散属性对应的逾期情况"
   ]
  },
  {
   "cell_type": "code",
   "execution_count": null,
   "metadata": {
    "collapsed": true
   },
   "outputs": [],
   "source": [
    "sex_analysis = overdue.groupby('sex', as_index=False)['isOverdue'].agg({'sum': 'sum', 'count': 'count'})\n",
    "sex_analysis['overdue_rate'] = sex_analysis['sum'] / sex_analysis['count']\n",
    "sex_analysis"
   ]
  },
  {
   "cell_type": "code",
   "execution_count": 44,
   "metadata": {},
   "outputs": [
    {
     "data": {
      "image/png": "[encoded data removed]",
      "text/plain": [
       "<Figure size 432x288 with 1 Axes>"
      ]
     },
     "metadata": {},
     "output_type": "display_data"
    }
   ],
   "source": [
    "sns.barplot(sex_analysis['sex'], sex_analysis['overdue_rate'])\n",
    "plt.show()"
   ]
  },
  {
   "cell_type": "code",
   "execution_count": 46,
   "metadata": {
    "scrolled": true
   },
   "outputs": [
    {
     "data": {
      "text/html": [
       "<div>\n",
       "<style scoped>\n",
       "    .dataframe tbody tr th:only-of-type {\n",
       "        vertical-align: middle;\n",
       "    }\n",
       "\n",
       "    .dataframe tbody tr th {\n",
       "        vertical-align: top;\n",
       "    }\n",
       "\n",
       "    .dataframe thead th {\n",
       "        text-align: right;\n",
       "    }\n",
       "</style>\n",
       "<table border=\"1\" class=\"dataframe\">\n",
       "  <thead>\n",
       "    <tr style=\"text-align: right;\">\n",
       "      <th></th>\n",
       "      <th>occupation</th>\n",
       "      <th>sum</th>\n",
       "      <th>count</th>\n",
       "      <th>overdue_rate</th>\n",
       "    </tr>\n",
       "  </thead>\n",
       "  <tbody>\n",
       "    <tr>\n",
       "      <th>0</th>\n",
       "      <td>0</td>\n",
       "      <td>75</td>\n",
       "      <td>368</td>\n",
       "      <td>0.203804</td>\n",
       "    </tr>\n",
       "    <tr>\n",
       "      <th>1</th>\n",
       "      <td>1</td>\n",
       "      <td>17</td>\n",
       "      <td>93</td>\n",
       "      <td>0.182796</td>\n",
       "    </tr>\n",
       "    <tr>\n",
       "      <th>2</th>\n",
       "      <td>2</td>\n",
       "      <td>5204</td>\n",
       "      <td>41150</td>\n",
       "      <td>0.126464</td>\n",
       "    </tr>\n",
       "    <tr>\n",
       "      <th>3</th>\n",
       "      <td>3</td>\n",
       "      <td>746</td>\n",
       "      <td>5898</td>\n",
       "      <td>0.126484</td>\n",
       "    </tr>\n",
       "    <tr>\n",
       "      <th>4</th>\n",
       "      <td>4</td>\n",
       "      <td>1141</td>\n",
       "      <td>8087</td>\n",
       "      <td>0.141091</td>\n",
       "    </tr>\n",
       "  </tbody>\n",
       "</table>\n",
       "</div>"
      ],
      "text/plain": [
       "   occupation   sum  count  overdue_rate\n",
       "0           0    75    368      0.203804\n",
       "1           1    17     93      0.182796\n",
       "2           2  5204  41150      0.126464\n",
       "3           3   746   5898      0.126484\n",
       "4           4  1141   8087      0.141091"
      ]
     },
     "execution_count": 46,
     "metadata": {},
     "output_type": "execute_result"
    }
   ],
   "source": [
    "occupation_analysis = overdue.groupby('occupation', as_index=False)['isOverdue'].agg({'sum': 'sum', 'count': 'count'})\n",
    "occupation_analysis['overdue_rate'] = occupation_analysis['sum'] / occupation_analysis['count']\n",
    "occupation_analysis"
   ]
  },
  {
   "cell_type": "code",
   "execution_count": 51,
   "metadata": {},
   "outputs": [
    {
     "data": {
      "image/png": "[encoded data removed]",
      "text/plain": [
       "<Figure size 432x288 with 1 Axes>"
      ]
     },
     "metadata": {},
     "output_type": "display_data"
    }
   ],
   "source": [
    "sns.barplot(occupation_analysis['occupation'], occupation_analysis['overdue_rate'])\n",
    "plt.show()"
   ]
  },
  {
   "cell_type": "code",
   "execution_count": 48,
   "metadata": {},
   "outputs": [
    {
     "data": {
      "text/html": [
       "<div>\n",
       "<style scoped>\n",
       "    .dataframe tbody tr th:only-of-type {\n",
       "        vertical-align: middle;\n",
       "    }\n",
       "\n",
       "    .dataframe tbody tr th {\n",
       "        vertical-align: top;\n",
       "    }\n",
       "\n",
       "    .dataframe thead th {\n",
       "        text-align: right;\n",
       "    }\n",
       "</style>\n",
       "<table border=\"1\" class=\"dataframe\">\n",
       "  <thead>\n",
       "    <tr style=\"text-align: right;\">\n",
       "      <th></th>\n",
       "      <th>education</th>\n",
       "      <th>sum</th>\n",
       "      <th>count</th>\n",
       "      <th>overdue_rate</th>\n",
       "    </tr>\n",
       "  </thead>\n",
       "  <tbody>\n",
       "    <tr>\n",
       "      <th>0</th>\n",
       "      <td>0</td>\n",
       "      <td>75</td>\n",
       "      <td>369</td>\n",
       "      <td>0.203252</td>\n",
       "    </tr>\n",
       "    <tr>\n",
       "      <th>1</th>\n",
       "      <td>1</td>\n",
       "      <td>18</td>\n",
       "      <td>226</td>\n",
       "      <td>0.079646</td>\n",
       "    </tr>\n",
       "    <tr>\n",
       "      <th>2</th>\n",
       "      <td>2</td>\n",
       "      <td>813</td>\n",
       "      <td>8483</td>\n",
       "      <td>0.095839</td>\n",
       "    </tr>\n",
       "    <tr>\n",
       "      <th>3</th>\n",
       "      <td>3</td>\n",
       "      <td>2977</td>\n",
       "      <td>23530</td>\n",
       "      <td>0.126519</td>\n",
       "    </tr>\n",
       "    <tr>\n",
       "      <th>4</th>\n",
       "      <td>4</td>\n",
       "      <td>3300</td>\n",
       "      <td>22988</td>\n",
       "      <td>0.143553</td>\n",
       "    </tr>\n",
       "  </tbody>\n",
       "</table>\n",
       "</div>"
      ],
      "text/plain": [
       "   education   sum  count  overdue_rate\n",
       "0          0    75    369      0.203252\n",
       "1          1    18    226      0.079646\n",
       "2          2   813   8483      0.095839\n",
       "3          3  2977  23530      0.126519\n",
       "4          4  3300  22988      0.143553"
      ]
     },
     "execution_count": 48,
     "metadata": {},
     "output_type": "execute_result"
    }
   ],
   "source": [
    "education_analysis = overdue.groupby('education', as_index=False)['isOverdue'].agg({'sum': 'sum', 'count': 'count'})\n",
    "education_analysis['overdue_rate'] = education_analysis['sum'] / education_analysis['count']\n",
    "education_analysis"
   ]
  },
  {
   "cell_type": "code",
   "execution_count": 52,
   "metadata": {},
   "outputs": [
    {
     "data": {
      "image/png": "[encoded data removed]",
      "text/plain": [
       "<Figure size 432x288 with 1 Axes>"
      ]
     },
     "metadata": {},
     "output_type": "display_data"
    }
   ],
   "source": [
    "sns.barplot(education_analysis['education'], education_analysis['overdue_rate'])\n",
    "plt.show()"
   ]
  },
  {
   "cell_type": "code",
   "execution_count": 49,
   "metadata": {},
   "outputs": [
    {
     "data": {
      "text/html": [
       "<div>\n",
       "<style scoped>\n",
       "    .dataframe tbody tr th:only-of-type {\n",
       "        vertical-align: middle;\n",
       "    }\n",
       "\n",
       "    .dataframe tbody tr th {\n",
       "        vertical-align: top;\n",
       "    }\n",
       "\n",
       "    .dataframe thead th {\n",
       "        text-align: right;\n",
       "    }\n",
       "</style>\n",
       "<table border=\"1\" class=\"dataframe\">\n",
       "  <thead>\n",
       "    <tr style=\"text-align: right;\">\n",
       "      <th></th>\n",
       "      <th>marriage</th>\n",
       "      <th>sum</th>\n",
       "      <th>count</th>\n",
       "      <th>overdue_rate</th>\n",
       "    </tr>\n",
       "  </thead>\n",
       "  <tbody>\n",
       "    <tr>\n",
       "      <th>0</th>\n",
       "      <td>0</td>\n",
       "      <td>75</td>\n",
       "      <td>370</td>\n",
       "      <td>0.202703</td>\n",
       "    </tr>\n",
       "    <tr>\n",
       "      <th>1</th>\n",
       "      <td>1</td>\n",
       "      <td>3169</td>\n",
       "      <td>25098</td>\n",
       "      <td>0.126265</td>\n",
       "    </tr>\n",
       "    <tr>\n",
       "      <th>2</th>\n",
       "      <td>2</td>\n",
       "      <td>805</td>\n",
       "      <td>6038</td>\n",
       "      <td>0.133322</td>\n",
       "    </tr>\n",
       "    <tr>\n",
       "      <th>3</th>\n",
       "      <td>3</td>\n",
       "      <td>2909</td>\n",
       "      <td>22554</td>\n",
       "      <td>0.128979</td>\n",
       "    </tr>\n",
       "    <tr>\n",
       "      <th>4</th>\n",
       "      <td>4</td>\n",
       "      <td>210</td>\n",
       "      <td>1471</td>\n",
       "      <td>0.142760</td>\n",
       "    </tr>\n",
       "    <tr>\n",
       "      <th>5</th>\n",
       "      <td>5</td>\n",
       "      <td>15</td>\n",
       "      <td>65</td>\n",
       "      <td>0.230769</td>\n",
       "    </tr>\n",
       "  </tbody>\n",
       "</table>\n",
       "</div>"
      ],
      "text/plain": [
       "   marriage   sum  count  overdue_rate\n",
       "0         0    75    370      0.202703\n",
       "1         1  3169  25098      0.126265\n",
       "2         2   805   6038      0.133322\n",
       "3         3  2909  22554      0.128979\n",
       "4         4   210   1471      0.142760\n",
       "5         5    15     65      0.230769"
      ]
     },
     "execution_count": 49,
     "metadata": {},
     "output_type": "execute_result"
    }
   ],
   "source": [
    "marriage_analysis = overdue.groupby('marriage', as_index=False)['isOverdue'].agg({'sum': 'sum', 'count': 'count'})\n",
    "marriage_analysis['overdue_rate'] = marriage_analysis['sum'] / marriage_analysis['count']\n",
    "marriage_analysis"
   ]
  },
  {
   "cell_type": "code",
   "execution_count": 53,
   "metadata": {},
   "outputs": [
    {
     "data": {
      "image/png": "[encoded data removed]",
      "text/plain": [
       "<Figure size 432x288 with 1 Axes>"
      ]
     },
     "metadata": {},
     "output_type": "display_data"
    }
   ],
   "source": [
    "sns.barplot(marriage_analysis['marriage'], marriage_analysis['overdue_rate'])\n",
    "plt.show()"
   ]
  },
  {
   "cell_type": "code",
   "execution_count": 50,
   "metadata": {},
   "outputs": [
    {
     "data": {
      "text/html": [
       "<div>\n",
       "<style scoped>\n",
       "    .dataframe tbody tr th:only-of-type {\n",
       "        vertical-align: middle;\n",
       "    }\n",
       "\n",
       "    .dataframe tbody tr th {\n",
       "        vertical-align: top;\n",
       "    }\n",
       "\n",
       "    .dataframe thead th {\n",
       "        text-align: right;\n",
       "    }\n",
       "</style>\n",
       "<table border=\"1\" class=\"dataframe\">\n",
       "  <thead>\n",
       "    <tr style=\"text-align: right;\">\n",
       "      <th></th>\n",
       "      <th>household_type</th>\n",
       "      <th>sum</th>\n",
       "      <th>count</th>\n",
       "      <th>overdue_rate</th>\n",
       "    </tr>\n",
       "  </thead>\n",
       "  <tbody>\n",
       "    <tr>\n",
       "      <th>0</th>\n",
       "      <td>0</td>\n",
       "      <td>75</td>\n",
       "      <td>369</td>\n",
       "      <td>0.203252</td>\n",
       "    </tr>\n",
       "    <tr>\n",
       "      <th>1</th>\n",
       "      <td>1</td>\n",
       "      <td>2033</td>\n",
       "      <td>17105</td>\n",
       "      <td>0.118854</td>\n",
       "    </tr>\n",
       "    <tr>\n",
       "      <th>2</th>\n",
       "      <td>2</td>\n",
       "      <td>2145</td>\n",
       "      <td>15557</td>\n",
       "      <td>0.137880</td>\n",
       "    </tr>\n",
       "    <tr>\n",
       "      <th>3</th>\n",
       "      <td>3</td>\n",
       "      <td>978</td>\n",
       "      <td>8216</td>\n",
       "      <td>0.119036</td>\n",
       "    </tr>\n",
       "    <tr>\n",
       "      <th>4</th>\n",
       "      <td>4</td>\n",
       "      <td>1952</td>\n",
       "      <td>14349</td>\n",
       "      <td>0.136037</td>\n",
       "    </tr>\n",
       "  </tbody>\n",
       "</table>\n",
       "</div>"
      ],
      "text/plain": [
       "   household_type   sum  count  overdue_rate\n",
       "0               0    75    369      0.203252\n",
       "1               1  2033  17105      0.118854\n",
       "2               2  2145  15557      0.137880\n",
       "3               3   978   8216      0.119036\n",
       "4               4  1952  14349      0.136037"
      ]
     },
     "execution_count": 50,
     "metadata": {},
     "output_type": "execute_result"
    }
   ],
   "source": [
    "household_type_analysis = overdue.groupby('household_type', as_index=False)['isOverdue'].agg({'sum': 'sum', 'count': 'count'})\n",
    "household_type_analysis['overdue_rate'] = household_type_analysis['sum'] / household_type_analysis['count']\n",
    "household_type_analysis"
   ]
  },
  {
   "cell_type": "code",
   "execution_count": 54,
   "metadata": {
    "scrolled": true
   },
   "outputs": [
    {
     "data": {
      "image/png": "[encoded data removed]",
      "text/plain": [
       "<Figure size 432x288 with 1 Axes>"
      ]
     },
     "metadata": {},
     "output_type": "display_data"
    }
   ],
   "source": [
    "sns.barplot(household_type_analysis['household_type'], household_type_analysis['overdue_rate'])\n",
    "plt.show()"
   ]
  },
  {
   "cell_type": "markdown",
   "metadata": {},
   "source": [
    "### 银行流水记录表"
   ]
  },
  {
   "cell_type": "code",
   "execution_count": 86,
   "metadata": {
    "scrolled": true
   },
   "outputs": [
    {
     "data": {
      "text/plain": [
       "(6070197, 5)"
      ]
     },
     "execution_count": 86,
     "metadata": {},
     "output_type": "execute_result"
    }
   ],
   "source": [
    "bank_detail.shape"
   ]
  },
  {
   "cell_type": "code",
   "execution_count": 92,
   "metadata": {},
   "outputs": [
    {
     "data": {
      "text/plain": [
       "user_id       9294\n",
       "time       1419542\n",
       "dtype: int64"
      ]
     },
     "execution_count": 92,
     "metadata": {},
     "output_type": "execute_result"
    }
   ],
   "source": [
    "bank_detail.loc[:, ['user_id', 'time']].nunique()"
   ]
  },
  {
   "cell_type": "markdown",
   "metadata": {},
   "source": [
    "(user_id, time)联合主键，若分用户从该表中获取特征，则存在大量缺失值  "
   ]
  },
  {
   "cell_type": "code",
   "execution_count": 117,
   "metadata": {},
   "outputs": [
    {
     "data": {
      "text/plain": [
       "188"
      ]
     },
     "execution_count": 117,
     "metadata": {},
     "output_type": "execute_result"
    }
   ],
   "source": [
    "(bank_detail['time'].max() - bank_detail['time'].min()) // (60 * 60 * 24 * 365)"
   ]
  },
  {
   "cell_type": "code",
   "execution_count": 123,
   "metadata": {},
   "outputs": [
    {
     "data": {
      "text/plain": [
       "5928982961"
      ]
     },
     "execution_count": 123,
     "metadata": {},
     "output_type": "execute_result"
    }
   ],
   "source": [
    "bank_detail['time'].max()"
   ]
  },
  {
   "cell_type": "code",
   "execution_count": 124,
   "metadata": {},
   "outputs": [
    {
     "data": {
      "text/html": [
       "<div>\n",
       "<style scoped>\n",
       "    .dataframe tbody tr th:only-of-type {\n",
       "        vertical-align: middle;\n",
       "    }\n",
       "\n",
       "    .dataframe tbody tr th {\n",
       "        vertical-align: top;\n",
       "    }\n",
       "\n",
       "    .dataframe thead th {\n",
       "        text-align: right;\n",
       "    }\n",
       "</style>\n",
       "<table border=\"1\" class=\"dataframe\">\n",
       "  <thead>\n",
       "    <tr style=\"text-align: right;\">\n",
       "      <th></th>\n",
       "      <th>user_id</th>\n",
       "      <th>time</th>\n",
       "      <th>deal_type</th>\n",
       "      <th>deal_amount</th>\n",
       "      <th>wage_type</th>\n",
       "      <th>month</th>\n",
       "      <th>day</th>\n",
       "    </tr>\n",
       "  </thead>\n",
       "  <tbody>\n",
       "    <tr>\n",
       "      <th>4386499</th>\n",
       "      <td>30825</td>\n",
       "      <td>5928982961</td>\n",
       "      <td>0</td>\n",
       "      <td>14.54507</td>\n",
       "      <td>0</td>\n",
       "      <td>11</td>\n",
       "      <td>18</td>\n",
       "    </tr>\n",
       "  </tbody>\n",
       "</table>\n",
       "</div>"
      ],
      "text/plain": [
       "         user_id        time  deal_type  deal_amount  wage_type  month  day\n",
       "4386499    30825  5928982961          0     14.54507          0     11   18"
      ]
     },
     "execution_count": 124,
     "metadata": {},
     "output_type": "execute_result"
    }
   ],
   "source": [
    "bank_detail.loc[bank_detail['time'] == 5928982961, :]"
   ]
  },
  {
   "cell_type": "code",
   "execution_count": 126,
   "metadata": {
    "scrolled": true
   },
   "outputs": [
    {
     "data": {
      "text/html": [
       "<div>\n",
       "<style scoped>\n",
       "    .dataframe tbody tr th:only-of-type {\n",
       "        vertical-align: middle;\n",
       "    }\n",
       "\n",
       "    .dataframe tbody tr th {\n",
       "        vertical-align: top;\n",
       "    }\n",
       "\n",
       "    .dataframe thead th {\n",
       "        text-align: right;\n",
       "    }\n",
       "</style>\n",
       "<table border=\"1\" class=\"dataframe\">\n",
       "  <thead>\n",
       "    <tr style=\"text-align: right;\">\n",
       "      <th></th>\n",
       "      <th>user_id</th>\n",
       "      <th>time</th>\n",
       "      <th>deal_type</th>\n",
       "      <th>deal_amount</th>\n",
       "      <th>wage_type</th>\n",
       "      <th>month</th>\n",
       "      <th>day</th>\n",
       "    </tr>\n",
       "  </thead>\n",
       "  <tbody>\n",
       "    <tr>\n",
       "      <th>4385590</th>\n",
       "      <td>30825</td>\n",
       "      <td>5897027940</td>\n",
       "      <td>0</td>\n",
       "      <td>15.618741</td>\n",
       "      <td>0</td>\n",
       "      <td>11</td>\n",
       "      <td>13</td>\n",
       "    </tr>\n",
       "    <tr>\n",
       "      <th>4385591</th>\n",
       "      <td>30825</td>\n",
       "      <td>5897028325</td>\n",
       "      <td>1</td>\n",
       "      <td>15.612961</td>\n",
       "      <td>0</td>\n",
       "      <td>11</td>\n",
       "      <td>13</td>\n",
       "    </tr>\n",
       "    <tr>\n",
       "      <th>4385592</th>\n",
       "      <td>30825</td>\n",
       "      <td>5897119771</td>\n",
       "      <td>0</td>\n",
       "      <td>15.535492</td>\n",
       "      <td>0</td>\n",
       "      <td>11</td>\n",
       "      <td>15</td>\n",
       "    </tr>\n",
       "    <tr>\n",
       "      <th>4385593</th>\n",
       "      <td>30825</td>\n",
       "      <td>5897121268</td>\n",
       "      <td>1</td>\n",
       "      <td>12.706843</td>\n",
       "      <td>0</td>\n",
       "      <td>11</td>\n",
       "      <td>15</td>\n",
       "    </tr>\n",
       "    <tr>\n",
       "      <th>4385594</th>\n",
       "      <td>30825</td>\n",
       "      <td>5897122839</td>\n",
       "      <td>1</td>\n",
       "      <td>14.545120</td>\n",
       "      <td>0</td>\n",
       "      <td>11</td>\n",
       "      <td>15</td>\n",
       "    </tr>\n",
       "    <tr>\n",
       "      <th>4385595</th>\n",
       "      <td>30825</td>\n",
       "      <td>5897264484</td>\n",
       "      <td>1</td>\n",
       "      <td>12.147230</td>\n",
       "      <td>0</td>\n",
       "      <td>11</td>\n",
       "      <td>16</td>\n",
       "    </tr>\n",
       "    <tr>\n",
       "      <th>4385596</th>\n",
       "      <td>30825</td>\n",
       "      <td>5897264546</td>\n",
       "      <td>1</td>\n",
       "      <td>11.984712</td>\n",
       "      <td>0</td>\n",
       "      <td>11</td>\n",
       "      <td>16</td>\n",
       "    </tr>\n",
       "    <tr>\n",
       "      <th>4385597</th>\n",
       "      <td>30825</td>\n",
       "      <td>5897280508</td>\n",
       "      <td>1</td>\n",
       "      <td>14.855275</td>\n",
       "      <td>0</td>\n",
       "      <td>11</td>\n",
       "      <td>16</td>\n",
       "    </tr>\n",
       "    <tr>\n",
       "      <th>4385598</th>\n",
       "      <td>30825</td>\n",
       "      <td>5897281188</td>\n",
       "      <td>1</td>\n",
       "      <td>6.722278</td>\n",
       "      <td>0</td>\n",
       "      <td>11</td>\n",
       "      <td>16</td>\n",
       "    </tr>\n",
       "    <tr>\n",
       "      <th>4385599</th>\n",
       "      <td>30825</td>\n",
       "      <td>5897281463</td>\n",
       "      <td>0</td>\n",
       "      <td>12.147230</td>\n",
       "      <td>0</td>\n",
       "      <td>11</td>\n",
       "      <td>16</td>\n",
       "    </tr>\n",
       "    <tr>\n",
       "      <th>4385600</th>\n",
       "      <td>30825</td>\n",
       "      <td>5897522325</td>\n",
       "      <td>0</td>\n",
       "      <td>14.800072</td>\n",
       "      <td>0</td>\n",
       "      <td>11</td>\n",
       "      <td>19</td>\n",
       "    </tr>\n",
       "    <tr>\n",
       "      <th>4385601</th>\n",
       "      <td>30825</td>\n",
       "      <td>5897532764</td>\n",
       "      <td>1</td>\n",
       "      <td>14.855275</td>\n",
       "      <td>0</td>\n",
       "      <td>11</td>\n",
       "      <td>19</td>\n",
       "    </tr>\n",
       "    <tr>\n",
       "      <th>4385602</th>\n",
       "      <td>30825</td>\n",
       "      <td>5897800088</td>\n",
       "      <td>0</td>\n",
       "      <td>15.491293</td>\n",
       "      <td>0</td>\n",
       "      <td>11</td>\n",
       "      <td>22</td>\n",
       "    </tr>\n",
       "    <tr>\n",
       "      <th>4385603</th>\n",
       "      <td>30825</td>\n",
       "      <td>5897800157</td>\n",
       "      <td>1</td>\n",
       "      <td>12.845362</td>\n",
       "      <td>0</td>\n",
       "      <td>11</td>\n",
       "      <td>22</td>\n",
       "    </tr>\n",
       "    <tr>\n",
       "      <th>4385604</th>\n",
       "      <td>30825</td>\n",
       "      <td>5897811536</td>\n",
       "      <td>1</td>\n",
       "      <td>15.366101</td>\n",
       "      <td>0</td>\n",
       "      <td>11</td>\n",
       "      <td>23</td>\n",
       "    </tr>\n",
       "    <tr>\n",
       "      <th>4385605</th>\n",
       "      <td>30825</td>\n",
       "      <td>5897811536</td>\n",
       "      <td>1</td>\n",
       "      <td>6.849967</td>\n",
       "      <td>0</td>\n",
       "      <td>11</td>\n",
       "      <td>23</td>\n",
       "    </tr>\n",
       "    <tr>\n",
       "      <th>4385606</th>\n",
       "      <td>30825</td>\n",
       "      <td>5897812936</td>\n",
       "      <td>0</td>\n",
       "      <td>15.217178</td>\n",
       "      <td>0</td>\n",
       "      <td>11</td>\n",
       "      <td>23</td>\n",
       "    </tr>\n",
       "    <tr>\n",
       "      <th>4385607</th>\n",
       "      <td>30825</td>\n",
       "      <td>5897818448</td>\n",
       "      <td>1</td>\n",
       "      <td>15.304225</td>\n",
       "      <td>0</td>\n",
       "      <td>11</td>\n",
       "      <td>23</td>\n",
       "    </tr>\n",
       "    <tr>\n",
       "      <th>4385608</th>\n",
       "      <td>30825</td>\n",
       "      <td>5897818448</td>\n",
       "      <td>1</td>\n",
       "      <td>8.235467</td>\n",
       "      <td>0</td>\n",
       "      <td>11</td>\n",
       "      <td>23</td>\n",
       "    </tr>\n",
       "    <tr>\n",
       "      <th>4385609</th>\n",
       "      <td>30825</td>\n",
       "      <td>5897901856</td>\n",
       "      <td>0</td>\n",
       "      <td>13.897468</td>\n",
       "      <td>0</td>\n",
       "      <td>11</td>\n",
       "      <td>24</td>\n",
       "    </tr>\n",
       "    <tr>\n",
       "      <th>4385610</th>\n",
       "      <td>30825</td>\n",
       "      <td>5897902053</td>\n",
       "      <td>1</td>\n",
       "      <td>13.063517</td>\n",
       "      <td>0</td>\n",
       "      <td>11</td>\n",
       "      <td>24</td>\n",
       "    </tr>\n",
       "    <tr>\n",
       "      <th>4385611</th>\n",
       "      <td>30825</td>\n",
       "      <td>5897902053</td>\n",
       "      <td>1</td>\n",
       "      <td>6.849967</td>\n",
       "      <td>0</td>\n",
       "      <td>11</td>\n",
       "      <td>24</td>\n",
       "    </tr>\n",
       "    <tr>\n",
       "      <th>4385612</th>\n",
       "      <td>30825</td>\n",
       "      <td>5897972068</td>\n",
       "      <td>1</td>\n",
       "      <td>13.064517</td>\n",
       "      <td>0</td>\n",
       "      <td>11</td>\n",
       "      <td>24</td>\n",
       "    </tr>\n",
       "    <tr>\n",
       "      <th>4385613</th>\n",
       "      <td>30825</td>\n",
       "      <td>5897973909</td>\n",
       "      <td>1</td>\n",
       "      <td>10.760951</td>\n",
       "      <td>0</td>\n",
       "      <td>11</td>\n",
       "      <td>24</td>\n",
       "    </tr>\n",
       "    <tr>\n",
       "      <th>4385614</th>\n",
       "      <td>30825</td>\n",
       "      <td>5898052554</td>\n",
       "      <td>1</td>\n",
       "      <td>11.454088</td>\n",
       "      <td>0</td>\n",
       "      <td>11</td>\n",
       "      <td>25</td>\n",
       "    </tr>\n",
       "    <tr>\n",
       "      <th>4385615</th>\n",
       "      <td>30825</td>\n",
       "      <td>5898094107</td>\n",
       "      <td>0</td>\n",
       "      <td>7.442820</td>\n",
       "      <td>0</td>\n",
       "      <td>11</td>\n",
       "      <td>26</td>\n",
       "    </tr>\n",
       "    <tr>\n",
       "      <th>4385616</th>\n",
       "      <td>30825</td>\n",
       "      <td>5898325473</td>\n",
       "      <td>0</td>\n",
       "      <td>13.505854</td>\n",
       "      <td>0</td>\n",
       "      <td>11</td>\n",
       "      <td>28</td>\n",
       "    </tr>\n",
       "    <tr>\n",
       "      <th>4385617</th>\n",
       "      <td>30825</td>\n",
       "      <td>5898326907</td>\n",
       "      <td>1</td>\n",
       "      <td>10.760951</td>\n",
       "      <td>0</td>\n",
       "      <td>11</td>\n",
       "      <td>29</td>\n",
       "    </tr>\n",
       "    <tr>\n",
       "      <th>4385618</th>\n",
       "      <td>30825</td>\n",
       "      <td>5898495624</td>\n",
       "      <td>1</td>\n",
       "      <td>11.930380</td>\n",
       "      <td>0</td>\n",
       "      <td>11</td>\n",
       "      <td>30</td>\n",
       "    </tr>\n",
       "    <tr>\n",
       "      <th>4385619</th>\n",
       "      <td>30825</td>\n",
       "      <td>5898755363</td>\n",
       "      <td>1</td>\n",
       "      <td>11.454088</td>\n",
       "      <td>0</td>\n",
       "      <td>12</td>\n",
       "      <td>3</td>\n",
       "    </tr>\n",
       "    <tr>\n",
       "      <th>...</th>\n",
       "      <td>...</td>\n",
       "      <td>...</td>\n",
       "      <td>...</td>\n",
       "      <td>...</td>\n",
       "      <td>...</td>\n",
       "      <td>...</td>\n",
       "      <td>...</td>\n",
       "    </tr>\n",
       "    <tr>\n",
       "      <th>4386470</th>\n",
       "      <td>30825</td>\n",
       "      <td>5928143287</td>\n",
       "      <td>1</td>\n",
       "      <td>13.064517</td>\n",
       "      <td>0</td>\n",
       "      <td>11</td>\n",
       "      <td>9</td>\n",
       "    </tr>\n",
       "    <tr>\n",
       "      <th>4386471</th>\n",
       "      <td>30825</td>\n",
       "      <td>5928155941</td>\n",
       "      <td>1</td>\n",
       "      <td>10.432456</td>\n",
       "      <td>0</td>\n",
       "      <td>11</td>\n",
       "      <td>9</td>\n",
       "    </tr>\n",
       "    <tr>\n",
       "      <th>4386472</th>\n",
       "      <td>30825</td>\n",
       "      <td>5928222754</td>\n",
       "      <td>0</td>\n",
       "      <td>17.668145</td>\n",
       "      <td>0</td>\n",
       "      <td>11</td>\n",
       "      <td>10</td>\n",
       "    </tr>\n",
       "    <tr>\n",
       "      <th>4386473</th>\n",
       "      <td>30825</td>\n",
       "      <td>5928223044</td>\n",
       "      <td>0</td>\n",
       "      <td>9.844693</td>\n",
       "      <td>0</td>\n",
       "      <td>11</td>\n",
       "      <td>10</td>\n",
       "    </tr>\n",
       "    <tr>\n",
       "      <th>4386474</th>\n",
       "      <td>30825</td>\n",
       "      <td>5928223294</td>\n",
       "      <td>1</td>\n",
       "      <td>15.366101</td>\n",
       "      <td>0</td>\n",
       "      <td>11</td>\n",
       "      <td>10</td>\n",
       "    </tr>\n",
       "    <tr>\n",
       "      <th>4386475</th>\n",
       "      <td>30825</td>\n",
       "      <td>5928223360</td>\n",
       "      <td>1</td>\n",
       "      <td>15.366101</td>\n",
       "      <td>0</td>\n",
       "      <td>11</td>\n",
       "      <td>10</td>\n",
       "    </tr>\n",
       "    <tr>\n",
       "      <th>4386476</th>\n",
       "      <td>30825</td>\n",
       "      <td>5928223435</td>\n",
       "      <td>1</td>\n",
       "      <td>15.366101</td>\n",
       "      <td>0</td>\n",
       "      <td>11</td>\n",
       "      <td>10</td>\n",
       "    </tr>\n",
       "    <tr>\n",
       "      <th>4386477</th>\n",
       "      <td>30825</td>\n",
       "      <td>5928223492</td>\n",
       "      <td>1</td>\n",
       "      <td>15.366101</td>\n",
       "      <td>0</td>\n",
       "      <td>11</td>\n",
       "      <td>10</td>\n",
       "    </tr>\n",
       "    <tr>\n",
       "      <th>4386478</th>\n",
       "      <td>30825</td>\n",
       "      <td>5928284252</td>\n",
       "      <td>1</td>\n",
       "      <td>14.093135</td>\n",
       "      <td>0</td>\n",
       "      <td>11</td>\n",
       "      <td>10</td>\n",
       "    </tr>\n",
       "    <tr>\n",
       "      <th>4386479</th>\n",
       "      <td>30825</td>\n",
       "      <td>5928284334</td>\n",
       "      <td>1</td>\n",
       "      <td>14.019028</td>\n",
       "      <td>0</td>\n",
       "      <td>11</td>\n",
       "      <td>10</td>\n",
       "    </tr>\n",
       "    <tr>\n",
       "      <th>4386480</th>\n",
       "      <td>30825</td>\n",
       "      <td>5928291328</td>\n",
       "      <td>0</td>\n",
       "      <td>14.760598</td>\n",
       "      <td>0</td>\n",
       "      <td>11</td>\n",
       "      <td>10</td>\n",
       "    </tr>\n",
       "    <tr>\n",
       "      <th>4386481</th>\n",
       "      <td>30825</td>\n",
       "      <td>5928293306</td>\n",
       "      <td>1</td>\n",
       "      <td>16.464713</td>\n",
       "      <td>0</td>\n",
       "      <td>11</td>\n",
       "      <td>10</td>\n",
       "    </tr>\n",
       "    <tr>\n",
       "      <th>4386482</th>\n",
       "      <td>30825</td>\n",
       "      <td>5928293497</td>\n",
       "      <td>1</td>\n",
       "      <td>16.464713</td>\n",
       "      <td>0</td>\n",
       "      <td>11</td>\n",
       "      <td>10</td>\n",
       "    </tr>\n",
       "    <tr>\n",
       "      <th>4386483</th>\n",
       "      <td>30825</td>\n",
       "      <td>5928311706</td>\n",
       "      <td>0</td>\n",
       "      <td>11.325119</td>\n",
       "      <td>0</td>\n",
       "      <td>11</td>\n",
       "      <td>11</td>\n",
       "    </tr>\n",
       "    <tr>\n",
       "      <th>4386484</th>\n",
       "      <td>30825</td>\n",
       "      <td>5928311955</td>\n",
       "      <td>1</td>\n",
       "      <td>11.454088</td>\n",
       "      <td>0</td>\n",
       "      <td>11</td>\n",
       "      <td>11</td>\n",
       "    </tr>\n",
       "    <tr>\n",
       "      <th>4386485</th>\n",
       "      <td>30825</td>\n",
       "      <td>5928447979</td>\n",
       "      <td>0</td>\n",
       "      <td>11.824682</td>\n",
       "      <td>0</td>\n",
       "      <td>11</td>\n",
       "      <td>12</td>\n",
       "    </tr>\n",
       "    <tr>\n",
       "      <th>4386486</th>\n",
       "      <td>30825</td>\n",
       "      <td>5928467892</td>\n",
       "      <td>1</td>\n",
       "      <td>9.151598</td>\n",
       "      <td>0</td>\n",
       "      <td>11</td>\n",
       "      <td>12</td>\n",
       "    </tr>\n",
       "    <tr>\n",
       "      <th>4386487</th>\n",
       "      <td>30825</td>\n",
       "      <td>5928484275</td>\n",
       "      <td>1</td>\n",
       "      <td>9.557028</td>\n",
       "      <td>0</td>\n",
       "      <td>11</td>\n",
       "      <td>13</td>\n",
       "    </tr>\n",
       "    <tr>\n",
       "      <th>4386488</th>\n",
       "      <td>30825</td>\n",
       "      <td>5928537486</td>\n",
       "      <td>1</td>\n",
       "      <td>9.793402</td>\n",
       "      <td>0</td>\n",
       "      <td>11</td>\n",
       "      <td>13</td>\n",
       "    </tr>\n",
       "    <tr>\n",
       "      <th>4386489</th>\n",
       "      <td>30825</td>\n",
       "      <td>5928567180</td>\n",
       "      <td>1</td>\n",
       "      <td>11.023311</td>\n",
       "      <td>0</td>\n",
       "      <td>11</td>\n",
       "      <td>14</td>\n",
       "    </tr>\n",
       "    <tr>\n",
       "      <th>4386490</th>\n",
       "      <td>30825</td>\n",
       "      <td>5928643929</td>\n",
       "      <td>1</td>\n",
       "      <td>10.758949</td>\n",
       "      <td>0</td>\n",
       "      <td>11</td>\n",
       "      <td>14</td>\n",
       "    </tr>\n",
       "    <tr>\n",
       "      <th>4386491</th>\n",
       "      <td>30825</td>\n",
       "      <td>5928722164</td>\n",
       "      <td>0</td>\n",
       "      <td>9.550340</td>\n",
       "      <td>0</td>\n",
       "      <td>11</td>\n",
       "      <td>15</td>\n",
       "    </tr>\n",
       "    <tr>\n",
       "      <th>4386492</th>\n",
       "      <td>30825</td>\n",
       "      <td>5928722196</td>\n",
       "      <td>1</td>\n",
       "      <td>10.248138</td>\n",
       "      <td>0</td>\n",
       "      <td>11</td>\n",
       "      <td>15</td>\n",
       "    </tr>\n",
       "    <tr>\n",
       "      <th>4386493</th>\n",
       "      <td>30825</td>\n",
       "      <td>5928821605</td>\n",
       "      <td>0</td>\n",
       "      <td>11.983711</td>\n",
       "      <td>0</td>\n",
       "      <td>11</td>\n",
       "      <td>16</td>\n",
       "    </tr>\n",
       "    <tr>\n",
       "      <th>4386494</th>\n",
       "      <td>30825</td>\n",
       "      <td>5928822062</td>\n",
       "      <td>1</td>\n",
       "      <td>11.954859</td>\n",
       "      <td>0</td>\n",
       "      <td>11</td>\n",
       "      <td>16</td>\n",
       "    </tr>\n",
       "    <tr>\n",
       "      <th>4386495</th>\n",
       "      <td>30825</td>\n",
       "      <td>5928841224</td>\n",
       "      <td>1</td>\n",
       "      <td>7.542585</td>\n",
       "      <td>0</td>\n",
       "      <td>11</td>\n",
       "      <td>17</td>\n",
       "    </tr>\n",
       "    <tr>\n",
       "      <th>4386496</th>\n",
       "      <td>30825</td>\n",
       "      <td>5928899626</td>\n",
       "      <td>0</td>\n",
       "      <td>13.158827</td>\n",
       "      <td>0</td>\n",
       "      <td>11</td>\n",
       "      <td>17</td>\n",
       "    </tr>\n",
       "    <tr>\n",
       "      <th>4386497</th>\n",
       "      <td>30825</td>\n",
       "      <td>5928904711</td>\n",
       "      <td>1</td>\n",
       "      <td>13.140478</td>\n",
       "      <td>0</td>\n",
       "      <td>11</td>\n",
       "      <td>17</td>\n",
       "    </tr>\n",
       "    <tr>\n",
       "      <th>4386498</th>\n",
       "      <td>30825</td>\n",
       "      <td>5928980636</td>\n",
       "      <td>0</td>\n",
       "      <td>6.601805</td>\n",
       "      <td>0</td>\n",
       "      <td>11</td>\n",
       "      <td>18</td>\n",
       "    </tr>\n",
       "    <tr>\n",
       "      <th>4386499</th>\n",
       "      <td>30825</td>\n",
       "      <td>5928982961</td>\n",
       "      <td>0</td>\n",
       "      <td>14.545070</td>\n",
       "      <td>0</td>\n",
       "      <td>11</td>\n",
       "      <td>18</td>\n",
       "    </tr>\n",
       "  </tbody>\n",
       "</table>\n",
       "<p>910 rows × 7 columns</p>\n",
       "</div>"
      ],
      "text/plain": [
       "         user_id        time  deal_type  deal_amount  wage_type  month  day\n",
       "4385590    30825  5897027940          0    15.618741          0     11   13\n",
       "4385591    30825  5897028325          1    15.612961          0     11   13\n",
       "4385592    30825  5897119771          0    15.535492          0     11   15\n",
       "4385593    30825  5897121268          1    12.706843          0     11   15\n",
       "4385594    30825  5897122839          1    14.545120          0     11   15\n",
       "4385595    30825  5897264484          1    12.147230          0     11   16\n",
       "4385596    30825  5897264546          1    11.984712          0     11   16\n",
       "4385597    30825  5897280508          1    14.855275          0     11   16\n",
       "4385598    30825  5897281188          1     6.722278          0     11   16\n",
       "4385599    30825  5897281463          0    12.147230          0     11   16\n",
       "4385600    30825  5897522325          0    14.800072          0     11   19\n",
       "4385601    30825  5897532764          1    14.855275          0     11   19\n",
       "4385602    30825  5897800088          0    15.491293          0     11   22\n",
       "4385603    30825  5897800157          1    12.845362          0     11   22\n",
       "4385604    30825  5897811536          1    15.366101          0     11   23\n",
       "4385605    30825  5897811536          1     6.849967          0     11   23\n",
       "4385606    30825  5897812936          0    15.217178          0     11   23\n",
       "4385607    30825  5897818448          1    15.304225          0     11   23\n",
       "4385608    30825  5897818448          1     8.235467          0     11   23\n",
       "4385609    30825  5897901856          0    13.897468          0     11   24\n",
       "4385610    30825  5897902053          1    13.063517          0     11   24\n",
       "4385611    30825  5897902053          1     6.849967          0     11   24\n",
       "4385612    30825  5897972068          1    13.064517          0     11   24\n",
       "4385613    30825  5897973909          1    10.760951          0     11   24\n",
       "4385614    30825  5898052554          1    11.454088          0     11   25\n",
       "4385615    30825  5898094107          0     7.442820          0     11   26\n",
       "4385616    30825  5898325473          0    13.505854          0     11   28\n",
       "4385617    30825  5898326907          1    10.760951          0     11   29\n",
       "4385618    30825  5898495624          1    11.930380          0     11   30\n",
       "4385619    30825  5898755363          1    11.454088          0     12    3\n",
       "...          ...         ...        ...          ...        ...    ...  ...\n",
       "4386470    30825  5928143287          1    13.064517          0     11    9\n",
       "4386471    30825  5928155941          1    10.432456          0     11    9\n",
       "4386472    30825  5928222754          0    17.668145          0     11   10\n",
       "4386473    30825  5928223044          0     9.844693          0     11   10\n",
       "4386474    30825  5928223294          1    15.366101          0     11   10\n",
       "4386475    30825  5928223360          1    15.366101          0     11   10\n",
       "4386476    30825  5928223435          1    15.366101          0     11   10\n",
       "4386477    30825  5928223492          1    15.366101          0     11   10\n",
       "4386478    30825  5928284252          1    14.093135          0     11   10\n",
       "4386479    30825  5928284334          1    14.019028          0     11   10\n",
       "4386480    30825  5928291328          0    14.760598          0     11   10\n",
       "4386481    30825  5928293306          1    16.464713          0     11   10\n",
       "4386482    30825  5928293497          1    16.464713          0     11   10\n",
       "4386483    30825  5928311706          0    11.325119          0     11   11\n",
       "4386484    30825  5928311955          1    11.454088          0     11   11\n",
       "4386485    30825  5928447979          0    11.824682          0     11   12\n",
       "4386486    30825  5928467892          1     9.151598          0     11   12\n",
       "4386487    30825  5928484275          1     9.557028          0     11   13\n",
       "4386488    30825  5928537486          1     9.793402          0     11   13\n",
       "4386489    30825  5928567180          1    11.023311          0     11   14\n",
       "4386490    30825  5928643929          1    10.758949          0     11   14\n",
       "4386491    30825  5928722164          0     9.550340          0     11   15\n",
       "4386492    30825  5928722196          1    10.248138          0     11   15\n",
       "4386493    30825  5928821605          0    11.983711          0     11   16\n",
       "4386494    30825  5928822062          1    11.954859          0     11   16\n",
       "4386495    30825  5928841224          1     7.542585          0     11   17\n",
       "4386496    30825  5928899626          0    13.158827          0     11   17\n",
       "4386497    30825  5928904711          1    13.140478          0     11   17\n",
       "4386498    30825  5928980636          0     6.601805          0     11   18\n",
       "4386499    30825  5928982961          0    14.545070          0     11   18\n",
       "\n",
       "[910 rows x 7 columns]"
      ]
     },
     "execution_count": 126,
     "metadata": {},
     "output_type": "execute_result"
    }
   ],
   "source": [
    "bank_detail.loc[bank_detail['user_id'] == 30825, :]"
   ]
  },
  {
   "cell_type": "markdown",
   "metadata": {},
   "source": [
    "### 用户浏览记录表"
   ]
  },
  {
   "cell_type": "code",
   "execution_count": 67,
   "metadata": {},
   "outputs": [
    {
     "data": {
      "text/plain": [
       "(22919547, 7)"
      ]
     },
     "execution_count": 67,
     "metadata": {},
     "output_type": "execute_result"
    }
   ],
   "source": [
    "browse_history.shape"
   ]
  },
  {
   "cell_type": "code",
   "execution_count": 93,
   "metadata": {},
   "outputs": [
    {
     "data": {
      "text/plain": [
       "user_id     47330\n",
       "time       193944\n",
       "dtype: int64"
      ]
     },
     "execution_count": 93,
     "metadata": {},
     "output_type": "execute_result"
    }
   ],
   "source": [
    "browse_history.loc[:, ['user_id', 'time']].nunique()"
   ]
  },
  {
   "cell_type": "markdown",
   "metadata": {},
   "source": [
    "(user_id, time)联合主键，少量缺失值"
   ]
  },
  {
   "cell_type": "code",
   "execution_count": 113,
   "metadata": {},
   "outputs": [
    {
     "data": {
      "text/plain": [
       "4"
      ]
     },
     "execution_count": 113,
     "metadata": {},
     "output_type": "execute_result"
    }
   ],
   "source": [
    "(browse_history['time'].max() - browse_history['time'].min()) // (60 * 60 * 24 * 365)"
   ]
  },
  {
   "cell_type": "markdown",
   "metadata": {},
   "source": [
    "### 信用卡账单记录表"
   ]
  },
  {
   "cell_type": "code",
   "execution_count": 68,
   "metadata": {},
   "outputs": [
    {
     "data": {
      "text/plain": [
       "(2338118, 18)"
      ]
     },
     "execution_count": 68,
     "metadata": {},
     "output_type": "execute_result"
    }
   ],
   "source": [
    "bill_detail.shape"
   ]
  },
  {
   "cell_type": "code",
   "execution_count": 95,
   "metadata": {
    "scrolled": true
   },
   "outputs": [
    {
     "data": {
      "text/plain": [
       "user_id     53174\n",
       "time       518491\n",
       "bank_id        29\n",
       "dtype: int64"
      ]
     },
     "execution_count": 95,
     "metadata": {},
     "output_type": "execute_result"
    }
   ],
   "source": [
    "bill_detail.loc[:, ['user_id', 'time', 'bank_id']].nunique()"
   ]
  },
  {
   "cell_type": "markdown",
   "metadata": {},
   "source": [
    "(user_id, time, bank_id)联合主键"
   ]
  },
  {
   "cell_type": "code",
   "execution_count": 127,
   "metadata": {},
   "outputs": [
    {
     "data": {
      "text/plain": [
       "188"
      ]
     },
     "execution_count": 127,
     "metadata": {},
     "output_type": "execute_result"
    }
   ],
   "source": [
    "(bill_detail['time'].max() - bill_detail['time'].min()) // (60 * 60 * 24 * 365)"
   ]
  },
  {
   "cell_type": "markdown",
   "metadata": {},
   "source": [
    "### 放款时间信息表"
   ]
  },
  {
   "cell_type": "code",
   "execution_count": 69,
   "metadata": {},
   "outputs": [
    {
     "data": {
      "text/plain": [
       "(55596, 5)"
      ]
     },
     "execution_count": 69,
     "metadata": {},
     "output_type": "execute_result"
    }
   ],
   "source": [
    "loan_time.shape"
   ]
  },
  {
   "cell_type": "code",
   "execution_count": 98,
   "metadata": {
    "scrolled": true
   },
   "outputs": [
    {
     "data": {
      "text/plain": [
       "user_id    55596\n",
       "time         191\n",
       "dtype: int64"
      ]
     },
     "execution_count": 98,
     "metadata": {},
     "output_type": "execute_result"
    }
   ],
   "source": [
    "loan_time.loc[:, ['user_id', 'time']].nunique()"
   ]
  },
  {
   "cell_type": "markdown",
   "metadata": {},
   "source": [
    "训练集中所有用户都被发放过贷款，只是时间不同"
   ]
  },
  {
   "cell_type": "code",
   "execution_count": 129,
   "metadata": {},
   "outputs": [
    {
     "data": {
      "text/plain": [
       "0"
      ]
     },
     "execution_count": 129,
     "metadata": {},
     "output_type": "execute_result"
    }
   ],
   "source": [
    "(loan_time['time'].max() - loan_time['time'].min()) // (60 * 60 * 24 * 365)"
   ]
  },
  {
   "cell_type": "markdown",
   "metadata": {},
   "source": [
    "当前结论：  \n",
    "- 时间戳非线性脱敏，应该只保留了先后关系，无法提取周期性特征  \n",
    "- 对于55596个用户，在部分表中存在大量缺失值  "
   ]
  },
  {
   "cell_type": "markdown",
   "metadata": {},
   "source": [
    "## 训练数据构建"
   ]
  },
  {
   "cell_type": "code",
   "execution_count": 143,
   "metadata": {
    "collapsed": true
   },
   "outputs": [],
   "source": [
    "train_data = pd.merge(user_info, overdue, how='inner', on='user_id')"
   ]
  },
  {
   "cell_type": "markdown",
   "metadata": {},
   "source": [
    "### 时间已知 / 放款前 用户浏览行为"
   ]
  },
  {
   "cell_type": "code",
   "execution_count": 144,
   "metadata": {
    "collapsed": true,
    "scrolled": true
   },
   "outputs": [],
   "source": [
    "browseAndLoan = pd.merge(browse_history, loan_time, how='left', on='user_id')"
   ]
  },
  {
   "cell_type": "code",
   "execution_count": 145,
   "metadata": {
    "collapsed": true,
    "scrolled": true
   },
   "outputs": [],
   "source": [
    "# 浏览记录时间 <= 放款时间，时间非0（0代表未知）\n",
    "temp = browseAndLoan[(browseAndLoan['time_x'] <= browseAndLoan['time_y']) & (browseAndLoan['time_x'] > 0)]"
   ]
  },
  {
   "cell_type": "code",
   "execution_count": 146,
   "metadata": {
    "collapsed": true
   },
   "outputs": [],
   "source": [
    "# 行为是连续数值表示的类别特征\n",
    "# 子行为应该是用户行为更细粒度的划分，所以将两者转化为字符串拼接，作为新特征\n",
    "temp['cross_behavior'] = temp['browse_behavior'].astype(str).values + '_' + temp['browse_subbehavior'].astype(str).values"
   ]
  },
  {
   "cell_type": "code",
   "execution_count": 147,
   "metadata": {
    "collapsed": true
   },
   "outputs": [],
   "source": [
    "# 对cross_behavior进行自然数编码\n",
    "\n",
    "from sklearn.preprocessing import LabelEncoder\n",
    "\n",
    "encoder = LabelEncoder()\n",
    "encoder.fit(temp['cross_behavior'])\n",
    "temp['cross_behavior'] = encoder.transform(temp['cross_behavior'])"
   ]
  },
  {
   "cell_type": "code",
   "execution_count": 148,
   "metadata": {
    "collapsed": true,
    "scrolled": true
   },
   "outputs": [],
   "source": [
    "# 每个用户进行了多少次行为统计\n",
    "to_merge = temp.groupby('user_id', as_index=False)['browse_behavior'].agg({'behavior_count': 'count'})\n",
    "train_data = train_data.merge(to_merge, how='left', on='user_id')"
   ]
  },
  {
   "cell_type": "code",
   "execution_count": 149,
   "metadata": {
    "collapsed": true
   },
   "outputs": [],
   "source": [
    "# 每个用户的不同行为数\n",
    "to_merge = temp.groupby('user_id', as_index=False)['browse_behavior'].agg({'unique_behavior': 'nunique'})\n",
    "train_data = train_data.merge(to_merge, how='left', on='user_id')"
   ]
  },
  {
   "cell_type": "code",
   "execution_count": 150,
   "metadata": {
    "collapsed": true,
    "scrolled": true
   },
   "outputs": [],
   "source": [
    "# 每个用户的不同子行为数\n",
    "to_merge = temp.groupby('user_id', as_index=False)['browse_subbehavior'].agg({'unique_subbehavior': 'nunique'})\n",
    "train_data = train_data.merge(to_merge, how='left', on='user_id')"
   ]
  },
  {
   "cell_type": "code",
   "execution_count": 151,
   "metadata": {
    "collapsed": true
   },
   "outputs": [],
   "source": [
    "# 每个用户的不同交叉行为数\n",
    "to_merge = temp.groupby('user_id', as_index=False)['cross_behavior'].agg({'cross_behavior': 'nunique'})\n",
    "train_data = train_data.merge(to_merge, how='left', on='user_id')"
   ]
  },
  {
   "cell_type": "code",
   "execution_count": 152,
   "metadata": {},
   "outputs": [
    {
     "data": {
      "text/plain": [
       "82"
      ]
     },
     "execution_count": 152,
     "metadata": {},
     "output_type": "execute_result"
    }
   ],
   "source": [
    "temp.loc[temp['user_id'] == 2, 'browse_behavior'].mode()[0]"
   ]
  },
  {
   "cell_type": "code",
   "execution_count": 153,
   "metadata": {
    "collapsed": true
   },
   "outputs": [],
   "source": [
    "# # 每个用户频率最高的行为\n",
    "# for uid in temp['user_id'].unique():\n",
    "#     value = temp.loc[temp['user_id'] == uid, 'browse_behavior'].mode()[0]\n",
    "#     train_data.loc[train_data['user_id'] == uid, 'most_frequent_beha'] = value"
   ]
  },
  {
   "cell_type": "markdown",
   "metadata": {},
   "source": [
    "统计用户频率最高 / 最低的行为 / 子行为，由于特征构建速度过慢，后期再考虑"
   ]
  },
  {
   "cell_type": "markdown",
   "metadata": {},
   "source": [
    "### 时间已知 / 放款前 银行流水记录"
   ]
  },
  {
   "cell_type": "code",
   "execution_count": 154,
   "metadata": {},
   "outputs": [
    {
     "data": {
      "text/plain": [
       "9294"
      ]
     },
     "execution_count": 154,
     "metadata": {},
     "output_type": "execute_result"
    }
   ],
   "source": [
    "bank_detail['user_id'].nunique()"
   ]
  },
  {
   "cell_type": "code",
   "execution_count": 155,
   "metadata": {
    "collapsed": true
   },
   "outputs": [],
   "source": [
    "bankAndLoan = pd.merge(bank_detail, loan_time, how='left', on='user_id')"
   ]
  },
  {
   "cell_type": "code",
   "execution_count": 156,
   "metadata": {
    "collapsed": true
   },
   "outputs": [],
   "source": [
    "temp = bankAndLoan.loc[(bankAndLoan['time_x'] <= bankAndLoan['time_y']) & (bankAndLoan['time_x'] > 0)]"
   ]
  },
  {
   "cell_type": "markdown",
   "metadata": {},
   "source": [
    "- 收入 = 工资性收入 + 非工资性收入  \n",
    "- 支出统计  \n",
    "- 支出与收入的比较  \n",
    "- 支出和收入的其他统计特征，如均值、方差、极差之类"
   ]
  },
  {
   "cell_type": "markdown",
   "metadata": {},
   "source": [
    "#### 每个用户的收入情况"
   ]
  },
  {
   "cell_type": "code",
   "execution_count": 157,
   "metadata": {
    "scrolled": true
   },
   "outputs": [],
   "source": [
    "# 变异系数\n",
    "def get_cv(arr):\n",
    "    return arr.mean() / arr.std()\n",
    "\n",
    "deal_type_0 = temp[temp['deal_type'] == 0].groupby(['user_id'], as_index=False)\n",
    "income_analysis = deal_type_0['deal_amount'].agg({'income_count': 'count', 'income_sum': 'sum', \n",
    "                                                  'income_median': 'median', 'income_std': 'std',\n",
    "                                                  'income_cv': get_cv})"
   ]
  },
  {
   "cell_type": "code",
   "execution_count": 158,
   "metadata": {
    "scrolled": false
   },
   "outputs": [],
   "source": [
    "train_data = train_data.merge(income_analysis, how='left', on='user_id')"
   ]
  },
  {
   "cell_type": "markdown",
   "metadata": {},
   "source": [
    "#### 每个用户的支出情况"
   ]
  },
  {
   "cell_type": "code",
   "execution_count": 159,
   "metadata": {
    "scrolled": true
   },
   "outputs": [],
   "source": [
    "deal_type_1 = temp[temp['deal_type'] == 1].groupby(['user_id'], as_index=False)\n",
    "expen_analysis = deal_type_1['deal_amount'].agg({'expen_count': 'count', 'expen_sum': 'sum', \n",
    "                                                 'expen_median': 'median', 'expen_std': 'std',\n",
    "                                                 'expen_cv': get_cv})"
   ]
  },
  {
   "cell_type": "code",
   "execution_count": 160,
   "metadata": {},
   "outputs": [],
   "source": [
    "train_data = train_data.merge(expen_analysis, how='left', on='user_id')"
   ]
  },
  {
   "cell_type": "markdown",
   "metadata": {},
   "source": [
    "#### 工资性收入"
   ]
  },
  {
   "cell_type": "code",
   "execution_count": 161,
   "metadata": {},
   "outputs": [
    {
     "data": {
      "text/html": [
       "<div>\n",
       "<style scoped>\n",
       "    .dataframe tbody tr th:only-of-type {\n",
       "        vertical-align: middle;\n",
       "    }\n",
       "\n",
       "    .dataframe tbody tr th {\n",
       "        vertical-align: top;\n",
       "    }\n",
       "\n",
       "    .dataframe thead th {\n",
       "        text-align: right;\n",
       "    }\n",
       "</style>\n",
       "<table border=\"1\" class=\"dataframe\">\n",
       "  <thead>\n",
       "    <tr style=\"text-align: right;\">\n",
       "      <th></th>\n",
       "      <th>user_id</th>\n",
       "      <th>time_x</th>\n",
       "      <th>deal_type</th>\n",
       "      <th>deal_amount</th>\n",
       "      <th>wage_type</th>\n",
       "      <th>time_y</th>\n",
       "    </tr>\n",
       "  </thead>\n",
       "  <tbody>\n",
       "  </tbody>\n",
       "</table>\n",
       "</div>"
      ],
      "text/plain": [
       "Empty DataFrame\n",
       "Columns: [user_id, time_x, deal_type, deal_amount, wage_type, time_y]\n",
       "Index: []"
      ]
     },
     "execution_count": 161,
     "metadata": {},
     "output_type": "execute_result"
    }
   ],
   "source": [
    "# 若存在某条记录既是工资收入，又是支出，逻辑矛盾，归为异常数据\n",
    "temp[(temp['wage_type'] == 1) & (temp['deal_type'] == 1)]"
   ]
  },
  {
   "cell_type": "code",
   "execution_count": 162,
   "metadata": {
    "scrolled": true
   },
   "outputs": [],
   "source": [
    "wage_type_1 = temp[temp['wage_type'] == 1].groupby(['user_id'], as_index=False)\n",
    "wage_income = wage_type_1['deal_amount'].agg({'wages_count': 'count', 'wages_sum': 'sum'})"
   ]
  },
  {
   "cell_type": "markdown",
   "metadata": {},
   "source": [
    "- 绝大部分用户缺失，是没有统计到，还是没有工资性收入？  \n",
    "- 是否有工资性收入应该是个强特"
   ]
  },
  {
   "cell_type": "code",
   "execution_count": 163,
   "metadata": {},
   "outputs": [],
   "source": [
    "train_data = train_data.merge(wage_income, how='left', on='user_id')"
   ]
  },
  {
   "cell_type": "markdown",
   "metadata": {},
   "source": [
    "#### 非工资性收入"
   ]
  },
  {
   "cell_type": "code",
   "execution_count": 164,
   "metadata": {
    "scrolled": true
   },
   "outputs": [],
   "source": [
    "wage_type_0 = temp[(temp['wage_type'] == 0) & (temp['deal_type'] == 0)].groupby(['user_id'], as_index=False)\n",
    "non_wage_income = wage_type_0['deal_amount'].agg({'non_wages_sum': 'sum', 'non_wages_median': 'median', \n",
    "                                                  'non_wages_std': 'std', 'non_wages_cv': get_cv})"
   ]
  },
  {
   "cell_type": "code",
   "execution_count": 165,
   "metadata": {},
   "outputs": [],
   "source": [
    "train_data = train_data.merge(non_wage_income, how='left', on='user_id')"
   ]
  },
  {
   "cell_type": "markdown",
   "metadata": {},
   "source": [
    "#### 平均每笔收入"
   ]
  },
  {
   "cell_type": "code",
   "execution_count": 166,
   "metadata": {},
   "outputs": [],
   "source": [
    "train_data['per_income'] = train_data['income_sum'] / train_data['income_count']"
   ]
  },
  {
   "cell_type": "markdown",
   "metadata": {},
   "source": [
    "#### 平均每笔支出"
   ]
  },
  {
   "cell_type": "code",
   "execution_count": 167,
   "metadata": {
    "collapsed": true
   },
   "outputs": [],
   "source": [
    "train_data['per_expen'] = train_data['expen_sum'] / train_data['expen_count']"
   ]
  },
  {
   "cell_type": "markdown",
   "metadata": {},
   "source": [
    "### 时间已知 / 放款前 信用卡账单"
   ]
  },
  {
   "cell_type": "code",
   "execution_count": 168,
   "metadata": {},
   "outputs": [
    {
     "data": {
      "text/plain": [
       "53174"
      ]
     },
     "execution_count": 168,
     "metadata": {},
     "output_type": "execute_result"
    }
   ],
   "source": [
    "bill_detail['user_id'].nunique()"
   ]
  },
  {
   "cell_type": "code",
   "execution_count": 169,
   "metadata": {
    "collapsed": true
   },
   "outputs": [],
   "source": [
    "billAndLoan = bill_detail.merge(loan_time, how='left', on='user_id')"
   ]
  },
  {
   "cell_type": "code",
   "execution_count": 170,
   "metadata": {
    "scrolled": false
   },
   "outputs": [],
   "source": [
    "temp = billAndLoan.loc[(billAndLoan['time_x'] <= billAndLoan['time_y']) & (billAndLoan['time_x'] > 0)]"
   ]
  },
  {
   "cell_type": "code",
   "execution_count": 171,
   "metadata": {
    "scrolled": false
   },
   "outputs": [
    {
     "data": {
      "text/plain": [
       "0    1533504\n",
       "1        199\n",
       "Name: repayment_status, dtype: int64"
      ]
     },
     "execution_count": 171,
     "metadata": {},
     "output_type": "execute_result"
    }
   ],
   "source": [
    "temp['repayment_status'].value_counts()"
   ]
  },
  {
   "cell_type": "markdown",
   "metadata": {},
   "source": [
    "极少数人是非欠款状态"
   ]
  },
  {
   "cell_type": "code",
   "execution_count": 172,
   "metadata": {
    "scrolled": false
   },
   "outputs": [
    {
     "name": "stdout",
     "output_type": "stream",
     "text": [
      "<class 'pandas.core.frame.DataFrame'>\n",
      "Int64Index: 2338118 entries, 0 to 2338117\n",
      "Data columns (total 16 columns):\n",
      "user_id               int64\n",
      "time_x                int64\n",
      "bank_id               int64\n",
      "previous_bills        float64\n",
      "previous_repayment    float64\n",
      "creditCardQuota       float64\n",
      "current_balance       float64\n",
      "current_MinRepay      float64\n",
      "consume_times         int64\n",
      "current_bills         float64\n",
      "adjust_money          float64\n",
      "revolving_interest    float64\n",
      "available_money       float64\n",
      "cash_Advance_Limit    float64\n",
      "repayment_status      int64\n",
      "time_y                int64\n",
      "dtypes: float64(10), int64(6)\n",
      "memory usage: 303.3 MB\n"
     ]
    }
   ],
   "source": [
    "billAndLoan.info()"
   ]
  },
  {
   "cell_type": "code",
   "execution_count": 173,
   "metadata": {
    "scrolled": false
   },
   "outputs": [],
   "source": [
    "ccards_num = temp.groupby(['user_id'], as_index=False)['bank_id'].agg({'bank_num': 'nunique'})\n",
    "train_data = train_data.merge(ccards_num, how='left', on='user_id')"
   ]
  },
  {
   "cell_type": "code",
   "execution_count": 174,
   "metadata": {
    "scrolled": true
   },
   "outputs": [],
   "source": [
    "to_merge = temp.groupby(['user_id'], as_index=False)['previous_bills'].agg({'previous_bills_count': 'count', \n",
    "                                                                            'previous_bills_sum': 'sum', \n",
    "                                                                            'previous_bills_median': 'median', \n",
    "                                                                            'previous_bills_std': 'std', \n",
    "                                                                            'previous_bills_max': 'max', \n",
    "                                                                            'previous_bills_min': 'min'})\n",
    "train_data = train_data.merge(to_merge, how='left', on='user_id')"
   ]
  },
  {
   "cell_type": "code",
   "execution_count": 175,
   "metadata": {
    "scrolled": true
   },
   "outputs": [],
   "source": [
    "to_merge = temp.groupby(['user_id'], as_index=False)['previous_repayment'].agg({'previous_repayment_sum': 'sum', \n",
    "                                                                                'previous_repayment_median': 'median', \n",
    "                                                                                'previous_repayment_std': 'std', \n",
    "                                                                                'previous_repayment_max': 'max', \n",
    "                                                                                'previous_repayment_min': 'min'})\n",
    "train_data = train_data.merge(to_merge, how='left', on='user_id')"
   ]
  },
  {
   "cell_type": "code",
   "execution_count": 176,
   "metadata": {
    "collapsed": true
   },
   "outputs": [],
   "source": [
    "to_merge = temp.groupby(['user_id'], as_index=False)['creditCardQuota'].agg({'creditCardQuota_mean': 'mean', \n",
    "                                                                             'creditCardQuota_max': 'max', \n",
    "                                                                             'creditCardQuota_min': 'min'})\n",
    "train_data = train_data.merge(to_merge, how='left', on='user_id')"
   ]
  },
  {
   "cell_type": "code",
   "execution_count": 178,
   "metadata": {
    "collapsed": true
   },
   "outputs": [],
   "source": [
    "to_merge = temp.groupby(['user_id'], as_index=False)['current_balance'].agg({'current_balance_mean': 'mean', \n",
    "                                                                             'current_balance_sum': 'sum'})\n",
    "train_data = train_data.merge(to_merge, how='left', on='user_id')"
   ]
  },
  {
   "cell_type": "code",
   "execution_count": 179,
   "metadata": {
    "collapsed": true
   },
   "outputs": [],
   "source": [
    "to_merge = temp.groupby(['user_id'], as_index=False)['current_MinRepay'].agg({'current_MinRepay_mean': 'mean', \n",
    "                                                                              'current_MinRepay_sum': 'sum'})\n",
    "train_data = train_data.merge(to_merge, how='left', on='user_id')"
   ]
  },
  {
   "cell_type": "code",
   "execution_count": 180,
   "metadata": {
    "collapsed": true
   },
   "outputs": [],
   "source": [
    "# 极差\n",
    "def get_ptp(arr):\n",
    "    return arr.max() - arr.min()\n",
    "\n",
    "to_merge = temp.groupby(['user_id'], as_index=False)['consume_times'].agg({'consume_times_median': 'median', \n",
    "                                                                           'consume_times_sum': 'sum', \n",
    "                                                                           'consume_times_ptp': get_ptp})\n",
    "train_data = train_data.merge(to_merge, how='left', on='user_id')"
   ]
  },
  {
   "cell_type": "code",
   "execution_count": 181,
   "metadata": {
    "collapsed": true
   },
   "outputs": [],
   "source": [
    "to_merge = temp.groupby(['user_id'], as_index=False)['current_bills'].agg({'current_bills_sum': 'sum', \n",
    "                                                                           'current_bills_median': 'median', \n",
    "                                                                           'current_bills_std': 'std', \n",
    "                                                                           'current_bills_max': 'max', \n",
    "                                                                           'current_bills_min': 'min'})\n",
    "train_data = train_data.merge(to_merge, how='left', on='user_id')"
   ]
  },
  {
   "cell_type": "code",
   "execution_count": 182,
   "metadata": {
    "collapsed": true
   },
   "outputs": [],
   "source": [
    "to_merge = temp.groupby(['user_id'], as_index=False)['adjust_money'].agg({'adjust_money_mean': 'mean', \n",
    "                                                                          'adjust_money_sum': 'sum', \n",
    "                                                                          'adjust_money_max': 'max',\n",
    "                                                                          'adjust_money_min': 'min'})\n",
    "train_data = train_data.merge(to_merge, how='left', on='user_id')"
   ]
  },
  {
   "cell_type": "code",
   "execution_count": 183,
   "metadata": {
    "collapsed": true
   },
   "outputs": [],
   "source": [
    "to_merge = temp.groupby(['user_id'], as_index=False)['revolving_interest'].agg({'revolving_interest_mean': 'mean', \n",
    "                                                                                'revolving_interest_sum': 'sum', \n",
    "                                                                                'revolving_interest_max': 'max',\n",
    "                                                                                'revolving_interest_min': 'min'})\n",
    "train_data = train_data.merge(to_merge, how='left', on='user_id')"
   ]
  },
  {
   "cell_type": "code",
   "execution_count": 184,
   "metadata": {
    "collapsed": true
   },
   "outputs": [],
   "source": [
    "to_merge = temp.groupby(['user_id'], as_index=False)['available_money'].agg({'available_money_sum': 'sum', \n",
    "                                                                             'available_money_median': 'median', \n",
    "                                                                             'available_money_std': 'std', \n",
    "                                                                             'available_money_max': 'max', \n",
    "                                                                             'available_money_min': 'min'})\n",
    "train_data = train_data.merge(to_merge, how='left', on='user_id')"
   ]
  },
  {
   "cell_type": "code",
   "execution_count": 185,
   "metadata": {
    "collapsed": true
   },
   "outputs": [],
   "source": [
    "to_merge = temp.groupby(['user_id'], as_index=False)['cash_Advance_Limit'].agg({'cash_Advance_Limit_mean': 'mean', \n",
    "                                                                                'cash_Advance_Limit_max': 'max'})\n",
    "train_data = train_data.merge(to_merge, how='left', on='user_id')"
   ]
  },
  {
   "cell_type": "code",
   "execution_count": null,
   "metadata": {
    "collapsed": true
   },
   "outputs": [],
   "source": []
  }
 ],
 "metadata": {
  "kernelspec": {
   "display_name": "Python 3",
   "language": "python",
   "name": "python3"
  },
  "language_info": {
   "codemirror_mode": {
    "name": "ipython",
    "version": 3
   },
   "file_extension": ".py",
   "mimetype": "text/x-python",
   "name": "python",
   "nbconvert_exporter": "python",
   "pygments_lexer": "ipython3",
   "version": "3.6.2"
  }
 },
 "nbformat": 4,
 "nbformat_minor": 2
}
